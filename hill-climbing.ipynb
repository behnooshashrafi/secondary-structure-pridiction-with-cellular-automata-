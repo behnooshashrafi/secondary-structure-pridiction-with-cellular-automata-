{
 "cells": [
  {
   "cell_type": "code",
   "execution_count": 1,
   "metadata": {
    "ExecuteTime": {
     "end_time": "2018-07-04T19:51:08.031395Z",
     "start_time": "2018-07-04T19:51:08.015780Z"
    },
    "collapsed": true
   },
   "outputs": [],
   "source": [
    "import random\n",
    "from collections import namedtuple"
   ]
  },
  {
   "cell_type": "code",
   "execution_count": 2,
   "metadata": {
    "ExecuteTime": {
     "end_time": "2018-07-04T19:51:08.484489Z",
     "start_time": "2018-07-04T19:51:08.468867Z"
    },
    "collapsed": true
   },
   "outputs": [],
   "source": [
    "random.seed()"
   ]
  },
  {
   "cell_type": "code",
   "execution_count": 3,
   "metadata": {
    "ExecuteTime": {
     "end_time": "2018-07-04T19:51:08.937583Z",
     "start_time": "2018-07-04T19:51:08.906336Z"
    },
    "collapsed": true
   },
   "outputs": [],
   "source": [
    "def Rand_num():\n",
    "    x=[random.random(),\n",
    "    random.random(),\n",
    "    random.random(),\n",
    "    random.random(),\n",
    "    random.random(),\n",
    "    random.random(),\n",
    "    random.random(),\n",
    "    random.random(),\n",
    "    random.random(),\n",
    "    random.random(),\n",
    "    random.random()]\n",
    "    return x\n",
    "    "
   ]
  },
  {
   "cell_type": "code",
   "execution_count": 4,
   "metadata": {
    "ExecuteTime": {
     "end_time": "2018-07-04T19:51:09.203190Z",
     "start_time": "2018-07-04T19:51:09.187565Z"
    },
    "collapsed": true
   },
   "outputs": [],
   "source": [
    "#x = 5*[0]+ [1] + 5*[0]"
   ]
  },
  {
   "cell_type": "code",
   "execution_count": 5,
   "metadata": {
    "ExecuteTime": {
     "end_time": "2018-07-04T19:51:09.437582Z",
     "start_time": "2018-07-04T19:51:09.421924Z"
    },
    "collapsed": true
   },
   "outputs": [],
   "source": [
    "x=Rand_num()"
   ]
  },
  {
   "cell_type": "code",
   "execution_count": 6,
   "metadata": {
    "ExecuteTime": {
     "end_time": "2018-07-04T19:51:09.671910Z",
     "start_time": "2018-07-04T19:51:09.640661Z"
    },
    "scrolled": true
   },
   "outputs": [
    {
     "data": {
      "text/plain": [
       "[0.8512486786765693,\n",
       " 0.2715823256412988,\n",
       " 0.6752635328975717,\n",
       " 0.7978078859761008,\n",
       " 0.7393979396824426,\n",
       " 0.03222358005809045,\n",
       " 0.8620925874597412,\n",
       " 0.9409139015561157,\n",
       " 0.611938330227081,\n",
       " 0.8182609430057707,\n",
       " 0.24085696932244416]"
      ]
     },
     "execution_count": 6,
     "metadata": {},
     "output_type": "execute_result"
    }
   ],
   "source": [
    "x"
   ]
  },
  {
   "cell_type": "markdown",
   "metadata": {},
   "source": [
    "## Chou-Fasman"
   ]
  },
  {
   "cell_type": "code",
   "execution_count": 7,
   "metadata": {
    "ExecuteTime": {
     "end_time": "2018-07-04T19:51:15.874603Z",
     "start_time": "2018-07-04T19:51:10.765582Z"
    },
    "collapsed": true
   },
   "outputs": [],
   "source": [
    "#! /usr/bin/env python\n",
    "\n",
    "# Summary:\n",
    "#   An implementation of the Chou-Fasman algorithm\n",
    "# Authors:\n",
    "#   Samuel A. Rebelsky (layout of the program see:\n",
    "#   http://www.cs.grinnell.edu/~rebelsky/ExBioPy/Projects/project-7.5.html)\n",
    "#   Nicolas Girault\n",
    "\n",
    "\n",
    "import string\n",
    "import sys\n",
    "\n",
    "\n",
    "#protein1 = 'MKIDAIVGRNSAKDIRTEERARVQLGNVVTAAALHGGIRISDQTTNSVETVVGKGESRVLIGNEYGGKGFWDNHHHHHH'\n",
    "#protein2 = 'MRRYEVNIVLNPNLDQSQLALEKEIIQRALENYGARVEKVAILGLRRLAYPIAKDPQGYFLWYQVEMPEDRVNDLARELRIRDNVRRVMVVKSQEPFLANA'\n",
    "#protein3 = 'MVGLTTLFWLGAIGMLVGTLAFAWAGRDAGSGERRYYVTLVGISGIAAVAYVVMALGVGWVPVAERTVFAPRYIDWILTTPLIVYFLGLLAGLDSREFGIVITLNTVVMLAGFAGAMVPGIERYALFGMGAVAFLGLVYYLVGPMTESASQRSSGIKSLYVRLRNLTVILWAIYPFIWLLGPPGVALLTPTVDVALIVYLDLVTKVGFGFIALDAAATLRAEHGESLAGVDTDAPAVAD'\n",
    "\n",
    "# The Chou-Fasman table, with rows of the table indexed by amino acid name.\n",
    "#   Data copied, pasted, and reformatted from \n",
    "#     http://prowl.rockefeller.edu/aainfo/chou.htm\n",
    "# Columns are          SYM,P(a), P(b),P(turn), f(i),   f(i+1), f(i+2), f(i+3)\n",
    "\n",
    "CF = {}\n",
    "CF['Alanine']       = ['A', 142,   83,   66,   0.06,   0.076,  0.035,  0.058]\n",
    "CF['Arginine']      = ['R',  98,   93,   95,   0.070,  0.106,  0.099,  0.085]\n",
    "CF['Aspartic Acid'] = ['N', 101,   54,  146,   0.147,  0.110,  0.179,  0.081]\n",
    "CF['Asparagine']    = ['D',  67,   89,  156,   0.161,  0.083,  0.191,  0.091]\n",
    "CF['Cysteine']      = ['C',  70,  119,  119,   0.149,  0.050,  0.117,  0.128]\n",
    "CF['Glutamic Acid'] = ['E', 151,   37,   74,   0.056,  0.060,  0.077,  0.064]\n",
    "CF['Glutamine']     = ['Q', 111,  110,   98,   0.074,  0.098,  0.037,  0.098]\n",
    "CF['Glycine']       = ['G',  57,   75,  156,   0.102,  0.085,  0.190,  0.152]\n",
    "CF['Histidine']     = ['H', 100,   87,   95,   0.140,  0.047,  0.093,  0.054]\n",
    "CF['Isoleucine']    = ['I', 108,  160,   47,   0.043,  0.034,  0.013,  0.056]\n",
    "CF['Leucine']       = ['L', 121,  130,   59,   0.061,  0.025,  0.036,  0.070]\n",
    "CF['Lysine']        = ['K', 114,   74,  101,   0.055,  0.115,  0.072,  0.095]\n",
    "CF['Methionine']    = ['M', 145,  105,   60,   0.068,  0.082,  0.014,  0.055]\n",
    "CF['Phenylalanine'] = ['F', 113,  138,   60,   0.059,  0.041,  0.065,  0.065]\n",
    "CF['Proline']       = ['P',  57,   55,  152,   0.102,  0.301,  0.034,  0.068]\n",
    "CF['Serine']        = ['S',  77,   75,  143,   0.120,  0.139,  0.125,  0.106]\n",
    "CF['Threonine']     = ['T',  83,  119,   96,   0.086,  0.108,  0.065,  0.079]\n",
    "CF['Tryptophan']    = ['W', 108,  137,   96,   0.077,  0.013,  0.064,  0.167]\n",
    "CF['Tyrosine']      = ['Y',  69,  147,  114,   0.082,  0.065,  0.114,  0.125]\n",
    "CF['Valine']        = ['V', 106,  170,   50,   0.062,  0.048,  0.028,  0.053]\n",
    "CF['-']             = ['-', 0  ,  0  ,  0  ,   0    ,  0    ,  0    ,  0    ]\n",
    "aa_names = ['Alanine', 'Arginine', 'Asparagine', 'Aspartic Acid',\n",
    "            'Cysteine', 'Glutamic Acid', 'Glutamine', 'Glycine',\n",
    "            'Histidine', 'Isoleucine', 'Leucine', 'Lysine',\n",
    "            'Methionine', 'Phenylalanine', 'Proline', 'Serine',\n",
    "            'Threonine', 'Tryptophan', 'Tyrosine', 'Valine','-']\n",
    "\n",
    "Pa = { }\n",
    "Pb = { }\n",
    "Pturn = { }\n",
    "F0 = { }\n",
    "F1 = { }\n",
    "F2 = { }\n",
    "F3 = { }\n",
    "\n",
    "# Convert the Chou-Fasman table above to more convenient formats\n",
    "#    Note that for any amino acid, aa CF[aa][0] gives the abbreviation\n",
    "#    of the amino acid.\n",
    "for aa in aa_names:\n",
    "    Pa[CF[aa][0]] = CF[aa][1]\n",
    "    Pb[CF[aa][0]] = CF[aa][2]\n",
    "    Pturn[CF[aa][0]] = CF[aa][3]\n",
    "    F0[CF[aa][0]] = CF[aa][4]\n",
    "    F1[CF[aa][0]] = CF[aa][5]\n",
    "    F2[CF[aa][0]] = CF[aa][6]\n",
    "    F3[CF[aa][0]] = CF[aa][7]\n",
    "\n",
    "\n",
    "def CF_find_alpha(seq):\n",
    "    \"\"\"Find all likely alpha helices in sequence.  Returns a list\n",
    "       of [start,end] pairs for the alpha helices.\"\"\"\n",
    "    start = 0\n",
    "    results = []\n",
    "    # Try each window\n",
    "    while (start + 6 < len(seq)):\n",
    "        # Count the number of \"good\" amino acids (those likely to be\n",
    "        # in an alpha helix).\n",
    "        numgood = 0\n",
    "        for i in range(start, start+6):\n",
    "            if (Pa[seq[i]] > 100):\n",
    "                numgood = numgood + 1\n",
    "        if (numgood >= 4):\n",
    "            [estart,end] = CF_extend_alpha(seq, start, start+6)\n",
    "            #print \"Exploring potential alpha \" + str(estart) + \":\" + str(end)\n",
    "            #if (CF_good_alpha(seq[estart:end])):\n",
    "            if [estart,end] not in results:\n",
    "                results.append([estart,end])\n",
    "        # Go on to the next frame\n",
    "        start = start + 1\n",
    "    # That's it, we're done\n",
    "    return results\n",
    "\n",
    "def CF_extend_alpha(seq, start, end):\n",
    "    \"\"\"Extend a potential alpha helix sequence.  Return the endpoints\n",
    "       of the extended sequence.\n",
    "    \"\"\"\n",
    "    # We extend the region in both directions until the average propensity for a set of four \n",
    "    # contiguous residues has Pa( ) < 100, which means we assume the helix ends there\n",
    "\n",
    "    # seq[end-3:end+1] is: x | x | x | END\n",
    "    while ( float(sum([Pa[x] for x in seq[end-3:end+1]])) / float(4) ) > 100 and end < len(seq)-1:\n",
    "        end += 1\n",
    "    # seq[start:start+4] is: START | x | x | x\n",
    "    while ( float(sum([Pa[x] for x in seq[start:start+4]])) / float(4) ) > 100 and start > 0:\n",
    "        start -= 1\n",
    "\n",
    "    return [start,end]\n",
    "\n",
    "#def CF_good_alpha(subseq):\n",
    "#    \"\"\"Determine if a subsequence appears to be an alpha helix.\"\"\"\n",
    "#    sum_Pa = 0\n",
    "#    for aa in subseq:\n",
    "#        sum_Pa = sum_Pa + Pa[aa]\n",
    "#    ave_Pa = sum_Pa/len(subseq)\n",
    "#    # Criteria need to be extended\n",
    "#    return (ave_Pa > 100)\n",
    "\n",
    "def CF_find_beta(seq):\n",
    "    \"\"\"Find all likely beta strands in seq.  Returns a list\n",
    "       of [start,end] pairs for the beta strands.\"\"\"\n",
    "    start = 0\n",
    "    results = []\n",
    "    # Try each window\n",
    "    while (start + 5 < len(seq)):\n",
    "        # Count the number of \"good\" amino acids (those likely to be\n",
    "        # in an beta sheet).\n",
    "        numgood = 0\n",
    "        for i in range(start, start+5):\n",
    "            if (Pb[seq[i]] > 100):\n",
    "                numgood = numgood + 1\n",
    "        if (numgood >= 3):\n",
    "            [estart,end] = CF_extend_beta(seq, start, start+5)\n",
    "            #print \"Exploring potential alpha \" + str(estart) + \":\" + str(end)\n",
    "            #if (CF_good_alpha(seq[estart:end])):\n",
    "            if [estart,end] not in results:\n",
    "                results.append([estart,end])\n",
    "        # Go on to the next frame\n",
    "        start = start + 1\n",
    "    # That's it, we're done\n",
    "    return results\n",
    "\n",
    "def CF_extend_beta(seq, start, end):\n",
    "    \"\"\"Extend a potential beta helix sequence.  Return the endpoints\n",
    "       of the extended sequence.\n",
    "    \"\"\"\n",
    "    # We extend the region in both directions until the average propensity for a set of four \n",
    "    # contiguous residues has Pa( ) < 100, which means we assume the helix ends there\n",
    "\n",
    "    # seq[end-3:end+1] is: x | x | x | END\n",
    "    while ( float(sum([Pb[x] for x in seq[end-3:end+1]])) / float(4) ) > 100 and end < len(seq)-1:\n",
    "        end += 1\n",
    "    # seq[start:start+4] is: START | x | x | x\n",
    "    while ( float(sum([Pb[x] for x in seq[start:start+4]])) / float(4) ) > 100 and start > 0:\n",
    "        start -= 1\n",
    "    return [start,end]\n",
    "\n",
    "\n",
    "def CF_find_turns(seq):\n",
    "    \"\"\"Find all likely beta turns in seq.  Returns a list of positions\n",
    "       which are likely to be turns.\"\"\"\n",
    "    result = []\n",
    "    for i in range(len(seq)-3):\n",
    "    # CONDITION 1\n",
    "        c1 = F0[seq[i]]*F1[seq[i+1]]*F2[seq[i+2]]*F3[seq[i+3]] > 0.000075\n",
    "    # CONDITION 2\n",
    "        c2 = ( float(sum([Pturn[x] for x in seq[i:i+4]])) / float(4) ) > 100\n",
    "    # CONDITION 3\n",
    "        c3 = sum([Pturn[x] for x in seq[i:i+4]]) > max(sum([Pa[x] for x in seq[i:i+4]]),sum([Pb[x] for x in seq[i:i+4]]))\n",
    "        if c1 and c2 and c3:\n",
    "            result.append(i)\n",
    "    return result\n",
    "\n",
    "def region_overlap(region_a, region_b):\n",
    "    \"\"\"Given two regions, represented as two-element lists, determine\n",
    "       if the two regions overlap.\n",
    "    \"\"\"\n",
    "    return (region_a[0] <= region_b[0] <= region_a[1]) or \\\n",
    "           (region_b[0] <= region_a[0] <= region_b[1])\n",
    "          \n",
    "def region_merge(region_a, region_b):\n",
    "    \"\"\"Given two regions, represented as two-element lists, return\n",
    "       the minimum region that contains both regions.\n",
    "    \"\"\"\n",
    "    return [min(region_a[0], region_b[0]), max(region_a[1], region_b[1])]\n",
    "\n",
    "def region_intersect(region_a, region_b):\n",
    "    \"\"\"Given two regions, represented as two-element lists, return\n",
    "       the intersection of the two regions.\n",
    "    \"\"\"\n",
    "    return [max(region_a[0], region_b[0]), min(region_a[1], region_b[1])]\n",
    "\n",
    "def region_difference(region_a, region_b):\n",
    "    \"\"\"Given two regions, represented as two-element lists, return\n",
    "       the part of region_a which in not in region_b.\n",
    "        It can be one or two regions depending on the position\n",
    "        of region_b and its size.\n",
    "    \"\"\"\n",
    "    # region_a start before region_b and stop before region_b\n",
    "    if region_a[0] < region_b[0] and region_a[1] <= region_b[1]:\n",
    "        return [[region_a[0], region_b[0]-1]]\n",
    "    # region_a start after region_b and stop after region_b\n",
    "    elif region_a[0] >= region_b[0] and region_a[1] > region_b[1]:\n",
    "        return [[region_b[1]+1,region_a[1]]]\n",
    "    # region_b is included in region_a => return 2 regions\n",
    "    elif region_a[0] < region_b[0] and region_a[1] > region_b[1]:\n",
    "        return [[region_a[0], region_b[0]-1],[region_b[1]+1,region_a[1]]]\n",
    "    # region_a is included in region_b\n",
    "    else:\n",
    "        return []\n",
    "\n",
    "def ChouFasman(seq):\n",
    "    \"\"\"Analyze seq using the Chou-Fasman algorithm and display\n",
    "       the results.  A represents 'alpha helix'.  B represents \n",
    "       'beta strand'.  T represents \"turn\".  Space represents\n",
    "       'coil structure'.  \n",
    "    \"\"\"\n",
    "\n",
    "    # Find probable locations of alpha helices, beta strands,\n",
    "    # and beta turns.\n",
    "    alphas = CF_find_alpha(seq)\n",
    "    #print \"Alphas = \" + str(alphas)\n",
    "    betas = CF_find_beta(seq)\n",
    "    #print \"Betas = \" + str(betas)\n",
    "    turns = CF_find_turns(seq)\n",
    "    #print \"Turns = \" + str(turns)\n",
    "\n",
    "    # Handle overlapping regions between alpha helix and beta strands\n",
    "    # SEE COMMENT IN MY REPORT: WHY I DONT MERGE THE ALPHA AND BETA REGIONS TOGETHER\n",
    "    '''# First we merge the alpha helix regions together\n",
    "    x = 0\n",
    "    while x < len(alphas)-1:\n",
    "        if region_overlap(alphas[x],alphas[x+1]):\n",
    "            alphas[x] = region_merge(alphas[x],alphas[x+1])\n",
    "            alphas.pop(x+1)\n",
    "        else:\n",
    "          x += 1\n",
    "    print \"Potential alphas = \" + str(alphas)\n",
    "\n",
    "    # The same for beta strand regions\n",
    "    x = 0\n",
    "    while x < len(betas)-1:\n",
    "        if region_overlap(betas[x],betas[x+1]):\n",
    "            betas[x] = region_merge(betas[x],betas[x+1])\n",
    "            betas.pop(x+1)\n",
    "        else:\n",
    "          x += 1\n",
    "    print \"Ptential betas = \" + str(betas)'''\n",
    "\n",
    "\n",
    "    # Then it's really messy!\n",
    "    alphas2 = []\n",
    "    alphas_to_test = alphas\n",
    "    betas_to_test = betas\n",
    "    while len(alphas_to_test) > 0:\n",
    "        alpha = alphas_to_test.pop()\n",
    "        # a_shorten record if the alpha helix region has been shorten\n",
    "        a_shorten = False\n",
    "        for beta in betas_to_test:\n",
    "            if region_overlap(alpha,beta):\n",
    "                inter = region_intersect(alpha,beta)\n",
    "#                 print('Now studying overlap: '+str(inter))\n",
    "                sum_Pa = sum([Pa[seq[i]] for i in range(inter[0],inter[1]+1)])\n",
    "                sum_Pb = sum([Pb[seq[i]] for i in range(inter[0],inter[1]+1)])\n",
    "                \n",
    "                if sum_Pa > sum_Pb:\n",
    "                    # No more uncertainty on this overlap region: it will be a alpha helix\n",
    "                    diff = region_difference(beta,alpha)\n",
    "#                     print('\\tAlpha helix WIN - beta sheet region becomes: '+str(diff))\n",
    "                    for d in diff:\n",
    "                        if d[1]-d[0] > 4:\n",
    "                            betas_to_test.append(d)\n",
    "                    betas_to_test.remove(beta)\n",
    "                else:\n",
    "                    # No more uncertainty on this overlap region: it will be a beta strand\n",
    "                    a_shorten = True\n",
    "                    diff = region_difference(alpha,beta)\n",
    "#                     print('\\tBeta sheet WIN - alpha helix region becomes: '+str(diff))\n",
    "                    for d in diff:\n",
    "                        if d[1]-d[0] > 4:\n",
    "                            alphas_to_test.append(d)\n",
    "        if not a_shorten:\n",
    "            alphas2.append(alpha)\n",
    "\n",
    "    alphas = alphas2\n",
    "    betas = betas_to_test\n",
    "                    \n",
    "                  \n",
    "#     print('final alphas: '+str(alphas))\n",
    "#     print('final betas: '+str(betas))\n",
    "    # Build a sequence of spaces of the same length as seq. \n",
    "    analysis = [' ' for i in range(len(seq))]\n",
    "\n",
    "    # Fill in the predicted alpha helices\n",
    "    for alpha in alphas:\n",
    "        for i in range(alpha[0], alpha[1]):\n",
    "            analysis[i] = 'H'\n",
    "    # Fill in the predicted beta strands \n",
    "    for beta in betas:\n",
    "        for i in range(beta[0], beta[1]):\n",
    "            analysis[i] = 'B'\n",
    "    # Fill in the predicted beta turns\n",
    "    for turn in turns:\n",
    "        analysis[turn] = 'T'\n",
    "\n",
    "    # Turn the analysis and the sequence into strings for ease\n",
    "    # of printing\n",
    "    astr = ''.join(analysis)\n",
    "#    sstr = ''.join(seq)\n",
    "\n",
    "#     print(astr)\n",
    "\n",
    "    return astr\n",
    "#, sstr\n",
    "\n",
    "# if len(sys.argv) != 2:\n",
    "#     print 'Usage: %s [protein1, protein2, protein3]' %sys.argv[0]\n",
    "# elif sys.argv[1] == '-h' or sys.argv[1] == '--help':\n",
    "#     print 'Usage: %s [protein1, protein2, protein3]' %sys.argv[0]\n",
    "# elif sys.argv[1] == 'protein1':\n",
    "#     seq = protein1\n",
    "#     ChouFasman(seq)\n",
    "# elif sys.argv[1] == 'protein2':\n",
    "#     seq = protein2\n",
    "#     ChouFasman(seq)\n",
    "# elif sys.argv[1] == 'protein3':\n",
    "#     seq = protein3\n",
    "#     ChouFasman(seq)\n",
    "# else:\n",
    "#     print 'Usage: %s [protein1, protein2, protein3]' %sys.argv[0]\n",
    "\n"
   ]
  },
  {
   "cell_type": "code",
   "execution_count": 8,
   "metadata": {
    "ExecuteTime": {
     "end_time": "2018-07-04T19:51:15.905851Z",
     "start_time": "2018-07-04T19:51:15.874603Z"
    },
    "collapsed": true
   },
   "outputs": [],
   "source": [
    "protein1='MVLSEGEWQLVLHVWAKVEADVAGHGQDILIRLFKSHPETLEKFDRVKHLKTEAEMKASEDLKKHGVTVLTALGAILKKKGHHEAELKPLAQSHATKHKIPIKYLEFISEAIIHVLHSRHPGNFGADAQGAMNKALELFRKDIAAKYKELGYQG'\n",
    "struct2_1='CCCCHHHHHHHHHHHHHHHHHHHHHHHHHHHHHHHHCHHHHHHCCCCCCCCCHHHHHHCHHHHHHHHHHHHHHHHHHCCCCCCHHHHHHHHHHHHHHCCCCHHHHHHHHHHHHHHHHHHCHHHCCHHHHHHHHHHHHHHHHHHHHHHHHCCCCC'\n",
    "protein2='MNIFEMLRIDEGLRLKIYKDTEGYYTIGIGHLLTKSPSLNAAAKSELDKAIGRNTNGVITKDEAEKLFNQDVDAAVRGILRNAKLKPVYDSLDAVRRAALINMVFQMGETGVAGFTNSLRMLQQKRWDEAAVNLAKSRWYNQTPNRAKRVITTFRTGTWDAYK'\n",
    "struct2_2='CCHHHHHHHHHCCBBBBBBCCCCCBBBBCCBBBBCCCCHHHHHHHHHHHHHCCCCCCBCCHHHHHHHHHHHHHHHHHHHHHCCCHHHHHHHCCHHHHHHHHHHHHHHHHHHHHCCHHHHHHHHCCCHHHHHHHHHCCHHHHHCHHHHHHHHHHHHHCCCHHHC'\n",
    "protein3='MVLSEGEWQLVLHVWAKVEADVAGHGQDILIRLFKSHPETLEKFDRFKHLKTEAEMKASEDLKKAGVTVLTALGAILKKKGHHEAELKPLAQSHATKHKIPIKYLEFISEAIIHVLHSRHPGNFGADAQGAMNKALELFRKDIAAKYKELGYQG'\n",
    "struct2_3='CCCCHHHHHHHHHHHHHHHHHHHHHHHHHHHHHHHHCHHHHHHCCCCCCCCCHHHHHHCHHHHHHHHHHHHHHHHHHCCCCCCHHHHHHHHHHHHHHCCCCHHHHHHHHHHHHHHHHHHCCCCCCHHHHHHHHHHHHHHHHHHHHHHHHHCCCC'\n",
    "protein4='MVLSEGEWQLVLHVWAKVEADVAGHGQDILIRLFKSHPETLEKFDRFKHLKTEAEMKASEDLKKAGVTVLTALGAILKKKGHHEAELKPLAQSHATKHKIPIKYLEFISEAIIHVLHSRHPGNFGADAQGAMNKALELFRKDIAAKYKELGYQG'\n",
    "struct2_4='CCCCHHHHHHHHHHHHHHHHHHHHHHHHHHHHHHHHCHHHHHHCCCCCCCCCHHHHHHCHHHHHHHHHHHHHHHHHHHCCCCCHHHHHHHHHHHHHHCCCCHHHHHHHHHHHHHHHHHHCHHHCCHHHHHHHHHHHHHHHHHHHHHHHHCCCCC'\n",
    "protein5='VLSEGEWQLVLHVWAKVEADVAGHGQDILIRLFKSHPETLEKFDRFKHLKTEAEMKASEDLKKHGVTVLTALGAILKKKGHHEAELKPLAQSHATKHKIPIKYLEFISEAIIHVLHSRHPGDFGADAQGAMNKALELFRKDIAAKYKELGYQG'\n",
    "struct2_5='CCCHHHHHHHHHHHHHHHHHHHHHHHHHHHHHHHHCHHHHHHCCCCCCCCCHHHHHHCHHHHHHHHHHHHHHHHHHCCCCCCHHHHHHHHHHHHHHCCCCHHHHHHHHHHHHHHHHHHCHHHCCHHHHHHHHHHHHHHHHHHHHHHHHHCCCC'\n",
    "protein6='VLSEGEWQLVLHVWAKVEADVAGHGQDILIRLFKSHPETLEKFDRFKHLKTEAEMKASEDLKKHGVTVLTALGAILKKKGHHEAELKPLAQSHATKHKIPIKYLEFISEAIIHVLHSRHPGDFGADAQGAMNKALELFRKDIAAKYKELGYQG'\n",
    "struct2_6='CCCHHHHHHHHHHHHHHHHCHHHHHHHHHHHHHHHCHHHHCCCCCCCCCCCHHHHHHCHHHHHHHHHHHHHHHHHHCCCCCCHHHHHHHHHHHHHHHCCCHHHHHHHHHHHHHHHHHHCCCCCCHHHHHHHHHHHHHHHHHHHHHHHHHCCCC'"
   ]
  },
  {
   "cell_type": "code",
   "execution_count": 9,
   "metadata": {
    "ExecuteTime": {
     "end_time": "2018-07-04T19:51:15.937099Z",
     "start_time": "2018-07-04T19:51:15.905851Z"
    },
    "collapsed": true
   },
   "outputs": [],
   "source": [
    "#k=ChouFasman(protein3)"
   ]
  },
  {
   "cell_type": "code",
   "execution_count": 10,
   "metadata": {
    "ExecuteTime": {
     "end_time": "2018-07-04T19:51:15.952723Z",
     "start_time": "2018-07-04T19:51:15.937099Z"
    },
    "collapsed": true
   },
   "outputs": [],
   "source": [
    "#k"
   ]
  },
  {
   "cell_type": "markdown",
   "metadata": {},
   "source": [
    "# init"
   ]
  },
  {
   "cell_type": "code",
   "execution_count": 11,
   "metadata": {
    "ExecuteTime": {
     "end_time": "2018-07-04T19:51:16.046522Z",
     "start_time": "2018-07-04T19:51:15.952723Z"
    },
    "collapsed": true
   },
   "outputs": [],
   "source": [
    "#Start\n",
    "def seq_score(seq,x):\n",
    "    h=[]\n",
    "    b=[]\n",
    "    c=[]\n",
    "    H=Pa\n",
    "    B=Pb\n",
    "    C=Pturn\n",
    "    avg=sum(x)\n",
    "    H1=dict(H)\n",
    "    B1=dict(B)\n",
    "    C1=dict(C)\n",
    "    names=['A','C','D','E','F','G','H','I','K','L','M','N','P','Q','R','S','T','V','W','Y']\n",
    "    for i in names:\n",
    "        H1[i]=H[i]/(H[i]+B[i]+C[i])\n",
    "        B1[i]=B[i]/(H[i]+B[i]+C[i])\n",
    "        C1[i]=C[i]/(H[i]+B[i]+C[i])\n",
    "    H=H1\n",
    "    B=B1\n",
    "    C=C1\n",
    "    seq = 5*'-' + seq + 5*'-'\n",
    "    \n",
    "    for i in range(5, len(seq)-5):\n",
    "        h0=0\n",
    "        b0=0\n",
    "        c0=0\n",
    "        \n",
    "        for j in range(-5,6):\n",
    "            h0+=H[seq[i-j]]*x[j+5]/avg\n",
    "            b0+=B[seq[i-j]]*x[j+5]/avg\n",
    "            c0+=C[seq[i-j]]*x[j+5]/avg\n",
    "\n",
    "        h.append(h0)\n",
    "        b.append(b0)\n",
    "        c.append(c0)        \n",
    "\n",
    "    return h, b, c"
   ]
  },
  {
   "cell_type": "code",
   "execution_count": 12,
   "metadata": {
    "ExecuteTime": {
     "end_time": "2018-07-04T19:51:16.077734Z",
     "start_time": "2018-07-04T19:51:16.046522Z"
    },
    "collapsed": true,
    "scrolled": true
   },
   "outputs": [],
   "source": [
    "h, b, c = seq_score(protein2,x)"
   ]
  },
  {
   "cell_type": "code",
   "execution_count": 13,
   "metadata": {
    "ExecuteTime": {
     "end_time": "2018-07-04T19:51:16.108983Z",
     "start_time": "2018-07-04T19:51:16.077734Z"
    },
    "collapsed": true
   },
   "outputs": [],
   "source": [
    "def initial_state(Pro_seq,helix,beta,coil):\n",
    "    n=\"\"\n",
    "    k=ChouFasman(Pro_seq)\n",
    "    state=k\n",
    "    newstate=n\n",
    "    for i in range(0,len(state)):\n",
    "        if (state[i]==' '):\n",
    "            n+=\" \"\n",
    "        elif (helix[i]>beta[i]) & (helix[i]>coil[i]):\n",
    "            n+=\"H\"\n",
    "        elif (beta[i]>helix[i]) & (beta[i]>coil[i]):\n",
    "            n+=\"B\"\n",
    "        elif (coil[i]>helix[i]) & (coil[i]>beta[i]):\n",
    "            n+=\"T\"\n",
    "#    print(n)\n",
    "    return n\n"
   ]
  },
  {
   "cell_type": "code",
   "execution_count": 14,
   "metadata": {
    "ExecuteTime": {
     "end_time": "2018-07-04T19:51:16.140232Z",
     "start_time": "2018-07-04T19:51:16.108983Z"
    },
    "collapsed": true
   },
   "outputs": [],
   "source": [
    "n=initial_state(protein1,h,b,c)"
   ]
  },
  {
   "cell_type": "code",
   "execution_count": 15,
   "metadata": {
    "ExecuteTime": {
     "end_time": "2018-07-04T19:51:16.265202Z",
     "start_time": "2018-07-04T19:51:16.140232Z"
    },
    "collapsed": true
   },
   "outputs": [],
   "source": [
    "def Next_Score(state,helix,beta,coil,x):\n",
    "    helix = 5 * [0] + helix + 5 * [0]\n",
    "    beta = 5 * [0] + beta + 5 * [0]\n",
    "    coil = 5 * [0] + coil + 5 * [0]\n",
    "#    print(helix)\n",
    "#     for i in range(0,5):\n",
    "#         helix.insert(0,0)\n",
    "#         beta.insert(0,0)\n",
    "#         coil.insert(0,0)\n",
    "#         helix.append(0)\n",
    "#         beta.append(0)\n",
    "#         coil.append(0)\n",
    "        \n",
    "    \n",
    "    H1=[]\n",
    "    B1=[]\n",
    "    C1=[]\n",
    "    h1=[]\n",
    "    b1=[]\n",
    "    c1=[]\n",
    "    avg=sum(x)\n",
    "    H1 = list(helix)\n",
    "    B1 = list(beta)\n",
    "    C1 = list(coil)\n",
    "    for i in range(5,len(helix)-5):\n",
    "        H1[i]=helix[i]/(helix[i]+beta[i]+coil[i])\n",
    "        B1[i]=beta[i]/(helix[i]+beta[i]+coil[i])\n",
    "        C1[i]=coil[i]/(helix[i]+beta[i]+coil[i])\n",
    "    helix=H1\n",
    "    beta=B1\n",
    "    coil=C1\n",
    "    state = 5*'-' + state + 5*'-'\n",
    " #   print(state)\n",
    "    for i in range(5, len(state)-5):\n",
    " #       print()\n",
    "        h0=0\n",
    "        b0=0\n",
    "        c0=0\n",
    "        for j in range(-5,6):\n",
    "            if (i-j<0) or (i-j>=len(helix)):\n",
    "                break\n",
    " #           print(helix[i-j]*x[j+5]/avg, helix[i-j], x[j+5], avg, i, j, i-j, x[j+5], sep='\\t')\n",
    "            h0+=helix[i-j]*x[j+5]/avg\n",
    "            b0+=beta[i-j]*x[j+5]/avg\n",
    "            c0+=coil[i-j]*x[j+5]/avg\n",
    "        h1.append(h0)\n",
    "        b1.append(b0)    \n",
    "        c1.append(c0)\n",
    "    \n",
    "    h=h1\n",
    "    b=b1\n",
    "    c=c1\n",
    "    return h ,b ,c"
   ]
  },
  {
   "cell_type": "code",
   "execution_count": 16,
   "metadata": {
    "ExecuteTime": {
     "end_time": "2018-07-04T19:51:16.312075Z",
     "start_time": "2018-07-04T19:51:16.265202Z"
    },
    "collapsed": true,
    "scrolled": true
   },
   "outputs": [],
   "source": [
    "h, b ,c=Next_Score(n,h,b,c,x)"
   ]
  },
  {
   "cell_type": "code",
   "execution_count": 17,
   "metadata": {
    "ExecuteTime": {
     "end_time": "2018-07-04T19:51:16.358948Z",
     "start_time": "2018-07-04T19:51:16.312075Z"
    },
    "collapsed": true
   },
   "outputs": [],
   "source": [
    "def Next_State(state,helix,beta,coil):\n",
    "    n=\"\"\n",
    "    k=state\n",
    "    newstate=n\n",
    "    for i in range(0,len(k)):\n",
    "        if (k[i]==' '):\n",
    "            n+=\" \"\n",
    "        elif (helix[i]>=beta[i]) and (helix[i]>=coil[i]):\n",
    "            n+=\"H\"\n",
    "        elif (beta[i]>=helix[i]) and (beta[i]>=coil[i]):\n",
    "            n+=\"B\"\n",
    "        elif (coil[i]>=helix[i]) and (coil[i]>=beta[i]):\n",
    "            n+=\"T\"\n",
    "\n",
    "    return n\n"
   ]
  },
  {
   "cell_type": "code",
   "execution_count": 18,
   "metadata": {
    "ExecuteTime": {
     "end_time": "2018-07-04T19:51:16.390193Z",
     "start_time": "2018-07-04T19:51:16.358948Z"
    },
    "collapsed": true
   },
   "outputs": [],
   "source": [
    "n=Next_State(n,h,b,c)"
   ]
  },
  {
   "cell_type": "code",
   "execution_count": 19,
   "metadata": {
    "ExecuteTime": {
     "end_time": "2018-07-04T19:51:16.437105Z",
     "start_time": "2018-07-04T19:51:16.390193Z"
    }
   },
   "outputs": [
    {
     "data": {
      "text/plain": [
       "'HHHHHHHHHHHHHHBBBBBBBBBBBBBBBBBBTTT THHHHHHHHHHHHHTTTTTTTHHHHHHHH HHHHHHHH HHBHHHHHHBTTBTTBBBBBHHHHHHHHHHHHHHHHHHTHHHH HHHHHHHHHHHHHHHHHHTTTTTTTTTHBBBB   '"
      ]
     },
     "execution_count": 19,
     "metadata": {},
     "output_type": "execute_result"
    }
   ],
   "source": [
    "n"
   ]
  },
  {
   "cell_type": "code",
   "execution_count": 20,
   "metadata": {
    "ExecuteTime": {
     "end_time": "2018-07-04T19:51:16.718298Z",
     "start_time": "2018-07-04T19:51:16.702672Z"
    },
    "collapsed": true
   },
   "outputs": [],
   "source": [
    "def struct_fitness(structure1,structure2):\n",
    "    true=0\n",
    "    for i in range(0,len(structure1)):\n",
    "        if (structure1[i]==structure2[i]):\n",
    "            true=true+1\n",
    "    F=true/len(structure1)\n",
    "    return F"
   ]
  },
  {
   "cell_type": "code",
   "execution_count": null,
   "metadata": {
    "collapsed": true
   },
   "outputs": [],
   "source": []
  },
  {
   "cell_type": "code",
   "execution_count": null,
   "metadata": {
    "collapsed": true
   },
   "outputs": [],
   "source": []
  },
  {
   "cell_type": "code",
   "execution_count": 21,
   "metadata": {
    "ExecuteTime": {
     "end_time": "2018-07-04T19:51:18.296314Z",
     "start_time": "2018-07-04T19:51:18.280693Z"
    },
    "collapsed": true
   },
   "outputs": [],
   "source": [
    "def p_fitness(s_fit_arr):\n",
    "    sum = 0\n",
    "    for elem in s_fit_arr:\n",
    "        sum = sum + elem\n",
    "    return sum/len(s_fit_arr)"
   ]
  },
  {
   "cell_type": "code",
   "execution_count": 22,
   "metadata": {
    "ExecuteTime": {
     "end_time": "2018-07-04T19:51:18.640040Z",
     "start_time": "2018-07-04T19:51:18.561923Z"
    },
    "collapsed": true
   },
   "outputs": [],
   "source": [
    "def opt_seq(pro_seq, struct2, x, lim=20):\n",
    "    t=0\n",
    "    k=ChouFasman(pro_seq)\n",
    "    best=struct_fitness(k,struct2)\n",
    "    h, b, c = seq_score(pro_seq,x)\n",
    "    n=initial_state(pro_seq,h,b,c)\n",
    "#    g=struct_fitness(k,struct2)\n",
    "#    best=struct_fitness(state,struct2_1)\n",
    "            \n",
    "    while(t<lim):\n",
    "#         print(\"curr\", n)\n",
    "        h1, b1 ,c1=Next_Score(n,h,b,c,x)\n",
    "        new=Next_State(n,h1,b1,c1)\n",
    "#         print(\"new \", new)\n",
    "        p=struct_fitness(new,struct2)\n",
    "        if (p>best):\n",
    "            best=p\n",
    "            h=h1\n",
    "            b=b1\n",
    "            c=c1\n",
    "            n=new\n",
    "            temp=new\n",
    "        else:\n",
    "            temp=n\n",
    "            n=new\n",
    "            h=h1\n",
    "            b=b1\n",
    "            c=c1\n",
    "        #p=struct_fitness(new,struct2_1)\n",
    "        #if (p>best):\n",
    "        #    best=p\n",
    "        t=t+1    \n",
    "    return new,p"
   ]
  },
  {
   "cell_type": "code",
   "execution_count": null,
   "metadata": {
    "collapsed": true
   },
   "outputs": [],
   "source": []
  },
  {
   "cell_type": "code",
   "execution_count": 23,
   "metadata": {
    "ExecuteTime": {
     "end_time": "2018-07-04T19:51:19.514978Z",
     "start_time": "2018-07-04T19:51:19.155630Z"
    },
    "collapsed": true,
    "scrolled": true
   },
   "outputs": [],
   "source": [
    "(new,best)=opt_seq(protein2, struct2_2, x, lim=100)"
   ]
  },
  {
   "cell_type": "code",
   "execution_count": 24,
   "metadata": {
    "ExecuteTime": {
     "end_time": "2018-07-04T19:51:19.530603Z",
     "start_time": "2018-07-04T19:51:19.514978Z"
    }
   },
   "outputs": [
    {
     "data": {
      "text/plain": [
       "0.4785276073619632"
      ]
     },
     "execution_count": 24,
     "metadata": {},
     "output_type": "execute_result"
    }
   ],
   "source": [
    "best"
   ]
  },
  {
   "cell_type": "code",
   "execution_count": 25,
   "metadata": {
    "ExecuteTime": {
     "end_time": "2018-07-04T19:51:20.782678Z",
     "start_time": "2018-07-04T19:51:20.751432Z"
    }
   },
   "outputs": [
    {
     "data": {
      "text/plain": [
       "'HHHHHHHHHHHHHHHHHHHHHHHHHHHHHHHHHHHHHHHHHHHHHHHHHHHHHHHHHHHHHHHHHHHHHH HHHHH HHHHHHHHHH      HHHHHHHHHHHHHHHHH    HHHHHHHHHHHHHHHHHHHHHHHBB   BBBBBBBBBBBBBBBBBBBB '"
      ]
     },
     "execution_count": 25,
     "metadata": {},
     "output_type": "execute_result"
    }
   ],
   "source": [
    "new"
   ]
  },
  {
   "cell_type": "code",
   "execution_count": null,
   "metadata": {
    "ExecuteTime": {
     "end_time": "2018-06-08T10:39:39.437544Z",
     "start_time": "2018-06-08T10:39:39.429546Z"
    },
    "collapsed": true
   },
   "outputs": [],
   "source": []
  },
  {
   "cell_type": "code",
   "execution_count": 26,
   "metadata": {
    "ExecuteTime": {
     "end_time": "2018-07-04T19:51:21.707943Z",
     "start_time": "2018-07-04T19:51:21.679704Z"
    },
    "collapsed": true
   },
   "outputs": [],
   "source": [
    "def fitness(sequences, structures, x):\n",
    "    b=[]\n",
    "    for sequence,structure in zip(sequences,structures):\n",
    "        (new,best)=opt_seq(sequence,structure,x)\n",
    "        b.append(best)\n",
    "    fitness=p_fitness(b)\n",
    "    return fitness"
   ]
  },
  {
   "cell_type": "markdown",
   "metadata": {},
   "source": [
    "# Hill-climbing"
   ]
  },
  {
   "cell_type": "code",
   "execution_count": 29,
   "metadata": {
    "ExecuteTime": {
     "end_time": "2018-07-04T19:51:48.226910Z",
     "start_time": "2018-07-04T19:51:48.187029Z"
    },
    "collapsed": true
   },
   "outputs": [],
   "source": [
    "def hc(x, lim=100):\n",
    "    t=0\n",
    "    F=[]\n",
    "    X=[]\n",
    "    while (t<lim):\n",
    "        f_old = fitness([protein1,protein2,protein3], [struct2_1,struct2_2,struct2_3], x)\n",
    "        idx = random.randint(0, len(x) - 1)\n",
    "        diff = random.uniform(-0.1, 0.1)\n",
    "        old_x = x[idx]\n",
    "        x[idx] = min(max(x[idx] + diff, 0), 1)\n",
    "        f_new = fitness([protein1,protein2,protein3], [struct2_1,struct2_2,struct2_3], x)\n",
    "        if (f_new < f_old):# or (random.random()<0.5):\n",
    "            x[idx] = old_x\n",
    "        F.append(f_old)\n",
    "        X.append(x)\n",
    "        t+=1\n",
    "    return f_new,x,F,X"
   ]
  },
  {
   "cell_type": "code",
   "execution_count": 30,
   "metadata": {
    "ExecuteTime": {
     "end_time": "2018-07-04T19:52:16.272957Z",
     "start_time": "2018-07-04T19:51:48.677288Z"
    },
    "collapsed": true
   },
   "outputs": [],
   "source": [
    "x= Rand_num()\n",
    "(f,x,F,X)=hc(x)"
   ]
  },
  {
   "cell_type": "code",
   "execution_count": 31,
   "metadata": {
    "ExecuteTime": {
     "end_time": "2018-07-04T19:52:16.288580Z",
     "start_time": "2018-07-04T19:52:16.272957Z"
    }
   },
   "outputs": [
    {
     "data": {
      "text/plain": [
       "[0.663718694393541,\n",
       " 0.663718694393541,\n",
       " 0.663718694393541,\n",
       " 0.663718694393541,\n",
       " 0.663718694393541,\n",
       " 0.663718694393541,\n",
       " 0.663718694393541,\n",
       " 0.663718694393541,\n",
       " 0.663718694393541,\n",
       " 0.663718694393541,\n",
       " 0.663718694393541,\n",
       " 0.663718694393541,\n",
       " 0.663718694393541,\n",
       " 0.663718694393541,\n",
       " 0.663718694393541,\n",
       " 0.663718694393541,\n",
       " 0.663718694393541,\n",
       " 0.6657636841685921,\n",
       " 0.6657636841685921,\n",
       " 0.6657636841685921,\n",
       " 0.6657636841685921,\n",
       " 0.6657636841685921,\n",
       " 0.6657636841685921,\n",
       " 0.6657636841685921,\n",
       " 0.6657636841685921,\n",
       " 0.6657636841685921,\n",
       " 0.6657636841685921,\n",
       " 0.6657636841685921,\n",
       " 0.6657636841685921,\n",
       " 0.6657636841685921,\n",
       " 0.6657636841685921,\n",
       " 0.6657636841685921,\n",
       " 0.6657636841685921,\n",
       " 0.6657636841685921,\n",
       " 0.6657636841685921,\n",
       " 0.6657636841685921,\n",
       " 0.6657636841685921,\n",
       " 0.6657636841685921,\n",
       " 0.6657636841685921,\n",
       " 0.6657636841685921,\n",
       " 0.6657636841685921,\n",
       " 0.6657636841685921,\n",
       " 0.6657636841685921,\n",
       " 0.6657636841685921,\n",
       " 0.6657636841685921,\n",
       " 0.6657636841685921,\n",
       " 0.6657636841685921,\n",
       " 0.6657636841685921,\n",
       " 0.6657636841685921,\n",
       " 0.6657636841685921,\n",
       " 0.6657636841685921,\n",
       " 0.6657636841685921,\n",
       " 0.6657636841685921,\n",
       " 0.6657636841685921,\n",
       " 0.6657636841685921,\n",
       " 0.6657636841685921,\n",
       " 0.6657636841685921,\n",
       " 0.6657636841685921,\n",
       " 0.6657636841685921,\n",
       " 0.6657636841685921,\n",
       " 0.6657636841685921,\n",
       " 0.6657636841685921,\n",
       " 0.6657636841685921,\n",
       " 0.6657636841685921,\n",
       " 0.6657636841685921,\n",
       " 0.6657636841685921,\n",
       " 0.6657636841685921,\n",
       " 0.6657636841685921,\n",
       " 0.6657636841685921,\n",
       " 0.6657636841685921,\n",
       " 0.6657636841685921,\n",
       " 0.6657636841685921,\n",
       " 0.6657636841685921,\n",
       " 0.6657636841685921,\n",
       " 0.6657636841685921,\n",
       " 0.6657636841685921,\n",
       " 0.6657636841685921,\n",
       " 0.6657636841685921,\n",
       " 0.6657636841685921,\n",
       " 0.6657636841685921,\n",
       " 0.6657636841685921,\n",
       " 0.6657636841685921,\n",
       " 0.6657636841685921,\n",
       " 0.6657636841685921,\n",
       " 0.6657636841685921,\n",
       " 0.6657636841685921,\n",
       " 0.6657636841685921,\n",
       " 0.6657636841685921,\n",
       " 0.6657636841685921,\n",
       " 0.6657636841685921,\n",
       " 0.6657636841685921,\n",
       " 0.6657636841685921,\n",
       " 0.6657636841685921,\n",
       " 0.6657636841685921,\n",
       " 0.6657636841685921,\n",
       " 0.6657636841685921,\n",
       " 0.6657636841685921,\n",
       " 0.6657636841685921,\n",
       " 0.6657636841685921,\n",
       " 0.6657636841685921]"
      ]
     },
     "execution_count": 31,
     "metadata": {},
     "output_type": "execute_result"
    }
   ],
   "source": [
    "F"
   ]
  },
  {
   "cell_type": "code",
   "execution_count": 30,
   "metadata": {
    "ExecuteTime": {
     "end_time": "2018-06-13T08:22:53.204791Z",
     "start_time": "2018-06-13T08:22:51.033085Z"
    },
    "collapsed": true
   },
   "outputs": [],
   "source": [
    "from matplotlib import pyplot as plt"
   ]
  },
  {
   "cell_type": "code",
   "execution_count": 31,
   "metadata": {
    "ExecuteTime": {
     "end_time": "2018-06-13T08:22:53.345407Z",
     "start_time": "2018-06-13T08:22:53.204791Z"
    }
   },
   "outputs": [
    {
     "data": {
      "text/plain": [
       "0.6657636841685921"
      ]
     },
     "execution_count": 31,
     "metadata": {},
     "output_type": "execute_result"
    }
   ],
   "source": [
    "fitness([protein1,protein2,protein3], [struct2_1,struct2_2,struct2_3], Rand_num())"
   ]
  },
  {
   "cell_type": "code",
   "execution_count": 32,
   "metadata": {
    "ExecuteTime": {
     "end_time": "2018-06-13T08:22:53.689133Z",
     "start_time": "2018-06-13T08:22:53.345407Z"
    }
   },
   "outputs": [
    {
     "data": {
      "image/png": "[encoded data removed]",
      "text/plain": [
       "<matplotlib.figure.Figure at 0x13f17ce8748>"
      ]
     },
     "metadata": {},
     "output_type": "display_data"
    }
   ],
   "source": [
    "plt.plot(F)\n",
    "plt.ylim([0, 1])\n",
    "plt.show()"
   ]
  },
  {
   "cell_type": "code",
   "execution_count": 33,
   "metadata": {
    "ExecuteTime": {
     "end_time": "2018-06-13T08:22:53.954740Z",
     "start_time": "2018-06-13T08:22:53.689133Z"
    }
   },
   "outputs": [
    {
     "data": {
      "image/png": "[encoded data removed]",
      "text/plain": [
       "<matplotlib.figure.Figure at 0x13f17f03e80>"
      ]
     },
     "metadata": {},
     "output_type": "display_data"
    }
   ],
   "source": [
    "plt.plot(F)\n",
    "plt.plot([x + 0.1 for x in F])\n",
    "plt.legend([\"First\", \"Second\"])\n",
    "plt.show()"
   ]
  },
  {
   "cell_type": "code",
   "execution_count": null,
   "metadata": {
    "collapsed": true
   },
   "outputs": [],
   "source": []
  },
  {
   "cell_type": "code",
   "execution_count": null,
   "metadata": {
    "collapsed": true
   },
   "outputs": [],
   "source": []
  },
  {
   "cell_type": "code",
   "execution_count": 34,
   "metadata": {
    "ExecuteTime": {
     "end_time": "2018-06-13T08:22:53.970384Z",
     "start_time": "2018-06-13T08:22:53.954740Z"
    }
   },
   "outputs": [
    {
     "data": {
      "text/plain": [
       "0.6841685921440522"
      ]
     },
     "execution_count": 34,
     "metadata": {},
     "output_type": "execute_result"
    }
   ],
   "source": [
    "f"
   ]
  },
  {
   "cell_type": "code",
   "execution_count": 35,
   "metadata": {
    "ExecuteTime": {
     "end_time": "2018-06-13T08:22:54.001632Z",
     "start_time": "2018-06-13T08:22:53.970384Z"
    },
    "scrolled": false
   },
   "outputs": [
    {
     "data": {
      "text/plain": [
       "[0.10224309668031745,\n",
       " 0.298395112807529,\n",
       " 0.1261067422478811,\n",
       " 0.5820971044456258,\n",
       " 0.9256756269735025,\n",
       " 0.6406751678248532,\n",
       " 0.1911272199573302,\n",
       " 0.4017407373073661,\n",
       " 0.13628674801209723,\n",
       " 0.4602187089393518,\n",
       " 0.4719292139568886]"
      ]
     },
     "execution_count": 35,
     "metadata": {},
     "output_type": "execute_result"
    }
   ],
   "source": [
    "x"
   ]
  },
  {
   "cell_type": "code",
   "execution_count": null,
   "metadata": {
    "collapsed": true
   },
   "outputs": [],
   "source": []
  },
  {
   "cell_type": "markdown",
   "metadata": {
    "heading_collapsed": true
   },
   "source": [
    "# Test-data"
   ]
  },
  {
   "cell_type": "code",
   "execution_count": 36,
   "metadata": {
    "ExecuteTime": {
     "end_time": "2018-06-13T08:22:54.032861Z",
     "start_time": "2018-06-13T08:22:54.001632Z"
    },
    "collapsed": true,
    "hidden": true
   },
   "outputs": [],
   "source": [
    "def test_data(sequences ,structurs, x):\n",
    "    f= fitness(sequences ,structurs, x)\n",
    "    return f"
   ]
  },
  {
   "cell_type": "code",
   "execution_count": 37,
   "metadata": {
    "ExecuteTime": {
     "end_time": "2018-06-13T08:22:54.298467Z",
     "start_time": "2018-06-13T08:22:54.032861Z"
    },
    "collapsed": true,
    "hidden": true
   },
   "outputs": [],
   "source": [
    "fit=test_data([protein4,protein5,protein6], [struct2_4,struct2_5,struct2_6], x)"
   ]
  },
  {
   "cell_type": "code",
   "execution_count": 38,
   "metadata": {
    "ExecuteTime": {
     "end_time": "2018-06-13T08:22:54.329722Z",
     "start_time": "2018-06-13T08:22:54.298467Z"
    },
    "hidden": true
   },
   "outputs": [
    {
     "data": {
      "text/plain": [
       "0.7565005800299919"
      ]
     },
     "execution_count": 38,
     "metadata": {},
     "output_type": "execute_result"
    }
   ],
   "source": [
    "fit"
   ]
  },
  {
   "cell_type": "code",
   "execution_count": 39,
   "metadata": {
    "ExecuteTime": {
     "end_time": "2018-06-13T08:22:54.360963Z",
     "start_time": "2018-06-13T08:22:54.329722Z"
    },
    "hidden": true,
    "scrolled": true
   },
   "outputs": [
    {
     "data": {
      "text/plain": [
       "[0.6841685921440522,\n",
       " 0.6862135819191034,\n",
       " 0.6862135819191034,\n",
       " 0.6862135819191034,\n",
       " 0.6862135819191034,\n",
       " 0.6862135819191034,\n",
       " 0.6862135819191034,\n",
       " 0.6862135819191034,\n",
       " 0.6862135819191034,\n",
       " 0.6862135819191034,\n",
       " 0.6862135819191034,\n",
       " 0.6862135819191034,\n",
       " 0.6862135819191034,\n",
       " 0.6862135819191034,\n",
       " 0.6862135819191034,\n",
       " 0.6862135819191034,\n",
       " 0.6862135819191034,\n",
       " 0.6862135819191034,\n",
       " 0.6862135819191034,\n",
       " 0.6862135819191034,\n",
       " 0.6862135819191034,\n",
       " 0.6862135819191034,\n",
       " 0.6862135819191034,\n",
       " 0.6862135819191034,\n",
       " 0.6862135819191034,\n",
       " 0.6862135819191034,\n",
       " 0.6862135819191034,\n",
       " 0.6862135819191034,\n",
       " 0.6882585716941545,\n",
       " 0.6882585716941545,\n",
       " 0.6882585716941545,\n",
       " 0.6882585716941545,\n",
       " 0.6882585716941545,\n",
       " 0.6882585716941545,\n",
       " 0.6882585716941545,\n",
       " 0.6882585716941545,\n",
       " 0.6882585716941545,\n",
       " 0.6882585716941545,\n",
       " 0.6882585716941545,\n",
       " 0.6882585716941545,\n",
       " 0.6882585716941545,\n",
       " 0.6882585716941545,\n",
       " 0.6882585716941545,\n",
       " 0.6882585716941545,\n",
       " 0.6882585716941545,\n",
       " 0.6882585716941545,\n",
       " 0.6882585716941545,\n",
       " 0.6882585716941545,\n",
       " 0.6882585716941545,\n",
       " 0.6882585716941545,\n",
       " 0.6882585716941545,\n",
       " 0.6882585716941545,\n",
       " 0.6882585716941545,\n",
       " 0.6882585716941545,\n",
       " 0.6882585716941545,\n",
       " 0.6882585716941545,\n",
       " 0.6882585716941545,\n",
       " 0.6882585716941545,\n",
       " 0.6882585716941545,\n",
       " 0.6882585716941545,\n",
       " 0.6882585716941545,\n",
       " 0.6882585716941545,\n",
       " 0.6882585716941545,\n",
       " 0.6882585716941545,\n",
       " 0.6882585716941545,\n",
       " 0.6882585716941545,\n",
       " 0.6882585716941545,\n",
       " 0.6882585716941545,\n",
       " 0.6882585716941545,\n",
       " 0.6882585716941545,\n",
       " 0.6882585716941545,\n",
       " 0.6882585716941545,\n",
       " 0.6882585716941545,\n",
       " 0.6882585716941545,\n",
       " 0.6882585716941545,\n",
       " 0.6882585716941545,\n",
       " 0.6882585716941545,\n",
       " 0.6882585716941545,\n",
       " 0.6882585716941545,\n",
       " 0.6882585716941545,\n",
       " 0.6882585716941545,\n",
       " 0.6882585716941545,\n",
       " 0.6882585716941545,\n",
       " 0.6882585716941545,\n",
       " 0.6882585716941545,\n",
       " 0.6882585716941545,\n",
       " 0.6882585716941545,\n",
       " 0.6882585716941545,\n",
       " 0.6882585716941545,\n",
       " 0.6882585716941545,\n",
       " 0.6882585716941545,\n",
       " 0.6882585716941545,\n",
       " 0.6882585716941545,\n",
       " 0.6882585716941545,\n",
       " 0.6882585716941545,\n",
       " 0.6882585716941545,\n",
       " 0.6882585716941545,\n",
       " 0.6882585716941545,\n",
       " 0.6882585716941545,\n",
       " 0.6882585716941545]"
      ]
     },
     "execution_count": 39,
     "metadata": {},
     "output_type": "execute_result"
    }
   ],
   "source": [
    "F"
   ]
  },
  {
   "cell_type": "markdown",
   "metadata": {
    "heading_collapsed": true
   },
   "source": [
    "# Report"
   ]
  },
  {
   "cell_type": "code",
   "execution_count": 41,
   "metadata": {
    "ExecuteTime": {
     "end_time": "2018-06-13T08:22:54.485954Z",
     "start_time": "2018-06-13T08:22:54.423459Z"
    },
    "collapsed": true,
    "hidden": true
   },
   "outputs": [],
   "source": [
    "def Test_hc():\n",
    "    for i in range(0,5):\n",
    "        x=Rand_num()\n",
    "        print(x)\n",
    "        print()\n",
    "        (f,x,F,X)=hc(x)\n",
    "        print('state = ',X)\n",
    "        print()\n",
    "        print('fitness = ',f)\n",
    "        print()\n",
    "        print('randnum = ',x)\n",
    "        print()\n",
    "        print('general = ',F)\n",
    "        print()\n",
    "        plt.plot(F)\n",
    "        #plt.ylim([0, 1])\n",
    "        plt.show()\n",
    "#        plt.savefig(\"output.png\")"
   ]
  },
  {
   "cell_type": "code",
   "execution_count": 42,
   "metadata": {
    "ExecuteTime": {
     "end_time": "2018-06-13T08:23:31.377455Z",
     "start_time": "2018-06-13T08:22:54.485954Z"
    },
    "hidden": true,
    "scrolled": false
   },
   "outputs": [
    {
     "ename": "ValueError",
     "evalue": "too many values to unpack (expected 3)",
     "output_type": "error",
     "traceback": [
      "\u001b[1;31m---------------------------------------------------------------------------\u001b[0m",
      "\u001b[1;31mValueError\u001b[0m                                Traceback (most recent call last)",
      "\u001b[1;32m<ipython-input-42-b79d0481bbb2>\u001b[0m in \u001b[0;36m<module>\u001b[1;34m()\u001b[0m\n\u001b[1;32m----> 1\u001b[1;33m \u001b[1;33m(\u001b[0m\u001b[0mf\u001b[0m\u001b[1;33m,\u001b[0m\u001b[0mx\u001b[0m\u001b[1;33m,\u001b[0m\u001b[0mF\u001b[0m\u001b[1;33m)\u001b[0m\u001b[1;33m=\u001b[0m\u001b[0mhc\u001b[0m\u001b[1;33m(\u001b[0m\u001b[1;33m[\u001b[0m\u001b[1;36m0\u001b[0m\u001b[1;33m,\u001b[0m \u001b[1;36m0\u001b[0m\u001b[1;33m,\u001b[0m \u001b[1;36m0\u001b[0m\u001b[1;33m,\u001b[0m \u001b[1;36m0\u001b[0m\u001b[1;33m,\u001b[0m \u001b[1;36m0\u001b[0m\u001b[1;33m,\u001b[0m \u001b[1;36m1\u001b[0m\u001b[1;33m,\u001b[0m \u001b[1;36m0\u001b[0m\u001b[1;33m,\u001b[0m \u001b[1;36m0\u001b[0m\u001b[1;33m,\u001b[0m \u001b[1;36m0\u001b[0m\u001b[1;33m,\u001b[0m \u001b[1;36m0\u001b[0m\u001b[1;33m,\u001b[0m \u001b[1;36m0\u001b[0m\u001b[1;33m]\u001b[0m\u001b[1;33m)\u001b[0m\u001b[1;33m\u001b[0m\u001b[0m\n\u001b[0m\u001b[0;32m      2\u001b[0m \u001b[0mprint\u001b[0m\u001b[1;33m(\u001b[0m\u001b[1;34m'fitness = '\u001b[0m\u001b[1;33m,\u001b[0m\u001b[0mf\u001b[0m\u001b[1;33m)\u001b[0m\u001b[1;33m\u001b[0m\u001b[0m\n\u001b[0;32m      3\u001b[0m \u001b[0mprint\u001b[0m\u001b[1;33m(\u001b[0m\u001b[1;33m)\u001b[0m\u001b[1;33m\u001b[0m\u001b[0m\n\u001b[0;32m      4\u001b[0m \u001b[0mprint\u001b[0m\u001b[1;33m(\u001b[0m\u001b[1;34m'randnum = '\u001b[0m\u001b[1;33m,\u001b[0m\u001b[0mx\u001b[0m\u001b[1;33m)\u001b[0m\u001b[1;33m\u001b[0m\u001b[0m\n\u001b[0;32m      5\u001b[0m \u001b[0mprint\u001b[0m\u001b[1;33m(\u001b[0m\u001b[1;33m)\u001b[0m\u001b[1;33m\u001b[0m\u001b[0m\n",
      "\u001b[1;31mValueError\u001b[0m: too many values to unpack (expected 3)"
     ]
    }
   ],
   "source": [
    "(f,x,F)=hc([0, 0, 0, 0, 0, 1, 0, 0, 0, 0, 0])\n",
    "print('fitness = ',f)\n",
    "print()\n",
    "print('randnum = ',x)\n",
    "print()\n",
    "print('general = ',F)\n",
    "print()\n",
    "plt.plot(F)\n",
    "\n",
    "(f,x,F)=hc([0, 0, 0, 0, 0, 1, 0, 0, 0, 0, 0])\n",
    "print('fitness = ',f)\n",
    "print()\n",
    "print('randnum = ',x)\n",
    "print()\n",
    "print('general = ',F)\n",
    "print()\n",
    "plt.plot(F)\n",
    "\n",
    "(f,x,F)=hc([0, 0, 0, 0, 0, 1, 0, 0, 0, 0, 0])\n",
    "print('fitness = ',f)\n",
    "print()\n",
    "print('randnum = ',x)\n",
    "print()\n",
    "print('general = ',F)\n",
    "print()\n",
    "plt.plot(F)\n",
    "\n",
    "\n",
    "(f,x,F)=hc([0, 0, 0, 0, 0, 1, 0, 0, 0, 0, 0])\n",
    "print('fitness = ',f)\n",
    "print()\n",
    "print('randnum = ',x)\n",
    "print()\n",
    "print('general = ',F)\n",
    "print()\n",
    "plt.plot(F)\n",
    "\n",
    "#(f,x,F)=hc([0, 0, 0, 0, 0, 1, 0, 0, 0, 0, 0])\n",
    "#print('fitness = ',f)\n",
    "#print()\n",
    "#print('randnum = ',x)\n",
    "#print()\n",
    "#print('general = ',F)\n",
    "#print()\n",
    "#plt.plot(F)\n",
    "\n",
    "#(f,x,F)=hc([0, 0, 0, 0, 0, 1, 0, 0, 0, 0, 0])\n",
    "#print('fitness = ',f)\n",
    "#print()\n",
    "#print('randnum = ',x)\n",
    "#print()\n",
    "#print('general = ',F)\n",
    "#print()\n",
    "#plt.plot(F)\n",
    "\n",
    "\n",
    "plt.show()"
   ]
  },
  {
   "cell_type": "code",
   "execution_count": 43,
   "metadata": {
    "ExecuteTime": {
     "end_time": "2018-06-13T08:27:39.083312Z",
     "start_time": "2018-06-13T08:24:41.249014Z"
    },
    "hidden": true,
    "scrolled": false
   },
   "outputs": [
    {
     "name": "stdout",
     "output_type": "stream",
     "text": [
      "[0.0015269838383565881, 0.2634123158866346, 0.4013938781498222, 0.22660900404915885, 0.3961743063260533, 0.012068893883351417, 0.36918621533775975, 0.16363385185082058, 0.46143945580640966, 0.8001476240201416, 0.40181443470330336]\n",
      "\n",
      "state =  [[0.24364235028231795, 0.19873953065564764, 0.33423093120428904, 0.18148338030275435, 0.3851104998174767, 0, 0.1091513230669453, 0.027172586158344558, 0.5163139610739483, 0.41015659386630005, 0.600091963750148], [0.24364235028231795, 0.19873953065564764, 0.33423093120428904, 0.18148338030275435, 0.3851104998174767, 0, 0.1091513230669453, 0.027172586158344558, 0.5163139610739483, 0.41015659386630005, 0.600091963750148], [0.24364235028231795, 0.19873953065564764, 0.33423093120428904, 0.18148338030275435, 0.3851104998174767, 0, 0.1091513230669453, 0.027172586158344558, 0.5163139610739483, 0.41015659386630005, 0.600091963750148], [0.24364235028231795, 0.19873953065564764, 0.33423093120428904, 0.18148338030275435, 0.3851104998174767, 0, 0.1091513230669453, 0.027172586158344558, 0.5163139610739483, 0.41015659386630005, 0.600091963750148], [0.24364235028231795, 0.19873953065564764, 0.33423093120428904, 0.18148338030275435, 0.3851104998174767, 0, 0.1091513230669453, 0.027172586158344558, 0.5163139610739483, 0.41015659386630005, 0.600091963750148], [0.24364235028231795, 0.19873953065564764, 0.33423093120428904, 0.18148338030275435, 0.3851104998174767, 0, 0.1091513230669453, 0.027172586158344558, 0.5163139610739483, 0.41015659386630005, 0.600091963750148], [0.24364235028231795, 0.19873953065564764, 0.33423093120428904, 0.18148338030275435, 0.3851104998174767, 0, 0.1091513230669453, 0.027172586158344558, 0.5163139610739483, 0.41015659386630005, 0.600091963750148], [0.24364235028231795, 0.19873953065564764, 0.33423093120428904, 0.18148338030275435, 0.3851104998174767, 0, 0.1091513230669453, 0.027172586158344558, 0.5163139610739483, 0.41015659386630005, 0.600091963750148], [0.24364235028231795, 0.19873953065564764, 0.33423093120428904, 0.18148338030275435, 0.3851104998174767, 0, 0.1091513230669453, 0.027172586158344558, 0.5163139610739483, 0.41015659386630005, 0.600091963750148], [0.24364235028231795, 0.19873953065564764, 0.33423093120428904, 0.18148338030275435, 0.3851104998174767, 0, 0.1091513230669453, 0.027172586158344558, 0.5163139610739483, 0.41015659386630005, 0.600091963750148], [0.24364235028231795, 0.19873953065564764, 0.33423093120428904, 0.18148338030275435, 0.3851104998174767, 0, 0.1091513230669453, 0.027172586158344558, 0.5163139610739483, 0.41015659386630005, 0.600091963750148], [0.24364235028231795, 0.19873953065564764, 0.33423093120428904, 0.18148338030275435, 0.3851104998174767, 0, 0.1091513230669453, 0.027172586158344558, 0.5163139610739483, 0.41015659386630005, 0.600091963750148], [0.24364235028231795, 0.19873953065564764, 0.33423093120428904, 0.18148338030275435, 0.3851104998174767, 0, 0.1091513230669453, 0.027172586158344558, 0.5163139610739483, 0.41015659386630005, 0.600091963750148], [0.24364235028231795, 0.19873953065564764, 0.33423093120428904, 0.18148338030275435, 0.3851104998174767, 0, 0.1091513230669453, 0.027172586158344558, 0.5163139610739483, 0.41015659386630005, 0.600091963750148], [0.24364235028231795, 0.19873953065564764, 0.33423093120428904, 0.18148338030275435, 0.3851104998174767, 0, 0.1091513230669453, 0.027172586158344558, 0.5163139610739483, 0.41015659386630005, 0.600091963750148], [0.24364235028231795, 0.19873953065564764, 0.33423093120428904, 0.18148338030275435, 0.3851104998174767, 0, 0.1091513230669453, 0.027172586158344558, 0.5163139610739483, 0.41015659386630005, 0.600091963750148], [0.24364235028231795, 0.19873953065564764, 0.33423093120428904, 0.18148338030275435, 0.3851104998174767, 0, 0.1091513230669453, 0.027172586158344558, 0.5163139610739483, 0.41015659386630005, 0.600091963750148], [0.24364235028231795, 0.19873953065564764, 0.33423093120428904, 0.18148338030275435, 0.3851104998174767, 0, 0.1091513230669453, 0.027172586158344558, 0.5163139610739483, 0.41015659386630005, 0.600091963750148], [0.24364235028231795, 0.19873953065564764, 0.33423093120428904, 0.18148338030275435, 0.3851104998174767, 0, 0.1091513230669453, 0.027172586158344558, 0.5163139610739483, 0.41015659386630005, 0.600091963750148], [0.24364235028231795, 0.19873953065564764, 0.33423093120428904, 0.18148338030275435, 0.3851104998174767, 0, 0.1091513230669453, 0.027172586158344558, 0.5163139610739483, 0.41015659386630005, 0.600091963750148], [0.24364235028231795, 0.19873953065564764, 0.33423093120428904, 0.18148338030275435, 0.3851104998174767, 0, 0.1091513230669453, 0.027172586158344558, 0.5163139610739483, 0.41015659386630005, 0.600091963750148], [0.24364235028231795, 0.19873953065564764, 0.33423093120428904, 0.18148338030275435, 0.3851104998174767, 0, 0.1091513230669453, 0.027172586158344558, 0.5163139610739483, 0.41015659386630005, 0.600091963750148], [0.24364235028231795, 0.19873953065564764, 0.33423093120428904, 0.18148338030275435, 0.3851104998174767, 0, 0.1091513230669453, 0.027172586158344558, 0.5163139610739483, 0.41015659386630005, 0.600091963750148], [0.24364235028231795, 0.19873953065564764, 0.33423093120428904, 0.18148338030275435, 0.3851104998174767, 0, 0.1091513230669453, 0.027172586158344558, 0.5163139610739483, 0.41015659386630005, 0.600091963750148], [0.24364235028231795, 0.19873953065564764, 0.33423093120428904, 0.18148338030275435, 0.3851104998174767, 0, 0.1091513230669453, 0.027172586158344558, 0.5163139610739483, 0.41015659386630005, 0.600091963750148], [0.24364235028231795, 0.19873953065564764, 0.33423093120428904, 0.18148338030275435, 0.3851104998174767, 0, 0.1091513230669453, 0.027172586158344558, 0.5163139610739483, 0.41015659386630005, 0.600091963750148], [0.24364235028231795, 0.19873953065564764, 0.33423093120428904, 0.18148338030275435, 0.3851104998174767, 0, 0.1091513230669453, 0.027172586158344558, 0.5163139610739483, 0.41015659386630005, 0.600091963750148], [0.24364235028231795, 0.19873953065564764, 0.33423093120428904, 0.18148338030275435, 0.3851104998174767, 0, 0.1091513230669453, 0.027172586158344558, 0.5163139610739483, 0.41015659386630005, 0.600091963750148], [0.24364235028231795, 0.19873953065564764, 0.33423093120428904, 0.18148338030275435, 0.3851104998174767, 0, 0.1091513230669453, 0.027172586158344558, 0.5163139610739483, 0.41015659386630005, 0.600091963750148], [0.24364235028231795, 0.19873953065564764, 0.33423093120428904, 0.18148338030275435, 0.3851104998174767, 0, 0.1091513230669453, 0.027172586158344558, 0.5163139610739483, 0.41015659386630005, 0.600091963750148], [0.24364235028231795, 0.19873953065564764, 0.33423093120428904, 0.18148338030275435, 0.3851104998174767, 0, 0.1091513230669453, 0.027172586158344558, 0.5163139610739483, 0.41015659386630005, 0.600091963750148], [0.24364235028231795, 0.19873953065564764, 0.33423093120428904, 0.18148338030275435, 0.3851104998174767, 0, 0.1091513230669453, 0.027172586158344558, 0.5163139610739483, 0.41015659386630005, 0.600091963750148], [0.24364235028231795, 0.19873953065564764, 0.33423093120428904, 0.18148338030275435, 0.3851104998174767, 0, 0.1091513230669453, 0.027172586158344558, 0.5163139610739483, 0.41015659386630005, 0.600091963750148], [0.24364235028231795, 0.19873953065564764, 0.33423093120428904, 0.18148338030275435, 0.3851104998174767, 0, 0.1091513230669453, 0.027172586158344558, 0.5163139610739483, 0.41015659386630005, 0.600091963750148], [0.24364235028231795, 0.19873953065564764, 0.33423093120428904, 0.18148338030275435, 0.3851104998174767, 0, 0.1091513230669453, 0.027172586158344558, 0.5163139610739483, 0.41015659386630005, 0.600091963750148], [0.24364235028231795, 0.19873953065564764, 0.33423093120428904, 0.18148338030275435, 0.3851104998174767, 0, 0.1091513230669453, 0.027172586158344558, 0.5163139610739483, 0.41015659386630005, 0.600091963750148], [0.24364235028231795, 0.19873953065564764, 0.33423093120428904, 0.18148338030275435, 0.3851104998174767, 0, 0.1091513230669453, 0.027172586158344558, 0.5163139610739483, 0.41015659386630005, 0.600091963750148], [0.24364235028231795, 0.19873953065564764, 0.33423093120428904, 0.18148338030275435, 0.3851104998174767, 0, 0.1091513230669453, 0.027172586158344558, 0.5163139610739483, 0.41015659386630005, 0.600091963750148], [0.24364235028231795, 0.19873953065564764, 0.33423093120428904, 0.18148338030275435, 0.3851104998174767, 0, 0.1091513230669453, 0.027172586158344558, 0.5163139610739483, 0.41015659386630005, 0.600091963750148], [0.24364235028231795, 0.19873953065564764, 0.33423093120428904, 0.18148338030275435, 0.3851104998174767, 0, 0.1091513230669453, 0.027172586158344558, 0.5163139610739483, 0.41015659386630005, 0.600091963750148], [0.24364235028231795, 0.19873953065564764, 0.33423093120428904, 0.18148338030275435, 0.3851104998174767, 0, 0.1091513230669453, 0.027172586158344558, 0.5163139610739483, 0.41015659386630005, 0.600091963750148], [0.24364235028231795, 0.19873953065564764, 0.33423093120428904, 0.18148338030275435, 0.3851104998174767, 0, 0.1091513230669453, 0.027172586158344558, 0.5163139610739483, 0.41015659386630005, 0.600091963750148], [0.24364235028231795, 0.19873953065564764, 0.33423093120428904, 0.18148338030275435, 0.3851104998174767, 0, 0.1091513230669453, 0.027172586158344558, 0.5163139610739483, 0.41015659386630005, 0.600091963750148], [0.24364235028231795, 0.19873953065564764, 0.33423093120428904, 0.18148338030275435, 0.3851104998174767, 0, 0.1091513230669453, 0.027172586158344558, 0.5163139610739483, 0.41015659386630005, 0.600091963750148], [0.24364235028231795, 0.19873953065564764, 0.33423093120428904, 0.18148338030275435, 0.3851104998174767, 0, 0.1091513230669453, 0.027172586158344558, 0.5163139610739483, 0.41015659386630005, 0.600091963750148], [0.24364235028231795, 0.19873953065564764, 0.33423093120428904, 0.18148338030275435, 0.3851104998174767, 0, 0.1091513230669453, 0.027172586158344558, 0.5163139610739483, 0.41015659386630005, 0.600091963750148], [0.24364235028231795, 0.19873953065564764, 0.33423093120428904, 0.18148338030275435, 0.3851104998174767, 0, 0.1091513230669453, 0.027172586158344558, 0.5163139610739483, 0.41015659386630005, 0.600091963750148], [0.24364235028231795, 0.19873953065564764, 0.33423093120428904, 0.18148338030275435, 0.3851104998174767, 0, 0.1091513230669453, 0.027172586158344558, 0.5163139610739483, 0.41015659386630005, 0.600091963750148], [0.24364235028231795, 0.19873953065564764, 0.33423093120428904, 0.18148338030275435, 0.3851104998174767, 0, 0.1091513230669453, 0.027172586158344558, 0.5163139610739483, 0.41015659386630005, 0.600091963750148], [0.24364235028231795, 0.19873953065564764, 0.33423093120428904, 0.18148338030275435, 0.3851104998174767, 0, 0.1091513230669453, 0.027172586158344558, 0.5163139610739483, 0.41015659386630005, 0.600091963750148], [0.24364235028231795, 0.19873953065564764, 0.33423093120428904, 0.18148338030275435, 0.3851104998174767, 0, 0.1091513230669453, 0.027172586158344558, 0.5163139610739483, 0.41015659386630005, 0.600091963750148], [0.24364235028231795, 0.19873953065564764, 0.33423093120428904, 0.18148338030275435, 0.3851104998174767, 0, 0.1091513230669453, 0.027172586158344558, 0.5163139610739483, 0.41015659386630005, 0.600091963750148], [0.24364235028231795, 0.19873953065564764, 0.33423093120428904, 0.18148338030275435, 0.3851104998174767, 0, 0.1091513230669453, 0.027172586158344558, 0.5163139610739483, 0.41015659386630005, 0.600091963750148], [0.24364235028231795, 0.19873953065564764, 0.33423093120428904, 0.18148338030275435, 0.3851104998174767, 0, 0.1091513230669453, 0.027172586158344558, 0.5163139610739483, 0.41015659386630005, 0.600091963750148], [0.24364235028231795, 0.19873953065564764, 0.33423093120428904, 0.18148338030275435, 0.3851104998174767, 0, 0.1091513230669453, 0.027172586158344558, 0.5163139610739483, 0.41015659386630005, 0.600091963750148], [0.24364235028231795, 0.19873953065564764, 0.33423093120428904, 0.18148338030275435, 0.3851104998174767, 0, 0.1091513230669453, 0.027172586158344558, 0.5163139610739483, 0.41015659386630005, 0.600091963750148], [0.24364235028231795, 0.19873953065564764, 0.33423093120428904, 0.18148338030275435, 0.3851104998174767, 0, 0.1091513230669453, 0.027172586158344558, 0.5163139610739483, 0.41015659386630005, 0.600091963750148], [0.24364235028231795, 0.19873953065564764, 0.33423093120428904, 0.18148338030275435, 0.3851104998174767, 0, 0.1091513230669453, 0.027172586158344558, 0.5163139610739483, 0.41015659386630005, 0.600091963750148], [0.24364235028231795, 0.19873953065564764, 0.33423093120428904, 0.18148338030275435, 0.3851104998174767, 0, 0.1091513230669453, 0.027172586158344558, 0.5163139610739483, 0.41015659386630005, 0.600091963750148], [0.24364235028231795, 0.19873953065564764, 0.33423093120428904, 0.18148338030275435, 0.3851104998174767, 0, 0.1091513230669453, 0.027172586158344558, 0.5163139610739483, 0.41015659386630005, 0.600091963750148], [0.24364235028231795, 0.19873953065564764, 0.33423093120428904, 0.18148338030275435, 0.3851104998174767, 0, 0.1091513230669453, 0.027172586158344558, 0.5163139610739483, 0.41015659386630005, 0.600091963750148], [0.24364235028231795, 0.19873953065564764, 0.33423093120428904, 0.18148338030275435, 0.3851104998174767, 0, 0.1091513230669453, 0.027172586158344558, 0.5163139610739483, 0.41015659386630005, 0.600091963750148], [0.24364235028231795, 0.19873953065564764, 0.33423093120428904, 0.18148338030275435, 0.3851104998174767, 0, 0.1091513230669453, 0.027172586158344558, 0.5163139610739483, 0.41015659386630005, 0.600091963750148], [0.24364235028231795, 0.19873953065564764, 0.33423093120428904, 0.18148338030275435, 0.3851104998174767, 0, 0.1091513230669453, 0.027172586158344558, 0.5163139610739483, 0.41015659386630005, 0.600091963750148], [0.24364235028231795, 0.19873953065564764, 0.33423093120428904, 0.18148338030275435, 0.3851104998174767, 0, 0.1091513230669453, 0.027172586158344558, 0.5163139610739483, 0.41015659386630005, 0.600091963750148], [0.24364235028231795, 0.19873953065564764, 0.33423093120428904, 0.18148338030275435, 0.3851104998174767, 0, 0.1091513230669453, 0.027172586158344558, 0.5163139610739483, 0.41015659386630005, 0.600091963750148], [0.24364235028231795, 0.19873953065564764, 0.33423093120428904, 0.18148338030275435, 0.3851104998174767, 0, 0.1091513230669453, 0.027172586158344558, 0.5163139610739483, 0.41015659386630005, 0.600091963750148], [0.24364235028231795, 0.19873953065564764, 0.33423093120428904, 0.18148338030275435, 0.3851104998174767, 0, 0.1091513230669453, 0.027172586158344558, 0.5163139610739483, 0.41015659386630005, 0.600091963750148], [0.24364235028231795, 0.19873953065564764, 0.33423093120428904, 0.18148338030275435, 0.3851104998174767, 0, 0.1091513230669453, 0.027172586158344558, 0.5163139610739483, 0.41015659386630005, 0.600091963750148], [0.24364235028231795, 0.19873953065564764, 0.33423093120428904, 0.18148338030275435, 0.3851104998174767, 0, 0.1091513230669453, 0.027172586158344558, 0.5163139610739483, 0.41015659386630005, 0.600091963750148], [0.24364235028231795, 0.19873953065564764, 0.33423093120428904, 0.18148338030275435, 0.3851104998174767, 0, 0.1091513230669453, 0.027172586158344558, 0.5163139610739483, 0.41015659386630005, 0.600091963750148], [0.24364235028231795, 0.19873953065564764, 0.33423093120428904, 0.18148338030275435, 0.3851104998174767, 0, 0.1091513230669453, 0.027172586158344558, 0.5163139610739483, 0.41015659386630005, 0.600091963750148], [0.24364235028231795, 0.19873953065564764, 0.33423093120428904, 0.18148338030275435, 0.3851104998174767, 0, 0.1091513230669453, 0.027172586158344558, 0.5163139610739483, 0.41015659386630005, 0.600091963750148], [0.24364235028231795, 0.19873953065564764, 0.33423093120428904, 0.18148338030275435, 0.3851104998174767, 0, 0.1091513230669453, 0.027172586158344558, 0.5163139610739483, 0.41015659386630005, 0.600091963750148], [0.24364235028231795, 0.19873953065564764, 0.33423093120428904, 0.18148338030275435, 0.3851104998174767, 0, 0.1091513230669453, 0.027172586158344558, 0.5163139610739483, 0.41015659386630005, 0.600091963750148], [0.24364235028231795, 0.19873953065564764, 0.33423093120428904, 0.18148338030275435, 0.3851104998174767, 0, 0.1091513230669453, 0.027172586158344558, 0.5163139610739483, 0.41015659386630005, 0.600091963750148], [0.24364235028231795, 0.19873953065564764, 0.33423093120428904, 0.18148338030275435, 0.3851104998174767, 0, 0.1091513230669453, 0.027172586158344558, 0.5163139610739483, 0.41015659386630005, 0.600091963750148], [0.24364235028231795, 0.19873953065564764, 0.33423093120428904, 0.18148338030275435, 0.3851104998174767, 0, 0.1091513230669453, 0.027172586158344558, 0.5163139610739483, 0.41015659386630005, 0.600091963750148], [0.24364235028231795, 0.19873953065564764, 0.33423093120428904, 0.18148338030275435, 0.3851104998174767, 0, 0.1091513230669453, 0.027172586158344558, 0.5163139610739483, 0.41015659386630005, 0.600091963750148], [0.24364235028231795, 0.19873953065564764, 0.33423093120428904, 0.18148338030275435, 0.3851104998174767, 0, 0.1091513230669453, 0.027172586158344558, 0.5163139610739483, 0.41015659386630005, 0.600091963750148], [0.24364235028231795, 0.19873953065564764, 0.33423093120428904, 0.18148338030275435, 0.3851104998174767, 0, 0.1091513230669453, 0.027172586158344558, 0.5163139610739483, 0.41015659386630005, 0.600091963750148], [0.24364235028231795, 0.19873953065564764, 0.33423093120428904, 0.18148338030275435, 0.3851104998174767, 0, 0.1091513230669453, 0.027172586158344558, 0.5163139610739483, 0.41015659386630005, 0.600091963750148], [0.24364235028231795, 0.19873953065564764, 0.33423093120428904, 0.18148338030275435, 0.3851104998174767, 0, 0.1091513230669453, 0.027172586158344558, 0.5163139610739483, 0.41015659386630005, 0.600091963750148], [0.24364235028231795, 0.19873953065564764, 0.33423093120428904, 0.18148338030275435, 0.3851104998174767, 0, 0.1091513230669453, 0.027172586158344558, 0.5163139610739483, 0.41015659386630005, 0.600091963750148], [0.24364235028231795, 0.19873953065564764, 0.33423093120428904, 0.18148338030275435, 0.3851104998174767, 0, 0.1091513230669453, 0.027172586158344558, 0.5163139610739483, 0.41015659386630005, 0.600091963750148], [0.24364235028231795, 0.19873953065564764, 0.33423093120428904, 0.18148338030275435, 0.3851104998174767, 0, 0.1091513230669453, 0.027172586158344558, 0.5163139610739483, 0.41015659386630005, 0.600091963750148], [0.24364235028231795, 0.19873953065564764, 0.33423093120428904, 0.18148338030275435, 0.3851104998174767, 0, 0.1091513230669453, 0.027172586158344558, 0.5163139610739483, 0.41015659386630005, 0.600091963750148], [0.24364235028231795, 0.19873953065564764, 0.33423093120428904, 0.18148338030275435, 0.3851104998174767, 0, 0.1091513230669453, 0.027172586158344558, 0.5163139610739483, 0.41015659386630005, 0.600091963750148], [0.24364235028231795, 0.19873953065564764, 0.33423093120428904, 0.18148338030275435, 0.3851104998174767, 0, 0.1091513230669453, 0.027172586158344558, 0.5163139610739483, 0.41015659386630005, 0.600091963750148], [0.24364235028231795, 0.19873953065564764, 0.33423093120428904, 0.18148338030275435, 0.3851104998174767, 0, 0.1091513230669453, 0.027172586158344558, 0.5163139610739483, 0.41015659386630005, 0.600091963750148], [0.24364235028231795, 0.19873953065564764, 0.33423093120428904, 0.18148338030275435, 0.3851104998174767, 0, 0.1091513230669453, 0.027172586158344558, 0.5163139610739483, 0.41015659386630005, 0.600091963750148], [0.24364235028231795, 0.19873953065564764, 0.33423093120428904, 0.18148338030275435, 0.3851104998174767, 0, 0.1091513230669453, 0.027172586158344558, 0.5163139610739483, 0.41015659386630005, 0.600091963750148], [0.24364235028231795, 0.19873953065564764, 0.33423093120428904, 0.18148338030275435, 0.3851104998174767, 0, 0.1091513230669453, 0.027172586158344558, 0.5163139610739483, 0.41015659386630005, 0.600091963750148], [0.24364235028231795, 0.19873953065564764, 0.33423093120428904, 0.18148338030275435, 0.3851104998174767, 0, 0.1091513230669453, 0.027172586158344558, 0.5163139610739483, 0.41015659386630005, 0.600091963750148], [0.24364235028231795, 0.19873953065564764, 0.33423093120428904, 0.18148338030275435, 0.3851104998174767, 0, 0.1091513230669453, 0.027172586158344558, 0.5163139610739483, 0.41015659386630005, 0.600091963750148], [0.24364235028231795, 0.19873953065564764, 0.33423093120428904, 0.18148338030275435, 0.3851104998174767, 0, 0.1091513230669453, 0.027172586158344558, 0.5163139610739483, 0.41015659386630005, 0.600091963750148], [0.24364235028231795, 0.19873953065564764, 0.33423093120428904, 0.18148338030275435, 0.3851104998174767, 0, 0.1091513230669453, 0.027172586158344558, 0.5163139610739483, 0.41015659386630005, 0.600091963750148], [0.24364235028231795, 0.19873953065564764, 0.33423093120428904, 0.18148338030275435, 0.3851104998174767, 0, 0.1091513230669453, 0.027172586158344558, 0.5163139610739483, 0.41015659386630005, 0.600091963750148], [0.24364235028231795, 0.19873953065564764, 0.33423093120428904, 0.18148338030275435, 0.3851104998174767, 0, 0.1091513230669453, 0.027172586158344558, 0.5163139610739483, 0.41015659386630005, 0.600091963750148], [0.24364235028231795, 0.19873953065564764, 0.33423093120428904, 0.18148338030275435, 0.3851104998174767, 0, 0.1091513230669453, 0.027172586158344558, 0.5163139610739483, 0.41015659386630005, 0.600091963750148]]\n",
      "\n",
      "fitness =  0.6984835205694102\n",
      "\n",
      "randnum =  [0.24364235028231795, 0.19873953065564764, 0.33423093120428904, 0.18148338030275435, 0.3851104998174767, 0, 0.1091513230669453, 0.027172586158344558, 0.5163139610739483, 0.41015659386630005, 0.600091963750148]\n",
      "\n",
      "general =  [0.6943935410193078, 0.6943935410193078, 0.6943935410193078, 0.6943935410193078, 0.6964385307943589, 0.6964385307943589, 0.6964385307943589, 0.6964385307943589, 0.6984835205694102, 0.6984835205694102, 0.6984835205694102, 0.6984835205694102, 0.6984835205694102, 0.6984835205694102, 0.6984835205694102, 0.6984835205694102, 0.6984835205694102, 0.6984835205694102, 0.6984835205694102, 0.6984835205694102, 0.6984835205694102, 0.6984835205694102, 0.6984835205694102, 0.6984835205694102, 0.6984835205694102, 0.6984835205694102, 0.6984835205694102, 0.6984835205694102, 0.6984835205694102, 0.6984835205694102, 0.6984835205694102, 0.6984835205694102, 0.6984835205694102, 0.6984835205694102, 0.6984835205694102, 0.6984835205694102, 0.6984835205694102, 0.6984835205694102, 0.6984835205694102, 0.6984835205694102, 0.6984835205694102, 0.6984835205694102, 0.6984835205694102, 0.6984835205694102, 0.6984835205694102, 0.6984835205694102, 0.6984835205694102, 0.6984835205694102, 0.6984835205694102, 0.6984835205694102, 0.6984835205694102, 0.6984835205694102, 0.6984835205694102, 0.6984835205694102, 0.6984835205694102, 0.6984835205694102, 0.6984835205694102, 0.6984835205694102, 0.6984835205694102, 0.6984835205694102, 0.6984835205694102, 0.6984835205694102, 0.6984835205694102, 0.6984835205694102, 0.6984835205694102, 0.6984835205694102, 0.6984835205694102, 0.6984835205694102, 0.6984835205694102, 0.6984835205694102, 0.6984835205694102, 0.6984835205694102, 0.6984835205694102, 0.6984835205694102, 0.6984835205694102, 0.6984835205694102, 0.6984835205694102, 0.6984835205694102, 0.6984835205694102, 0.6984835205694102, 0.6984835205694102, 0.6984835205694102, 0.6984835205694102, 0.6984835205694102, 0.6984835205694102, 0.6984835205694102, 0.6984835205694102, 0.6984835205694102, 0.6984835205694102, 0.6984835205694102, 0.6984835205694102, 0.6984835205694102, 0.6984835205694102, 0.6984835205694102, 0.6984835205694102, 0.6984835205694102, 0.6984835205694102, 0.6984835205694102, 0.6984835205694102, 0.6984835205694102]\n",
      "\n"
     ]
    },
    {
     "data": {
      "image/png": "[encoded data removed]",
      "text/plain": [
       "<matplotlib.figure.Figure at 0x13f17f0d198>"
      ]
     },
     "metadata": {},
     "output_type": "display_data"
    },
    {
     "name": "stdout",
     "output_type": "stream",
     "text": [
      "[0.3322035335549721, 0.8265659907753836, 0.36156572783006713, 0.6876621569621355, 0.38250092238579037, 0.2925053011266826, 0.5076611060910384, 0.3402912253435403, 0.20628328887067693, 0.9308053735064956, 0.3010781600214272]\n",
      "\n",
      "state =  [[0.1804365222927441, 0.8765068016300257, 0.2726149194274844, 0.5782609366788878, 0.3300611746199441, 0.23156436347403886, 0.542770943191358, 0.5949431309867448, 0.5089270783608664, 0.9892634770932711, 0.5768065310410744], [0.1804365222927441, 0.8765068016300257, 0.2726149194274844, 0.5782609366788878, 0.3300611746199441, 0.23156436347403886, 0.542770943191358, 0.5949431309867448, 0.5089270783608664, 0.9892634770932711, 0.5768065310410744], [0.1804365222927441, 0.8765068016300257, 0.2726149194274844, 0.5782609366788878, 0.3300611746199441, 0.23156436347403886, 0.542770943191358, 0.5949431309867448, 0.5089270783608664, 0.9892634770932711, 0.5768065310410744], [0.1804365222927441, 0.8765068016300257, 0.2726149194274844, 0.5782609366788878, 0.3300611746199441, 0.23156436347403886, 0.542770943191358, 0.5949431309867448, 0.5089270783608664, 0.9892634770932711, 0.5768065310410744], [0.1804365222927441, 0.8765068016300257, 0.2726149194274844, 0.5782609366788878, 0.3300611746199441, 0.23156436347403886, 0.542770943191358, 0.5949431309867448, 0.5089270783608664, 0.9892634770932711, 0.5768065310410744], [0.1804365222927441, 0.8765068016300257, 0.2726149194274844, 0.5782609366788878, 0.3300611746199441, 0.23156436347403886, 0.542770943191358, 0.5949431309867448, 0.5089270783608664, 0.9892634770932711, 0.5768065310410744], [0.1804365222927441, 0.8765068016300257, 0.2726149194274844, 0.5782609366788878, 0.3300611746199441, 0.23156436347403886, 0.542770943191358, 0.5949431309867448, 0.5089270783608664, 0.9892634770932711, 0.5768065310410744], [0.1804365222927441, 0.8765068016300257, 0.2726149194274844, 0.5782609366788878, 0.3300611746199441, 0.23156436347403886, 0.542770943191358, 0.5949431309867448, 0.5089270783608664, 0.9892634770932711, 0.5768065310410744], [0.1804365222927441, 0.8765068016300257, 0.2726149194274844, 0.5782609366788878, 0.3300611746199441, 0.23156436347403886, 0.542770943191358, 0.5949431309867448, 0.5089270783608664, 0.9892634770932711, 0.5768065310410744], [0.1804365222927441, 0.8765068016300257, 0.2726149194274844, 0.5782609366788878, 0.3300611746199441, 0.23156436347403886, 0.542770943191358, 0.5949431309867448, 0.5089270783608664, 0.9892634770932711, 0.5768065310410744], [0.1804365222927441, 0.8765068016300257, 0.2726149194274844, 0.5782609366788878, 0.3300611746199441, 0.23156436347403886, 0.542770943191358, 0.5949431309867448, 0.5089270783608664, 0.9892634770932711, 0.5768065310410744], [0.1804365222927441, 0.8765068016300257, 0.2726149194274844, 0.5782609366788878, 0.3300611746199441, 0.23156436347403886, 0.542770943191358, 0.5949431309867448, 0.5089270783608664, 0.9892634770932711, 0.5768065310410744], [0.1804365222927441, 0.8765068016300257, 0.2726149194274844, 0.5782609366788878, 0.3300611746199441, 0.23156436347403886, 0.542770943191358, 0.5949431309867448, 0.5089270783608664, 0.9892634770932711, 0.5768065310410744], [0.1804365222927441, 0.8765068016300257, 0.2726149194274844, 0.5782609366788878, 0.3300611746199441, 0.23156436347403886, 0.542770943191358, 0.5949431309867448, 0.5089270783608664, 0.9892634770932711, 0.5768065310410744], [0.1804365222927441, 0.8765068016300257, 0.2726149194274844, 0.5782609366788878, 0.3300611746199441, 0.23156436347403886, 0.542770943191358, 0.5949431309867448, 0.5089270783608664, 0.9892634770932711, 0.5768065310410744], [0.1804365222927441, 0.8765068016300257, 0.2726149194274844, 0.5782609366788878, 0.3300611746199441, 0.23156436347403886, 0.542770943191358, 0.5949431309867448, 0.5089270783608664, 0.9892634770932711, 0.5768065310410744], [0.1804365222927441, 0.8765068016300257, 0.2726149194274844, 0.5782609366788878, 0.3300611746199441, 0.23156436347403886, 0.542770943191358, 0.5949431309867448, 0.5089270783608664, 0.9892634770932711, 0.5768065310410744], [0.1804365222927441, 0.8765068016300257, 0.2726149194274844, 0.5782609366788878, 0.3300611746199441, 0.23156436347403886, 0.542770943191358, 0.5949431309867448, 0.5089270783608664, 0.9892634770932711, 0.5768065310410744], [0.1804365222927441, 0.8765068016300257, 0.2726149194274844, 0.5782609366788878, 0.3300611746199441, 0.23156436347403886, 0.542770943191358, 0.5949431309867448, 0.5089270783608664, 0.9892634770932711, 0.5768065310410744], [0.1804365222927441, 0.8765068016300257, 0.2726149194274844, 0.5782609366788878, 0.3300611746199441, 0.23156436347403886, 0.542770943191358, 0.5949431309867448, 0.5089270783608664, 0.9892634770932711, 0.5768065310410744], [0.1804365222927441, 0.8765068016300257, 0.2726149194274844, 0.5782609366788878, 0.3300611746199441, 0.23156436347403886, 0.542770943191358, 0.5949431309867448, 0.5089270783608664, 0.9892634770932711, 0.5768065310410744], [0.1804365222927441, 0.8765068016300257, 0.2726149194274844, 0.5782609366788878, 0.3300611746199441, 0.23156436347403886, 0.542770943191358, 0.5949431309867448, 0.5089270783608664, 0.9892634770932711, 0.5768065310410744], [0.1804365222927441, 0.8765068016300257, 0.2726149194274844, 0.5782609366788878, 0.3300611746199441, 0.23156436347403886, 0.542770943191358, 0.5949431309867448, 0.5089270783608664, 0.9892634770932711, 0.5768065310410744], [0.1804365222927441, 0.8765068016300257, 0.2726149194274844, 0.5782609366788878, 0.3300611746199441, 0.23156436347403886, 0.542770943191358, 0.5949431309867448, 0.5089270783608664, 0.9892634770932711, 0.5768065310410744], [0.1804365222927441, 0.8765068016300257, 0.2726149194274844, 0.5782609366788878, 0.3300611746199441, 0.23156436347403886, 0.542770943191358, 0.5949431309867448, 0.5089270783608664, 0.9892634770932711, 0.5768065310410744], [0.1804365222927441, 0.8765068016300257, 0.2726149194274844, 0.5782609366788878, 0.3300611746199441, 0.23156436347403886, 0.542770943191358, 0.5949431309867448, 0.5089270783608664, 0.9892634770932711, 0.5768065310410744], [0.1804365222927441, 0.8765068016300257, 0.2726149194274844, 0.5782609366788878, 0.3300611746199441, 0.23156436347403886, 0.542770943191358, 0.5949431309867448, 0.5089270783608664, 0.9892634770932711, 0.5768065310410744], [0.1804365222927441, 0.8765068016300257, 0.2726149194274844, 0.5782609366788878, 0.3300611746199441, 0.23156436347403886, 0.542770943191358, 0.5949431309867448, 0.5089270783608664, 0.9892634770932711, 0.5768065310410744], [0.1804365222927441, 0.8765068016300257, 0.2726149194274844, 0.5782609366788878, 0.3300611746199441, 0.23156436347403886, 0.542770943191358, 0.5949431309867448, 0.5089270783608664, 0.9892634770932711, 0.5768065310410744], [0.1804365222927441, 0.8765068016300257, 0.2726149194274844, 0.5782609366788878, 0.3300611746199441, 0.23156436347403886, 0.542770943191358, 0.5949431309867448, 0.5089270783608664, 0.9892634770932711, 0.5768065310410744], [0.1804365222927441, 0.8765068016300257, 0.2726149194274844, 0.5782609366788878, 0.3300611746199441, 0.23156436347403886, 0.542770943191358, 0.5949431309867448, 0.5089270783608664, 0.9892634770932711, 0.5768065310410744], [0.1804365222927441, 0.8765068016300257, 0.2726149194274844, 0.5782609366788878, 0.3300611746199441, 0.23156436347403886, 0.542770943191358, 0.5949431309867448, 0.5089270783608664, 0.9892634770932711, 0.5768065310410744], [0.1804365222927441, 0.8765068016300257, 0.2726149194274844, 0.5782609366788878, 0.3300611746199441, 0.23156436347403886, 0.542770943191358, 0.5949431309867448, 0.5089270783608664, 0.9892634770932711, 0.5768065310410744], [0.1804365222927441, 0.8765068016300257, 0.2726149194274844, 0.5782609366788878, 0.3300611746199441, 0.23156436347403886, 0.542770943191358, 0.5949431309867448, 0.5089270783608664, 0.9892634770932711, 0.5768065310410744], [0.1804365222927441, 0.8765068016300257, 0.2726149194274844, 0.5782609366788878, 0.3300611746199441, 0.23156436347403886, 0.542770943191358, 0.5949431309867448, 0.5089270783608664, 0.9892634770932711, 0.5768065310410744], [0.1804365222927441, 0.8765068016300257, 0.2726149194274844, 0.5782609366788878, 0.3300611746199441, 0.23156436347403886, 0.542770943191358, 0.5949431309867448, 0.5089270783608664, 0.9892634770932711, 0.5768065310410744], [0.1804365222927441, 0.8765068016300257, 0.2726149194274844, 0.5782609366788878, 0.3300611746199441, 0.23156436347403886, 0.542770943191358, 0.5949431309867448, 0.5089270783608664, 0.9892634770932711, 0.5768065310410744], [0.1804365222927441, 0.8765068016300257, 0.2726149194274844, 0.5782609366788878, 0.3300611746199441, 0.23156436347403886, 0.542770943191358, 0.5949431309867448, 0.5089270783608664, 0.9892634770932711, 0.5768065310410744], [0.1804365222927441, 0.8765068016300257, 0.2726149194274844, 0.5782609366788878, 0.3300611746199441, 0.23156436347403886, 0.542770943191358, 0.5949431309867448, 0.5089270783608664, 0.9892634770932711, 0.5768065310410744], [0.1804365222927441, 0.8765068016300257, 0.2726149194274844, 0.5782609366788878, 0.3300611746199441, 0.23156436347403886, 0.542770943191358, 0.5949431309867448, 0.5089270783608664, 0.9892634770932711, 0.5768065310410744], [0.1804365222927441, 0.8765068016300257, 0.2726149194274844, 0.5782609366788878, 0.3300611746199441, 0.23156436347403886, 0.542770943191358, 0.5949431309867448, 0.5089270783608664, 0.9892634770932711, 0.5768065310410744], [0.1804365222927441, 0.8765068016300257, 0.2726149194274844, 0.5782609366788878, 0.3300611746199441, 0.23156436347403886, 0.542770943191358, 0.5949431309867448, 0.5089270783608664, 0.9892634770932711, 0.5768065310410744], [0.1804365222927441, 0.8765068016300257, 0.2726149194274844, 0.5782609366788878, 0.3300611746199441, 0.23156436347403886, 0.542770943191358, 0.5949431309867448, 0.5089270783608664, 0.9892634770932711, 0.5768065310410744], [0.1804365222927441, 0.8765068016300257, 0.2726149194274844, 0.5782609366788878, 0.3300611746199441, 0.23156436347403886, 0.542770943191358, 0.5949431309867448, 0.5089270783608664, 0.9892634770932711, 0.5768065310410744], [0.1804365222927441, 0.8765068016300257, 0.2726149194274844, 0.5782609366788878, 0.3300611746199441, 0.23156436347403886, 0.542770943191358, 0.5949431309867448, 0.5089270783608664, 0.9892634770932711, 0.5768065310410744], [0.1804365222927441, 0.8765068016300257, 0.2726149194274844, 0.5782609366788878, 0.3300611746199441, 0.23156436347403886, 0.542770943191358, 0.5949431309867448, 0.5089270783608664, 0.9892634770932711, 0.5768065310410744], [0.1804365222927441, 0.8765068016300257, 0.2726149194274844, 0.5782609366788878, 0.3300611746199441, 0.23156436347403886, 0.542770943191358, 0.5949431309867448, 0.5089270783608664, 0.9892634770932711, 0.5768065310410744], [0.1804365222927441, 0.8765068016300257, 0.2726149194274844, 0.5782609366788878, 0.3300611746199441, 0.23156436347403886, 0.542770943191358, 0.5949431309867448, 0.5089270783608664, 0.9892634770932711, 0.5768065310410744], [0.1804365222927441, 0.8765068016300257, 0.2726149194274844, 0.5782609366788878, 0.3300611746199441, 0.23156436347403886, 0.542770943191358, 0.5949431309867448, 0.5089270783608664, 0.9892634770932711, 0.5768065310410744], [0.1804365222927441, 0.8765068016300257, 0.2726149194274844, 0.5782609366788878, 0.3300611746199441, 0.23156436347403886, 0.542770943191358, 0.5949431309867448, 0.5089270783608664, 0.9892634770932711, 0.5768065310410744], [0.1804365222927441, 0.8765068016300257, 0.2726149194274844, 0.5782609366788878, 0.3300611746199441, 0.23156436347403886, 0.542770943191358, 0.5949431309867448, 0.5089270783608664, 0.9892634770932711, 0.5768065310410744], [0.1804365222927441, 0.8765068016300257, 0.2726149194274844, 0.5782609366788878, 0.3300611746199441, 0.23156436347403886, 0.542770943191358, 0.5949431309867448, 0.5089270783608664, 0.9892634770932711, 0.5768065310410744], [0.1804365222927441, 0.8765068016300257, 0.2726149194274844, 0.5782609366788878, 0.3300611746199441, 0.23156436347403886, 0.542770943191358, 0.5949431309867448, 0.5089270783608664, 0.9892634770932711, 0.5768065310410744], [0.1804365222927441, 0.8765068016300257, 0.2726149194274844, 0.5782609366788878, 0.3300611746199441, 0.23156436347403886, 0.542770943191358, 0.5949431309867448, 0.5089270783608664, 0.9892634770932711, 0.5768065310410744], [0.1804365222927441, 0.8765068016300257, 0.2726149194274844, 0.5782609366788878, 0.3300611746199441, 0.23156436347403886, 0.542770943191358, 0.5949431309867448, 0.5089270783608664, 0.9892634770932711, 0.5768065310410744], [0.1804365222927441, 0.8765068016300257, 0.2726149194274844, 0.5782609366788878, 0.3300611746199441, 0.23156436347403886, 0.542770943191358, 0.5949431309867448, 0.5089270783608664, 0.9892634770932711, 0.5768065310410744], [0.1804365222927441, 0.8765068016300257, 0.2726149194274844, 0.5782609366788878, 0.3300611746199441, 0.23156436347403886, 0.542770943191358, 0.5949431309867448, 0.5089270783608664, 0.9892634770932711, 0.5768065310410744], [0.1804365222927441, 0.8765068016300257, 0.2726149194274844, 0.5782609366788878, 0.3300611746199441, 0.23156436347403886, 0.542770943191358, 0.5949431309867448, 0.5089270783608664, 0.9892634770932711, 0.5768065310410744], [0.1804365222927441, 0.8765068016300257, 0.2726149194274844, 0.5782609366788878, 0.3300611746199441, 0.23156436347403886, 0.542770943191358, 0.5949431309867448, 0.5089270783608664, 0.9892634770932711, 0.5768065310410744], [0.1804365222927441, 0.8765068016300257, 0.2726149194274844, 0.5782609366788878, 0.3300611746199441, 0.23156436347403886, 0.542770943191358, 0.5949431309867448, 0.5089270783608664, 0.9892634770932711, 0.5768065310410744], [0.1804365222927441, 0.8765068016300257, 0.2726149194274844, 0.5782609366788878, 0.3300611746199441, 0.23156436347403886, 0.542770943191358, 0.5949431309867448, 0.5089270783608664, 0.9892634770932711, 0.5768065310410744], [0.1804365222927441, 0.8765068016300257, 0.2726149194274844, 0.5782609366788878, 0.3300611746199441, 0.23156436347403886, 0.542770943191358, 0.5949431309867448, 0.5089270783608664, 0.9892634770932711, 0.5768065310410744], [0.1804365222927441, 0.8765068016300257, 0.2726149194274844, 0.5782609366788878, 0.3300611746199441, 0.23156436347403886, 0.542770943191358, 0.5949431309867448, 0.5089270783608664, 0.9892634770932711, 0.5768065310410744], [0.1804365222927441, 0.8765068016300257, 0.2726149194274844, 0.5782609366788878, 0.3300611746199441, 0.23156436347403886, 0.542770943191358, 0.5949431309867448, 0.5089270783608664, 0.9892634770932711, 0.5768065310410744], [0.1804365222927441, 0.8765068016300257, 0.2726149194274844, 0.5782609366788878, 0.3300611746199441, 0.23156436347403886, 0.542770943191358, 0.5949431309867448, 0.5089270783608664, 0.9892634770932711, 0.5768065310410744], [0.1804365222927441, 0.8765068016300257, 0.2726149194274844, 0.5782609366788878, 0.3300611746199441, 0.23156436347403886, 0.542770943191358, 0.5949431309867448, 0.5089270783608664, 0.9892634770932711, 0.5768065310410744], [0.1804365222927441, 0.8765068016300257, 0.2726149194274844, 0.5782609366788878, 0.3300611746199441, 0.23156436347403886, 0.542770943191358, 0.5949431309867448, 0.5089270783608664, 0.9892634770932711, 0.5768065310410744], [0.1804365222927441, 0.8765068016300257, 0.2726149194274844, 0.5782609366788878, 0.3300611746199441, 0.23156436347403886, 0.542770943191358, 0.5949431309867448, 0.5089270783608664, 0.9892634770932711, 0.5768065310410744], [0.1804365222927441, 0.8765068016300257, 0.2726149194274844, 0.5782609366788878, 0.3300611746199441, 0.23156436347403886, 0.542770943191358, 0.5949431309867448, 0.5089270783608664, 0.9892634770932711, 0.5768065310410744], [0.1804365222927441, 0.8765068016300257, 0.2726149194274844, 0.5782609366788878, 0.3300611746199441, 0.23156436347403886, 0.542770943191358, 0.5949431309867448, 0.5089270783608664, 0.9892634770932711, 0.5768065310410744], [0.1804365222927441, 0.8765068016300257, 0.2726149194274844, 0.5782609366788878, 0.3300611746199441, 0.23156436347403886, 0.542770943191358, 0.5949431309867448, 0.5089270783608664, 0.9892634770932711, 0.5768065310410744], [0.1804365222927441, 0.8765068016300257, 0.2726149194274844, 0.5782609366788878, 0.3300611746199441, 0.23156436347403886, 0.542770943191358, 0.5949431309867448, 0.5089270783608664, 0.9892634770932711, 0.5768065310410744], [0.1804365222927441, 0.8765068016300257, 0.2726149194274844, 0.5782609366788878, 0.3300611746199441, 0.23156436347403886, 0.542770943191358, 0.5949431309867448, 0.5089270783608664, 0.9892634770932711, 0.5768065310410744], [0.1804365222927441, 0.8765068016300257, 0.2726149194274844, 0.5782609366788878, 0.3300611746199441, 0.23156436347403886, 0.542770943191358, 0.5949431309867448, 0.5089270783608664, 0.9892634770932711, 0.5768065310410744], [0.1804365222927441, 0.8765068016300257, 0.2726149194274844, 0.5782609366788878, 0.3300611746199441, 0.23156436347403886, 0.542770943191358, 0.5949431309867448, 0.5089270783608664, 0.9892634770932711, 0.5768065310410744], [0.1804365222927441, 0.8765068016300257, 0.2726149194274844, 0.5782609366788878, 0.3300611746199441, 0.23156436347403886, 0.542770943191358, 0.5949431309867448, 0.5089270783608664, 0.9892634770932711, 0.5768065310410744], [0.1804365222927441, 0.8765068016300257, 0.2726149194274844, 0.5782609366788878, 0.3300611746199441, 0.23156436347403886, 0.542770943191358, 0.5949431309867448, 0.5089270783608664, 0.9892634770932711, 0.5768065310410744], [0.1804365222927441, 0.8765068016300257, 0.2726149194274844, 0.5782609366788878, 0.3300611746199441, 0.23156436347403886, 0.542770943191358, 0.5949431309867448, 0.5089270783608664, 0.9892634770932711, 0.5768065310410744], [0.1804365222927441, 0.8765068016300257, 0.2726149194274844, 0.5782609366788878, 0.3300611746199441, 0.23156436347403886, 0.542770943191358, 0.5949431309867448, 0.5089270783608664, 0.9892634770932711, 0.5768065310410744], [0.1804365222927441, 0.8765068016300257, 0.2726149194274844, 0.5782609366788878, 0.3300611746199441, 0.23156436347403886, 0.542770943191358, 0.5949431309867448, 0.5089270783608664, 0.9892634770932711, 0.5768065310410744], [0.1804365222927441, 0.8765068016300257, 0.2726149194274844, 0.5782609366788878, 0.3300611746199441, 0.23156436347403886, 0.542770943191358, 0.5949431309867448, 0.5089270783608664, 0.9892634770932711, 0.5768065310410744], [0.1804365222927441, 0.8765068016300257, 0.2726149194274844, 0.5782609366788878, 0.3300611746199441, 0.23156436347403886, 0.542770943191358, 0.5949431309867448, 0.5089270783608664, 0.9892634770932711, 0.5768065310410744], [0.1804365222927441, 0.8765068016300257, 0.2726149194274844, 0.5782609366788878, 0.3300611746199441, 0.23156436347403886, 0.542770943191358, 0.5949431309867448, 0.5089270783608664, 0.9892634770932711, 0.5768065310410744], [0.1804365222927441, 0.8765068016300257, 0.2726149194274844, 0.5782609366788878, 0.3300611746199441, 0.23156436347403886, 0.542770943191358, 0.5949431309867448, 0.5089270783608664, 0.9892634770932711, 0.5768065310410744], [0.1804365222927441, 0.8765068016300257, 0.2726149194274844, 0.5782609366788878, 0.3300611746199441, 0.23156436347403886, 0.542770943191358, 0.5949431309867448, 0.5089270783608664, 0.9892634770932711, 0.5768065310410744], [0.1804365222927441, 0.8765068016300257, 0.2726149194274844, 0.5782609366788878, 0.3300611746199441, 0.23156436347403886, 0.542770943191358, 0.5949431309867448, 0.5089270783608664, 0.9892634770932711, 0.5768065310410744], [0.1804365222927441, 0.8765068016300257, 0.2726149194274844, 0.5782609366788878, 0.3300611746199441, 0.23156436347403886, 0.542770943191358, 0.5949431309867448, 0.5089270783608664, 0.9892634770932711, 0.5768065310410744], [0.1804365222927441, 0.8765068016300257, 0.2726149194274844, 0.5782609366788878, 0.3300611746199441, 0.23156436347403886, 0.542770943191358, 0.5949431309867448, 0.5089270783608664, 0.9892634770932711, 0.5768065310410744], [0.1804365222927441, 0.8765068016300257, 0.2726149194274844, 0.5782609366788878, 0.3300611746199441, 0.23156436347403886, 0.542770943191358, 0.5949431309867448, 0.5089270783608664, 0.9892634770932711, 0.5768065310410744], [0.1804365222927441, 0.8765068016300257, 0.2726149194274844, 0.5782609366788878, 0.3300611746199441, 0.23156436347403886, 0.542770943191358, 0.5949431309867448, 0.5089270783608664, 0.9892634770932711, 0.5768065310410744], [0.1804365222927441, 0.8765068016300257, 0.2726149194274844, 0.5782609366788878, 0.3300611746199441, 0.23156436347403886, 0.542770943191358, 0.5949431309867448, 0.5089270783608664, 0.9892634770932711, 0.5768065310410744], [0.1804365222927441, 0.8765068016300257, 0.2726149194274844, 0.5782609366788878, 0.3300611746199441, 0.23156436347403886, 0.542770943191358, 0.5949431309867448, 0.5089270783608664, 0.9892634770932711, 0.5768065310410744], [0.1804365222927441, 0.8765068016300257, 0.2726149194274844, 0.5782609366788878, 0.3300611746199441, 0.23156436347403886, 0.542770943191358, 0.5949431309867448, 0.5089270783608664, 0.9892634770932711, 0.5768065310410744], [0.1804365222927441, 0.8765068016300257, 0.2726149194274844, 0.5782609366788878, 0.3300611746199441, 0.23156436347403886, 0.542770943191358, 0.5949431309867448, 0.5089270783608664, 0.9892634770932711, 0.5768065310410744], [0.1804365222927441, 0.8765068016300257, 0.2726149194274844, 0.5782609366788878, 0.3300611746199441, 0.23156436347403886, 0.542770943191358, 0.5949431309867448, 0.5089270783608664, 0.9892634770932711, 0.5768065310410744], [0.1804365222927441, 0.8765068016300257, 0.2726149194274844, 0.5782609366788878, 0.3300611746199441, 0.23156436347403886, 0.542770943191358, 0.5949431309867448, 0.5089270783608664, 0.9892634770932711, 0.5768065310410744], [0.1804365222927441, 0.8765068016300257, 0.2726149194274844, 0.5782609366788878, 0.3300611746199441, 0.23156436347403886, 0.542770943191358, 0.5949431309867448, 0.5089270783608664, 0.9892634770932711, 0.5768065310410744], [0.1804365222927441, 0.8765068016300257, 0.2726149194274844, 0.5782609366788878, 0.3300611746199441, 0.23156436347403886, 0.542770943191358, 0.5949431309867448, 0.5089270783608664, 0.9892634770932711, 0.5768065310410744], [0.1804365222927441, 0.8765068016300257, 0.2726149194274844, 0.5782609366788878, 0.3300611746199441, 0.23156436347403886, 0.542770943191358, 0.5949431309867448, 0.5089270783608664, 0.9892634770932711, 0.5768065310410744], [0.1804365222927441, 0.8765068016300257, 0.2726149194274844, 0.5782609366788878, 0.3300611746199441, 0.23156436347403886, 0.542770943191358, 0.5949431309867448, 0.5089270783608664, 0.9892634770932711, 0.5768065310410744]]\n",
      "\n",
      "fitness =  0.6984835205694102\n",
      "\n",
      "randnum =  [0.1804365222927441, 0.8765068016300257, 0.2726149194274844, 0.5782609366788878, 0.3300611746199441, 0.23156436347403886, 0.542770943191358, 0.5949431309867448, 0.5089270783608664, 0.9892634770932711, 0.5768065310410744]\n",
      "\n",
      "general =  [0.6657636841685921, 0.6657636841685921, 0.6657636841685921, 0.6678086739436432, 0.6678086739436432, 0.6678086739436432, 0.6678086739436432, 0.6678086739436432, 0.6678086739436432, 0.6678086739436432, 0.6678086739436432, 0.6678086739436432, 0.6678086739436432, 0.6678086739436432, 0.6678086739436432, 0.6678086739436432, 0.6678086739436432, 0.6678086739436432, 0.6698536637186944, 0.6698536637186944, 0.6698536637186944, 0.6698536637186944, 0.6698536637186944, 0.6698536637186944, 0.6698536637186944, 0.6698536637186944, 0.6718986534937454, 0.6718986534937454, 0.6718986534937454, 0.6718986534937454, 0.6739436432687965, 0.6739436432687965, 0.6739436432687965, 0.6739436432687965, 0.6759886330438478, 0.6759886330438478, 0.6759886330438478, 0.6759886330438478, 0.6780336228188988, 0.6780336228188988, 0.6780336228188988, 0.6780336228188988, 0.6780336228188988, 0.6780336228188988, 0.6780336228188988, 0.6780336228188988, 0.6800786125939501, 0.6800786125939501, 0.6800786125939501, 0.6800786125939501, 0.6800786125939501, 0.6800786125939501, 0.6800786125939501, 0.6800786125939501, 0.6800786125939501, 0.6800786125939501, 0.6800786125939501, 0.6800786125939501, 0.6800786125939501, 0.6800786125939501, 0.6821236023690012, 0.6821236023690012, 0.6821236023690012, 0.6841685921440522, 0.6841685921440522, 0.6862135819191034, 0.6862135819191034, 0.6862135819191034, 0.6862135819191034, 0.6862135819191034, 0.6882585716941545, 0.6882585716941545, 0.6923485512442568, 0.6923485512442568, 0.6923485512442568, 0.6923485512442568, 0.6923485512442568, 0.6984835205694102, 0.6984835205694102, 0.6984835205694102, 0.6984835205694102, 0.6984835205694102, 0.6984835205694102, 0.6984835205694102, 0.6984835205694102, 0.6984835205694102, 0.6984835205694102, 0.6984835205694102, 0.6984835205694102, 0.6984835205694102, 0.6984835205694102, 0.6984835205694102, 0.6984835205694102, 0.6984835205694102, 0.6984835205694102, 0.6984835205694102, 0.6984835205694102, 0.6984835205694102, 0.6984835205694102, 0.6984835205694102]\n",
      "\n"
     ]
    },
    {
     "data": {
      "image/png": "[encoded data removed]",
      "text/plain": [
       "<matplotlib.figure.Figure at 0x13f183ffac8>"
      ]
     },
     "metadata": {},
     "output_type": "display_data"
    },
    {
     "name": "stdout",
     "output_type": "stream",
     "text": [
      "[0.34793975736152405, 0.44572512362658745, 0.5129511417527259, 0.043480918114759404, 0.9550298708038207, 0.0867061988754465, 0.3476915114285277, 0.1858983726129778, 0.9729658613253391, 0.10569121262810766, 0.4225279052127503]\n",
      "\n",
      "state =  [[0.2552407836657189, 0.41693735695706147, 0.5129511417527259, 0.027569795440593764, 0.9341716407923506, 0.13236450994893095, 0.3362889846952801, 0.21477543453083067, 0.9647458495132891, 0.10415121196778425, 0.4095441397135766], [0.2552407836657189, 0.41693735695706147, 0.5129511417527259, 0.027569795440593764, 0.9341716407923506, 0.13236450994893095, 0.3362889846952801, 0.21477543453083067, 0.9647458495132891, 0.10415121196778425, 0.4095441397135766], [0.2552407836657189, 0.41693735695706147, 0.5129511417527259, 0.027569795440593764, 0.9341716407923506, 0.13236450994893095, 0.3362889846952801, 0.21477543453083067, 0.9647458495132891, 0.10415121196778425, 0.4095441397135766], [0.2552407836657189, 0.41693735695706147, 0.5129511417527259, 0.027569795440593764, 0.9341716407923506, 0.13236450994893095, 0.3362889846952801, 0.21477543453083067, 0.9647458495132891, 0.10415121196778425, 0.4095441397135766], [0.2552407836657189, 0.41693735695706147, 0.5129511417527259, 0.027569795440593764, 0.9341716407923506, 0.13236450994893095, 0.3362889846952801, 0.21477543453083067, 0.9647458495132891, 0.10415121196778425, 0.4095441397135766], [0.2552407836657189, 0.41693735695706147, 0.5129511417527259, 0.027569795440593764, 0.9341716407923506, 0.13236450994893095, 0.3362889846952801, 0.21477543453083067, 0.9647458495132891, 0.10415121196778425, 0.4095441397135766], [0.2552407836657189, 0.41693735695706147, 0.5129511417527259, 0.027569795440593764, 0.9341716407923506, 0.13236450994893095, 0.3362889846952801, 0.21477543453083067, 0.9647458495132891, 0.10415121196778425, 0.4095441397135766], [0.2552407836657189, 0.41693735695706147, 0.5129511417527259, 0.027569795440593764, 0.9341716407923506, 0.13236450994893095, 0.3362889846952801, 0.21477543453083067, 0.9647458495132891, 0.10415121196778425, 0.4095441397135766], [0.2552407836657189, 0.41693735695706147, 0.5129511417527259, 0.027569795440593764, 0.9341716407923506, 0.13236450994893095, 0.3362889846952801, 0.21477543453083067, 0.9647458495132891, 0.10415121196778425, 0.4095441397135766], [0.2552407836657189, 0.41693735695706147, 0.5129511417527259, 0.027569795440593764, 0.9341716407923506, 0.13236450994893095, 0.3362889846952801, 0.21477543453083067, 0.9647458495132891, 0.10415121196778425, 0.4095441397135766], [0.2552407836657189, 0.41693735695706147, 0.5129511417527259, 0.027569795440593764, 0.9341716407923506, 0.13236450994893095, 0.3362889846952801, 0.21477543453083067, 0.9647458495132891, 0.10415121196778425, 0.4095441397135766], [0.2552407836657189, 0.41693735695706147, 0.5129511417527259, 0.027569795440593764, 0.9341716407923506, 0.13236450994893095, 0.3362889846952801, 0.21477543453083067, 0.9647458495132891, 0.10415121196778425, 0.4095441397135766], [0.2552407836657189, 0.41693735695706147, 0.5129511417527259, 0.027569795440593764, 0.9341716407923506, 0.13236450994893095, 0.3362889846952801, 0.21477543453083067, 0.9647458495132891, 0.10415121196778425, 0.4095441397135766], [0.2552407836657189, 0.41693735695706147, 0.5129511417527259, 0.027569795440593764, 0.9341716407923506, 0.13236450994893095, 0.3362889846952801, 0.21477543453083067, 0.9647458495132891, 0.10415121196778425, 0.4095441397135766], [0.2552407836657189, 0.41693735695706147, 0.5129511417527259, 0.027569795440593764, 0.9341716407923506, 0.13236450994893095, 0.3362889846952801, 0.21477543453083067, 0.9647458495132891, 0.10415121196778425, 0.4095441397135766], [0.2552407836657189, 0.41693735695706147, 0.5129511417527259, 0.027569795440593764, 0.9341716407923506, 0.13236450994893095, 0.3362889846952801, 0.21477543453083067, 0.9647458495132891, 0.10415121196778425, 0.4095441397135766], [0.2552407836657189, 0.41693735695706147, 0.5129511417527259, 0.027569795440593764, 0.9341716407923506, 0.13236450994893095, 0.3362889846952801, 0.21477543453083067, 0.9647458495132891, 0.10415121196778425, 0.4095441397135766], [0.2552407836657189, 0.41693735695706147, 0.5129511417527259, 0.027569795440593764, 0.9341716407923506, 0.13236450994893095, 0.3362889846952801, 0.21477543453083067, 0.9647458495132891, 0.10415121196778425, 0.4095441397135766], [0.2552407836657189, 0.41693735695706147, 0.5129511417527259, 0.027569795440593764, 0.9341716407923506, 0.13236450994893095, 0.3362889846952801, 0.21477543453083067, 0.9647458495132891, 0.10415121196778425, 0.4095441397135766], [0.2552407836657189, 0.41693735695706147, 0.5129511417527259, 0.027569795440593764, 0.9341716407923506, 0.13236450994893095, 0.3362889846952801, 0.21477543453083067, 0.9647458495132891, 0.10415121196778425, 0.4095441397135766], [0.2552407836657189, 0.41693735695706147, 0.5129511417527259, 0.027569795440593764, 0.9341716407923506, 0.13236450994893095, 0.3362889846952801, 0.21477543453083067, 0.9647458495132891, 0.10415121196778425, 0.4095441397135766], [0.2552407836657189, 0.41693735695706147, 0.5129511417527259, 0.027569795440593764, 0.9341716407923506, 0.13236450994893095, 0.3362889846952801, 0.21477543453083067, 0.9647458495132891, 0.10415121196778425, 0.4095441397135766], [0.2552407836657189, 0.41693735695706147, 0.5129511417527259, 0.027569795440593764, 0.9341716407923506, 0.13236450994893095, 0.3362889846952801, 0.21477543453083067, 0.9647458495132891, 0.10415121196778425, 0.4095441397135766], [0.2552407836657189, 0.41693735695706147, 0.5129511417527259, 0.027569795440593764, 0.9341716407923506, 0.13236450994893095, 0.3362889846952801, 0.21477543453083067, 0.9647458495132891, 0.10415121196778425, 0.4095441397135766], [0.2552407836657189, 0.41693735695706147, 0.5129511417527259, 0.027569795440593764, 0.9341716407923506, 0.13236450994893095, 0.3362889846952801, 0.21477543453083067, 0.9647458495132891, 0.10415121196778425, 0.4095441397135766], [0.2552407836657189, 0.41693735695706147, 0.5129511417527259, 0.027569795440593764, 0.9341716407923506, 0.13236450994893095, 0.3362889846952801, 0.21477543453083067, 0.9647458495132891, 0.10415121196778425, 0.4095441397135766], [0.2552407836657189, 0.41693735695706147, 0.5129511417527259, 0.027569795440593764, 0.9341716407923506, 0.13236450994893095, 0.3362889846952801, 0.21477543453083067, 0.9647458495132891, 0.10415121196778425, 0.4095441397135766], [0.2552407836657189, 0.41693735695706147, 0.5129511417527259, 0.027569795440593764, 0.9341716407923506, 0.13236450994893095, 0.3362889846952801, 0.21477543453083067, 0.9647458495132891, 0.10415121196778425, 0.4095441397135766], [0.2552407836657189, 0.41693735695706147, 0.5129511417527259, 0.027569795440593764, 0.9341716407923506, 0.13236450994893095, 0.3362889846952801, 0.21477543453083067, 0.9647458495132891, 0.10415121196778425, 0.4095441397135766], [0.2552407836657189, 0.41693735695706147, 0.5129511417527259, 0.027569795440593764, 0.9341716407923506, 0.13236450994893095, 0.3362889846952801, 0.21477543453083067, 0.9647458495132891, 0.10415121196778425, 0.4095441397135766], [0.2552407836657189, 0.41693735695706147, 0.5129511417527259, 0.027569795440593764, 0.9341716407923506, 0.13236450994893095, 0.3362889846952801, 0.21477543453083067, 0.9647458495132891, 0.10415121196778425, 0.4095441397135766], [0.2552407836657189, 0.41693735695706147, 0.5129511417527259, 0.027569795440593764, 0.9341716407923506, 0.13236450994893095, 0.3362889846952801, 0.21477543453083067, 0.9647458495132891, 0.10415121196778425, 0.4095441397135766], [0.2552407836657189, 0.41693735695706147, 0.5129511417527259, 0.027569795440593764, 0.9341716407923506, 0.13236450994893095, 0.3362889846952801, 0.21477543453083067, 0.9647458495132891, 0.10415121196778425, 0.4095441397135766], [0.2552407836657189, 0.41693735695706147, 0.5129511417527259, 0.027569795440593764, 0.9341716407923506, 0.13236450994893095, 0.3362889846952801, 0.21477543453083067, 0.9647458495132891, 0.10415121196778425, 0.4095441397135766], [0.2552407836657189, 0.41693735695706147, 0.5129511417527259, 0.027569795440593764, 0.9341716407923506, 0.13236450994893095, 0.3362889846952801, 0.21477543453083067, 0.9647458495132891, 0.10415121196778425, 0.4095441397135766], [0.2552407836657189, 0.41693735695706147, 0.5129511417527259, 0.027569795440593764, 0.9341716407923506, 0.13236450994893095, 0.3362889846952801, 0.21477543453083067, 0.9647458495132891, 0.10415121196778425, 0.4095441397135766], [0.2552407836657189, 0.41693735695706147, 0.5129511417527259, 0.027569795440593764, 0.9341716407923506, 0.13236450994893095, 0.3362889846952801, 0.21477543453083067, 0.9647458495132891, 0.10415121196778425, 0.4095441397135766], [0.2552407836657189, 0.41693735695706147, 0.5129511417527259, 0.027569795440593764, 0.9341716407923506, 0.13236450994893095, 0.3362889846952801, 0.21477543453083067, 0.9647458495132891, 0.10415121196778425, 0.4095441397135766], [0.2552407836657189, 0.41693735695706147, 0.5129511417527259, 0.027569795440593764, 0.9341716407923506, 0.13236450994893095, 0.3362889846952801, 0.21477543453083067, 0.9647458495132891, 0.10415121196778425, 0.4095441397135766], [0.2552407836657189, 0.41693735695706147, 0.5129511417527259, 0.027569795440593764, 0.9341716407923506, 0.13236450994893095, 0.3362889846952801, 0.21477543453083067, 0.9647458495132891, 0.10415121196778425, 0.4095441397135766], [0.2552407836657189, 0.41693735695706147, 0.5129511417527259, 0.027569795440593764, 0.9341716407923506, 0.13236450994893095, 0.3362889846952801, 0.21477543453083067, 0.9647458495132891, 0.10415121196778425, 0.4095441397135766], [0.2552407836657189, 0.41693735695706147, 0.5129511417527259, 0.027569795440593764, 0.9341716407923506, 0.13236450994893095, 0.3362889846952801, 0.21477543453083067, 0.9647458495132891, 0.10415121196778425, 0.4095441397135766], [0.2552407836657189, 0.41693735695706147, 0.5129511417527259, 0.027569795440593764, 0.9341716407923506, 0.13236450994893095, 0.3362889846952801, 0.21477543453083067, 0.9647458495132891, 0.10415121196778425, 0.4095441397135766], [0.2552407836657189, 0.41693735695706147, 0.5129511417527259, 0.027569795440593764, 0.9341716407923506, 0.13236450994893095, 0.3362889846952801, 0.21477543453083067, 0.9647458495132891, 0.10415121196778425, 0.4095441397135766], [0.2552407836657189, 0.41693735695706147, 0.5129511417527259, 0.027569795440593764, 0.9341716407923506, 0.13236450994893095, 0.3362889846952801, 0.21477543453083067, 0.9647458495132891, 0.10415121196778425, 0.4095441397135766], [0.2552407836657189, 0.41693735695706147, 0.5129511417527259, 0.027569795440593764, 0.9341716407923506, 0.13236450994893095, 0.3362889846952801, 0.21477543453083067, 0.9647458495132891, 0.10415121196778425, 0.4095441397135766], [0.2552407836657189, 0.41693735695706147, 0.5129511417527259, 0.027569795440593764, 0.9341716407923506, 0.13236450994893095, 0.3362889846952801, 0.21477543453083067, 0.9647458495132891, 0.10415121196778425, 0.4095441397135766], [0.2552407836657189, 0.41693735695706147, 0.5129511417527259, 0.027569795440593764, 0.9341716407923506, 0.13236450994893095, 0.3362889846952801, 0.21477543453083067, 0.9647458495132891, 0.10415121196778425, 0.4095441397135766], [0.2552407836657189, 0.41693735695706147, 0.5129511417527259, 0.027569795440593764, 0.9341716407923506, 0.13236450994893095, 0.3362889846952801, 0.21477543453083067, 0.9647458495132891, 0.10415121196778425, 0.4095441397135766], [0.2552407836657189, 0.41693735695706147, 0.5129511417527259, 0.027569795440593764, 0.9341716407923506, 0.13236450994893095, 0.3362889846952801, 0.21477543453083067, 0.9647458495132891, 0.10415121196778425, 0.4095441397135766], [0.2552407836657189, 0.41693735695706147, 0.5129511417527259, 0.027569795440593764, 0.9341716407923506, 0.13236450994893095, 0.3362889846952801, 0.21477543453083067, 0.9647458495132891, 0.10415121196778425, 0.4095441397135766], [0.2552407836657189, 0.41693735695706147, 0.5129511417527259, 0.027569795440593764, 0.9341716407923506, 0.13236450994893095, 0.3362889846952801, 0.21477543453083067, 0.9647458495132891, 0.10415121196778425, 0.4095441397135766], [0.2552407836657189, 0.41693735695706147, 0.5129511417527259, 0.027569795440593764, 0.9341716407923506, 0.13236450994893095, 0.3362889846952801, 0.21477543453083067, 0.9647458495132891, 0.10415121196778425, 0.4095441397135766], [0.2552407836657189, 0.41693735695706147, 0.5129511417527259, 0.027569795440593764, 0.9341716407923506, 0.13236450994893095, 0.3362889846952801, 0.21477543453083067, 0.9647458495132891, 0.10415121196778425, 0.4095441397135766], [0.2552407836657189, 0.41693735695706147, 0.5129511417527259, 0.027569795440593764, 0.9341716407923506, 0.13236450994893095, 0.3362889846952801, 0.21477543453083067, 0.9647458495132891, 0.10415121196778425, 0.4095441397135766], [0.2552407836657189, 0.41693735695706147, 0.5129511417527259, 0.027569795440593764, 0.9341716407923506, 0.13236450994893095, 0.3362889846952801, 0.21477543453083067, 0.9647458495132891, 0.10415121196778425, 0.4095441397135766], [0.2552407836657189, 0.41693735695706147, 0.5129511417527259, 0.027569795440593764, 0.9341716407923506, 0.13236450994893095, 0.3362889846952801, 0.21477543453083067, 0.9647458495132891, 0.10415121196778425, 0.4095441397135766], [0.2552407836657189, 0.41693735695706147, 0.5129511417527259, 0.027569795440593764, 0.9341716407923506, 0.13236450994893095, 0.3362889846952801, 0.21477543453083067, 0.9647458495132891, 0.10415121196778425, 0.4095441397135766], [0.2552407836657189, 0.41693735695706147, 0.5129511417527259, 0.027569795440593764, 0.9341716407923506, 0.13236450994893095, 0.3362889846952801, 0.21477543453083067, 0.9647458495132891, 0.10415121196778425, 0.4095441397135766], [0.2552407836657189, 0.41693735695706147, 0.5129511417527259, 0.027569795440593764, 0.9341716407923506, 0.13236450994893095, 0.3362889846952801, 0.21477543453083067, 0.9647458495132891, 0.10415121196778425, 0.4095441397135766], [0.2552407836657189, 0.41693735695706147, 0.5129511417527259, 0.027569795440593764, 0.9341716407923506, 0.13236450994893095, 0.3362889846952801, 0.21477543453083067, 0.9647458495132891, 0.10415121196778425, 0.4095441397135766], [0.2552407836657189, 0.41693735695706147, 0.5129511417527259, 0.027569795440593764, 0.9341716407923506, 0.13236450994893095, 0.3362889846952801, 0.21477543453083067, 0.9647458495132891, 0.10415121196778425, 0.4095441397135766], [0.2552407836657189, 0.41693735695706147, 0.5129511417527259, 0.027569795440593764, 0.9341716407923506, 0.13236450994893095, 0.3362889846952801, 0.21477543453083067, 0.9647458495132891, 0.10415121196778425, 0.4095441397135766], [0.2552407836657189, 0.41693735695706147, 0.5129511417527259, 0.027569795440593764, 0.9341716407923506, 0.13236450994893095, 0.3362889846952801, 0.21477543453083067, 0.9647458495132891, 0.10415121196778425, 0.4095441397135766], [0.2552407836657189, 0.41693735695706147, 0.5129511417527259, 0.027569795440593764, 0.9341716407923506, 0.13236450994893095, 0.3362889846952801, 0.21477543453083067, 0.9647458495132891, 0.10415121196778425, 0.4095441397135766], [0.2552407836657189, 0.41693735695706147, 0.5129511417527259, 0.027569795440593764, 0.9341716407923506, 0.13236450994893095, 0.3362889846952801, 0.21477543453083067, 0.9647458495132891, 0.10415121196778425, 0.4095441397135766], [0.2552407836657189, 0.41693735695706147, 0.5129511417527259, 0.027569795440593764, 0.9341716407923506, 0.13236450994893095, 0.3362889846952801, 0.21477543453083067, 0.9647458495132891, 0.10415121196778425, 0.4095441397135766], [0.2552407836657189, 0.41693735695706147, 0.5129511417527259, 0.027569795440593764, 0.9341716407923506, 0.13236450994893095, 0.3362889846952801, 0.21477543453083067, 0.9647458495132891, 0.10415121196778425, 0.4095441397135766], [0.2552407836657189, 0.41693735695706147, 0.5129511417527259, 0.027569795440593764, 0.9341716407923506, 0.13236450994893095, 0.3362889846952801, 0.21477543453083067, 0.9647458495132891, 0.10415121196778425, 0.4095441397135766], [0.2552407836657189, 0.41693735695706147, 0.5129511417527259, 0.027569795440593764, 0.9341716407923506, 0.13236450994893095, 0.3362889846952801, 0.21477543453083067, 0.9647458495132891, 0.10415121196778425, 0.4095441397135766], [0.2552407836657189, 0.41693735695706147, 0.5129511417527259, 0.027569795440593764, 0.9341716407923506, 0.13236450994893095, 0.3362889846952801, 0.21477543453083067, 0.9647458495132891, 0.10415121196778425, 0.4095441397135766], [0.2552407836657189, 0.41693735695706147, 0.5129511417527259, 0.027569795440593764, 0.9341716407923506, 0.13236450994893095, 0.3362889846952801, 0.21477543453083067, 0.9647458495132891, 0.10415121196778425, 0.4095441397135766], [0.2552407836657189, 0.41693735695706147, 0.5129511417527259, 0.027569795440593764, 0.9341716407923506, 0.13236450994893095, 0.3362889846952801, 0.21477543453083067, 0.9647458495132891, 0.10415121196778425, 0.4095441397135766], [0.2552407836657189, 0.41693735695706147, 0.5129511417527259, 0.027569795440593764, 0.9341716407923506, 0.13236450994893095, 0.3362889846952801, 0.21477543453083067, 0.9647458495132891, 0.10415121196778425, 0.4095441397135766], [0.2552407836657189, 0.41693735695706147, 0.5129511417527259, 0.027569795440593764, 0.9341716407923506, 0.13236450994893095, 0.3362889846952801, 0.21477543453083067, 0.9647458495132891, 0.10415121196778425, 0.4095441397135766], [0.2552407836657189, 0.41693735695706147, 0.5129511417527259, 0.027569795440593764, 0.9341716407923506, 0.13236450994893095, 0.3362889846952801, 0.21477543453083067, 0.9647458495132891, 0.10415121196778425, 0.4095441397135766], [0.2552407836657189, 0.41693735695706147, 0.5129511417527259, 0.027569795440593764, 0.9341716407923506, 0.13236450994893095, 0.3362889846952801, 0.21477543453083067, 0.9647458495132891, 0.10415121196778425, 0.4095441397135766], [0.2552407836657189, 0.41693735695706147, 0.5129511417527259, 0.027569795440593764, 0.9341716407923506, 0.13236450994893095, 0.3362889846952801, 0.21477543453083067, 0.9647458495132891, 0.10415121196778425, 0.4095441397135766], [0.2552407836657189, 0.41693735695706147, 0.5129511417527259, 0.027569795440593764, 0.9341716407923506, 0.13236450994893095, 0.3362889846952801, 0.21477543453083067, 0.9647458495132891, 0.10415121196778425, 0.4095441397135766], [0.2552407836657189, 0.41693735695706147, 0.5129511417527259, 0.027569795440593764, 0.9341716407923506, 0.13236450994893095, 0.3362889846952801, 0.21477543453083067, 0.9647458495132891, 0.10415121196778425, 0.4095441397135766], [0.2552407836657189, 0.41693735695706147, 0.5129511417527259, 0.027569795440593764, 0.9341716407923506, 0.13236450994893095, 0.3362889846952801, 0.21477543453083067, 0.9647458495132891, 0.10415121196778425, 0.4095441397135766], [0.2552407836657189, 0.41693735695706147, 0.5129511417527259, 0.027569795440593764, 0.9341716407923506, 0.13236450994893095, 0.3362889846952801, 0.21477543453083067, 0.9647458495132891, 0.10415121196778425, 0.4095441397135766], [0.2552407836657189, 0.41693735695706147, 0.5129511417527259, 0.027569795440593764, 0.9341716407923506, 0.13236450994893095, 0.3362889846952801, 0.21477543453083067, 0.9647458495132891, 0.10415121196778425, 0.4095441397135766], [0.2552407836657189, 0.41693735695706147, 0.5129511417527259, 0.027569795440593764, 0.9341716407923506, 0.13236450994893095, 0.3362889846952801, 0.21477543453083067, 0.9647458495132891, 0.10415121196778425, 0.4095441397135766], [0.2552407836657189, 0.41693735695706147, 0.5129511417527259, 0.027569795440593764, 0.9341716407923506, 0.13236450994893095, 0.3362889846952801, 0.21477543453083067, 0.9647458495132891, 0.10415121196778425, 0.4095441397135766], [0.2552407836657189, 0.41693735695706147, 0.5129511417527259, 0.027569795440593764, 0.9341716407923506, 0.13236450994893095, 0.3362889846952801, 0.21477543453083067, 0.9647458495132891, 0.10415121196778425, 0.4095441397135766], [0.2552407836657189, 0.41693735695706147, 0.5129511417527259, 0.027569795440593764, 0.9341716407923506, 0.13236450994893095, 0.3362889846952801, 0.21477543453083067, 0.9647458495132891, 0.10415121196778425, 0.4095441397135766], [0.2552407836657189, 0.41693735695706147, 0.5129511417527259, 0.027569795440593764, 0.9341716407923506, 0.13236450994893095, 0.3362889846952801, 0.21477543453083067, 0.9647458495132891, 0.10415121196778425, 0.4095441397135766], [0.2552407836657189, 0.41693735695706147, 0.5129511417527259, 0.027569795440593764, 0.9341716407923506, 0.13236450994893095, 0.3362889846952801, 0.21477543453083067, 0.9647458495132891, 0.10415121196778425, 0.4095441397135766], [0.2552407836657189, 0.41693735695706147, 0.5129511417527259, 0.027569795440593764, 0.9341716407923506, 0.13236450994893095, 0.3362889846952801, 0.21477543453083067, 0.9647458495132891, 0.10415121196778425, 0.4095441397135766], [0.2552407836657189, 0.41693735695706147, 0.5129511417527259, 0.027569795440593764, 0.9341716407923506, 0.13236450994893095, 0.3362889846952801, 0.21477543453083067, 0.9647458495132891, 0.10415121196778425, 0.4095441397135766], [0.2552407836657189, 0.41693735695706147, 0.5129511417527259, 0.027569795440593764, 0.9341716407923506, 0.13236450994893095, 0.3362889846952801, 0.21477543453083067, 0.9647458495132891, 0.10415121196778425, 0.4095441397135766], [0.2552407836657189, 0.41693735695706147, 0.5129511417527259, 0.027569795440593764, 0.9341716407923506, 0.13236450994893095, 0.3362889846952801, 0.21477543453083067, 0.9647458495132891, 0.10415121196778425, 0.4095441397135766], [0.2552407836657189, 0.41693735695706147, 0.5129511417527259, 0.027569795440593764, 0.9341716407923506, 0.13236450994893095, 0.3362889846952801, 0.21477543453083067, 0.9647458495132891, 0.10415121196778425, 0.4095441397135766], [0.2552407836657189, 0.41693735695706147, 0.5129511417527259, 0.027569795440593764, 0.9341716407923506, 0.13236450994893095, 0.3362889846952801, 0.21477543453083067, 0.9647458495132891, 0.10415121196778425, 0.4095441397135766], [0.2552407836657189, 0.41693735695706147, 0.5129511417527259, 0.027569795440593764, 0.9341716407923506, 0.13236450994893095, 0.3362889846952801, 0.21477543453083067, 0.9647458495132891, 0.10415121196778425, 0.4095441397135766], [0.2552407836657189, 0.41693735695706147, 0.5129511417527259, 0.027569795440593764, 0.9341716407923506, 0.13236450994893095, 0.3362889846952801, 0.21477543453083067, 0.9647458495132891, 0.10415121196778425, 0.4095441397135766], [0.2552407836657189, 0.41693735695706147, 0.5129511417527259, 0.027569795440593764, 0.9341716407923506, 0.13236450994893095, 0.3362889846952801, 0.21477543453083067, 0.9647458495132891, 0.10415121196778425, 0.4095441397135766], [0.2552407836657189, 0.41693735695706147, 0.5129511417527259, 0.027569795440593764, 0.9341716407923506, 0.13236450994893095, 0.3362889846952801, 0.21477543453083067, 0.9647458495132891, 0.10415121196778425, 0.4095441397135766], [0.2552407836657189, 0.41693735695706147, 0.5129511417527259, 0.027569795440593764, 0.9341716407923506, 0.13236450994893095, 0.3362889846952801, 0.21477543453083067, 0.9647458495132891, 0.10415121196778425, 0.4095441397135766]]\n",
      "\n",
      "fitness =  0.6841685921440522\n",
      "\n",
      "randnum =  [0.2552407836657189, 0.41693735695706147, 0.5129511417527259, 0.027569795440593764, 0.9341716407923506, 0.13236450994893095, 0.3362889846952801, 0.21477543453083067, 0.9647458495132891, 0.10415121196778425, 0.4095441397135766]\n",
      "\n",
      "general =  [0.6698536637186944, 0.6698536637186944, 0.6698536637186944, 0.6739436432687965, 0.6739436432687965, 0.6739436432687965, 0.6739436432687965, 0.6800786125939501, 0.6800786125939501, 0.6800786125939501, 0.6800786125939501, 0.6800786125939501, 0.6800786125939501, 0.6800786125939501, 0.6821236023690012, 0.6821236023690012, 0.6821236023690012, 0.6821236023690012, 0.6821236023690012, 0.6821236023690012, 0.6821236023690012, 0.6821236023690012, 0.6821236023690012, 0.6821236023690012, 0.6821236023690012, 0.6821236023690012, 0.6821236023690012, 0.6821236023690012, 0.6821236023690012, 0.6821236023690012, 0.6841685921440522, 0.6841685921440522, 0.6841685921440522, 0.6841685921440522, 0.6841685921440522, 0.6841685921440522, 0.6841685921440522, 0.6841685921440522, 0.6841685921440522, 0.6841685921440522, 0.6841685921440522, 0.6841685921440522, 0.6841685921440522, 0.6841685921440522, 0.6841685921440522, 0.6841685921440522, 0.6841685921440522, 0.6841685921440522, 0.6841685921440522, 0.6841685921440522, 0.6841685921440522, 0.6841685921440522, 0.6841685921440522, 0.6841685921440522, 0.6841685921440522, 0.6841685921440522, 0.6841685921440522, 0.6841685921440522, 0.6841685921440522, 0.6841685921440522, 0.6841685921440522, 0.6841685921440522, 0.6841685921440522, 0.6841685921440522, 0.6841685921440522, 0.6841685921440522, 0.6841685921440522, 0.6841685921440522, 0.6841685921440522, 0.6841685921440522, 0.6841685921440522, 0.6841685921440522, 0.6841685921440522, 0.6841685921440522, 0.6841685921440522, 0.6841685921440522, 0.6841685921440522, 0.6841685921440522, 0.6841685921440522, 0.6841685921440522, 0.6841685921440522, 0.6841685921440522, 0.6841685921440522, 0.6841685921440522, 0.6841685921440522, 0.6841685921440522, 0.6841685921440522, 0.6841685921440522, 0.6841685921440522, 0.6841685921440522, 0.6841685921440522, 0.6841685921440522, 0.6841685921440522, 0.6841685921440522, 0.6841685921440522, 0.6841685921440522, 0.6841685921440522, 0.6841685921440522, 0.6841685921440522, 0.6841685921440522]\n",
      "\n"
     ]
    },
    {
     "data": {
      "image/png": "[encoded data removed]",
      "text/plain": [
       "<matplotlib.figure.Figure at 0x13f184a6cc0>"
      ]
     },
     "metadata": {},
     "output_type": "display_data"
    },
    {
     "name": "stdout",
     "output_type": "stream",
     "text": [
      "[0.2145641155065825, 0.6129321718160282, 0.5901796938991211, 0.6581676862302115, 0.1507739358296475, 0.8262711625316318, 0.8831222948020045, 0.9468389962972578, 0.06380747182829705, 0.4379664574331341, 0.8254448314705279]\n",
      "\n",
      "state =  [[0.2145641155065825, 0.5181873897581644, 0.6002018176360495, 0.6285040252702455, 0.1507739358296475, 0.8142125079082848, 0.8740920796696556, 1, 0.06380747182829705, 0.34217475077250736, 0.7682919290274414], [0.2145641155065825, 0.5181873897581644, 0.6002018176360495, 0.6285040252702455, 0.1507739358296475, 0.8142125079082848, 0.8740920796696556, 1, 0.06380747182829705, 0.34217475077250736, 0.7682919290274414], [0.2145641155065825, 0.5181873897581644, 0.6002018176360495, 0.6285040252702455, 0.1507739358296475, 0.8142125079082848, 0.8740920796696556, 1, 0.06380747182829705, 0.34217475077250736, 0.7682919290274414], [0.2145641155065825, 0.5181873897581644, 0.6002018176360495, 0.6285040252702455, 0.1507739358296475, 0.8142125079082848, 0.8740920796696556, 1, 0.06380747182829705, 0.34217475077250736, 0.7682919290274414], [0.2145641155065825, 0.5181873897581644, 0.6002018176360495, 0.6285040252702455, 0.1507739358296475, 0.8142125079082848, 0.8740920796696556, 1, 0.06380747182829705, 0.34217475077250736, 0.7682919290274414], [0.2145641155065825, 0.5181873897581644, 0.6002018176360495, 0.6285040252702455, 0.1507739358296475, 0.8142125079082848, 0.8740920796696556, 1, 0.06380747182829705, 0.34217475077250736, 0.7682919290274414], [0.2145641155065825, 0.5181873897581644, 0.6002018176360495, 0.6285040252702455, 0.1507739358296475, 0.8142125079082848, 0.8740920796696556, 1, 0.06380747182829705, 0.34217475077250736, 0.7682919290274414], [0.2145641155065825, 0.5181873897581644, 0.6002018176360495, 0.6285040252702455, 0.1507739358296475, 0.8142125079082848, 0.8740920796696556, 1, 0.06380747182829705, 0.34217475077250736, 0.7682919290274414], [0.2145641155065825, 0.5181873897581644, 0.6002018176360495, 0.6285040252702455, 0.1507739358296475, 0.8142125079082848, 0.8740920796696556, 1, 0.06380747182829705, 0.34217475077250736, 0.7682919290274414], [0.2145641155065825, 0.5181873897581644, 0.6002018176360495, 0.6285040252702455, 0.1507739358296475, 0.8142125079082848, 0.8740920796696556, 1, 0.06380747182829705, 0.34217475077250736, 0.7682919290274414], [0.2145641155065825, 0.5181873897581644, 0.6002018176360495, 0.6285040252702455, 0.1507739358296475, 0.8142125079082848, 0.8740920796696556, 1, 0.06380747182829705, 0.34217475077250736, 0.7682919290274414], [0.2145641155065825, 0.5181873897581644, 0.6002018176360495, 0.6285040252702455, 0.1507739358296475, 0.8142125079082848, 0.8740920796696556, 1, 0.06380747182829705, 0.34217475077250736, 0.7682919290274414], [0.2145641155065825, 0.5181873897581644, 0.6002018176360495, 0.6285040252702455, 0.1507739358296475, 0.8142125079082848, 0.8740920796696556, 1, 0.06380747182829705, 0.34217475077250736, 0.7682919290274414], [0.2145641155065825, 0.5181873897581644, 0.6002018176360495, 0.6285040252702455, 0.1507739358296475, 0.8142125079082848, 0.8740920796696556, 1, 0.06380747182829705, 0.34217475077250736, 0.7682919290274414], [0.2145641155065825, 0.5181873897581644, 0.6002018176360495, 0.6285040252702455, 0.1507739358296475, 0.8142125079082848, 0.8740920796696556, 1, 0.06380747182829705, 0.34217475077250736, 0.7682919290274414], [0.2145641155065825, 0.5181873897581644, 0.6002018176360495, 0.6285040252702455, 0.1507739358296475, 0.8142125079082848, 0.8740920796696556, 1, 0.06380747182829705, 0.34217475077250736, 0.7682919290274414], [0.2145641155065825, 0.5181873897581644, 0.6002018176360495, 0.6285040252702455, 0.1507739358296475, 0.8142125079082848, 0.8740920796696556, 1, 0.06380747182829705, 0.34217475077250736, 0.7682919290274414], [0.2145641155065825, 0.5181873897581644, 0.6002018176360495, 0.6285040252702455, 0.1507739358296475, 0.8142125079082848, 0.8740920796696556, 1, 0.06380747182829705, 0.34217475077250736, 0.7682919290274414], [0.2145641155065825, 0.5181873897581644, 0.6002018176360495, 0.6285040252702455, 0.1507739358296475, 0.8142125079082848, 0.8740920796696556, 1, 0.06380747182829705, 0.34217475077250736, 0.7682919290274414], [0.2145641155065825, 0.5181873897581644, 0.6002018176360495, 0.6285040252702455, 0.1507739358296475, 0.8142125079082848, 0.8740920796696556, 1, 0.06380747182829705, 0.34217475077250736, 0.7682919290274414], [0.2145641155065825, 0.5181873897581644, 0.6002018176360495, 0.6285040252702455, 0.1507739358296475, 0.8142125079082848, 0.8740920796696556, 1, 0.06380747182829705, 0.34217475077250736, 0.7682919290274414], [0.2145641155065825, 0.5181873897581644, 0.6002018176360495, 0.6285040252702455, 0.1507739358296475, 0.8142125079082848, 0.8740920796696556, 1, 0.06380747182829705, 0.34217475077250736, 0.7682919290274414], [0.2145641155065825, 0.5181873897581644, 0.6002018176360495, 0.6285040252702455, 0.1507739358296475, 0.8142125079082848, 0.8740920796696556, 1, 0.06380747182829705, 0.34217475077250736, 0.7682919290274414], [0.2145641155065825, 0.5181873897581644, 0.6002018176360495, 0.6285040252702455, 0.1507739358296475, 0.8142125079082848, 0.8740920796696556, 1, 0.06380747182829705, 0.34217475077250736, 0.7682919290274414], [0.2145641155065825, 0.5181873897581644, 0.6002018176360495, 0.6285040252702455, 0.1507739358296475, 0.8142125079082848, 0.8740920796696556, 1, 0.06380747182829705, 0.34217475077250736, 0.7682919290274414], [0.2145641155065825, 0.5181873897581644, 0.6002018176360495, 0.6285040252702455, 0.1507739358296475, 0.8142125079082848, 0.8740920796696556, 1, 0.06380747182829705, 0.34217475077250736, 0.7682919290274414], [0.2145641155065825, 0.5181873897581644, 0.6002018176360495, 0.6285040252702455, 0.1507739358296475, 0.8142125079082848, 0.8740920796696556, 1, 0.06380747182829705, 0.34217475077250736, 0.7682919290274414], [0.2145641155065825, 0.5181873897581644, 0.6002018176360495, 0.6285040252702455, 0.1507739358296475, 0.8142125079082848, 0.8740920796696556, 1, 0.06380747182829705, 0.34217475077250736, 0.7682919290274414], [0.2145641155065825, 0.5181873897581644, 0.6002018176360495, 0.6285040252702455, 0.1507739358296475, 0.8142125079082848, 0.8740920796696556, 1, 0.06380747182829705, 0.34217475077250736, 0.7682919290274414], [0.2145641155065825, 0.5181873897581644, 0.6002018176360495, 0.6285040252702455, 0.1507739358296475, 0.8142125079082848, 0.8740920796696556, 1, 0.06380747182829705, 0.34217475077250736, 0.7682919290274414], [0.2145641155065825, 0.5181873897581644, 0.6002018176360495, 0.6285040252702455, 0.1507739358296475, 0.8142125079082848, 0.8740920796696556, 1, 0.06380747182829705, 0.34217475077250736, 0.7682919290274414], [0.2145641155065825, 0.5181873897581644, 0.6002018176360495, 0.6285040252702455, 0.1507739358296475, 0.8142125079082848, 0.8740920796696556, 1, 0.06380747182829705, 0.34217475077250736, 0.7682919290274414], [0.2145641155065825, 0.5181873897581644, 0.6002018176360495, 0.6285040252702455, 0.1507739358296475, 0.8142125079082848, 0.8740920796696556, 1, 0.06380747182829705, 0.34217475077250736, 0.7682919290274414], [0.2145641155065825, 0.5181873897581644, 0.6002018176360495, 0.6285040252702455, 0.1507739358296475, 0.8142125079082848, 0.8740920796696556, 1, 0.06380747182829705, 0.34217475077250736, 0.7682919290274414], [0.2145641155065825, 0.5181873897581644, 0.6002018176360495, 0.6285040252702455, 0.1507739358296475, 0.8142125079082848, 0.8740920796696556, 1, 0.06380747182829705, 0.34217475077250736, 0.7682919290274414], [0.2145641155065825, 0.5181873897581644, 0.6002018176360495, 0.6285040252702455, 0.1507739358296475, 0.8142125079082848, 0.8740920796696556, 1, 0.06380747182829705, 0.34217475077250736, 0.7682919290274414], [0.2145641155065825, 0.5181873897581644, 0.6002018176360495, 0.6285040252702455, 0.1507739358296475, 0.8142125079082848, 0.8740920796696556, 1, 0.06380747182829705, 0.34217475077250736, 0.7682919290274414], [0.2145641155065825, 0.5181873897581644, 0.6002018176360495, 0.6285040252702455, 0.1507739358296475, 0.8142125079082848, 0.8740920796696556, 1, 0.06380747182829705, 0.34217475077250736, 0.7682919290274414], [0.2145641155065825, 0.5181873897581644, 0.6002018176360495, 0.6285040252702455, 0.1507739358296475, 0.8142125079082848, 0.8740920796696556, 1, 0.06380747182829705, 0.34217475077250736, 0.7682919290274414], [0.2145641155065825, 0.5181873897581644, 0.6002018176360495, 0.6285040252702455, 0.1507739358296475, 0.8142125079082848, 0.8740920796696556, 1, 0.06380747182829705, 0.34217475077250736, 0.7682919290274414], [0.2145641155065825, 0.5181873897581644, 0.6002018176360495, 0.6285040252702455, 0.1507739358296475, 0.8142125079082848, 0.8740920796696556, 1, 0.06380747182829705, 0.34217475077250736, 0.7682919290274414], [0.2145641155065825, 0.5181873897581644, 0.6002018176360495, 0.6285040252702455, 0.1507739358296475, 0.8142125079082848, 0.8740920796696556, 1, 0.06380747182829705, 0.34217475077250736, 0.7682919290274414], [0.2145641155065825, 0.5181873897581644, 0.6002018176360495, 0.6285040252702455, 0.1507739358296475, 0.8142125079082848, 0.8740920796696556, 1, 0.06380747182829705, 0.34217475077250736, 0.7682919290274414], [0.2145641155065825, 0.5181873897581644, 0.6002018176360495, 0.6285040252702455, 0.1507739358296475, 0.8142125079082848, 0.8740920796696556, 1, 0.06380747182829705, 0.34217475077250736, 0.7682919290274414], [0.2145641155065825, 0.5181873897581644, 0.6002018176360495, 0.6285040252702455, 0.1507739358296475, 0.8142125079082848, 0.8740920796696556, 1, 0.06380747182829705, 0.34217475077250736, 0.7682919290274414], [0.2145641155065825, 0.5181873897581644, 0.6002018176360495, 0.6285040252702455, 0.1507739358296475, 0.8142125079082848, 0.8740920796696556, 1, 0.06380747182829705, 0.34217475077250736, 0.7682919290274414], [0.2145641155065825, 0.5181873897581644, 0.6002018176360495, 0.6285040252702455, 0.1507739358296475, 0.8142125079082848, 0.8740920796696556, 1, 0.06380747182829705, 0.34217475077250736, 0.7682919290274414], [0.2145641155065825, 0.5181873897581644, 0.6002018176360495, 0.6285040252702455, 0.1507739358296475, 0.8142125079082848, 0.8740920796696556, 1, 0.06380747182829705, 0.34217475077250736, 0.7682919290274414], [0.2145641155065825, 0.5181873897581644, 0.6002018176360495, 0.6285040252702455, 0.1507739358296475, 0.8142125079082848, 0.8740920796696556, 1, 0.06380747182829705, 0.34217475077250736, 0.7682919290274414], [0.2145641155065825, 0.5181873897581644, 0.6002018176360495, 0.6285040252702455, 0.1507739358296475, 0.8142125079082848, 0.8740920796696556, 1, 0.06380747182829705, 0.34217475077250736, 0.7682919290274414], [0.2145641155065825, 0.5181873897581644, 0.6002018176360495, 0.6285040252702455, 0.1507739358296475, 0.8142125079082848, 0.8740920796696556, 1, 0.06380747182829705, 0.34217475077250736, 0.7682919290274414], [0.2145641155065825, 0.5181873897581644, 0.6002018176360495, 0.6285040252702455, 0.1507739358296475, 0.8142125079082848, 0.8740920796696556, 1, 0.06380747182829705, 0.34217475077250736, 0.7682919290274414], [0.2145641155065825, 0.5181873897581644, 0.6002018176360495, 0.6285040252702455, 0.1507739358296475, 0.8142125079082848, 0.8740920796696556, 1, 0.06380747182829705, 0.34217475077250736, 0.7682919290274414], [0.2145641155065825, 0.5181873897581644, 0.6002018176360495, 0.6285040252702455, 0.1507739358296475, 0.8142125079082848, 0.8740920796696556, 1, 0.06380747182829705, 0.34217475077250736, 0.7682919290274414], [0.2145641155065825, 0.5181873897581644, 0.6002018176360495, 0.6285040252702455, 0.1507739358296475, 0.8142125079082848, 0.8740920796696556, 1, 0.06380747182829705, 0.34217475077250736, 0.7682919290274414], [0.2145641155065825, 0.5181873897581644, 0.6002018176360495, 0.6285040252702455, 0.1507739358296475, 0.8142125079082848, 0.8740920796696556, 1, 0.06380747182829705, 0.34217475077250736, 0.7682919290274414], [0.2145641155065825, 0.5181873897581644, 0.6002018176360495, 0.6285040252702455, 0.1507739358296475, 0.8142125079082848, 0.8740920796696556, 1, 0.06380747182829705, 0.34217475077250736, 0.7682919290274414], [0.2145641155065825, 0.5181873897581644, 0.6002018176360495, 0.6285040252702455, 0.1507739358296475, 0.8142125079082848, 0.8740920796696556, 1, 0.06380747182829705, 0.34217475077250736, 0.7682919290274414], [0.2145641155065825, 0.5181873897581644, 0.6002018176360495, 0.6285040252702455, 0.1507739358296475, 0.8142125079082848, 0.8740920796696556, 1, 0.06380747182829705, 0.34217475077250736, 0.7682919290274414], [0.2145641155065825, 0.5181873897581644, 0.6002018176360495, 0.6285040252702455, 0.1507739358296475, 0.8142125079082848, 0.8740920796696556, 1, 0.06380747182829705, 0.34217475077250736, 0.7682919290274414], [0.2145641155065825, 0.5181873897581644, 0.6002018176360495, 0.6285040252702455, 0.1507739358296475, 0.8142125079082848, 0.8740920796696556, 1, 0.06380747182829705, 0.34217475077250736, 0.7682919290274414], [0.2145641155065825, 0.5181873897581644, 0.6002018176360495, 0.6285040252702455, 0.1507739358296475, 0.8142125079082848, 0.8740920796696556, 1, 0.06380747182829705, 0.34217475077250736, 0.7682919290274414], [0.2145641155065825, 0.5181873897581644, 0.6002018176360495, 0.6285040252702455, 0.1507739358296475, 0.8142125079082848, 0.8740920796696556, 1, 0.06380747182829705, 0.34217475077250736, 0.7682919290274414], [0.2145641155065825, 0.5181873897581644, 0.6002018176360495, 0.6285040252702455, 0.1507739358296475, 0.8142125079082848, 0.8740920796696556, 1, 0.06380747182829705, 0.34217475077250736, 0.7682919290274414], [0.2145641155065825, 0.5181873897581644, 0.6002018176360495, 0.6285040252702455, 0.1507739358296475, 0.8142125079082848, 0.8740920796696556, 1, 0.06380747182829705, 0.34217475077250736, 0.7682919290274414], [0.2145641155065825, 0.5181873897581644, 0.6002018176360495, 0.6285040252702455, 0.1507739358296475, 0.8142125079082848, 0.8740920796696556, 1, 0.06380747182829705, 0.34217475077250736, 0.7682919290274414], [0.2145641155065825, 0.5181873897581644, 0.6002018176360495, 0.6285040252702455, 0.1507739358296475, 0.8142125079082848, 0.8740920796696556, 1, 0.06380747182829705, 0.34217475077250736, 0.7682919290274414], [0.2145641155065825, 0.5181873897581644, 0.6002018176360495, 0.6285040252702455, 0.1507739358296475, 0.8142125079082848, 0.8740920796696556, 1, 0.06380747182829705, 0.34217475077250736, 0.7682919290274414], [0.2145641155065825, 0.5181873897581644, 0.6002018176360495, 0.6285040252702455, 0.1507739358296475, 0.8142125079082848, 0.8740920796696556, 1, 0.06380747182829705, 0.34217475077250736, 0.7682919290274414], [0.2145641155065825, 0.5181873897581644, 0.6002018176360495, 0.6285040252702455, 0.1507739358296475, 0.8142125079082848, 0.8740920796696556, 1, 0.06380747182829705, 0.34217475077250736, 0.7682919290274414], [0.2145641155065825, 0.5181873897581644, 0.6002018176360495, 0.6285040252702455, 0.1507739358296475, 0.8142125079082848, 0.8740920796696556, 1, 0.06380747182829705, 0.34217475077250736, 0.7682919290274414], [0.2145641155065825, 0.5181873897581644, 0.6002018176360495, 0.6285040252702455, 0.1507739358296475, 0.8142125079082848, 0.8740920796696556, 1, 0.06380747182829705, 0.34217475077250736, 0.7682919290274414], [0.2145641155065825, 0.5181873897581644, 0.6002018176360495, 0.6285040252702455, 0.1507739358296475, 0.8142125079082848, 0.8740920796696556, 1, 0.06380747182829705, 0.34217475077250736, 0.7682919290274414], [0.2145641155065825, 0.5181873897581644, 0.6002018176360495, 0.6285040252702455, 0.1507739358296475, 0.8142125079082848, 0.8740920796696556, 1, 0.06380747182829705, 0.34217475077250736, 0.7682919290274414], [0.2145641155065825, 0.5181873897581644, 0.6002018176360495, 0.6285040252702455, 0.1507739358296475, 0.8142125079082848, 0.8740920796696556, 1, 0.06380747182829705, 0.34217475077250736, 0.7682919290274414], [0.2145641155065825, 0.5181873897581644, 0.6002018176360495, 0.6285040252702455, 0.1507739358296475, 0.8142125079082848, 0.8740920796696556, 1, 0.06380747182829705, 0.34217475077250736, 0.7682919290274414], [0.2145641155065825, 0.5181873897581644, 0.6002018176360495, 0.6285040252702455, 0.1507739358296475, 0.8142125079082848, 0.8740920796696556, 1, 0.06380747182829705, 0.34217475077250736, 0.7682919290274414], [0.2145641155065825, 0.5181873897581644, 0.6002018176360495, 0.6285040252702455, 0.1507739358296475, 0.8142125079082848, 0.8740920796696556, 1, 0.06380747182829705, 0.34217475077250736, 0.7682919290274414], [0.2145641155065825, 0.5181873897581644, 0.6002018176360495, 0.6285040252702455, 0.1507739358296475, 0.8142125079082848, 0.8740920796696556, 1, 0.06380747182829705, 0.34217475077250736, 0.7682919290274414], [0.2145641155065825, 0.5181873897581644, 0.6002018176360495, 0.6285040252702455, 0.1507739358296475, 0.8142125079082848, 0.8740920796696556, 1, 0.06380747182829705, 0.34217475077250736, 0.7682919290274414], [0.2145641155065825, 0.5181873897581644, 0.6002018176360495, 0.6285040252702455, 0.1507739358296475, 0.8142125079082848, 0.8740920796696556, 1, 0.06380747182829705, 0.34217475077250736, 0.7682919290274414], [0.2145641155065825, 0.5181873897581644, 0.6002018176360495, 0.6285040252702455, 0.1507739358296475, 0.8142125079082848, 0.8740920796696556, 1, 0.06380747182829705, 0.34217475077250736, 0.7682919290274414], [0.2145641155065825, 0.5181873897581644, 0.6002018176360495, 0.6285040252702455, 0.1507739358296475, 0.8142125079082848, 0.8740920796696556, 1, 0.06380747182829705, 0.34217475077250736, 0.7682919290274414], [0.2145641155065825, 0.5181873897581644, 0.6002018176360495, 0.6285040252702455, 0.1507739358296475, 0.8142125079082848, 0.8740920796696556, 1, 0.06380747182829705, 0.34217475077250736, 0.7682919290274414], [0.2145641155065825, 0.5181873897581644, 0.6002018176360495, 0.6285040252702455, 0.1507739358296475, 0.8142125079082848, 0.8740920796696556, 1, 0.06380747182829705, 0.34217475077250736, 0.7682919290274414], [0.2145641155065825, 0.5181873897581644, 0.6002018176360495, 0.6285040252702455, 0.1507739358296475, 0.8142125079082848, 0.8740920796696556, 1, 0.06380747182829705, 0.34217475077250736, 0.7682919290274414], [0.2145641155065825, 0.5181873897581644, 0.6002018176360495, 0.6285040252702455, 0.1507739358296475, 0.8142125079082848, 0.8740920796696556, 1, 0.06380747182829705, 0.34217475077250736, 0.7682919290274414], [0.2145641155065825, 0.5181873897581644, 0.6002018176360495, 0.6285040252702455, 0.1507739358296475, 0.8142125079082848, 0.8740920796696556, 1, 0.06380747182829705, 0.34217475077250736, 0.7682919290274414], [0.2145641155065825, 0.5181873897581644, 0.6002018176360495, 0.6285040252702455, 0.1507739358296475, 0.8142125079082848, 0.8740920796696556, 1, 0.06380747182829705, 0.34217475077250736, 0.7682919290274414], [0.2145641155065825, 0.5181873897581644, 0.6002018176360495, 0.6285040252702455, 0.1507739358296475, 0.8142125079082848, 0.8740920796696556, 1, 0.06380747182829705, 0.34217475077250736, 0.7682919290274414], [0.2145641155065825, 0.5181873897581644, 0.6002018176360495, 0.6285040252702455, 0.1507739358296475, 0.8142125079082848, 0.8740920796696556, 1, 0.06380747182829705, 0.34217475077250736, 0.7682919290274414], [0.2145641155065825, 0.5181873897581644, 0.6002018176360495, 0.6285040252702455, 0.1507739358296475, 0.8142125079082848, 0.8740920796696556, 1, 0.06380747182829705, 0.34217475077250736, 0.7682919290274414], [0.2145641155065825, 0.5181873897581644, 0.6002018176360495, 0.6285040252702455, 0.1507739358296475, 0.8142125079082848, 0.8740920796696556, 1, 0.06380747182829705, 0.34217475077250736, 0.7682919290274414], [0.2145641155065825, 0.5181873897581644, 0.6002018176360495, 0.6285040252702455, 0.1507739358296475, 0.8142125079082848, 0.8740920796696556, 1, 0.06380747182829705, 0.34217475077250736, 0.7682919290274414], [0.2145641155065825, 0.5181873897581644, 0.6002018176360495, 0.6285040252702455, 0.1507739358296475, 0.8142125079082848, 0.8740920796696556, 1, 0.06380747182829705, 0.34217475077250736, 0.7682919290274414], [0.2145641155065825, 0.5181873897581644, 0.6002018176360495, 0.6285040252702455, 0.1507739358296475, 0.8142125079082848, 0.8740920796696556, 1, 0.06380747182829705, 0.34217475077250736, 0.7682919290274414], [0.2145641155065825, 0.5181873897581644, 0.6002018176360495, 0.6285040252702455, 0.1507739358296475, 0.8142125079082848, 0.8740920796696556, 1, 0.06380747182829705, 0.34217475077250736, 0.7682919290274414], [0.2145641155065825, 0.5181873897581644, 0.6002018176360495, 0.6285040252702455, 0.1507739358296475, 0.8142125079082848, 0.8740920796696556, 1, 0.06380747182829705, 0.34217475077250736, 0.7682919290274414], [0.2145641155065825, 0.5181873897581644, 0.6002018176360495, 0.6285040252702455, 0.1507739358296475, 0.8142125079082848, 0.8740920796696556, 1, 0.06380747182829705, 0.34217475077250736, 0.7682919290274414], [0.2145641155065825, 0.5181873897581644, 0.6002018176360495, 0.6285040252702455, 0.1507739358296475, 0.8142125079082848, 0.8740920796696556, 1, 0.06380747182829705, 0.34217475077250736, 0.7682919290274414]]\n",
      "\n",
      "fitness =  0.6862135819191034\n",
      "\n",
      "randnum =  [0.2145641155065825, 0.5181873897581644, 0.6002018176360495, 0.6285040252702455, 0.1507739358296475, 0.8142125079082848, 0.8740920796696556, 1, 0.06380747182829705, 0.34217475077250736, 0.7682919290274414]\n",
      "\n",
      "general =  [0.6821236023690012, 0.6841685921440522, 0.6841685921440522, 0.6841685921440522, 0.6841685921440522, 0.6841685921440522, 0.6862135819191034, 0.6862135819191034, 0.6862135819191034, 0.6862135819191034, 0.6862135819191034, 0.6862135819191034, 0.6862135819191034, 0.6862135819191034, 0.6862135819191034, 0.6862135819191034, 0.6862135819191034, 0.6862135819191034, 0.6862135819191034, 0.6862135819191034, 0.6862135819191034, 0.6862135819191034, 0.6862135819191034, 0.6862135819191034, 0.6882585716941545, 0.6882585716941545, 0.6882585716941545, 0.6882585716941545, 0.6882585716941545, 0.6882585716941545, 0.6882585716941545, 0.6882585716941545, 0.6882585716941545, 0.6882585716941545, 0.6882585716941545, 0.6882585716941545, 0.6882585716941545, 0.6882585716941545, 0.6882585716941545, 0.6882585716941545, 0.6882585716941545, 0.6882585716941545, 0.6882585716941545, 0.6882585716941545, 0.6882585716941545, 0.6882585716941545, 0.6882585716941545, 0.6882585716941545, 0.6882585716941545, 0.6882585716941545, 0.6882585716941545, 0.6882585716941545, 0.6882585716941545, 0.6882585716941545, 0.6882585716941545, 0.6882585716941545, 0.6882585716941545, 0.6882585716941545, 0.6882585716941545, 0.6882585716941545, 0.6882585716941545, 0.6882585716941545, 0.6882585716941545, 0.6882585716941545, 0.6882585716941545, 0.6882585716941545, 0.6882585716941545, 0.6882585716941545, 0.6882585716941545, 0.6882585716941545, 0.6882585716941545, 0.6882585716941545, 0.6882585716941545, 0.6882585716941545, 0.6882585716941545, 0.6882585716941545, 0.6882585716941545, 0.6882585716941545, 0.6882585716941545, 0.6882585716941545, 0.6882585716941545, 0.6882585716941545, 0.6882585716941545, 0.6882585716941545, 0.6882585716941545, 0.6882585716941545, 0.6882585716941545, 0.6882585716941545, 0.6882585716941545, 0.6882585716941545, 0.6882585716941545, 0.6882585716941545, 0.6882585716941545, 0.6882585716941545, 0.6882585716941545, 0.6882585716941545, 0.6882585716941545, 0.6882585716941545, 0.6882585716941545, 0.6882585716941545]\n",
      "\n"
     ]
    },
    {
     "data": {
      "image/png": "[encoded data removed]",
      "text/plain": [
       "<matplotlib.figure.Figure at 0x13f18576128>"
      ]
     },
     "metadata": {},
     "output_type": "display_data"
    },
    {
     "name": "stdout",
     "output_type": "stream",
     "text": [
      "[0.9979996938395922, 0.26712361823237984, 0.9568764479844641, 0.40292721187445046, 0.5590597986823392, 0.9971850933204383, 0.5727709021457783, 0.8512874806448641, 0.5274107160339137, 0.9796189495733255, 0.8511166561683496]\n",
      "\n",
      "state =  [[0.9613475222948901, 0, 0.8823368013340208, 0.4398911098208582, 0.4789537351552117, 0.831915188462022, 0.9124335330310608, 0.925578456883849, 0.5947114802096223, 1, 1], [0.9613475222948901, 0, 0.8823368013340208, 0.4398911098208582, 0.4789537351552117, 0.831915188462022, 0.9124335330310608, 0.925578456883849, 0.5947114802096223, 1, 1], [0.9613475222948901, 0, 0.8823368013340208, 0.4398911098208582, 0.4789537351552117, 0.831915188462022, 0.9124335330310608, 0.925578456883849, 0.5947114802096223, 1, 1], [0.9613475222948901, 0, 0.8823368013340208, 0.4398911098208582, 0.4789537351552117, 0.831915188462022, 0.9124335330310608, 0.925578456883849, 0.5947114802096223, 1, 1], [0.9613475222948901, 0, 0.8823368013340208, 0.4398911098208582, 0.4789537351552117, 0.831915188462022, 0.9124335330310608, 0.925578456883849, 0.5947114802096223, 1, 1], [0.9613475222948901, 0, 0.8823368013340208, 0.4398911098208582, 0.4789537351552117, 0.831915188462022, 0.9124335330310608, 0.925578456883849, 0.5947114802096223, 1, 1], [0.9613475222948901, 0, 0.8823368013340208, 0.4398911098208582, 0.4789537351552117, 0.831915188462022, 0.9124335330310608, 0.925578456883849, 0.5947114802096223, 1, 1], [0.9613475222948901, 0, 0.8823368013340208, 0.4398911098208582, 0.4789537351552117, 0.831915188462022, 0.9124335330310608, 0.925578456883849, 0.5947114802096223, 1, 1], [0.9613475222948901, 0, 0.8823368013340208, 0.4398911098208582, 0.4789537351552117, 0.831915188462022, 0.9124335330310608, 0.925578456883849, 0.5947114802096223, 1, 1], [0.9613475222948901, 0, 0.8823368013340208, 0.4398911098208582, 0.4789537351552117, 0.831915188462022, 0.9124335330310608, 0.925578456883849, 0.5947114802096223, 1, 1], [0.9613475222948901, 0, 0.8823368013340208, 0.4398911098208582, 0.4789537351552117, 0.831915188462022, 0.9124335330310608, 0.925578456883849, 0.5947114802096223, 1, 1], [0.9613475222948901, 0, 0.8823368013340208, 0.4398911098208582, 0.4789537351552117, 0.831915188462022, 0.9124335330310608, 0.925578456883849, 0.5947114802096223, 1, 1], [0.9613475222948901, 0, 0.8823368013340208, 0.4398911098208582, 0.4789537351552117, 0.831915188462022, 0.9124335330310608, 0.925578456883849, 0.5947114802096223, 1, 1], [0.9613475222948901, 0, 0.8823368013340208, 0.4398911098208582, 0.4789537351552117, 0.831915188462022, 0.9124335330310608, 0.925578456883849, 0.5947114802096223, 1, 1], [0.9613475222948901, 0, 0.8823368013340208, 0.4398911098208582, 0.4789537351552117, 0.831915188462022, 0.9124335330310608, 0.925578456883849, 0.5947114802096223, 1, 1], [0.9613475222948901, 0, 0.8823368013340208, 0.4398911098208582, 0.4789537351552117, 0.831915188462022, 0.9124335330310608, 0.925578456883849, 0.5947114802096223, 1, 1], [0.9613475222948901, 0, 0.8823368013340208, 0.4398911098208582, 0.4789537351552117, 0.831915188462022, 0.9124335330310608, 0.925578456883849, 0.5947114802096223, 1, 1], [0.9613475222948901, 0, 0.8823368013340208, 0.4398911098208582, 0.4789537351552117, 0.831915188462022, 0.9124335330310608, 0.925578456883849, 0.5947114802096223, 1, 1], [0.9613475222948901, 0, 0.8823368013340208, 0.4398911098208582, 0.4789537351552117, 0.831915188462022, 0.9124335330310608, 0.925578456883849, 0.5947114802096223, 1, 1], [0.9613475222948901, 0, 0.8823368013340208, 0.4398911098208582, 0.4789537351552117, 0.831915188462022, 0.9124335330310608, 0.925578456883849, 0.5947114802096223, 1, 1], [0.9613475222948901, 0, 0.8823368013340208, 0.4398911098208582, 0.4789537351552117, 0.831915188462022, 0.9124335330310608, 0.925578456883849, 0.5947114802096223, 1, 1], [0.9613475222948901, 0, 0.8823368013340208, 0.4398911098208582, 0.4789537351552117, 0.831915188462022, 0.9124335330310608, 0.925578456883849, 0.5947114802096223, 1, 1], [0.9613475222948901, 0, 0.8823368013340208, 0.4398911098208582, 0.4789537351552117, 0.831915188462022, 0.9124335330310608, 0.925578456883849, 0.5947114802096223, 1, 1], [0.9613475222948901, 0, 0.8823368013340208, 0.4398911098208582, 0.4789537351552117, 0.831915188462022, 0.9124335330310608, 0.925578456883849, 0.5947114802096223, 1, 1], [0.9613475222948901, 0, 0.8823368013340208, 0.4398911098208582, 0.4789537351552117, 0.831915188462022, 0.9124335330310608, 0.925578456883849, 0.5947114802096223, 1, 1], [0.9613475222948901, 0, 0.8823368013340208, 0.4398911098208582, 0.4789537351552117, 0.831915188462022, 0.9124335330310608, 0.925578456883849, 0.5947114802096223, 1, 1], [0.9613475222948901, 0, 0.8823368013340208, 0.4398911098208582, 0.4789537351552117, 0.831915188462022, 0.9124335330310608, 0.925578456883849, 0.5947114802096223, 1, 1], [0.9613475222948901, 0, 0.8823368013340208, 0.4398911098208582, 0.4789537351552117, 0.831915188462022, 0.9124335330310608, 0.925578456883849, 0.5947114802096223, 1, 1], [0.9613475222948901, 0, 0.8823368013340208, 0.4398911098208582, 0.4789537351552117, 0.831915188462022, 0.9124335330310608, 0.925578456883849, 0.5947114802096223, 1, 1], [0.9613475222948901, 0, 0.8823368013340208, 0.4398911098208582, 0.4789537351552117, 0.831915188462022, 0.9124335330310608, 0.925578456883849, 0.5947114802096223, 1, 1], [0.9613475222948901, 0, 0.8823368013340208, 0.4398911098208582, 0.4789537351552117, 0.831915188462022, 0.9124335330310608, 0.925578456883849, 0.5947114802096223, 1, 1], [0.9613475222948901, 0, 0.8823368013340208, 0.4398911098208582, 0.4789537351552117, 0.831915188462022, 0.9124335330310608, 0.925578456883849, 0.5947114802096223, 1, 1], [0.9613475222948901, 0, 0.8823368013340208, 0.4398911098208582, 0.4789537351552117, 0.831915188462022, 0.9124335330310608, 0.925578456883849, 0.5947114802096223, 1, 1], [0.9613475222948901, 0, 0.8823368013340208, 0.4398911098208582, 0.4789537351552117, 0.831915188462022, 0.9124335330310608, 0.925578456883849, 0.5947114802096223, 1, 1], [0.9613475222948901, 0, 0.8823368013340208, 0.4398911098208582, 0.4789537351552117, 0.831915188462022, 0.9124335330310608, 0.925578456883849, 0.5947114802096223, 1, 1], [0.9613475222948901, 0, 0.8823368013340208, 0.4398911098208582, 0.4789537351552117, 0.831915188462022, 0.9124335330310608, 0.925578456883849, 0.5947114802096223, 1, 1], [0.9613475222948901, 0, 0.8823368013340208, 0.4398911098208582, 0.4789537351552117, 0.831915188462022, 0.9124335330310608, 0.925578456883849, 0.5947114802096223, 1, 1], [0.9613475222948901, 0, 0.8823368013340208, 0.4398911098208582, 0.4789537351552117, 0.831915188462022, 0.9124335330310608, 0.925578456883849, 0.5947114802096223, 1, 1], [0.9613475222948901, 0, 0.8823368013340208, 0.4398911098208582, 0.4789537351552117, 0.831915188462022, 0.9124335330310608, 0.925578456883849, 0.5947114802096223, 1, 1], [0.9613475222948901, 0, 0.8823368013340208, 0.4398911098208582, 0.4789537351552117, 0.831915188462022, 0.9124335330310608, 0.925578456883849, 0.5947114802096223, 1, 1], [0.9613475222948901, 0, 0.8823368013340208, 0.4398911098208582, 0.4789537351552117, 0.831915188462022, 0.9124335330310608, 0.925578456883849, 0.5947114802096223, 1, 1], [0.9613475222948901, 0, 0.8823368013340208, 0.4398911098208582, 0.4789537351552117, 0.831915188462022, 0.9124335330310608, 0.925578456883849, 0.5947114802096223, 1, 1], [0.9613475222948901, 0, 0.8823368013340208, 0.4398911098208582, 0.4789537351552117, 0.831915188462022, 0.9124335330310608, 0.925578456883849, 0.5947114802096223, 1, 1], [0.9613475222948901, 0, 0.8823368013340208, 0.4398911098208582, 0.4789537351552117, 0.831915188462022, 0.9124335330310608, 0.925578456883849, 0.5947114802096223, 1, 1], [0.9613475222948901, 0, 0.8823368013340208, 0.4398911098208582, 0.4789537351552117, 0.831915188462022, 0.9124335330310608, 0.925578456883849, 0.5947114802096223, 1, 1], [0.9613475222948901, 0, 0.8823368013340208, 0.4398911098208582, 0.4789537351552117, 0.831915188462022, 0.9124335330310608, 0.925578456883849, 0.5947114802096223, 1, 1], [0.9613475222948901, 0, 0.8823368013340208, 0.4398911098208582, 0.4789537351552117, 0.831915188462022, 0.9124335330310608, 0.925578456883849, 0.5947114802096223, 1, 1], [0.9613475222948901, 0, 0.8823368013340208, 0.4398911098208582, 0.4789537351552117, 0.831915188462022, 0.9124335330310608, 0.925578456883849, 0.5947114802096223, 1, 1], [0.9613475222948901, 0, 0.8823368013340208, 0.4398911098208582, 0.4789537351552117, 0.831915188462022, 0.9124335330310608, 0.925578456883849, 0.5947114802096223, 1, 1], [0.9613475222948901, 0, 0.8823368013340208, 0.4398911098208582, 0.4789537351552117, 0.831915188462022, 0.9124335330310608, 0.925578456883849, 0.5947114802096223, 1, 1], [0.9613475222948901, 0, 0.8823368013340208, 0.4398911098208582, 0.4789537351552117, 0.831915188462022, 0.9124335330310608, 0.925578456883849, 0.5947114802096223, 1, 1], [0.9613475222948901, 0, 0.8823368013340208, 0.4398911098208582, 0.4789537351552117, 0.831915188462022, 0.9124335330310608, 0.925578456883849, 0.5947114802096223, 1, 1], [0.9613475222948901, 0, 0.8823368013340208, 0.4398911098208582, 0.4789537351552117, 0.831915188462022, 0.9124335330310608, 0.925578456883849, 0.5947114802096223, 1, 1], [0.9613475222948901, 0, 0.8823368013340208, 0.4398911098208582, 0.4789537351552117, 0.831915188462022, 0.9124335330310608, 0.925578456883849, 0.5947114802096223, 1, 1], [0.9613475222948901, 0, 0.8823368013340208, 0.4398911098208582, 0.4789537351552117, 0.831915188462022, 0.9124335330310608, 0.925578456883849, 0.5947114802096223, 1, 1], [0.9613475222948901, 0, 0.8823368013340208, 0.4398911098208582, 0.4789537351552117, 0.831915188462022, 0.9124335330310608, 0.925578456883849, 0.5947114802096223, 1, 1], [0.9613475222948901, 0, 0.8823368013340208, 0.4398911098208582, 0.4789537351552117, 0.831915188462022, 0.9124335330310608, 0.925578456883849, 0.5947114802096223, 1, 1], [0.9613475222948901, 0, 0.8823368013340208, 0.4398911098208582, 0.4789537351552117, 0.831915188462022, 0.9124335330310608, 0.925578456883849, 0.5947114802096223, 1, 1], [0.9613475222948901, 0, 0.8823368013340208, 0.4398911098208582, 0.4789537351552117, 0.831915188462022, 0.9124335330310608, 0.925578456883849, 0.5947114802096223, 1, 1], [0.9613475222948901, 0, 0.8823368013340208, 0.4398911098208582, 0.4789537351552117, 0.831915188462022, 0.9124335330310608, 0.925578456883849, 0.5947114802096223, 1, 1], [0.9613475222948901, 0, 0.8823368013340208, 0.4398911098208582, 0.4789537351552117, 0.831915188462022, 0.9124335330310608, 0.925578456883849, 0.5947114802096223, 1, 1], [0.9613475222948901, 0, 0.8823368013340208, 0.4398911098208582, 0.4789537351552117, 0.831915188462022, 0.9124335330310608, 0.925578456883849, 0.5947114802096223, 1, 1], [0.9613475222948901, 0, 0.8823368013340208, 0.4398911098208582, 0.4789537351552117, 0.831915188462022, 0.9124335330310608, 0.925578456883849, 0.5947114802096223, 1, 1], [0.9613475222948901, 0, 0.8823368013340208, 0.4398911098208582, 0.4789537351552117, 0.831915188462022, 0.9124335330310608, 0.925578456883849, 0.5947114802096223, 1, 1], [0.9613475222948901, 0, 0.8823368013340208, 0.4398911098208582, 0.4789537351552117, 0.831915188462022, 0.9124335330310608, 0.925578456883849, 0.5947114802096223, 1, 1], [0.9613475222948901, 0, 0.8823368013340208, 0.4398911098208582, 0.4789537351552117, 0.831915188462022, 0.9124335330310608, 0.925578456883849, 0.5947114802096223, 1, 1], [0.9613475222948901, 0, 0.8823368013340208, 0.4398911098208582, 0.4789537351552117, 0.831915188462022, 0.9124335330310608, 0.925578456883849, 0.5947114802096223, 1, 1], [0.9613475222948901, 0, 0.8823368013340208, 0.4398911098208582, 0.4789537351552117, 0.831915188462022, 0.9124335330310608, 0.925578456883849, 0.5947114802096223, 1, 1], [0.9613475222948901, 0, 0.8823368013340208, 0.4398911098208582, 0.4789537351552117, 0.831915188462022, 0.9124335330310608, 0.925578456883849, 0.5947114802096223, 1, 1], [0.9613475222948901, 0, 0.8823368013340208, 0.4398911098208582, 0.4789537351552117, 0.831915188462022, 0.9124335330310608, 0.925578456883849, 0.5947114802096223, 1, 1], [0.9613475222948901, 0, 0.8823368013340208, 0.4398911098208582, 0.4789537351552117, 0.831915188462022, 0.9124335330310608, 0.925578456883849, 0.5947114802096223, 1, 1], [0.9613475222948901, 0, 0.8823368013340208, 0.4398911098208582, 0.4789537351552117, 0.831915188462022, 0.9124335330310608, 0.925578456883849, 0.5947114802096223, 1, 1], [0.9613475222948901, 0, 0.8823368013340208, 0.4398911098208582, 0.4789537351552117, 0.831915188462022, 0.9124335330310608, 0.925578456883849, 0.5947114802096223, 1, 1], [0.9613475222948901, 0, 0.8823368013340208, 0.4398911098208582, 0.4789537351552117, 0.831915188462022, 0.9124335330310608, 0.925578456883849, 0.5947114802096223, 1, 1], [0.9613475222948901, 0, 0.8823368013340208, 0.4398911098208582, 0.4789537351552117, 0.831915188462022, 0.9124335330310608, 0.925578456883849, 0.5947114802096223, 1, 1], [0.9613475222948901, 0, 0.8823368013340208, 0.4398911098208582, 0.4789537351552117, 0.831915188462022, 0.9124335330310608, 0.925578456883849, 0.5947114802096223, 1, 1], [0.9613475222948901, 0, 0.8823368013340208, 0.4398911098208582, 0.4789537351552117, 0.831915188462022, 0.9124335330310608, 0.925578456883849, 0.5947114802096223, 1, 1], [0.9613475222948901, 0, 0.8823368013340208, 0.4398911098208582, 0.4789537351552117, 0.831915188462022, 0.9124335330310608, 0.925578456883849, 0.5947114802096223, 1, 1], [0.9613475222948901, 0, 0.8823368013340208, 0.4398911098208582, 0.4789537351552117, 0.831915188462022, 0.9124335330310608, 0.925578456883849, 0.5947114802096223, 1, 1], [0.9613475222948901, 0, 0.8823368013340208, 0.4398911098208582, 0.4789537351552117, 0.831915188462022, 0.9124335330310608, 0.925578456883849, 0.5947114802096223, 1, 1], [0.9613475222948901, 0, 0.8823368013340208, 0.4398911098208582, 0.4789537351552117, 0.831915188462022, 0.9124335330310608, 0.925578456883849, 0.5947114802096223, 1, 1], [0.9613475222948901, 0, 0.8823368013340208, 0.4398911098208582, 0.4789537351552117, 0.831915188462022, 0.9124335330310608, 0.925578456883849, 0.5947114802096223, 1, 1], [0.9613475222948901, 0, 0.8823368013340208, 0.4398911098208582, 0.4789537351552117, 0.831915188462022, 0.9124335330310608, 0.925578456883849, 0.5947114802096223, 1, 1], [0.9613475222948901, 0, 0.8823368013340208, 0.4398911098208582, 0.4789537351552117, 0.831915188462022, 0.9124335330310608, 0.925578456883849, 0.5947114802096223, 1, 1], [0.9613475222948901, 0, 0.8823368013340208, 0.4398911098208582, 0.4789537351552117, 0.831915188462022, 0.9124335330310608, 0.925578456883849, 0.5947114802096223, 1, 1], [0.9613475222948901, 0, 0.8823368013340208, 0.4398911098208582, 0.4789537351552117, 0.831915188462022, 0.9124335330310608, 0.925578456883849, 0.5947114802096223, 1, 1], [0.9613475222948901, 0, 0.8823368013340208, 0.4398911098208582, 0.4789537351552117, 0.831915188462022, 0.9124335330310608, 0.925578456883849, 0.5947114802096223, 1, 1], [0.9613475222948901, 0, 0.8823368013340208, 0.4398911098208582, 0.4789537351552117, 0.831915188462022, 0.9124335330310608, 0.925578456883849, 0.5947114802096223, 1, 1], [0.9613475222948901, 0, 0.8823368013340208, 0.4398911098208582, 0.4789537351552117, 0.831915188462022, 0.9124335330310608, 0.925578456883849, 0.5947114802096223, 1, 1], [0.9613475222948901, 0, 0.8823368013340208, 0.4398911098208582, 0.4789537351552117, 0.831915188462022, 0.9124335330310608, 0.925578456883849, 0.5947114802096223, 1, 1], [0.9613475222948901, 0, 0.8823368013340208, 0.4398911098208582, 0.4789537351552117, 0.831915188462022, 0.9124335330310608, 0.925578456883849, 0.5947114802096223, 1, 1], [0.9613475222948901, 0, 0.8823368013340208, 0.4398911098208582, 0.4789537351552117, 0.831915188462022, 0.9124335330310608, 0.925578456883849, 0.5947114802096223, 1, 1], [0.9613475222948901, 0, 0.8823368013340208, 0.4398911098208582, 0.4789537351552117, 0.831915188462022, 0.9124335330310608, 0.925578456883849, 0.5947114802096223, 1, 1], [0.9613475222948901, 0, 0.8823368013340208, 0.4398911098208582, 0.4789537351552117, 0.831915188462022, 0.9124335330310608, 0.925578456883849, 0.5947114802096223, 1, 1], [0.9613475222948901, 0, 0.8823368013340208, 0.4398911098208582, 0.4789537351552117, 0.831915188462022, 0.9124335330310608, 0.925578456883849, 0.5947114802096223, 1, 1], [0.9613475222948901, 0, 0.8823368013340208, 0.4398911098208582, 0.4789537351552117, 0.831915188462022, 0.9124335330310608, 0.925578456883849, 0.5947114802096223, 1, 1], [0.9613475222948901, 0, 0.8823368013340208, 0.4398911098208582, 0.4789537351552117, 0.831915188462022, 0.9124335330310608, 0.925578456883849, 0.5947114802096223, 1, 1], [0.9613475222948901, 0, 0.8823368013340208, 0.4398911098208582, 0.4789537351552117, 0.831915188462022, 0.9124335330310608, 0.925578456883849, 0.5947114802096223, 1, 1], [0.9613475222948901, 0, 0.8823368013340208, 0.4398911098208582, 0.4789537351552117, 0.831915188462022, 0.9124335330310608, 0.925578456883849, 0.5947114802096223, 1, 1], [0.9613475222948901, 0, 0.8823368013340208, 0.4398911098208582, 0.4789537351552117, 0.831915188462022, 0.9124335330310608, 0.925578456883849, 0.5947114802096223, 1, 1]]\n",
      "\n",
      "fitness =  0.6984835205694102\n",
      "\n",
      "randnum =  [0.9613475222948901, 0, 0.8823368013340208, 0.4398911098208582, 0.4789537351552117, 0.831915188462022, 0.9124335330310608, 0.925578456883849, 0.5947114802096223, 1, 1]\n",
      "\n",
      "general =  [0.6780336228188988, 0.6780336228188988, 0.6780336228188988, 0.6780336228188988, 0.6780336228188988, 0.6780336228188988, 0.6780336228188988, 0.6780336228188988, 0.6780336228188988, 0.6800786125939501, 0.6800786125939501, 0.6800786125939501, 0.6821236023690012, 0.6821236023690012, 0.6821236023690012, 0.6821236023690012, 0.6821236023690012, 0.6821236023690012, 0.6821236023690012, 0.6841685921440522, 0.6841685921440522, 0.6841685921440522, 0.6841685921440522, 0.6841685921440522, 0.6841685921440522, 0.6862135819191034, 0.6862135819191034, 0.6903035614692056, 0.6903035614692056, 0.6903035614692056, 0.6923485512442568, 0.6923485512442568, 0.6923485512442568, 0.6923485512442568, 0.6923485512442568, 0.6923485512442568, 0.6923485512442568, 0.6923485512442568, 0.6923485512442568, 0.6923485512442568, 0.6923485512442568, 0.6923485512442568, 0.6923485512442568, 0.6923485512442568, 0.6923485512442568, 0.6923485512442568, 0.6923485512442568, 0.6964385307943589, 0.6964385307943589, 0.6964385307943589, 0.6984835205694102, 0.6984835205694102, 0.6984835205694102, 0.6984835205694102, 0.6984835205694102, 0.6984835205694102, 0.6984835205694102, 0.6984835205694102, 0.6984835205694102, 0.6984835205694102, 0.6984835205694102, 0.6984835205694102, 0.6984835205694102, 0.6984835205694102, 0.6984835205694102, 0.6984835205694102, 0.6984835205694102, 0.6984835205694102, 0.6984835205694102, 0.6984835205694102, 0.6984835205694102, 0.6984835205694102, 0.6984835205694102, 0.6984835205694102, 0.6984835205694102, 0.6984835205694102, 0.6984835205694102, 0.6984835205694102, 0.6984835205694102, 0.6984835205694102, 0.6984835205694102, 0.6984835205694102, 0.6984835205694102, 0.6984835205694102, 0.6984835205694102, 0.6984835205694102, 0.6984835205694102, 0.6984835205694102, 0.6984835205694102, 0.6984835205694102, 0.6984835205694102, 0.6984835205694102, 0.6984835205694102, 0.6984835205694102, 0.6984835205694102, 0.6984835205694102, 0.6984835205694102, 0.6984835205694102, 0.6984835205694102, 0.6984835205694102]\n",
      "\n"
     ]
    },
    {
     "data": {
      "image/png": "[encoded data removed]",
      "text/plain": [
       "<matplotlib.figure.Figure at 0x13f184f24e0>"
      ]
     },
     "metadata": {},
     "output_type": "display_data"
    }
   ],
   "source": [
    "Test_hc()"
   ]
  },
  {
   "cell_type": "code",
   "execution_count": null,
   "metadata": {
    "collapsed": true,
    "hidden": true
   },
   "outputs": [],
   "source": []
  },
  {
   "cell_type": "code",
   "execution_count": null,
   "metadata": {
    "collapsed": true,
    "hidden": true
   },
   "outputs": [],
   "source": []
  },
  {
   "cell_type": "code",
   "execution_count": null,
   "metadata": {
    "collapsed": true,
    "hidden": true
   },
   "outputs": [],
   "source": []
  },
  {
   "cell_type": "code",
   "execution_count": null,
   "metadata": {
    "collapsed": true,
    "hidden": true
   },
   "outputs": [],
   "source": []
  },
  {
   "cell_type": "code",
   "execution_count": null,
   "metadata": {
    "collapsed": true,
    "hidden": true
   },
   "outputs": [],
   "source": []
  },
  {
   "cell_type": "code",
   "execution_count": null,
   "metadata": {
    "collapsed": true,
    "hidden": true
   },
   "outputs": [],
   "source": []
  },
  {
   "cell_type": "code",
   "execution_count": null,
   "metadata": {
    "collapsed": true,
    "hidden": true
   },
   "outputs": [],
   "source": []
  },
  {
   "cell_type": "code",
   "execution_count": null,
   "metadata": {
    "collapsed": true,
    "hidden": true
   },
   "outputs": [],
   "source": []
  },
  {
   "cell_type": "code",
   "execution_count": null,
   "metadata": {
    "collapsed": true,
    "hidden": true
   },
   "outputs": [],
   "source": []
  }
 ],
 "metadata": {
  "kernelspec": {
   "display_name": "Python 3",
   "language": "python",
   "name": "python3"
  },
  "language_info": {
   "codemirror_mode": {
    "name": "ipython",
    "version": 3
   },
   "file_extension": ".py",
   "mimetype": "text/x-python",
   "name": "python",
   "nbconvert_exporter": "python",
   "pygments_lexer": "ipython3",
   "version": "3.6.2"
  }
 },
 "nbformat": 4,
 "nbformat_minor": 2
}
