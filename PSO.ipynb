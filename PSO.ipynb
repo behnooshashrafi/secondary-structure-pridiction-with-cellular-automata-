{
 "cells": [
  {
   "cell_type": "code",
   "execution_count": 18,
   "metadata": {
    "ExecuteTime": {
     "end_time": "2018-07-28T17:32:41.170166Z",
     "start_time": "2018-07-28T17:32:41.162171Z"
    },
    "collapsed": true
   },
   "outputs": [],
   "source": [
    "import random\n",
    "from collections import namedtuple\n",
    "import tqdm\n",
    "%matplotlib inline\n",
    "import matplotlib.pyplot as plt"
   ]
  },
  {
   "cell_type": "code",
   "execution_count": 19,
   "metadata": {
    "ExecuteTime": {
     "end_time": "2018-07-28T17:32:41.536086Z",
     "start_time": "2018-07-28T17:32:41.531089Z"
    },
    "collapsed": true
   },
   "outputs": [],
   "source": [
    "random.seed()"
   ]
  },
  {
   "cell_type": "code",
   "execution_count": 20,
   "metadata": {
    "ExecuteTime": {
     "end_time": "2018-07-28T17:32:41.953040Z",
     "start_time": "2018-07-28T17:32:41.941048Z"
    },
    "collapsed": true
   },
   "outputs": [],
   "source": [
    "def Rand_num():\n",
    "    x=[random.random(),\n",
    "    random.random(),\n",
    "    random.random(),\n",
    "    random.random(),\n",
    "    random.random(),\n",
    "    random.random(),\n",
    "    random.random(),\n",
    "    random.random(),\n",
    "    random.random(),\n",
    "    random.random(),\n",
    "    random.random()]\n",
    "    return x\n",
    "    "
   ]
  },
  {
   "cell_type": "code",
   "execution_count": 21,
   "metadata": {
    "ExecuteTime": {
     "end_time": "2018-07-28T17:32:46.397478Z",
     "start_time": "2018-07-28T17:32:42.449734Z"
    },
    "collapsed": true
   },
   "outputs": [],
   "source": [
    "#! /usr/bin/env python\n",
    "\n",
    "# Summary:\n",
    "#   An implementation of the Chou-Fasman algorithm\n",
    "# Authors:\n",
    "#   Samuel A. Rebelsky (layout of the program see:\n",
    "#   http://www.cs.grinnell.edu/~rebelsky/ExBioPy/Projects/project-7.5.html)\n",
    "#   Nicolas Girault\n",
    "\n",
    "\n",
    "import string\n",
    "import sys\n",
    "\n",
    "\n",
    "#protein1 = 'MKIDAIVGRNSAKDIRTEERARVQLGNVVTAAALHGGIRISDQTTNSVETVVGKGESRVLIGNEYGGKGFWDNHHHHHH'\n",
    "#protein2 = 'MRRYEVNIVLNPNLDQSQLALEKEIIQRALENYGARVEKVAILGLRRLAYPIAKDPQGYFLWYQVEMPEDRVNDLARELRIRDNVRRVMVVKSQEPFLANA'\n",
    "#protein3 = 'MVGLTTLFWLGAIGMLVGTLAFAWAGRDAGSGERRYYVTLVGISGIAAVAYVVMALGVGWVPVAERTVFAPRYIDWILTTPLIVYFLGLLAGLDSREFGIVITLNTVVMLAGFAGAMVPGIERYALFGMGAVAFLGLVYYLVGPMTESASQRSSGIKSLYVRLRNLTVILWAIYPFIWLLGPPGVALLTPTVDVALIVYLDLVTKVGFGFIALDAAATLRAEHGESLAGVDTDAPAVAD'\n",
    "\n",
    "# The Chou-Fasman table, with rows of the table indexed by amino acid name.\n",
    "#   Data copied, pasted, and reformatted from \n",
    "#     http://prowl.rockefeller.edu/aainfo/chou.htm\n",
    "# Columns are          SYM,P(a), P(b),P(turn), f(i),   f(i+1), f(i+2), f(i+3)\n",
    "\n",
    "CF = {}\n",
    "CF['Alanine']       = ['A', 142,   83,   66,   0.06,   0.076,  0.035,  0.058]\n",
    "CF['Arginine']      = ['R',  98,   93,   95,   0.070,  0.106,  0.099,  0.085]\n",
    "CF['Aspartic Acid'] = ['N', 101,   54,  146,   0.147,  0.110,  0.179,  0.081]\n",
    "CF['Asparagine']    = ['D',  67,   89,  156,   0.161,  0.083,  0.191,  0.091]\n",
    "CF['Cysteine']      = ['C',  70,  119,  119,   0.149,  0.050,  0.117,  0.128]\n",
    "CF['Glutamic Acid'] = ['E', 151,   37,   74,   0.056,  0.060,  0.077,  0.064]\n",
    "CF['Glutamine']     = ['Q', 111,  110,   98,   0.074,  0.098,  0.037,  0.098]\n",
    "CF['Glycine']       = ['G',  57,   75,  156,   0.102,  0.085,  0.190,  0.152]\n",
    "CF['Histidine']     = ['H', 100,   87,   95,   0.140,  0.047,  0.093,  0.054]\n",
    "CF['Isoleucine']    = ['I', 108,  160,   47,   0.043,  0.034,  0.013,  0.056]\n",
    "CF['Leucine']       = ['L', 121,  130,   59,   0.061,  0.025,  0.036,  0.070]\n",
    "CF['Lysine']        = ['K', 114,   74,  101,   0.055,  0.115,  0.072,  0.095]\n",
    "CF['Methionine']    = ['M', 145,  105,   60,   0.068,  0.082,  0.014,  0.055]\n",
    "CF['Phenylalanine'] = ['F', 113,  138,   60,   0.059,  0.041,  0.065,  0.065]\n",
    "CF['Proline']       = ['P',  57,   55,  152,   0.102,  0.301,  0.034,  0.068]\n",
    "CF['Serine']        = ['S',  77,   75,  143,   0.120,  0.139,  0.125,  0.106]\n",
    "CF['Threonine']     = ['T',  83,  119,   96,   0.086,  0.108,  0.065,  0.079]\n",
    "CF['Tryptophan']    = ['W', 108,  137,   96,   0.077,  0.013,  0.064,  0.167]\n",
    "CF['Tyrosine']      = ['Y',  69,  147,  114,   0.082,  0.065,  0.114,  0.125]\n",
    "CF['Valine']        = ['V', 106,  170,   50,   0.062,  0.048,  0.028,  0.053]\n",
    "CF['-']             = ['-', 0  ,  0  ,  0  ,   0    ,  0    ,  0    ,  0    ]\n",
    "aa_names = ['Alanine', 'Arginine', 'Asparagine', 'Aspartic Acid',\n",
    "            'Cysteine', 'Glutamic Acid', 'Glutamine', 'Glycine',\n",
    "            'Histidine', 'Isoleucine', 'Leucine', 'Lysine',\n",
    "            'Methionine', 'Phenylalanine', 'Proline', 'Serine',\n",
    "            'Threonine', 'Tryptophan', 'Tyrosine', 'Valine','-']\n",
    "\n",
    "Pa = { }\n",
    "Pb = { }\n",
    "Pturn = { }\n",
    "F0 = { }\n",
    "F1 = { }\n",
    "F2 = { }\n",
    "F3 = { }\n",
    "\n",
    "# Convert the Chou-Fasman table above to more convenient formats\n",
    "#    Note that for any amino acid, aa CF[aa][0] gives the abbreviation\n",
    "#    of the amino acid.\n",
    "for aa in aa_names:\n",
    "    Pa[CF[aa][0]] = CF[aa][1]\n",
    "    Pb[CF[aa][0]] = CF[aa][2]\n",
    "    Pturn[CF[aa][0]] = CF[aa][3]\n",
    "    F0[CF[aa][0]] = CF[aa][4]\n",
    "    F1[CF[aa][0]] = CF[aa][5]\n",
    "    F2[CF[aa][0]] = CF[aa][6]\n",
    "    F3[CF[aa][0]] = CF[aa][7]\n",
    "\n",
    "\n",
    "def CF_find_alpha(seq):\n",
    "    \"\"\"Find all likely alpha helices in sequence.  Returns a list\n",
    "       of [start,end] pairs for the alpha helices.\"\"\"\n",
    "    start = 0\n",
    "    results = []\n",
    "    # Try each window\n",
    "    while (start + 6 < len(seq)):\n",
    "        # Count the number of \"good\" amino acids (those likely to be\n",
    "        # in an alpha helix).\n",
    "        numgood = 0\n",
    "        for i in range(start, start+6):\n",
    "            if (Pa[seq[i]] > 100):\n",
    "                numgood = numgood + 1\n",
    "        if (numgood >= 4):\n",
    "            [estart,end] = CF_extend_alpha(seq, start, start+6)\n",
    "            #print \"Exploring potential alpha \" + str(estart) + \":\" + str(end)\n",
    "            #if (CF_good_alpha(seq[estart:end])):\n",
    "            if [estart,end] not in results:\n",
    "                results.append([estart,end])\n",
    "        # Go on to the next frame\n",
    "        start = start + 1\n",
    "    # That's it, we're done\n",
    "    return results\n",
    "\n",
    "def CF_extend_alpha(seq, start, end):\n",
    "    \"\"\"Extend a potential alpha helix sequence.  Return the endpoints\n",
    "       of the extended sequence.\n",
    "    \"\"\"\n",
    "    # We extend the region in both directions until the average propensity for a set of four \n",
    "    # contiguous residues has Pa( ) < 100, which means we assume the helix ends there\n",
    "\n",
    "    # seq[end-3:end+1] is: x | x | x | END\n",
    "    while ( float(sum([Pa[x] for x in seq[end-3:end+1]])) / float(4) ) > 100 and end < len(seq)-1:\n",
    "        end += 1\n",
    "    # seq[start:start+4] is: START | x | x | x\n",
    "    while ( float(sum([Pa[x] for x in seq[start:start+4]])) / float(4) ) > 100 and start > 0:\n",
    "        start -= 1\n",
    "\n",
    "    return [start,end]\n",
    "\n",
    "#def CF_good_alpha(subseq):\n",
    "#    \"\"\"Determine if a subsequence appears to be an alpha helix.\"\"\"\n",
    "#    sum_Pa = 0\n",
    "#    for aa in subseq:\n",
    "#        sum_Pa = sum_Pa + Pa[aa]\n",
    "#    ave_Pa = sum_Pa/len(subseq)\n",
    "#    # Criteria need to be extended\n",
    "#    return (ave_Pa > 100)\n",
    "\n",
    "def CF_find_beta(seq):\n",
    "    \"\"\"Find all likely beta strands in seq.  Returns a list\n",
    "       of [start,end] pairs for the beta strands.\"\"\"\n",
    "    start = 0\n",
    "    results = []\n",
    "    # Try each window\n",
    "    while (start + 5 < len(seq)):\n",
    "        # Count the number of \"good\" amino acids (those likely to be\n",
    "        # in an beta sheet).\n",
    "        numgood = 0\n",
    "        for i in range(start, start+5):\n",
    "            if (Pb[seq[i]] > 100):\n",
    "                numgood = numgood + 1\n",
    "        if (numgood >= 3):\n",
    "            [estart,end] = CF_extend_beta(seq, start, start+5)\n",
    "            #print \"Exploring potential alpha \" + str(estart) + \":\" + str(end)\n",
    "            #if (CF_good_alpha(seq[estart:end])):\n",
    "            if [estart,end] not in results:\n",
    "                results.append([estart,end])\n",
    "        # Go on to the next frame\n",
    "        start = start + 1\n",
    "    # That's it, we're done\n",
    "    return results\n",
    "\n",
    "def CF_extend_beta(seq, start, end):\n",
    "    \"\"\"Extend a potential beta helix sequence.  Return the endpoints\n",
    "       of the extended sequence.\n",
    "    \"\"\"\n",
    "    # We extend the region in both directions until the average propensity for a set of four \n",
    "    # contiguous residues has Pa( ) < 100, which means we assume the helix ends there\n",
    "\n",
    "    # seq[end-3:end+1] is: x | x | x | END\n",
    "    while ( float(sum([Pb[x] for x in seq[end-3:end+1]])) / float(4) ) > 100 and end < len(seq)-1:\n",
    "        end += 1\n",
    "    # seq[start:start+4] is: START | x | x | x\n",
    "    while ( float(sum([Pb[x] for x in seq[start:start+4]])) / float(4) ) > 100 and start > 0:\n",
    "        start -= 1\n",
    "    return [start,end]\n",
    "\n",
    "\n",
    "def CF_find_turns(seq):\n",
    "    \"\"\"Find all likely beta turns in seq.  Returns a list of positions\n",
    "       which are likely to be turns.\"\"\"\n",
    "    result = []\n",
    "    for i in range(len(seq)-3):\n",
    "    # CONDITION 1\n",
    "        c1 = F0[seq[i]]*F1[seq[i+1]]*F2[seq[i+2]]*F3[seq[i+3]] > 0.000075\n",
    "    # CONDITION 2\n",
    "        c2 = ( float(sum([Pturn[x] for x in seq[i:i+4]])) / float(4) ) > 100\n",
    "    # CONDITION 3\n",
    "        c3 = sum([Pturn[x] for x in seq[i:i+4]]) > max(sum([Pa[x] for x in seq[i:i+4]]),sum([Pb[x] for x in seq[i:i+4]]))\n",
    "        if c1 and c2 and c3:\n",
    "            result.append(i)\n",
    "    return result\n",
    "\n",
    "def region_overlap(region_a, region_b):\n",
    "    \"\"\"Given two regions, represented as two-element lists, determine\n",
    "       if the two regions overlap.\n",
    "    \"\"\"\n",
    "    return (region_a[0] <= region_b[0] <= region_a[1]) or \\\n",
    "           (region_b[0] <= region_a[0] <= region_b[1])\n",
    "          \n",
    "def region_merge(region_a, region_b):\n",
    "    \"\"\"Given two regions, represented as two-element lists, return\n",
    "       the minimum region that contains both regions.\n",
    "    \"\"\"\n",
    "    return [min(region_a[0], region_b[0]), max(region_a[1], region_b[1])]\n",
    "\n",
    "def region_intersect(region_a, region_b):\n",
    "    \"\"\"Given two regions, represented as two-element lists, return\n",
    "       the intersection of the two regions.\n",
    "    \"\"\"\n",
    "    return [max(region_a[0], region_b[0]), min(region_a[1], region_b[1])]\n",
    "\n",
    "def region_difference(region_a, region_b):\n",
    "    \"\"\"Given two regions, represented as two-element lists, return\n",
    "       the part of region_a which in not in region_b.\n",
    "        It can be one or two regions depending on the position\n",
    "        of region_b and its size.\n",
    "    \"\"\"\n",
    "    # region_a start before region_b and stop before region_b\n",
    "    if region_a[0] < region_b[0] and region_a[1] <= region_b[1]:\n",
    "        return [[region_a[0], region_b[0]-1]]\n",
    "    # region_a start after region_b and stop after region_b\n",
    "    elif region_a[0] >= region_b[0] and region_a[1] > region_b[1]:\n",
    "        return [[region_b[1]+1,region_a[1]]]\n",
    "    # region_b is included in region_a => return 2 regions\n",
    "    elif region_a[0] < region_b[0] and region_a[1] > region_b[1]:\n",
    "        return [[region_a[0], region_b[0]-1],[region_b[1]+1,region_a[1]]]\n",
    "    # region_a is included in region_b\n",
    "    else:\n",
    "        return []\n",
    "\n",
    "def ChouFasman(seq):\n",
    "    \"\"\"Analyze seq using the Chou-Fasman algorithm and display\n",
    "       the results.  A represents 'alpha helix'.  B represents \n",
    "       'beta strand'.  T represents \"turn\".  Space represents\n",
    "       'coil structure'.  \n",
    "    \"\"\"\n",
    "\n",
    "    # Find probable locations of alpha helices, beta strands,\n",
    "    # and beta turns.\n",
    "    alphas = CF_find_alpha(seq)\n",
    "    #print \"Alphas = \" + str(alphas)\n",
    "    betas = CF_find_beta(seq)\n",
    "    #print \"Betas = \" + str(betas)\n",
    "    turns = CF_find_turns(seq)\n",
    "    #print \"Turns = \" + str(turns)\n",
    "\n",
    "    # Handle overlapping regions between alpha helix and beta strands\n",
    "    # SEE COMMENT IN MY REPORT: WHY I DONT MERGE THE ALPHA AND BETA REGIONS TOGETHER\n",
    "    '''# First we merge the alpha helix regions together\n",
    "    x = 0\n",
    "    while x < len(alphas)-1:\n",
    "        if region_overlap(alphas[x],alphas[x+1]):\n",
    "            alphas[x] = region_merge(alphas[x],alphas[x+1])\n",
    "            alphas.pop(x+1)\n",
    "        else:\n",
    "          x += 1\n",
    "    print \"Potential alphas = \" + str(alphas)\n",
    "\n",
    "    # The same for beta strand regions\n",
    "    x = 0\n",
    "    while x < len(betas)-1:\n",
    "        if region_overlap(betas[x],betas[x+1]):\n",
    "            betas[x] = region_merge(betas[x],betas[x+1])\n",
    "            betas.pop(x+1)\n",
    "        else:\n",
    "          x += 1\n",
    "    print \"Ptential betas = \" + str(betas)'''\n",
    "\n",
    "\n",
    "    # Then it's really messy!\n",
    "    alphas2 = []\n",
    "    alphas_to_test = alphas\n",
    "    betas_to_test = betas\n",
    "    while len(alphas_to_test) > 0:\n",
    "        alpha = alphas_to_test.pop()\n",
    "        # a_shorten record if the alpha helix region has been shorten\n",
    "        a_shorten = False\n",
    "        for beta in betas_to_test:\n",
    "            if region_overlap(alpha,beta):\n",
    "                inter = region_intersect(alpha,beta)\n",
    "#                 print('Now studying overlap: '+str(inter))\n",
    "                sum_Pa = sum([Pa[seq[i]] for i in range(inter[0],inter[1]+1)])\n",
    "                sum_Pb = sum([Pb[seq[i]] for i in range(inter[0],inter[1]+1)])\n",
    "                \n",
    "                if sum_Pa > sum_Pb:\n",
    "                    # No more uncertainty on this overlap region: it will be a alpha helix\n",
    "                    diff = region_difference(beta,alpha)\n",
    "#                     print('\\tAlpha helix WIN - beta sheet region becomes: '+str(diff))\n",
    "                    for d in diff:\n",
    "                        if d[1]-d[0] > 4:\n",
    "                            betas_to_test.append(d)\n",
    "                    betas_to_test.remove(beta)\n",
    "                else:\n",
    "                    # No more uncertainty on this overlap region: it will be a beta strand\n",
    "                    a_shorten = True\n",
    "                    diff = region_difference(alpha,beta)\n",
    "#                     print('\\tBeta sheet WIN - alpha helix region becomes: '+str(diff))\n",
    "                    for d in diff:\n",
    "                        if d[1]-d[0] > 4:\n",
    "                            alphas_to_test.append(d)\n",
    "        if not a_shorten:\n",
    "            alphas2.append(alpha)\n",
    "\n",
    "    alphas = alphas2\n",
    "    betas = betas_to_test\n",
    "                    \n",
    "                  \n",
    "#     print('final alphas: '+str(alphas))\n",
    "#     print('final betas: '+str(betas))\n",
    "    # Build a sequence of spaces of the same length as seq. \n",
    "    analysis = [' ' for i in range(len(seq))]\n",
    "\n",
    "    # Fill in the predicted alpha helices\n",
    "    for alpha in alphas:\n",
    "        for i in range(alpha[0], alpha[1]):\n",
    "            analysis[i] = 'H'\n",
    "    # Fill in the predicted beta strands \n",
    "    for beta in betas:\n",
    "        for i in range(beta[0], beta[1]):\n",
    "            analysis[i] = 'B'\n",
    "    # Fill in the predicted beta turns\n",
    "    for turn in turns:\n",
    "        analysis[turn] = 'T'\n",
    "\n",
    "    # Turn the analysis and the sequence into strings for ease\n",
    "    # of printing\n",
    "    astr = ''.join(analysis)\n",
    "#    sstr = ''.join(seq)\n",
    "\n",
    "#     print(astr)\n",
    "\n",
    "    return astr\n",
    "#, sstr\n",
    "\n",
    "# if len(sys.argv) != 2:\n",
    "#     print 'Usage: %s [protein1, protein2, protein3]' %sys.argv[0]\n",
    "# elif sys.argv[1] == '-h' or sys.argv[1] == '--help':\n",
    "#     print 'Usage: %s [protein1, protein2, protein3]' %sys.argv[0]\n",
    "# elif sys.argv[1] == 'protein1':\n",
    "#     seq = protein1\n",
    "#     ChouFasman(seq)\n",
    "# elif sys.argv[1] == 'protein2':\n",
    "#     seq = protein2\n",
    "#     ChouFasman(seq)\n",
    "# elif sys.argv[1] == 'protein3':\n",
    "#     seq = protein3\n",
    "#     ChouFasman(seq)\n",
    "# else:\n",
    "#     print 'Usage: %s [protein1, protein2, protein3]' %sys.argv[0]\n",
    "\n"
   ]
  },
  {
   "cell_type": "code",
   "execution_count": 22,
   "metadata": {
    "ExecuteTime": {
     "end_time": "2018-07-28T17:32:46.429960Z",
     "start_time": "2018-07-28T17:32:46.399476Z"
    },
    "collapsed": true
   },
   "outputs": [],
   "source": [
    "protein1='MVLSEGEWQLVLHVWAKVEADVAGHGQDILIRLFKSHPETLEKFDRVKHLKTEAEMKASEDLKKHGVTVLTALGAILKKKGHHEAELKPLAQSHATKHKIPIKYLEFISEAIIHVLHSRHPGNFGADAQGAMNKALELFRKDIAAKYKELGYQG'\n",
    "struct2_1='CCCCHHHHHHHHHHHHHHHHHHHHHHHHHHHHHHHHCHHHHHHCCCCCCCCCHHHHHHCHHHHHHHHHHHHHHHHHHCCCCCCHHHHHHHHHHHHHHCCCCHHHHHHHHHHHHHHHHHHCHHHCCHHHHHHHHHHHHHHHHHHHHHHHHCCCCC'\n",
    "protein2='MNIFEMLRIDEGLRLKIYKDTEGYYTIGIGHLLTKSPSLNAAAKSELDKAIGRNTNGVITKDEAEKLFNQDVDAAVRGILRNAKLKPVYDSLDAVRRAALINMVFQMGETGVAGFTNSLRMLQQKRWDEAAVNLAKSRWYNQTPNRAKRVITTFRTGTWDAYK'\n",
    "struct2_2='CCHHHHHHHHHCCBBBBBBCCCCCBBBBCCBBBBCCCCHHHHHHHHHHHHHCCCCCCBCCHHHHHHHHHHHHHHHHHHHHHCCCHHHHHHHCCHHHHHHHHHHHHHHHHHHHHCCHHHHHHHHCCCHHHHHHHHHCCHHHHHCHHHHHHHHHHHHHCCCHHHC'\n",
    "protein3='MVLSEGEWQLVLHVWAKVEADVAGHGQDILIRLFKSHPETLEKFDRFKHLKTEAEMKASEDLKKAGVTVLTALGAILKKKGHHEAELKPLAQSHATKHKIPIKYLEFISEAIIHVLHSRHPGNFGADAQGAMNKALELFRKDIAAKYKELGYQG'\n",
    "struct2_3='CCCCHHHHHHHHHHHHHHHHHHHHHHHHHHHHHHHHCHHHHHHCCCCCCCCCHHHHHHCHHHHHHHHHHHHHHHHHHCCCCCCHHHHHHHHHHHHHHCCCCHHHHHHHHHHHHHHHHHHCCCCCCHHHHHHHHHHHHHHHHHHHHHHHHHCCCC'\n",
    "protein4='MVLSEGEWQLVLHVWAKVEADVAGHGQDILIRLFKSHPETLEKFDRFKHLKTEAEMKASEDLKKAGVTVLTALGAILKKKGHHEAELKPLAQSHATKHKIPIKYLEFISEAIIHVLHSRHPGNFGADAQGAMNKALELFRKDIAAKYKELGYQG'\n",
    "struct2_4='CCCCHHHHHHHHHHHHHHHHHHHHHHHHHHHHHHHHCHHHHHHCCCCCCCCCHHHHHHCHHHHHHHHHHHHHHHHHHHCCCCCHHHHHHHHHHHHHHCCCCHHHHHHHHHHHHHHHHHHCHHHCCHHHHHHHHHHHHHHHHHHHHHHHHCCCCC'\n",
    "protein5='VLSEGEWQLVLHVWAKVEADVAGHGQDILIRLFKSHPETLEKFDRFKHLKTEAEMKASEDLKKHGVTVLTALGAILKKKGHHEAELKPLAQSHATKHKIPIKYLEFISEAIIHVLHSRHPGDFGADAQGAMNKALELFRKDIAAKYKELGYQG'\n",
    "struct2_5='CCCHHHHHHHHHHHHHHHHHHHHHHHHHHHHHHHHCHHHHHHCCCCCCCCCHHHHHHCHHHHHHHHHHHHHHHHHHCCCCCCHHHHHHHHHHHHHHCCCCHHHHHHHHHHHHHHHHHHCHHHCCHHHHHHHHHHHHHHHHHHHHHHHHHCCCC'\n",
    "protein6='VLSEGEWQLVLHVWAKVEADVAGHGQDILIRLFKSHPETLEKFDRFKHLKTEAEMKASEDLKKHGVTVLTALGAILKKKGHHEAELKPLAQSHATKHKIPIKYLEFISEAIIHVLHSRHPGDFGADAQGAMNKALELFRKDIAAKYKELGYQG'\n",
    "struct2_6='CCCHHHHHHHHHHHHHHHHCHHHHHHHHHHHHHHHCHHHHCCCCCCCCCCCHHHHHHCHHHHHHHHHHHHHHHHHHCCCCCCHHHHHHHHHHHHHHHCCCHHHHHHHHHHHHHHHHHHCCCCCCHHHHHHHHHHHHHHHHHHHHHHHHHCCCC'"
   ]
  },
  {
   "cell_type": "code",
   "execution_count": 23,
   "metadata": {
    "ExecuteTime": {
     "end_time": "2018-07-28T17:32:46.511956Z",
     "start_time": "2018-07-28T17:32:46.432945Z"
    },
    "collapsed": true
   },
   "outputs": [],
   "source": [
    "#Start\n",
    "def seq_score(seq,x):\n",
    "    h=[]\n",
    "    b=[]\n",
    "    c=[]\n",
    "    H=Pa\n",
    "    B=Pb\n",
    "    C=Pturn\n",
    "    avg=sum(x)\n",
    "    H1=dict(H)\n",
    "    B1=dict(B)\n",
    "    C1=dict(C)\n",
    "    names=['A','C','D','E','F','G','H','I','K','L','M','N','P','Q','R','S','T','V','W','Y']\n",
    "    for i in names:\n",
    "        H1[i]=H[i]/(H[i]+B[i]+C[i])\n",
    "        B1[i]=B[i]/(H[i]+B[i]+C[i])\n",
    "        C1[i]=C[i]/(H[i]+B[i]+C[i])\n",
    "    H=H1\n",
    "    B=B1\n",
    "    C=C1\n",
    "    seq = 5*'-' + seq + 5*'-'\n",
    "    \n",
    "    for i in range(5, len(seq)-5):\n",
    "        h0=0\n",
    "        b0=0\n",
    "        c0=0\n",
    "        \n",
    "        for j in range(-5,6):\n",
    "            h0+=H[seq[i-j]]*x[j+5]/avg\n",
    "            b0+=B[seq[i-j]]*x[j+5]/avg\n",
    "            c0+=C[seq[i-j]]*x[j+5]/avg\n",
    "\n",
    "        h.append(h0)\n",
    "        b.append(b0)\n",
    "        c.append(c0)        \n",
    "\n",
    "    return h, b, c"
   ]
  },
  {
   "cell_type": "code",
   "execution_count": 24,
   "metadata": {
    "ExecuteTime": {
     "end_time": "2018-07-28T17:32:46.543886Z",
     "start_time": "2018-07-28T17:32:46.516899Z"
    },
    "collapsed": true
   },
   "outputs": [],
   "source": [
    "def initial_state(Pro_seq,helix,beta,coil):\n",
    "    n=\"\"\n",
    "    k=ChouFasman(Pro_seq)\n",
    "    state=k\n",
    "    newstate=n\n",
    "    for i in range(0,len(state)):\n",
    "        if (state[i]==' '):\n",
    "            n+=\" \"\n",
    "        elif (helix[i]>beta[i]) & (helix[i]>coil[i]):\n",
    "            n+=\"H\"\n",
    "        elif (beta[i]>helix[i]) & (beta[i]>coil[i]):\n",
    "            n+=\"B\"\n",
    "        elif (coil[i]>helix[i]) & (coil[i]>beta[i]):\n",
    "            n+=\"T\"\n",
    "#    print(n)\n",
    "    return n\n"
   ]
  },
  {
   "cell_type": "code",
   "execution_count": 25,
   "metadata": {
    "ExecuteTime": {
     "end_time": "2018-07-28T17:32:46.661854Z",
     "start_time": "2018-07-28T17:32:46.546876Z"
    },
    "collapsed": true
   },
   "outputs": [],
   "source": [
    "def Next_Score(state,helix,beta,coil,x):\n",
    "    helix = 5 * [0] + helix + 5 * [0]\n",
    "    beta = 5 * [0] + beta + 5 * [0]\n",
    "    coil = 5 * [0] + coil + 5 * [0]\n",
    "#    print(helix)\n",
    "#     for i in range(0,5):\n",
    "#         helix.insert(0,0)\n",
    "#         beta.insert(0,0)\n",
    "#         coil.insert(0,0)\n",
    "#         helix.append(0)\n",
    "#         beta.append(0)\n",
    "#         coil.append(0)\n",
    "        \n",
    "    \n",
    "    H1=[]\n",
    "    B1=[]\n",
    "    C1=[]\n",
    "    h1=[]\n",
    "    b1=[]\n",
    "    c1=[]\n",
    "    avg=sum(x)\n",
    "    H1 = list(helix)\n",
    "    B1 = list(beta)\n",
    "    C1 = list(coil)\n",
    "    for i in range(5,len(helix)-5):\n",
    "        H1[i]=helix[i]/(helix[i]+beta[i]+coil[i])\n",
    "        B1[i]=beta[i]/(helix[i]+beta[i]+coil[i])\n",
    "        C1[i]=coil[i]/(helix[i]+beta[i]+coil[i])\n",
    "    helix=H1\n",
    "    beta=B1\n",
    "    coil=C1\n",
    "    state = 5*'-' + state + 5*'-'\n",
    " #   print(state)\n",
    "    for i in range(5, len(state)-5):\n",
    " #       print()\n",
    "        h0=0\n",
    "        b0=0\n",
    "        c0=0\n",
    "        for j in range(-5,6):\n",
    "            if (i-j<0) or (i-j>=len(helix)):\n",
    "                break\n",
    " #           print(helix[i-j]*x[j+5]/avg, helix[i-j], x[j+5], avg, i, j, i-j, x[j+5], sep='\\t')\n",
    "            h0+=helix[i-j]*x[j+5]/avg\n",
    "            b0+=beta[i-j]*x[j+5]/avg\n",
    "            c0+=coil[i-j]*x[j+5]/avg\n",
    "        h1.append(h0)\n",
    "        b1.append(b0)    \n",
    "        c1.append(c0)\n",
    "    \n",
    "    h=h1\n",
    "    b=b1\n",
    "    c=c1\n",
    "    return h ,b ,c"
   ]
  },
  {
   "cell_type": "code",
   "execution_count": 26,
   "metadata": {
    "ExecuteTime": {
     "end_time": "2018-07-28T17:32:46.691814Z",
     "start_time": "2018-07-28T17:32:46.664810Z"
    },
    "collapsed": true
   },
   "outputs": [],
   "source": [
    "def Next_State(state,helix,beta,coil):\n",
    "    n=\"\"\n",
    "    k=state\n",
    "    newstate=n\n",
    "    for i in range(0,len(k)):\n",
    "        if (k[i]==' '):\n",
    "            n+=\" \"\n",
    "        elif (helix[i]>=beta[i]) and (helix[i]>=coil[i]):\n",
    "            n+=\"H\"\n",
    "        elif (beta[i]>=helix[i]) and (beta[i]>=coil[i]):\n",
    "            n+=\"B\"\n",
    "        elif (coil[i]>=helix[i]) and (coil[i]>=beta[i]):\n",
    "            n+=\"T\"\n",
    "\n",
    "    return n\n"
   ]
  },
  {
   "cell_type": "code",
   "execution_count": 27,
   "metadata": {
    "ExecuteTime": {
     "end_time": "2018-07-28T17:32:46.713801Z",
     "start_time": "2018-07-28T17:32:46.694796Z"
    },
    "collapsed": true
   },
   "outputs": [],
   "source": [
    "def struct_fitness(structure1,structure2):\n",
    "    true=0\n",
    "    for i in range(0,len(structure1)):\n",
    "        if (structure1[i]==structure2[i]):\n",
    "            true=true+1\n",
    "    F=true/len(structure1)\n",
    "    return F"
   ]
  },
  {
   "cell_type": "code",
   "execution_count": 28,
   "metadata": {
    "ExecuteTime": {
     "end_time": "2018-07-28T17:32:46.744765Z",
     "start_time": "2018-07-28T17:32:46.716781Z"
    },
    "collapsed": true
   },
   "outputs": [],
   "source": [
    "def p_fitness(s_fit_arr):\n",
    "    sum = 0\n",
    "    for elem in s_fit_arr:\n",
    "        sum = sum + elem\n",
    "    return sum/len(s_fit_arr)"
   ]
  },
  {
   "cell_type": "code",
   "execution_count": 29,
   "metadata": {
    "ExecuteTime": {
     "end_time": "2018-07-28T17:32:46.802730Z",
     "start_time": "2018-07-28T17:32:46.747767Z"
    },
    "collapsed": true
   },
   "outputs": [],
   "source": [
    "def opt_seq(pro_seq, struct2, x, lim=(1/3)(len(pro_seq))):\n",
    "    t=0\n",
    "    k=ChouFasman(pro_seq)\n",
    "    best=struct_fitness(k,struct2)\n",
    "    h, b, c = seq_score(pro_seq,x)\n",
    "    n=initial_state(pro_seq,h,b,c)\n",
    "#    best=struct_fitness(state,struct2_1)\n",
    "            \n",
    "    while(t<lim):\n",
    "#         print(\"curr\", n)\n",
    "        h1, b1 ,c1=Next_Score(n,h,b,c,x)\n",
    "        new=Next_State(n,h1,b1,c1)\n",
    "#         print(\"new \", new)\n",
    "        p=struct_fitness(new,struct2)\n",
    "        if (p>best):\n",
    "            best=p\n",
    "            h=h1\n",
    "            b=b1\n",
    "            c=c1\n",
    "            n=new\n",
    "            temp=new\n",
    "        else:\n",
    "            temp=n\n",
    "            n=new\n",
    "            h=h1\n",
    "            b=b1\n",
    "            c=c1\n",
    "        #p=struct_fitness(new,struct2_1)\n",
    "        #if (p>best):\n",
    "        #    best=p\n",
    "        t=t+1    \n",
    "    return new,p"
   ]
  },
  {
   "cell_type": "code",
   "execution_count": 30,
   "metadata": {
    "ExecuteTime": {
     "end_time": "2018-07-28T17:32:46.821720Z",
     "start_time": "2018-07-28T17:32:46.805729Z"
    },
    "collapsed": true
   },
   "outputs": [],
   "source": [
    "def fitness(sequences, structures, x):\n",
    "    b=[]\n",
    "    for sequence,structure in zip(sequences,structures):\n",
    "        (new,best)=opt_seq(sequence,structure,x)\n",
    "        b.append(best)\n",
    "    fitness=p_fitness(b)\n",
    "    return fitness"
   ]
  },
  {
   "cell_type": "code",
   "execution_count": 31,
   "metadata": {
    "ExecuteTime": {
     "end_time": "2018-07-28T17:32:47.214500Z",
     "start_time": "2018-07-28T17:32:46.825718Z"
    },
    "collapsed": true
   },
   "outputs": [],
   "source": [
    "class PSO:\n",
    "    def __init__(self, c1=1, c2=1, w=1, N=10):\n",
    "        self.N = N\n",
    "        self.c1 = c1\n",
    "        self.c2 = c2\n",
    "        self.w = w\n",
    "        \n",
    "        self.state_trail = []\n",
    "        self.fitness_trail = []\n",
    "        \n",
    "        self.velocity = []\n",
    "        self.population = []\n",
    "        self.fitness = []\n",
    "        \n",
    "        self.local_best = []\n",
    "        self.local_best_fitness = []\n",
    "        \n",
    "        self.global_best = None\n",
    "        self.global_best_fitness = 0\n",
    "        \n",
    "        for i in tqdm.tqdm_notebook(range(0,self.N)):\n",
    "            self.velocity.append([0,0,0,0,0,0,0,0,0,0,0])\n",
    "            x = Rand_num()\n",
    "            self.population.append(x)\n",
    "            self.local_best.append(x)\n",
    "            p = fitness([protein1,protein2,protein3], [struct2_1,struct2_2,struct2_3], x)\n",
    "            self.fitness.append(p)\n",
    "            self.local_best.append(x)\n",
    "            self.local_best_fitness.append(p)\n",
    "            \n",
    "            self.state_trail.append([x])\n",
    "            self.fitness_trail.append([p])\n",
    "            \n",
    "            if (self.global_best_fitness < p):\n",
    "                self.global_best_fitness = p\n",
    "                self.global_best = x\n",
    "    \n",
    "    def subtract(self, v1, v2):\n",
    "        return [\n",
    "            x - y\n",
    "            for x, y in zip(v1, v2)\n",
    "        ]\n",
    "    \n",
    "    def multiply(self, x, v):\n",
    "        return [\n",
    "            x * i\n",
    "            for i in v\n",
    "        ]\n",
    "    \n",
    "    def add(self, v1, v2):\n",
    "        return [\n",
    "            x + y\n",
    "            for x, y in zip(v1, v2)\n",
    "        ]\n",
    "    \n",
    "    def new_velocity(self, i):\n",
    "        v = self.velocity[i]\n",
    "        old_v = self.velocity[i]\n",
    "        \n",
    "        g = self.global_best\n",
    "        x = self.population[i]\n",
    "        x_b=self.local_best[i]\n",
    "        \n",
    "        r1=random.random()\n",
    "        r2=random.random()\n",
    "        \n",
    "        result = self.multiply(self.w, v)\n",
    "        result = self.add(result, self.multiply(r1 * self.c1, self.subtract(x_b, x)))\n",
    "        result = self.add(result, self.multiply(r2 * self.c2, self.subtract(g, x)))\n",
    "        return result\n",
    "    \n",
    "    def update_position(self, i):\n",
    "        v = self.new_velocity(i)\n",
    "        self.velocity[i] = v\n",
    "        \n",
    "        x = self.add(self.population[i], self.velocity[i])\n",
    "        p = fitness([protein1,protein2,protein3], [struct2_1,struct2_2,struct2_3], x)\n",
    "            \n",
    "        self.population[i] = x\n",
    "        self.fitness[i] = p\n",
    "        \n",
    "        self.fitness_trail[i].append(p)\n",
    "        self.state_trail[i].append(x)\n",
    "        \n",
    "        if (p >= self.local_best_fitness[i]):\n",
    "            self.local_best[i] = x\n",
    "            self.local_best_fitness[i] = p\n",
    "        \n",
    "        if (p >= self.global_best_fitness):\n",
    "            self.global_best = x\n",
    "            self.global_best_fitness=p\n",
    "    \n",
    "    def step(self):\n",
    "        for i in tqdm.tqdm_notebook(range(self.N)):\n",
    "            self.update_position(i)\n",
    "    \n",
    "    def plot_trails(self):\n",
    "        for i in range(self.N):\n",
    "            plt.plot(range(len(self.fitness_trail[i])), self.fitness_trail[i])"
   ]
  },
  {
   "cell_type": "code",
   "execution_count": 32,
   "metadata": {
    "ExecuteTime": {
     "end_time": "2018-07-28T17:32:48.529743Z",
     "start_time": "2018-07-28T17:32:47.218494Z"
    }
   },
   "outputs": [
    {
     "data": {
      "application/vnd.jupyter.widget-view+json": {
       "model_id": "58b3e7646f044b83bb08a4dd5046ee8f",
       "version_major": 2,
       "version_minor": 0
      },
      "text/plain": [
       "A Jupyter Widget"
      ]
     },
     "metadata": {},
     "output_type": "display_data"
    },
    {
     "name": "stdout",
     "output_type": "stream",
     "text": [
      "\n"
     ]
    }
   ],
   "source": [
    "pso = PSO(N=10)"
   ]
  },
  {
   "cell_type": "code",
   "execution_count": 33,
   "metadata": {
    "ExecuteTime": {
     "end_time": "2018-07-28T17:33:13.588547Z",
     "start_time": "2018-07-28T17:33:11.793001Z"
    },
    "scrolled": false
   },
   "outputs": [
    {
     "data": {
      "application/vnd.jupyter.widget-view+json": {
       "model_id": "9c319fed64d4448488a9da84ab25dc84",
       "version_major": 2,
       "version_minor": 0
      },
      "text/plain": [
       "A Jupyter Widget"
      ]
     },
     "metadata": {},
     "output_type": "display_data"
    },
    {
     "name": "stdout",
     "output_type": "stream",
     "text": [
      "\n",
      "0.6984835205694102\n"
     ]
    },
    {
     "data": {
      "text/plain": [
       "[0.48865626711862753,\n",
       " 0.21287108000132882,\n",
       " 0.09239686479744802,\n",
       " 0.2360425216048445,\n",
       " 0.6493283378173205,\n",
       " 0.44809874470473343,\n",
       " 0.31690928256994044,\n",
       " 0.35666318767773375,\n",
       " 0.21002402690659375,\n",
       " 0.3655593253737429,\n",
       " 1.0987349981600278]"
      ]
     },
     "execution_count": 33,
     "metadata": {},
     "output_type": "execute_result"
    },
    {
     "data": {
      "image/png": "[encoded data removed]",
      "text/plain": [
       "<matplotlib.figure.Figure at 0x234ce562940>"
      ]
     },
     "metadata": {},
     "output_type": "display_data"
    }
   ],
   "source": [
    "pso.step()\n",
    "pso.plot_trails()\n",
    "print(pso.global_best_fitness)\n",
    "pso.global_best"
   ]
  },
  {
   "cell_type": "code",
   "execution_count": 17,
   "metadata": {
    "ExecuteTime": {
     "end_time": "2018-07-28T17:32:21.059201Z",
     "start_time": "2018-07-28T17:32:17.561493Z"
    },
    "collapsed": true
   },
   "outputs": [],
   "source": []
  },
  {
   "cell_type": "code",
   "execution_count": null,
   "metadata": {
    "ExecuteTime": {
     "end_time": "2018-06-14T13:52:49.582099Z",
     "start_time": "2018-06-14T13:52:49.405201Z"
    },
    "collapsed": true
   },
   "outputs": [],
   "source": []
  },
  {
   "cell_type": "code",
   "execution_count": null,
   "metadata": {
    "collapsed": true
   },
   "outputs": [],
   "source": []
  },
  {
   "cell_type": "code",
   "execution_count": 27,
   "metadata": {
    "ExecuteTime": {
     "end_time": "2018-07-04T19:53:06.472675Z",
     "start_time": "2018-07-04T19:53:06.332007Z"
    },
    "collapsed": true
   },
   "outputs": [],
   "source": [
    "pso.update_position(0)"
   ]
  },
  {
   "cell_type": "code",
   "execution_count": null,
   "metadata": {
    "collapsed": true
   },
   "outputs": [],
   "source": []
  },
  {
   "cell_type": "code",
   "execution_count": 28,
   "metadata": {
    "ExecuteTime": {
     "end_time": "2018-07-04T19:53:06.816343Z",
     "start_time": "2018-07-04T19:53:06.800722Z"
    },
    "collapsed": true
   },
   "outputs": [],
   "source": [
    "v1 = [1, 2, 3]"
   ]
  },
  {
   "cell_type": "code",
   "execution_count": 29,
   "metadata": {
    "ExecuteTime": {
     "end_time": "2018-07-04T19:53:07.097575Z",
     "start_time": "2018-07-04T19:53:07.081956Z"
    },
    "collapsed": true
   },
   "outputs": [],
   "source": [
    "v2 = [4, 5, 6]"
   ]
  },
  {
   "cell_type": "code",
   "execution_count": 30,
   "metadata": {
    "ExecuteTime": {
     "end_time": "2018-07-04T19:53:07.378824Z",
     "start_time": "2018-07-04T19:53:07.347571Z"
    }
   },
   "outputs": [
    {
     "data": {
      "text/plain": [
       "[5, 7, 9]"
      ]
     },
     "execution_count": 30,
     "metadata": {},
     "output_type": "execute_result"
    }
   ],
   "source": [
    "[x + y for x, y in zip(v1, v2)]"
   ]
  },
  {
   "cell_type": "code",
   "execution_count": null,
   "metadata": {
    "collapsed": true
   },
   "outputs": [],
   "source": []
  },
  {
   "cell_type": "code",
   "execution_count": null,
   "metadata": {
    "collapsed": true
   },
   "outputs": [],
   "source": []
  },
  {
   "cell_type": "code",
   "execution_count": null,
   "metadata": {
    "collapsed": true
   },
   "outputs": [],
   "source": []
  },
  {
   "cell_type": "code",
   "execution_count": null,
   "metadata": {
    "collapsed": true
   },
   "outputs": [],
   "source": []
  },
  {
   "cell_type": "code",
   "execution_count": null,
   "metadata": {
    "collapsed": true
   },
   "outputs": [],
   "source": []
  },
  {
   "cell_type": "code",
   "execution_count": null,
   "metadata": {
    "collapsed": true
   },
   "outputs": [],
   "source": []
  },
  {
   "cell_type": "code",
   "execution_count": null,
   "metadata": {
    "collapsed": true
   },
   "outputs": [],
   "source": []
  },
  {
   "cell_type": "code",
   "execution_count": null,
   "metadata": {
    "collapsed": true
   },
   "outputs": [],
   "source": []
  },
  {
   "cell_type": "code",
   "execution_count": null,
   "metadata": {
    "collapsed": true
   },
   "outputs": [],
   "source": []
  },
  {
   "cell_type": "code",
   "execution_count": null,
   "metadata": {
    "collapsed": true
   },
   "outputs": [],
   "source": []
  }
 ],
 "metadata": {
  "kernelspec": {
   "display_name": "Python 3",
   "language": "python",
   "name": "python3"
  },
  "language_info": {
   "codemirror_mode": {
    "name": "ipython",
    "version": 3
   },
   "file_extension": ".py",
   "mimetype": "text/x-python",
   "name": "python",
   "nbconvert_exporter": "python",
   "pygments_lexer": "ipython3",
   "version": "3.6.2"
  }
 },
 "nbformat": 4,
 "nbformat_minor": 2
}
