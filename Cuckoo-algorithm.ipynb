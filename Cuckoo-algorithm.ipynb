{
 "cells": [
  {
   "cell_type": "code",
   "execution_count": 1,
   "metadata": {
    "ExecuteTime": {
     "end_time": "2018-07-08T12:00:18.622643Z",
     "start_time": "2018-07-08T12:00:18.513276Z"
    },
    "collapsed": true
   },
   "outputs": [],
   "source": [
    "import random\n",
    "from collections import namedtuple\n",
    "import tqdm"
   ]
  },
  {
   "cell_type": "code",
   "execution_count": 2,
   "metadata": {
    "ExecuteTime": {
     "end_time": "2018-07-08T12:00:21.831419Z",
     "start_time": "2018-07-08T12:00:19.241723Z"
    },
    "collapsed": true
   },
   "outputs": [],
   "source": [
    "%matplotlib inline\n",
    "import matplotlib.pyplot as plt"
   ]
  },
  {
   "cell_type": "code",
   "execution_count": 3,
   "metadata": {
    "ExecuteTime": {
     "end_time": "2018-07-08T12:00:21.846980Z",
     "start_time": "2018-07-08T12:00:21.831419Z"
    },
    "collapsed": true
   },
   "outputs": [],
   "source": [
    "random.seed()"
   ]
  },
  {
   "cell_type": "code",
   "execution_count": 4,
   "metadata": {
    "ExecuteTime": {
     "end_time": "2018-07-08T12:00:21.890818Z",
     "start_time": "2018-07-08T12:00:21.846980Z"
    },
    "collapsed": true
   },
   "outputs": [],
   "source": [
    "def Rand_num():\n",
    "    x=[random.random(),\n",
    "    random.random(),\n",
    "    random.random(),\n",
    "    random.random(),\n",
    "    random.random(),\n",
    "    random.random(),\n",
    "    random.random(),\n",
    "    random.random(),\n",
    "    random.random(),\n",
    "    random.random(),\n",
    "    random.random()]\n",
    "    return x\n",
    "    "
   ]
  },
  {
   "cell_type": "code",
   "execution_count": 5,
   "metadata": {
    "ExecuteTime": {
     "end_time": "2018-07-08T12:00:27.243253Z",
     "start_time": "2018-07-08T12:00:22.438320Z"
    },
    "collapsed": true
   },
   "outputs": [],
   "source": [
    "#! /usr/bin/env python\n",
    "\n",
    "# Summary:\n",
    "#   An implementation of the Chou-Fasman algorithm\n",
    "# Authors:\n",
    "#   Samuel A. Rebelsky (layout of the program see:\n",
    "#   http://www.cs.grinnell.edu/~rebelsky/ExBioPy/Projects/project-7.5.html)\n",
    "#   Nicolas Girault\n",
    "\n",
    "\n",
    "import string\n",
    "import sys\n",
    "\n",
    "\n",
    "#protein1 = 'MKIDAIVGRNSAKDIRTEERARVQLGNVVTAAALHGGIRISDQTTNSVETVVGKGESRVLIGNEYGGKGFWDNHHHHHH'\n",
    "#protein2 = 'MRRYEVNIVLNPNLDQSQLALEKEIIQRALENYGARVEKVAILGLRRLAYPIAKDPQGYFLWYQVEMPEDRVNDLARELRIRDNVRRVMVVKSQEPFLANA'\n",
    "#protein3 = 'MVGLTTLFWLGAIGMLVGTLAFAWAGRDAGSGERRYYVTLVGISGIAAVAYVVMALGVGWVPVAERTVFAPRYIDWILTTPLIVYFLGLLAGLDSREFGIVITLNTVVMLAGFAGAMVPGIERYALFGMGAVAFLGLVYYLVGPMTESASQRSSGIKSLYVRLRNLTVILWAIYPFIWLLGPPGVALLTPTVDVALIVYLDLVTKVGFGFIALDAAATLRAEHGESLAGVDTDAPAVAD'\n",
    "\n",
    "# The Chou-Fasman table, with rows of the table indexed by amino acid name.\n",
    "#   Data copied, pasted, and reformatted from \n",
    "#     http://prowl.rockefeller.edu/aainfo/chou.htm\n",
    "# Columns are          SYM,P(a), P(b),P(turn), f(i),   f(i+1), f(i+2), f(i+3)\n",
    "\n",
    "CF = {}\n",
    "CF['Alanine']       = ['A', 142,   83,   66,   0.06,   0.076,  0.035,  0.058]\n",
    "CF['Arginine']      = ['R',  98,   93,   95,   0.070,  0.106,  0.099,  0.085]\n",
    "CF['Aspartic Acid'] = ['N', 101,   54,  146,   0.147,  0.110,  0.179,  0.081]\n",
    "CF['Asparagine']    = ['D',  67,   89,  156,   0.161,  0.083,  0.191,  0.091]\n",
    "CF['Cysteine']      = ['C',  70,  119,  119,   0.149,  0.050,  0.117,  0.128]\n",
    "CF['Glutamic Acid'] = ['E', 151,   37,   74,   0.056,  0.060,  0.077,  0.064]\n",
    "CF['Glutamine']     = ['Q', 111,  110,   98,   0.074,  0.098,  0.037,  0.098]\n",
    "CF['Glycine']       = ['G',  57,   75,  156,   0.102,  0.085,  0.190,  0.152]\n",
    "CF['Histidine']     = ['H', 100,   87,   95,   0.140,  0.047,  0.093,  0.054]\n",
    "CF['Isoleucine']    = ['I', 108,  160,   47,   0.043,  0.034,  0.013,  0.056]\n",
    "CF['Leucine']       = ['L', 121,  130,   59,   0.061,  0.025,  0.036,  0.070]\n",
    "CF['Lysine']        = ['K', 114,   74,  101,   0.055,  0.115,  0.072,  0.095]\n",
    "CF['Methionine']    = ['M', 145,  105,   60,   0.068,  0.082,  0.014,  0.055]\n",
    "CF['Phenylalanine'] = ['F', 113,  138,   60,   0.059,  0.041,  0.065,  0.065]\n",
    "CF['Proline']       = ['P',  57,   55,  152,   0.102,  0.301,  0.034,  0.068]\n",
    "CF['Serine']        = ['S',  77,   75,  143,   0.120,  0.139,  0.125,  0.106]\n",
    "CF['Threonine']     = ['T',  83,  119,   96,   0.086,  0.108,  0.065,  0.079]\n",
    "CF['Tryptophan']    = ['W', 108,  137,   96,   0.077,  0.013,  0.064,  0.167]\n",
    "CF['Tyrosine']      = ['Y',  69,  147,  114,   0.082,  0.065,  0.114,  0.125]\n",
    "CF['Valine']        = ['V', 106,  170,   50,   0.062,  0.048,  0.028,  0.053]\n",
    "CF['-']             = ['-', 0  ,  0  ,  0  ,   0    ,  0    ,  0    ,  0    ]\n",
    "aa_names = ['Alanine', 'Arginine', 'Asparagine', 'Aspartic Acid',\n",
    "            'Cysteine', 'Glutamic Acid', 'Glutamine', 'Glycine',\n",
    "            'Histidine', 'Isoleucine', 'Leucine', 'Lysine',\n",
    "            'Methionine', 'Phenylalanine', 'Proline', 'Serine',\n",
    "            'Threonine', 'Tryptophan', 'Tyrosine', 'Valine','-']\n",
    "\n",
    "Pa = { }\n",
    "Pb = { }\n",
    "Pturn = { }\n",
    "F0 = { }\n",
    "F1 = { }\n",
    "F2 = { }\n",
    "F3 = { }\n",
    "\n",
    "# Convert the Chou-Fasman table above to more convenient formats\n",
    "#    Note that for any amino acid, aa CF[aa][0] gives the abbreviation\n",
    "#    of the amino acid.\n",
    "for aa in aa_names:\n",
    "    Pa[CF[aa][0]] = CF[aa][1]\n",
    "    Pb[CF[aa][0]] = CF[aa][2]\n",
    "    Pturn[CF[aa][0]] = CF[aa][3]\n",
    "    F0[CF[aa][0]] = CF[aa][4]\n",
    "    F1[CF[aa][0]] = CF[aa][5]\n",
    "    F2[CF[aa][0]] = CF[aa][6]\n",
    "    F3[CF[aa][0]] = CF[aa][7]\n",
    "\n",
    "\n",
    "def CF_find_alpha(seq):\n",
    "    \"\"\"Find all likely alpha helices in sequence.  Returns a list\n",
    "       of [start,end] pairs for the alpha helices.\"\"\"\n",
    "    start = 0\n",
    "    results = []\n",
    "    # Try each window\n",
    "    while (start + 6 < len(seq)):\n",
    "        # Count the number of \"good\" amino acids (those likely to be\n",
    "        # in an alpha helix).\n",
    "        numgood = 0\n",
    "        for i in range(start, start+6):\n",
    "            if (Pa[seq[i]] > 100):\n",
    "                numgood = numgood + 1\n",
    "        if (numgood >= 4):\n",
    "            [estart,end] = CF_extend_alpha(seq, start, start+6)\n",
    "            #print \"Exploring potential alpha \" + str(estart) + \":\" + str(end)\n",
    "            #if (CF_good_alpha(seq[estart:end])):\n",
    "            if [estart,end] not in results:\n",
    "                results.append([estart,end])\n",
    "        # Go on to the next frame\n",
    "        start = start + 1\n",
    "    # That's it, we're done\n",
    "    return results\n",
    "\n",
    "def CF_extend_alpha(seq, start, end):\n",
    "    \"\"\"Extend a potential alpha helix sequence.  Return the endpoints\n",
    "       of the extended sequence.\n",
    "    \"\"\"\n",
    "    # We extend the region in both directions until the average propensity for a set of four \n",
    "    # contiguous residues has Pa( ) < 100, which means we assume the helix ends there\n",
    "\n",
    "    # seq[end-3:end+1] is: x | x | x | END\n",
    "    while ( float(sum([Pa[x] for x in seq[end-3:end+1]])) / float(4) ) > 100 and end < len(seq)-1:\n",
    "        end += 1\n",
    "    # seq[start:start+4] is: START | x | x | x\n",
    "    while ( float(sum([Pa[x] for x in seq[start:start+4]])) / float(4) ) > 100 and start > 0:\n",
    "        start -= 1\n",
    "\n",
    "    return [start,end]\n",
    "\n",
    "#def CF_good_alpha(subseq):\n",
    "#    \"\"\"Determine if a subsequence appears to be an alpha helix.\"\"\"\n",
    "#    sum_Pa = 0\n",
    "#    for aa in subseq:\n",
    "#        sum_Pa = sum_Pa + Pa[aa]\n",
    "#    ave_Pa = sum_Pa/len(subseq)\n",
    "#    # Criteria need to be extended\n",
    "#    return (ave_Pa > 100)\n",
    "\n",
    "def CF_find_beta(seq):\n",
    "    \"\"\"Find all likely beta strands in seq.  Returns a list\n",
    "       of [start,end] pairs for the beta strands.\"\"\"\n",
    "    start = 0\n",
    "    results = []\n",
    "    # Try each window\n",
    "    while (start + 5 < len(seq)):\n",
    "        # Count the number of \"good\" amino acids (those likely to be\n",
    "        # in an beta sheet).\n",
    "        numgood = 0\n",
    "        for i in range(start, start+5):\n",
    "            if (Pb[seq[i]] > 100):\n",
    "                numgood = numgood + 1\n",
    "        if (numgood >= 3):\n",
    "            [estart,end] = CF_extend_beta(seq, start, start+5)\n",
    "            #print \"Exploring potential alpha \" + str(estart) + \":\" + str(end)\n",
    "            #if (CF_good_alpha(seq[estart:end])):\n",
    "            if [estart,end] not in results:\n",
    "                results.append([estart,end])\n",
    "        # Go on to the next frame\n",
    "        start = start + 1\n",
    "    # That's it, we're done\n",
    "    return results\n",
    "\n",
    "def CF_extend_beta(seq, start, end):\n",
    "    \"\"\"Extend a potential beta helix sequence.  Return the endpoints\n",
    "       of the extended sequence.\n",
    "    \"\"\"\n",
    "    # We extend the region in both directions until the average propensity for a set of four \n",
    "    # contiguous residues has Pa( ) < 100, which means we assume the helix ends there\n",
    "\n",
    "    # seq[end-3:end+1] is: x | x | x | END\n",
    "    while ( float(sum([Pb[x] for x in seq[end-3:end+1]])) / float(4) ) > 100 and end < len(seq)-1:\n",
    "        end += 1\n",
    "    # seq[start:start+4] is: START | x | x | x\n",
    "    while ( float(sum([Pb[x] for x in seq[start:start+4]])) / float(4) ) > 100 and start > 0:\n",
    "        start -= 1\n",
    "    return [start,end]\n",
    "\n",
    "\n",
    "def CF_find_turns(seq):\n",
    "    \"\"\"Find all likely beta turns in seq.  Returns a list of positions\n",
    "       which are likely to be turns.\"\"\"\n",
    "    result = []\n",
    "    for i in range(len(seq)-3):\n",
    "    # CONDITION 1\n",
    "        c1 = F0[seq[i]]*F1[seq[i+1]]*F2[seq[i+2]]*F3[seq[i+3]] > 0.000075\n",
    "    # CONDITION 2\n",
    "        c2 = ( float(sum([Pturn[x] for x in seq[i:i+4]])) / float(4) ) > 100\n",
    "    # CONDITION 3\n",
    "        c3 = sum([Pturn[x] for x in seq[i:i+4]]) > max(sum([Pa[x] for x in seq[i:i+4]]),sum([Pb[x] for x in seq[i:i+4]]))\n",
    "        if c1 and c2 and c3:\n",
    "            result.append(i)\n",
    "    return result\n",
    "\n",
    "def region_overlap(region_a, region_b):\n",
    "    \"\"\"Given two regions, represented as two-element lists, determine\n",
    "       if the two regions overlap.\n",
    "    \"\"\"\n",
    "    return (region_a[0] <= region_b[0] <= region_a[1]) or \\\n",
    "           (region_b[0] <= region_a[0] <= region_b[1])\n",
    "          \n",
    "def region_merge(region_a, region_b):\n",
    "    \"\"\"Given two regions, represented as two-element lists, return\n",
    "       the minimum region that contains both regions.\n",
    "    \"\"\"\n",
    "    return [min(region_a[0], region_b[0]), max(region_a[1], region_b[1])]\n",
    "\n",
    "def region_intersect(region_a, region_b):\n",
    "    \"\"\"Given two regions, represented as two-element lists, return\n",
    "       the intersection of the two regions.\n",
    "    \"\"\"\n",
    "    return [max(region_a[0], region_b[0]), min(region_a[1], region_b[1])]\n",
    "\n",
    "def region_difference(region_a, region_b):\n",
    "    \"\"\"Given two regions, represented as two-element lists, return\n",
    "       the part of region_a which in not in region_b.\n",
    "        It can be one or two regions depending on the position\n",
    "        of region_b and its size.\n",
    "    \"\"\"\n",
    "    # region_a start before region_b and stop before region_b\n",
    "    if region_a[0] < region_b[0] and region_a[1] <= region_b[1]:\n",
    "        return [[region_a[0], region_b[0]-1]]\n",
    "    # region_a start after region_b and stop after region_b\n",
    "    elif region_a[0] >= region_b[0] and region_a[1] > region_b[1]:\n",
    "        return [[region_b[1]+1,region_a[1]]]\n",
    "    # region_b is included in region_a => return 2 regions\n",
    "    elif region_a[0] < region_b[0] and region_a[1] > region_b[1]:\n",
    "        return [[region_a[0], region_b[0]-1],[region_b[1]+1,region_a[1]]]\n",
    "    # region_a is included in region_b\n",
    "    else:\n",
    "        return []\n",
    "\n",
    "def ChouFasman(seq):\n",
    "    \"\"\"Analyze seq using the Chou-Fasman algorithm and display\n",
    "       the results.  A represents 'alpha helix'.  B represents \n",
    "       'beta strand'.  T represents \"turn\".  Space represents\n",
    "       'coil structure'.  \n",
    "    \"\"\"\n",
    "\n",
    "    # Find probable locations of alpha helices, beta strands,\n",
    "    # and beta turns.\n",
    "    alphas = CF_find_alpha(seq)\n",
    "    #print \"Alphas = \" + str(alphas)\n",
    "    betas = CF_find_beta(seq)\n",
    "    #print \"Betas = \" + str(betas)\n",
    "    turns = CF_find_turns(seq)\n",
    "    #print \"Turns = \" + str(turns)\n",
    "\n",
    "    # Handle overlapping regions between alpha helix and beta strands\n",
    "    # SEE COMMENT IN MY REPORT: WHY I DONT MERGE THE ALPHA AND BETA REGIONS TOGETHER\n",
    "    '''# First we merge the alpha helix regions together\n",
    "    x = 0\n",
    "    while x < len(alphas)-1:\n",
    "        if region_overlap(alphas[x],alphas[x+1]):\n",
    "            alphas[x] = region_merge(alphas[x],alphas[x+1])\n",
    "            alphas.pop(x+1)\n",
    "        else:\n",
    "          x += 1\n",
    "    print \"Potential alphas = \" + str(alphas)\n",
    "\n",
    "    # The same for beta strand regions\n",
    "    x = 0\n",
    "    while x < len(betas)-1:\n",
    "        if region_overlap(betas[x],betas[x+1]):\n",
    "            betas[x] = region_merge(betas[x],betas[x+1])\n",
    "            betas.pop(x+1)\n",
    "        else:\n",
    "          x += 1\n",
    "    print \"Ptential betas = \" + str(betas)'''\n",
    "\n",
    "\n",
    "    # Then it's really messy!\n",
    "    alphas2 = []\n",
    "    alphas_to_test = alphas\n",
    "    betas_to_test = betas\n",
    "    while len(alphas_to_test) > 0:\n",
    "        alpha = alphas_to_test.pop()\n",
    "        # a_shorten record if the alpha helix region has been shorten\n",
    "        a_shorten = False\n",
    "        for beta in betas_to_test:\n",
    "            if region_overlap(alpha,beta):\n",
    "                inter = region_intersect(alpha,beta)\n",
    "#                 print('Now studying overlap: '+str(inter))\n",
    "                sum_Pa = sum([Pa[seq[i]] for i in range(inter[0],inter[1]+1)])\n",
    "                sum_Pb = sum([Pb[seq[i]] for i in range(inter[0],inter[1]+1)])\n",
    "                \n",
    "                if sum_Pa > sum_Pb:\n",
    "                    # No more uncertainty on this overlap region: it will be a alpha helix\n",
    "                    diff = region_difference(beta,alpha)\n",
    "#                     print('\\tAlpha helix WIN - beta sheet region becomes: '+str(diff))\n",
    "                    for d in diff:\n",
    "                        if d[1]-d[0] > 4:\n",
    "                            betas_to_test.append(d)\n",
    "                    betas_to_test.remove(beta)\n",
    "                else:\n",
    "                    # No more uncertainty on this overlap region: it will be a beta strand\n",
    "                    a_shorten = True\n",
    "                    diff = region_difference(alpha,beta)\n",
    "#                     print('\\tBeta sheet WIN - alpha helix region becomes: '+str(diff))\n",
    "                    for d in diff:\n",
    "                        if d[1]-d[0] > 4:\n",
    "                            alphas_to_test.append(d)\n",
    "        if not a_shorten:\n",
    "            alphas2.append(alpha)\n",
    "\n",
    "    alphas = alphas2\n",
    "    betas = betas_to_test\n",
    "                    \n",
    "                  \n",
    "#     print('final alphas: '+str(alphas))\n",
    "#     print('final betas: '+str(betas))\n",
    "    # Build a sequence of spaces of the same length as seq. \n",
    "    analysis = [' ' for i in range(len(seq))]\n",
    "\n",
    "    # Fill in the predicted alpha helices\n",
    "    for alpha in alphas:\n",
    "        for i in range(alpha[0], alpha[1]):\n",
    "            analysis[i] = 'H'\n",
    "    # Fill in the predicted beta strands \n",
    "    for beta in betas:\n",
    "        for i in range(beta[0], beta[1]):\n",
    "            analysis[i] = 'B'\n",
    "    # Fill in the predicted beta turns\n",
    "    for turn in turns:\n",
    "        analysis[turn] = 'T'\n",
    "\n",
    "    # Turn the analysis and the sequence into strings for ease\n",
    "    # of printing\n",
    "    astr = ''.join(analysis)\n",
    "#    sstr = ''.join(seq)\n",
    "\n",
    "#     print(astr)\n",
    "\n",
    "    return astr\n",
    "#, sstr\n",
    "\n",
    "# if len(sys.argv) != 2:\n",
    "#     print 'Usage: %s [protein1, protein2, protein3]' %sys.argv[0]\n",
    "# elif sys.argv[1] == '-h' or sys.argv[1] == '--help':\n",
    "#     print 'Usage: %s [protein1, protein2, protein3]' %sys.argv[0]\n",
    "# elif sys.argv[1] == 'protein1':\n",
    "#     seq = protein1\n",
    "#     ChouFasman(seq)\n",
    "# elif sys.argv[1] == 'protein2':\n",
    "#     seq = protein2\n",
    "#     ChouFasman(seq)\n",
    "# elif sys.argv[1] == 'protein3':\n",
    "#     seq = protein3\n",
    "#     ChouFasman(seq)\n",
    "# else:\n",
    "#     print 'Usage: %s [protein1, protein2, protein3]' %sys.argv[0]\n",
    "\n"
   ]
  },
  {
   "cell_type": "code",
   "execution_count": 6,
   "metadata": {
    "ExecuteTime": {
     "end_time": "2018-07-08T12:00:27.274482Z",
     "start_time": "2018-07-08T12:00:27.243253Z"
    },
    "collapsed": true
   },
   "outputs": [],
   "source": [
    "protein1='MVLSEGEWQLVLHVWAKVEADVAGHGQDILIRLFKSHPETLEKFDRVKHLKTEAEMKASEDLKKHGVTVLTALGAILKKKGHHEAELKPLAQSHATKHKIPIKYLEFISEAIIHVLHSRHPGNFGADAQGAMNKALELFRKDIAAKYKELGYQG'\n",
    "struct2_1='CCCCHHHHHHHHHHHHHHHHHHHHHHHHHHHHHHHHCHHHHHHCCCCCCCCCHHHHHHCHHHHHHHHHHHHHHHHHHCCCCCCHHHHHHHHHHHHHHCCCCHHHHHHHHHHHHHHHHHHCHHHCCHHHHHHHHHHHHHHHHHHHHHHHHCCCCC'\n",
    "protein2='MNIFEMLRIDEGLRLKIYKDTEGYYTIGIGHLLTKSPSLNAAAKSELDKAIGRNTNGVITKDEAEKLFNQDVDAAVRGILRNAKLKPVYDSLDAVRRAALINMVFQMGETGVAGFTNSLRMLQQKRWDEAAVNLAKSRWYNQTPNRAKRVITTFRTGTWDAYK'\n",
    "struct2_2='CCHHHHHHHHHCCBBBBBBCCCCCBBBBCCBBBBCCCCHHHHHHHHHHHHHCCCCCCBCCHHHHHHHHHHHHHHHHHHHHHCCCHHHHHHHCCHHHHHHHHHHHHHHHHHHHHCCHHHHHHHHCCCHHHHHHHHHCCHHHHHCHHHHHHHHHHHHHCCCHHHC'\n",
    "protein3='MVLSEGEWQLVLHVWAKVEADVAGHGQDILIRLFKSHPETLEKFDRFKHLKTEAEMKASEDLKKAGVTVLTALGAILKKKGHHEAELKPLAQSHATKHKIPIKYLEFISEAIIHVLHSRHPGNFGADAQGAMNKALELFRKDIAAKYKELGYQG'\n",
    "struct2_3='CCCCHHHHHHHHHHHHHHHHHHHHHHHHHHHHHHHHCHHHHHHCCCCCCCCCHHHHHHCHHHHHHHHHHHHHHHHHHCCCCCCHHHHHHHHHHHHHHCCCCHHHHHHHHHHHHHHHHHHCCCCCCHHHHHHHHHHHHHHHHHHHHHHHHHCCCC'\n",
    "protein4='MVLSEGEWQLVLHVWAKVEADVAGHGQDILIRLFKSHPETLEKFDRFKHLKTEAEMKASEDLKKAGVTVLTALGAILKKKGHHEAELKPLAQSHATKHKIPIKYLEFISEAIIHVLHSRHPGNFGADAQGAMNKALELFRKDIAAKYKELGYQG'\n",
    "struct2_4='CCCCHHHHHHHHHHHHHHHHHHHHHHHHHHHHHHHHCHHHHHHCCCCCCCCCHHHHHHCHHHHHHHHHHHHHHHHHHHCCCCCHHHHHHHHHHHHHHCCCCHHHHHHHHHHHHHHHHHHCHHHCCHHHHHHHHHHHHHHHHHHHHHHHHCCCCC'\n",
    "protein5='VLSEGEWQLVLHVWAKVEADVAGHGQDILIRLFKSHPETLEKFDRFKHLKTEAEMKASEDLKKHGVTVLTALGAILKKKGHHEAELKPLAQSHATKHKIPIKYLEFISEAIIHVLHSRHPGDFGADAQGAMNKALELFRKDIAAKYKELGYQG'\n",
    "struct2_5='CCCHHHHHHHHHHHHHHHHHHHHHHHHHHHHHHHHCHHHHHHCCCCCCCCCHHHHHHCHHHHHHHHHHHHHHHHHHCCCCCCHHHHHHHHHHHHHHCCCCHHHHHHHHHHHHHHHHHHCHHHCCHHHHHHHHHHHHHHHHHHHHHHHHHCCCC'\n",
    "protein6='VLSEGEWQLVLHVWAKVEADVAGHGQDILIRLFKSHPETLEKFDRFKHLKTEAEMKASEDLKKHGVTVLTALGAILKKKGHHEAELKPLAQSHATKHKIPIKYLEFISEAIIHVLHSRHPGDFGADAQGAMNKALELFRKDIAAKYKELGYQG'\n",
    "struct2_6='CCCHHHHHHHHHHHHHHHHCHHHHHHHHHHHHHHHCHHHHCCCCCCCCCCCHHHHHHCHHHHHHHHHHHHHHHHHHCCCCCCHHHHHHHHHHHHHHHCCCHHHHHHHHHHHHHHHHHHCCCCCCHHHHHHHHHHHHHHHHHHHHHHHHHCCCC'"
   ]
  },
  {
   "cell_type": "code",
   "execution_count": 7,
   "metadata": {
    "ExecuteTime": {
     "end_time": "2018-07-08T12:00:27.393366Z",
     "start_time": "2018-07-08T12:00:27.274482Z"
    },
    "collapsed": true
   },
   "outputs": [],
   "source": [
    "#Start\n",
    "def seq_score(seq,x):\n",
    "    h=[]\n",
    "    b=[]\n",
    "    c=[]\n",
    "    H=Pa\n",
    "    B=Pb\n",
    "    C=Pturn\n",
    "    avg=sum(x)\n",
    "    H1=dict(H)\n",
    "    B1=dict(B)\n",
    "    C1=dict(C)\n",
    "    names=['A','C','D','E','F','G','H','I','K','L','M','N','P','Q','R','S','T','V','W','Y']\n",
    "    for i in names:\n",
    "        H1[i]=H[i]/(H[i]+B[i]+C[i])\n",
    "        B1[i]=B[i]/(H[i]+B[i]+C[i])\n",
    "        C1[i]=C[i]/(H[i]+B[i]+C[i])\n",
    "    H=H1\n",
    "    B=B1\n",
    "    C=C1\n",
    "    seq = 5*'-' + seq + 5*'-'\n",
    "    \n",
    "    for i in range(5, len(seq)-5):\n",
    "        h0=0\n",
    "        b0=0\n",
    "        c0=0\n",
    "        \n",
    "        for j in range(-5,6):\n",
    "            h0+=H[seq[i-j]]*x[j+5]/avg\n",
    "            b0+=B[seq[i-j]]*x[j+5]/avg\n",
    "            c0+=C[seq[i-j]]*x[j+5]/avg\n",
    "\n",
    "        h.append(h0)\n",
    "        b.append(b0)\n",
    "        c.append(c0)        \n",
    "\n",
    "    return h, b, c"
   ]
  },
  {
   "cell_type": "code",
   "execution_count": 8,
   "metadata": {
    "ExecuteTime": {
     "end_time": "2018-07-08T12:00:27.440239Z",
     "start_time": "2018-07-08T12:00:27.393366Z"
    },
    "collapsed": true
   },
   "outputs": [],
   "source": [
    "def initial_state(Pro_seq,helix,beta,coil):\n",
    "    n=\"\"\n",
    "    k=ChouFasman(Pro_seq)\n",
    "    state=k\n",
    "    newstate=n\n",
    "    for i in range(0,len(state)):\n",
    "        if (state[i]==' '):\n",
    "            n+=\" \"\n",
    "        elif (helix[i]>beta[i]) & (helix[i]>coil[i]):\n",
    "            n+=\"H\"\n",
    "        elif (beta[i]>helix[i]) & (beta[i]>coil[i]):\n",
    "            n+=\"B\"\n",
    "        elif (coil[i]>helix[i]) & (coil[i]>beta[i]):\n",
    "            n+=\"T\"\n",
    "#    print(n)\n",
    "    return n\n"
   ]
  },
  {
   "cell_type": "code",
   "execution_count": 9,
   "metadata": {
    "ExecuteTime": {
     "end_time": "2018-07-08T12:00:27.627205Z",
     "start_time": "2018-07-08T12:00:27.440239Z"
    },
    "collapsed": true
   },
   "outputs": [],
   "source": [
    "def Next_Score(state,helix,beta,coil,x):\n",
    "    helix = 5 * [0] + helix + 5 * [0]\n",
    "    beta = 5 * [0] + beta + 5 * [0]\n",
    "    coil = 5 * [0] + coil + 5 * [0]\n",
    "#    print(helix)\n",
    "#     for i in range(0,5):\n",
    "#         helix.insert(0,0)\n",
    "#         beta.insert(0,0)\n",
    "#         coil.insert(0,0)\n",
    "#         helix.append(0)\n",
    "#         beta.append(0)\n",
    "#         coil.append(0)\n",
    "        \n",
    "    \n",
    "    H1=[]\n",
    "    B1=[]\n",
    "    C1=[]\n",
    "    h1=[]\n",
    "    b1=[]\n",
    "    c1=[]\n",
    "    avg=sum(x)\n",
    "    H1 = list(helix)\n",
    "    B1 = list(beta)\n",
    "    C1 = list(coil)\n",
    "    for i in range(5,len(helix)-5):\n",
    "        H1[i]=helix[i]/(helix[i]+beta[i]+coil[i])\n",
    "        B1[i]=beta[i]/(helix[i]+beta[i]+coil[i])\n",
    "        C1[i]=coil[i]/(helix[i]+beta[i]+coil[i])\n",
    "    helix=H1\n",
    "    beta=B1\n",
    "    coil=C1\n",
    "    state = 5*'-' + state + 5*'-'\n",
    " #   print(state)\n",
    "    for i in range(5, len(state)-5):\n",
    " #       print()\n",
    "        h0=0\n",
    "        b0=0\n",
    "        c0=0\n",
    "        for j in range(-5,6):\n",
    "            if (i-j<0) or (i-j>=len(helix)):\n",
    "                break\n",
    " #           print(helix[i-j]*x[j+5]/avg, helix[i-j], x[j+5], avg, i, j, i-j, x[j+5], sep='\\t')\n",
    "            h0+=helix[i-j]*x[j+5]/avg\n",
    "            b0+=beta[i-j]*x[j+5]/avg\n",
    "            c0+=coil[i-j]*x[j+5]/avg\n",
    "        h1.append(h0)\n",
    "        b1.append(b0)    \n",
    "        c1.append(c0)\n",
    "    \n",
    "    h=h1\n",
    "    b=b1\n",
    "    c=c1\n",
    "    return h ,b ,c"
   ]
  },
  {
   "cell_type": "code",
   "execution_count": 10,
   "metadata": {
    "ExecuteTime": {
     "end_time": "2018-07-08T12:00:27.690634Z",
     "start_time": "2018-07-08T12:00:27.639204Z"
    },
    "collapsed": true
   },
   "outputs": [],
   "source": [
    "def Next_State(state,helix,beta,coil):\n",
    "    n=\"\"\n",
    "    k=state\n",
    "    newstate=n\n",
    "    for i in range(0,len(k)):\n",
    "        if (k[i]==' '):\n",
    "            n+=\" \"\n",
    "        elif (helix[i]>=beta[i]) and (helix[i]>=coil[i]):\n",
    "            n+=\"H\"\n",
    "        elif (beta[i]>=helix[i]) and (beta[i]>=coil[i]):\n",
    "            n+=\"B\"\n",
    "        elif (coil[i]>=helix[i]) and (coil[i]>=beta[i]):\n",
    "            n+=\"T\"\n",
    "\n",
    "    return n\n"
   ]
  },
  {
   "cell_type": "code",
   "execution_count": 11,
   "metadata": {
    "ExecuteTime": {
     "end_time": "2018-07-08T12:00:27.718733Z",
     "start_time": "2018-07-08T12:00:27.692553Z"
    },
    "collapsed": true
   },
   "outputs": [],
   "source": [
    "def struct_fitness(structure1,structure2):\n",
    "    true=0\n",
    "    for i in range(0,len(structure1)):\n",
    "        if (structure1[i]==structure2[i]):\n",
    "            true=true+1\n",
    "    F=true/len(structure1)\n",
    "    return F"
   ]
  },
  {
   "cell_type": "code",
   "execution_count": 12,
   "metadata": {
    "ExecuteTime": {
     "end_time": "2018-07-08T12:00:27.769535Z",
     "start_time": "2018-07-08T12:00:27.722732Z"
    },
    "collapsed": true
   },
   "outputs": [],
   "source": [
    "def p_fitness(s_fit_arr):\n",
    "    sum = 0\n",
    "    for elem in s_fit_arr:\n",
    "        sum = sum + elem\n",
    "    return sum/len(s_fit_arr)"
   ]
  },
  {
   "cell_type": "code",
   "execution_count": 13,
   "metadata": {
    "ExecuteTime": {
     "end_time": "2018-07-08T12:00:27.862061Z",
     "start_time": "2018-07-08T12:00:27.777567Z"
    },
    "collapsed": true
   },
   "outputs": [],
   "source": [
    "def opt_seq(pro_seq, struct2, x, lim=20):\n",
    "    t=0\n",
    "    k=ChouFasman(pro_seq)\n",
    "    best=struct_fitness(k,struct2)\n",
    "    h, b, c = seq_score(pro_seq,x)\n",
    "    n=initial_state(pro_seq,h,b,c)\n",
    "#    best=struct_fitness(state,struct2_1)\n",
    "            \n",
    "    while(t<lim):\n",
    "#         print(\"curr\", n)\n",
    "        h1, b1 ,c1=Next_Score(n,h,b,c,x)\n",
    "        new=Next_State(n,h1,b1,c1)\n",
    "#         print(\"new \", new)\n",
    "        p=struct_fitness(new,struct2)\n",
    "        if (p>best):\n",
    "            best=p\n",
    "            h=h1\n",
    "            b=b1\n",
    "            c=c1\n",
    "            n=new\n",
    "            temp=new\n",
    "        else:\n",
    "            temp=n\n",
    "            n=new\n",
    "            h=h1\n",
    "            b=b1\n",
    "            c=c1\n",
    "        #p=struct_fitness(new,struct2_1)\n",
    "        #if (p>best):\n",
    "        #    best=p\n",
    "        t=t+1    \n",
    "    return new,p"
   ]
  },
  {
   "cell_type": "code",
   "execution_count": 14,
   "metadata": {
    "ExecuteTime": {
     "end_time": "2018-07-08T12:00:28.554299Z",
     "start_time": "2018-07-08T12:00:28.523048Z"
    },
    "collapsed": true
   },
   "outputs": [],
   "source": [
    "def fitness(sequences, structures, x):\n",
    "    b=[]\n",
    "    for sequence,structure in zip(sequences,structures):\n",
    "        (new,best)=opt_seq(sequence,structure,x)\n",
    "        b.append(best)\n",
    "    fitness=p_fitness(b)\n",
    "    return fitness"
   ]
  },
  {
   "cell_type": "code",
   "execution_count": 26,
   "metadata": {
    "ExecuteTime": {
     "end_time": "2018-07-08T14:11:11.856530Z",
     "start_time": "2018-07-08T14:11:11.547668Z"
    },
    "collapsed": true
   },
   "outputs": [],
   "source": [
    "class Cs:\n",
    "    def __init__(self, x, y, population_size=10, m=10, N=20):\n",
    "        self.m = m\n",
    "        self.N = N\n",
    "        self.population_size = population_size\n",
    "        self.population = [\n",
    "            [random.random() for x in range(11)]\n",
    "            for x in range(10)\n",
    "        ]\n",
    "        self.population1=[]\n",
    "        self.x, self.y = x, y\n",
    "        self.history = []\n",
    "        self.global_best = []\n",
    "        self.population.sort(key=lambda x: fitness(self.x, self.y, x), reverse=True)\n",
    "        self.global_best=self.population[:self.m]\n",
    "        for x in self.population:\n",
    "            for j in range(3):\n",
    "                y = list(x)\n",
    "                for i in range(3):\n",
    "                    idx = random.randint(0, len(x) - 1)\n",
    "                    diff = random.uniform(-0.1, 0.1)\n",
    "                    y[idx] = min(max(x[idx] + diff, 0), 1)\n",
    "                self.population1.append(y)\n",
    "        p = fitness(self.x, self.y, self.global_best[0])\n",
    "        self.history.append(p)\n",
    "        self.population1 = self.population1[:self.population_size]\n",
    "    def subtract(self, v1, v2):\n",
    "        return [\n",
    "            x - y\n",
    "            for x, y in zip(v1, v2)\n",
    "        ]\n",
    "    \n",
    "    def add(self, v1, v2):\n",
    "        return [\n",
    "            x + y\n",
    "            for x, y in zip(v1, v2)\n",
    "        ]\n",
    "    \n",
    "    def multiply(self, x, v):\n",
    "        return [\n",
    "            x * z\n",
    "            for z in v\n",
    "        ]\n",
    "    def multiply_v(self, x, y):\n",
    "        return [\n",
    "            a*b\n",
    "            for a, b in zip(x, y)\n",
    "        ]\n",
    "    def update(self):\n",
    "        dmin = []\n",
    "        \n",
    "        d = []\n",
    "        k = []\n",
    "        for x in list(self.population1):\n",
    "            dmin = self.subtract(x,self.global_best[0])\n",
    "            for i in range(1,10):\n",
    "                d = self.subtract(x,self.global_best[i])\n",
    "                a = sum(self.multiply_v(d, d))\n",
    "                b = sum(self.multiply_v(dmin, dmin))\n",
    "                if a < b:\n",
    "                    dmin = d\n",
    "                \n",
    "            d = dmin\n",
    "            l = sum(self.multiply_v(d, d))\n",
    "            k = self.multiply(random.random() * l, d)\n",
    "            k = self.add(x, k)\n",
    "            self.population1.append(k)\n",
    "            \n",
    "        self.population1.sort(key=lambda x: fitness(self.x, self.y, x), reverse=True)\n",
    "        self.population1 = self.population1[:self.population_size]\n",
    "        \n",
    "        self.global_best.extend(self.population1)\n",
    "        \n",
    "        self.global_best.sort(key=lambda x: fitness(self.x, self.y, x), reverse=True)       \n",
    "        self.global_best = self.global_best[:10]\n",
    "        \n",
    "        p = fitness(self.x, self.y, self.global_best[0])\n",
    "        self.history.append(p)\n",
    "        \n",
    "    def cuckoo(self):\n",
    "        for i in tqdm.tqdm_notebook(range(self.N)):\n",
    "            self.update()\n",
    "#            print(self.history)"
   ]
  },
  {
   "cell_type": "code",
   "execution_count": 27,
   "metadata": {
    "ExecuteTime": {
     "end_time": "2018-07-08T14:11:13.495264Z",
     "start_time": "2018-07-08T14:11:12.028085Z"
    },
    "collapsed": true
   },
   "outputs": [],
   "source": [
    "cs = Cs(x = [protein1,protein2,protein3] ,y = [struct2_1,struct2_2,struct2_3])"
   ]
  },
  {
   "cell_type": "code",
   "execution_count": 28,
   "metadata": {
    "ExecuteTime": {
     "end_time": "2018-07-08T14:16:11.097010Z",
     "start_time": "2018-07-08T14:11:13.500247Z"
    },
    "scrolled": false
   },
   "outputs": [
    {
     "data": {
      "application/vnd.jupyter.widget-view+json": {
       "model_id": "0ffee3615937463191106584a676b2ef",
       "version_major": 2,
       "version_minor": 0
      },
      "text/plain": [
       "A Jupyter Widget"
      ]
     },
     "metadata": {},
     "output_type": "display_data"
    },
    {
     "name": "stdout",
     "output_type": "stream",
     "text": [
      "[0.6984835205694102, 0.6984835205694102, 0.6984835205694102, 0.6984835205694102, 0.6984835205694102, 0.6984835205694102, 0.6984835205694102, 0.6984835205694102, 0.6984835205694102, 0.6984835205694102, 0.6984835205694102, 0.6984835205694102, 0.6984835205694102, 0.6984835205694102, 0.6984835205694102, 0.6984835205694102, 0.6984835205694102, 0.6984835205694102, 0.6984835205694102, 0.6984835205694102, 0.6984835205694102]\n"
     ]
    },
    {
     "data": {
      "application/vnd.jupyter.widget-view+json": {
       "model_id": "184b7931cf2b47ab92b84fd397d06dc5",
       "version_major": 2,
       "version_minor": 0
      },
      "text/plain": [
       "A Jupyter Widget"
      ]
     },
     "metadata": {},
     "output_type": "display_data"
    },
    {
     "name": "stdout",
     "output_type": "stream",
     "text": [
      "[0.6800786125939501, 0.6862135819191034, 0.6862135819191034, 0.6862135819191034, 0.6984835205694102, 0.6984835205694102, 0.6984835205694102, 0.6984835205694102, 0.6984835205694102, 0.6984835205694102, 0.6984835205694102, 0.6984835205694102, 0.6984835205694102, 0.6984835205694102, 0.6984835205694102, 0.6984835205694102, 0.6984835205694102, 0.6984835205694102, 0.6984835205694102, 0.6984835205694102, 0.6984835205694102]\n"
     ]
    },
    {
     "data": {
      "application/vnd.jupyter.widget-view+json": {
       "model_id": "9d3a3c18e0cb4dc594c888ea5fcc567d",
       "version_major": 2,
       "version_minor": 0
      },
      "text/plain": [
       "A Jupyter Widget"
      ]
     },
     "metadata": {},
     "output_type": "display_data"
    },
    {
     "name": "stdout",
     "output_type": "stream",
     "text": [
      "[0.6821236023690012, 0.6841685921440522, 0.6841685921440522, 0.6841685921440522, 0.6841685921440522, 0.6841685921440522, 0.6841685921440522, 0.6841685921440522, 0.6841685921440522, 0.6841685921440522, 0.6841685921440522, 0.6841685921440522, 0.6841685921440522, 0.6841685921440522, 0.6841685921440522, 0.6841685921440522, 0.6841685921440522, 0.6841685921440522, 0.6841685921440522, 0.6841685921440522, 0.6841685921440522]\n"
     ]
    },
    {
     "data": {
      "image/png": "[encoded data removed]",
      "text/plain": [
       "<matplotlib.figure.Figure at 0x1d6016adda0>"
      ]
     },
     "metadata": {},
     "output_type": "display_data"
    }
   ],
   "source": [
    "for i in range(3): \n",
    "    cs = Cs(x = [protein1,protein2,protein3] ,y = [struct2_1,struct2_2,struct2_3])\n",
    "    cs.cuckoo()\n",
    "    print(cs.history)\n",
    "    plt.plot(range(len(cs.history)), cs.history)"
   ]
  },
  {
   "cell_type": "code",
   "execution_count": 21,
   "metadata": {
    "ExecuteTime": {
     "end_time": "2018-07-08T12:20:21.600268Z",
     "start_time": "2018-07-08T12:16:44.312159Z"
    },
    "scrolled": true
   },
   "outputs": [
    {
     "data": {
      "application/vnd.jupyter.widget-view+json": {
       "model_id": "e70ed3852dff4be49af619719b3ffb92",
       "version_major": 2,
       "version_minor": 0
      },
      "text/plain": [
       "A Jupyter Widget"
      ]
     },
     "metadata": {},
     "output_type": "display_data"
    },
    {
     "name": "stdout",
     "output_type": "stream",
     "text": [
      "[0.6923485512442568, 0.6964385307943589, 0.6964385307943589, 0.6964385307943589, 0.6964385307943589, 0.6964385307943589, 0.6964385307943589, 0.6964385307943589, 0.6964385307943589, 0.6964385307943589, 0.6964385307943589, 0.6964385307943589, 0.6964385307943589, 0.6964385307943589, 0.6964385307943589, 0.6964385307943589, 0.6964385307943589, 0.6964385307943589, 0.6964385307943589, 0.6964385307943589, 0.6964385307943589]\n"
     ]
    },
    {
     "data": {
      "application/vnd.jupyter.widget-view+json": {
       "model_id": "b004b548b78643fdbb24eb143fc217fd",
       "version_major": 2,
       "version_minor": 0
      },
      "text/plain": [
       "A Jupyter Widget"
      ]
     },
     "metadata": {},
     "output_type": "display_data"
    },
    {
     "name": "stdout",
     "output_type": "stream",
     "text": [
      "[0.6882585716941545, 0.6923485512442568, 0.6923485512442568, 0.6923485512442568, 0.6923485512442568, 0.6923485512442568, 0.6923485512442568, 0.6923485512442568, 0.6923485512442568, 0.6923485512442568, 0.6923485512442568, 0.6923485512442568, 0.6923485512442568, 0.6923485512442568, 0.6923485512442568, 0.6923485512442568, 0.6923485512442568, 0.6923485512442568, 0.6923485512442568, 0.6923485512442568, 0.6923485512442568]\n"
     ]
    },
    {
     "data": {
      "application/vnd.jupyter.widget-view+json": {
       "model_id": "67ea1c8df5434dbc83a3377f713aa54f",
       "version_major": 2,
       "version_minor": 0
      },
      "text/plain": [
       "A Jupyter Widget"
      ]
     },
     "metadata": {},
     "output_type": "display_data"
    },
    {
     "ename": "ZeroDivisionError",
     "evalue": "float division by zero",
     "output_type": "error",
     "traceback": [
      "\u001b[1;31m---------------------------------------------------------------------------\u001b[0m",
      "\u001b[1;31mZeroDivisionError\u001b[0m                         Traceback (most recent call last)",
      "\u001b[1;32m<ipython-input-21-7e7eaa8c037b>\u001b[0m in \u001b[0;36m<module>\u001b[1;34m()\u001b[0m\n\u001b[0;32m      1\u001b[0m \u001b[1;32mfor\u001b[0m \u001b[0mi\u001b[0m \u001b[1;32min\u001b[0m \u001b[0mrange\u001b[0m\u001b[1;33m(\u001b[0m\u001b[1;36m3\u001b[0m\u001b[1;33m)\u001b[0m\u001b[1;33m:\u001b[0m\u001b[1;33m\u001b[0m\u001b[0m\n\u001b[0;32m      2\u001b[0m     \u001b[0mcs\u001b[0m \u001b[1;33m=\u001b[0m \u001b[0mCs\u001b[0m\u001b[1;33m(\u001b[0m\u001b[0mx\u001b[0m \u001b[1;33m=\u001b[0m \u001b[1;33m[\u001b[0m\u001b[0mprotein1\u001b[0m\u001b[1;33m,\u001b[0m\u001b[0mprotein2\u001b[0m\u001b[1;33m,\u001b[0m\u001b[0mprotein3\u001b[0m\u001b[1;33m]\u001b[0m \u001b[1;33m,\u001b[0m\u001b[0my\u001b[0m \u001b[1;33m=\u001b[0m \u001b[1;33m[\u001b[0m\u001b[0mstruct2_1\u001b[0m\u001b[1;33m,\u001b[0m\u001b[0mstruct2_2\u001b[0m\u001b[1;33m,\u001b[0m\u001b[0mstruct2_3\u001b[0m\u001b[1;33m]\u001b[0m\u001b[1;33m)\u001b[0m\u001b[1;33m\u001b[0m\u001b[0m\n\u001b[1;32m----> 3\u001b[1;33m     \u001b[0mcs\u001b[0m\u001b[1;33m.\u001b[0m\u001b[0mcuckoo\u001b[0m\u001b[1;33m(\u001b[0m\u001b[1;33m)\u001b[0m\u001b[1;33m\u001b[0m\u001b[0m\n\u001b[0m\u001b[0;32m      4\u001b[0m     \u001b[0mprint\u001b[0m\u001b[1;33m(\u001b[0m\u001b[0mcs\u001b[0m\u001b[1;33m.\u001b[0m\u001b[0mhistory\u001b[0m\u001b[1;33m)\u001b[0m\u001b[1;33m\u001b[0m\u001b[0m\n\u001b[0;32m      5\u001b[0m     \u001b[0mplt\u001b[0m\u001b[1;33m.\u001b[0m\u001b[0mplot\u001b[0m\u001b[1;33m(\u001b[0m\u001b[0mrange\u001b[0m\u001b[1;33m(\u001b[0m\u001b[0mlen\u001b[0m\u001b[1;33m(\u001b[0m\u001b[0mcs\u001b[0m\u001b[1;33m.\u001b[0m\u001b[0mhistory\u001b[0m\u001b[1;33m)\u001b[0m\u001b[1;33m)\u001b[0m\u001b[1;33m,\u001b[0m \u001b[0mcs\u001b[0m\u001b[1;33m.\u001b[0m\u001b[0mhistory\u001b[0m\u001b[1;33m)\u001b[0m\u001b[1;33m\u001b[0m\u001b[0m\n",
      "\u001b[1;32m<ipython-input-15-daccfe214a39>\u001b[0m in \u001b[0;36mcuckoo\u001b[1;34m(self)\u001b[0m\n\u001b[0;32m     70\u001b[0m     \u001b[1;32mdef\u001b[0m \u001b[0mcuckoo\u001b[0m\u001b[1;33m(\u001b[0m\u001b[0mself\u001b[0m\u001b[1;33m)\u001b[0m\u001b[1;33m:\u001b[0m\u001b[1;33m\u001b[0m\u001b[0m\n\u001b[0;32m     71\u001b[0m         \u001b[1;32mfor\u001b[0m \u001b[0mi\u001b[0m \u001b[1;32min\u001b[0m \u001b[0mtqdm\u001b[0m\u001b[1;33m.\u001b[0m\u001b[0mtqdm_notebook\u001b[0m\u001b[1;33m(\u001b[0m\u001b[0mrange\u001b[0m\u001b[1;33m(\u001b[0m\u001b[0mself\u001b[0m\u001b[1;33m.\u001b[0m\u001b[0mN\u001b[0m\u001b[1;33m)\u001b[0m\u001b[1;33m)\u001b[0m\u001b[1;33m:\u001b[0m\u001b[1;33m\u001b[0m\u001b[0m\n\u001b[1;32m---> 72\u001b[1;33m             \u001b[0mself\u001b[0m\u001b[1;33m.\u001b[0m\u001b[0mupdate\u001b[0m\u001b[1;33m(\u001b[0m\u001b[1;33m)\u001b[0m\u001b[1;33m\u001b[0m\u001b[0m\n\u001b[0m\u001b[0;32m     73\u001b[0m \u001b[1;31m#            print(self.history)\u001b[0m\u001b[1;33m\u001b[0m\u001b[1;33m\u001b[0m\u001b[0m\n",
      "\u001b[1;32m<ipython-input-15-daccfe214a39>\u001b[0m in \u001b[0;36mupdate\u001b[1;34m(self)\u001b[0m\n\u001b[0;32m     57\u001b[0m             \u001b[0mself\u001b[0m\u001b[1;33m.\u001b[0m\u001b[0mpopulation1\u001b[0m\u001b[1;33m.\u001b[0m\u001b[0mappend\u001b[0m\u001b[1;33m(\u001b[0m\u001b[0mk\u001b[0m\u001b[1;33m)\u001b[0m\u001b[1;33m\u001b[0m\u001b[0m\n\u001b[0;32m     58\u001b[0m \u001b[1;33m\u001b[0m\u001b[0m\n\u001b[1;32m---> 59\u001b[1;33m         \u001b[0mself\u001b[0m\u001b[1;33m.\u001b[0m\u001b[0mpopulation1\u001b[0m\u001b[1;33m.\u001b[0m\u001b[0msort\u001b[0m\u001b[1;33m(\u001b[0m\u001b[0mkey\u001b[0m\u001b[1;33m=\u001b[0m\u001b[1;32mlambda\u001b[0m \u001b[0mx\u001b[0m\u001b[1;33m:\u001b[0m \u001b[0mfitness\u001b[0m\u001b[1;33m(\u001b[0m\u001b[0mself\u001b[0m\u001b[1;33m.\u001b[0m\u001b[0mx\u001b[0m\u001b[1;33m,\u001b[0m \u001b[0mself\u001b[0m\u001b[1;33m.\u001b[0m\u001b[0my\u001b[0m\u001b[1;33m,\u001b[0m \u001b[0mx\u001b[0m\u001b[1;33m)\u001b[0m\u001b[1;33m,\u001b[0m \u001b[0mreverse\u001b[0m\u001b[1;33m=\u001b[0m\u001b[1;32mTrue\u001b[0m\u001b[1;33m)\u001b[0m\u001b[1;33m\u001b[0m\u001b[0m\n\u001b[0m\u001b[0;32m     60\u001b[0m         \u001b[0mself\u001b[0m\u001b[1;33m.\u001b[0m\u001b[0mpopulation1\u001b[0m \u001b[1;33m=\u001b[0m \u001b[0mself\u001b[0m\u001b[1;33m.\u001b[0m\u001b[0mpopulation1\u001b[0m\u001b[1;33m[\u001b[0m\u001b[1;33m:\u001b[0m\u001b[0mself\u001b[0m\u001b[1;33m.\u001b[0m\u001b[0mpopulation_size\u001b[0m\u001b[1;33m]\u001b[0m\u001b[1;33m\u001b[0m\u001b[0m\n\u001b[0;32m     61\u001b[0m \u001b[1;33m\u001b[0m\u001b[0m\n",
      "\u001b[1;32m<ipython-input-15-daccfe214a39>\u001b[0m in \u001b[0;36m<lambda>\u001b[1;34m(x)\u001b[0m\n\u001b[0;32m     57\u001b[0m             \u001b[0mself\u001b[0m\u001b[1;33m.\u001b[0m\u001b[0mpopulation1\u001b[0m\u001b[1;33m.\u001b[0m\u001b[0mappend\u001b[0m\u001b[1;33m(\u001b[0m\u001b[0mk\u001b[0m\u001b[1;33m)\u001b[0m\u001b[1;33m\u001b[0m\u001b[0m\n\u001b[0;32m     58\u001b[0m \u001b[1;33m\u001b[0m\u001b[0m\n\u001b[1;32m---> 59\u001b[1;33m         \u001b[0mself\u001b[0m\u001b[1;33m.\u001b[0m\u001b[0mpopulation1\u001b[0m\u001b[1;33m.\u001b[0m\u001b[0msort\u001b[0m\u001b[1;33m(\u001b[0m\u001b[0mkey\u001b[0m\u001b[1;33m=\u001b[0m\u001b[1;32mlambda\u001b[0m \u001b[0mx\u001b[0m\u001b[1;33m:\u001b[0m \u001b[0mfitness\u001b[0m\u001b[1;33m(\u001b[0m\u001b[0mself\u001b[0m\u001b[1;33m.\u001b[0m\u001b[0mx\u001b[0m\u001b[1;33m,\u001b[0m \u001b[0mself\u001b[0m\u001b[1;33m.\u001b[0m\u001b[0my\u001b[0m\u001b[1;33m,\u001b[0m \u001b[0mx\u001b[0m\u001b[1;33m)\u001b[0m\u001b[1;33m,\u001b[0m \u001b[0mreverse\u001b[0m\u001b[1;33m=\u001b[0m\u001b[1;32mTrue\u001b[0m\u001b[1;33m)\u001b[0m\u001b[1;33m\u001b[0m\u001b[0m\n\u001b[0m\u001b[0;32m     60\u001b[0m         \u001b[0mself\u001b[0m\u001b[1;33m.\u001b[0m\u001b[0mpopulation1\u001b[0m \u001b[1;33m=\u001b[0m \u001b[0mself\u001b[0m\u001b[1;33m.\u001b[0m\u001b[0mpopulation1\u001b[0m\u001b[1;33m[\u001b[0m\u001b[1;33m:\u001b[0m\u001b[0mself\u001b[0m\u001b[1;33m.\u001b[0m\u001b[0mpopulation_size\u001b[0m\u001b[1;33m]\u001b[0m\u001b[1;33m\u001b[0m\u001b[0m\n\u001b[0;32m     61\u001b[0m \u001b[1;33m\u001b[0m\u001b[0m\n",
      "\u001b[1;32m<ipython-input-14-3b1117f338dc>\u001b[0m in \u001b[0;36mfitness\u001b[1;34m(sequences, structures, x)\u001b[0m\n\u001b[0;32m      2\u001b[0m     \u001b[0mb\u001b[0m\u001b[1;33m=\u001b[0m\u001b[1;33m[\u001b[0m\u001b[1;33m]\u001b[0m\u001b[1;33m\u001b[0m\u001b[0m\n\u001b[0;32m      3\u001b[0m     \u001b[1;32mfor\u001b[0m \u001b[0msequence\u001b[0m\u001b[1;33m,\u001b[0m\u001b[0mstructure\u001b[0m \u001b[1;32min\u001b[0m \u001b[0mzip\u001b[0m\u001b[1;33m(\u001b[0m\u001b[0msequences\u001b[0m\u001b[1;33m,\u001b[0m\u001b[0mstructures\u001b[0m\u001b[1;33m)\u001b[0m\u001b[1;33m:\u001b[0m\u001b[1;33m\u001b[0m\u001b[0m\n\u001b[1;32m----> 4\u001b[1;33m         \u001b[1;33m(\u001b[0m\u001b[0mnew\u001b[0m\u001b[1;33m,\u001b[0m\u001b[0mbest\u001b[0m\u001b[1;33m)\u001b[0m\u001b[1;33m=\u001b[0m\u001b[0mopt_seq\u001b[0m\u001b[1;33m(\u001b[0m\u001b[0msequence\u001b[0m\u001b[1;33m,\u001b[0m\u001b[0mstructure\u001b[0m\u001b[1;33m,\u001b[0m\u001b[0mx\u001b[0m\u001b[1;33m)\u001b[0m\u001b[1;33m\u001b[0m\u001b[0m\n\u001b[0m\u001b[0;32m      5\u001b[0m         \u001b[0mb\u001b[0m\u001b[1;33m.\u001b[0m\u001b[0mappend\u001b[0m\u001b[1;33m(\u001b[0m\u001b[0mbest\u001b[0m\u001b[1;33m)\u001b[0m\u001b[1;33m\u001b[0m\u001b[0m\n\u001b[0;32m      6\u001b[0m     \u001b[0mfitness\u001b[0m\u001b[1;33m=\u001b[0m\u001b[0mp_fitness\u001b[0m\u001b[1;33m(\u001b[0m\u001b[0mb\u001b[0m\u001b[1;33m)\u001b[0m\u001b[1;33m\u001b[0m\u001b[0m\n",
      "\u001b[1;32m<ipython-input-13-3c92aa3979ab>\u001b[0m in \u001b[0;36mopt_seq\u001b[1;34m(pro_seq, struct2, x, lim)\u001b[0m\n\u001b[0;32m      9\u001b[0m     \u001b[1;32mwhile\u001b[0m\u001b[1;33m(\u001b[0m\u001b[0mt\u001b[0m\u001b[1;33m<\u001b[0m\u001b[0mlim\u001b[0m\u001b[1;33m)\u001b[0m\u001b[1;33m:\u001b[0m\u001b[1;33m\u001b[0m\u001b[0m\n\u001b[0;32m     10\u001b[0m \u001b[1;31m#         print(\"curr\", n)\u001b[0m\u001b[1;33m\u001b[0m\u001b[1;33m\u001b[0m\u001b[0m\n\u001b[1;32m---> 11\u001b[1;33m         \u001b[0mh1\u001b[0m\u001b[1;33m,\u001b[0m \u001b[0mb1\u001b[0m \u001b[1;33m,\u001b[0m\u001b[0mc1\u001b[0m\u001b[1;33m=\u001b[0m\u001b[0mNext_Score\u001b[0m\u001b[1;33m(\u001b[0m\u001b[0mn\u001b[0m\u001b[1;33m,\u001b[0m\u001b[0mh\u001b[0m\u001b[1;33m,\u001b[0m\u001b[0mb\u001b[0m\u001b[1;33m,\u001b[0m\u001b[0mc\u001b[0m\u001b[1;33m,\u001b[0m\u001b[0mx\u001b[0m\u001b[1;33m)\u001b[0m\u001b[1;33m\u001b[0m\u001b[0m\n\u001b[0m\u001b[0;32m     12\u001b[0m         \u001b[0mnew\u001b[0m\u001b[1;33m=\u001b[0m\u001b[0mNext_State\u001b[0m\u001b[1;33m(\u001b[0m\u001b[0mn\u001b[0m\u001b[1;33m,\u001b[0m\u001b[0mh1\u001b[0m\u001b[1;33m,\u001b[0m\u001b[0mb1\u001b[0m\u001b[1;33m,\u001b[0m\u001b[0mc1\u001b[0m\u001b[1;33m)\u001b[0m\u001b[1;33m\u001b[0m\u001b[0m\n\u001b[0;32m     13\u001b[0m \u001b[1;31m#         print(\"new \", new)\u001b[0m\u001b[1;33m\u001b[0m\u001b[1;33m\u001b[0m\u001b[0m\n",
      "\u001b[1;32m<ipython-input-9-9df8e579f9d4>\u001b[0m in \u001b[0;36mNext_Score\u001b[1;34m(state, helix, beta, coil, x)\u001b[0m\n\u001b[0;32m     24\u001b[0m     \u001b[0mC1\u001b[0m \u001b[1;33m=\u001b[0m \u001b[0mlist\u001b[0m\u001b[1;33m(\u001b[0m\u001b[0mcoil\u001b[0m\u001b[1;33m)\u001b[0m\u001b[1;33m\u001b[0m\u001b[0m\n\u001b[0;32m     25\u001b[0m     \u001b[1;32mfor\u001b[0m \u001b[0mi\u001b[0m \u001b[1;32min\u001b[0m \u001b[0mrange\u001b[0m\u001b[1;33m(\u001b[0m\u001b[1;36m5\u001b[0m\u001b[1;33m,\u001b[0m\u001b[0mlen\u001b[0m\u001b[1;33m(\u001b[0m\u001b[0mhelix\u001b[0m\u001b[1;33m)\u001b[0m\u001b[1;33m-\u001b[0m\u001b[1;36m5\u001b[0m\u001b[1;33m)\u001b[0m\u001b[1;33m:\u001b[0m\u001b[1;33m\u001b[0m\u001b[0m\n\u001b[1;32m---> 26\u001b[1;33m         \u001b[0mH1\u001b[0m\u001b[1;33m[\u001b[0m\u001b[0mi\u001b[0m\u001b[1;33m]\u001b[0m\u001b[1;33m=\u001b[0m\u001b[0mhelix\u001b[0m\u001b[1;33m[\u001b[0m\u001b[0mi\u001b[0m\u001b[1;33m]\u001b[0m\u001b[1;33m/\u001b[0m\u001b[1;33m(\u001b[0m\u001b[0mhelix\u001b[0m\u001b[1;33m[\u001b[0m\u001b[0mi\u001b[0m\u001b[1;33m]\u001b[0m\u001b[1;33m+\u001b[0m\u001b[0mbeta\u001b[0m\u001b[1;33m[\u001b[0m\u001b[0mi\u001b[0m\u001b[1;33m]\u001b[0m\u001b[1;33m+\u001b[0m\u001b[0mcoil\u001b[0m\u001b[1;33m[\u001b[0m\u001b[0mi\u001b[0m\u001b[1;33m]\u001b[0m\u001b[1;33m)\u001b[0m\u001b[1;33m\u001b[0m\u001b[0m\n\u001b[0m\u001b[0;32m     27\u001b[0m         \u001b[0mB1\u001b[0m\u001b[1;33m[\u001b[0m\u001b[0mi\u001b[0m\u001b[1;33m]\u001b[0m\u001b[1;33m=\u001b[0m\u001b[0mbeta\u001b[0m\u001b[1;33m[\u001b[0m\u001b[0mi\u001b[0m\u001b[1;33m]\u001b[0m\u001b[1;33m/\u001b[0m\u001b[1;33m(\u001b[0m\u001b[0mhelix\u001b[0m\u001b[1;33m[\u001b[0m\u001b[0mi\u001b[0m\u001b[1;33m]\u001b[0m\u001b[1;33m+\u001b[0m\u001b[0mbeta\u001b[0m\u001b[1;33m[\u001b[0m\u001b[0mi\u001b[0m\u001b[1;33m]\u001b[0m\u001b[1;33m+\u001b[0m\u001b[0mcoil\u001b[0m\u001b[1;33m[\u001b[0m\u001b[0mi\u001b[0m\u001b[1;33m]\u001b[0m\u001b[1;33m)\u001b[0m\u001b[1;33m\u001b[0m\u001b[0m\n\u001b[0;32m     28\u001b[0m         \u001b[0mC1\u001b[0m\u001b[1;33m[\u001b[0m\u001b[0mi\u001b[0m\u001b[1;33m]\u001b[0m\u001b[1;33m=\u001b[0m\u001b[0mcoil\u001b[0m\u001b[1;33m[\u001b[0m\u001b[0mi\u001b[0m\u001b[1;33m]\u001b[0m\u001b[1;33m/\u001b[0m\u001b[1;33m(\u001b[0m\u001b[0mhelix\u001b[0m\u001b[1;33m[\u001b[0m\u001b[0mi\u001b[0m\u001b[1;33m]\u001b[0m\u001b[1;33m+\u001b[0m\u001b[0mbeta\u001b[0m\u001b[1;33m[\u001b[0m\u001b[0mi\u001b[0m\u001b[1;33m]\u001b[0m\u001b[1;33m+\u001b[0m\u001b[0mcoil\u001b[0m\u001b[1;33m[\u001b[0m\u001b[0mi\u001b[0m\u001b[1;33m]\u001b[0m\u001b[1;33m)\u001b[0m\u001b[1;33m\u001b[0m\u001b[0m\n",
      "\u001b[1;31mZeroDivisionError\u001b[0m: float division by zero"
     ]
    },
    {
     "data": {
      "image/png": "[encoded data removed]",
      "text/plain": [
       "<matplotlib.figure.Figure at 0x1d601392f98>"
      ]
     },
     "metadata": {},
     "output_type": "display_data"
    }
   ],
   "source": [
    "for i in range(3): \n",
    "    cs = Cs(x = [protein1,protein2,protein3] ,y = [struct2_1,struct2_2,struct2_3])\n",
    "    cs.cuckoo()\n",
    "    print(cs.history)\n",
    "    plt.plot(range(len(cs.history)), cs.history)"
   ]
  },
  {
   "cell_type": "code",
   "execution_count": 22,
   "metadata": {
    "ExecuteTime": {
     "end_time": "2018-07-08T12:29:43.342692Z",
     "start_time": "2018-07-08T12:24:38.850993Z"
    }
   },
   "outputs": [
    {
     "data": {
      "application/vnd.jupyter.widget-view+json": {
       "model_id": "8c05f10c7072436aa28baf7367978f2d",
       "version_major": 2,
       "version_minor": 0
      },
      "text/plain": [
       "A Jupyter Widget"
      ]
     },
     "metadata": {},
     "output_type": "display_data"
    },
    {
     "name": "stdout",
     "output_type": "stream",
     "text": [
      "[0.6984835205694102, 0.6984835205694102, 0.6984835205694102, 0.6984835205694102, 0.6984835205694102, 0.6984835205694102, 0.6984835205694102, 0.6984835205694102, 0.6984835205694102, 0.6984835205694102, 0.6984835205694102, 0.6984835205694102, 0.6984835205694102, 0.6984835205694102, 0.6984835205694102, 0.6984835205694102, 0.6984835205694102, 0.6984835205694102, 0.6984835205694102, 0.6984835205694102, 0.6984835205694102]\n"
     ]
    },
    {
     "data": {
      "application/vnd.jupyter.widget-view+json": {
       "model_id": "d63326ae8b7b4bcca1fa082f16e7ab0a",
       "version_major": 2,
       "version_minor": 0
      },
      "text/plain": [
       "A Jupyter Widget"
      ]
     },
     "metadata": {},
     "output_type": "display_data"
    },
    {
     "name": "stdout",
     "output_type": "stream",
     "text": [
      "[0.6984835205694102, 0.6984835205694102, 0.6984835205694102, 0.6984835205694102, 0.6984835205694102, 0.6984835205694102, 0.6984835205694102, 0.6984835205694102, 0.6984835205694102, 0.6984835205694102, 0.6984835205694102, 0.6984835205694102, 0.6984835205694102, 0.6984835205694102, 0.6984835205694102, 0.6984835205694102, 0.6984835205694102, 0.6984835205694102, 0.6984835205694102, 0.6984835205694102, 0.6984835205694102]\n"
     ]
    },
    {
     "data": {
      "application/vnd.jupyter.widget-view+json": {
       "model_id": "4d27dfbf37d04b669c98e40868e78cd5",
       "version_major": 2,
       "version_minor": 0
      },
      "text/plain": [
       "A Jupyter Widget"
      ]
     },
     "metadata": {},
     "output_type": "display_data"
    },
    {
     "name": "stdout",
     "output_type": "stream",
     "text": [
      "[0.6984835205694102, 0.6984835205694102, 0.6984835205694102, 0.6984835205694102, 0.6984835205694102, 0.6984835205694102, 0.6984835205694102, 0.6984835205694102, 0.6984835205694102, 0.6984835205694102, 0.6984835205694102, 0.6984835205694102, 0.6984835205694102, 0.6984835205694102, 0.6984835205694102, 0.6984835205694102, 0.6984835205694102, 0.6984835205694102, 0.6984835205694102, 0.6984835205694102, 0.6984835205694102]\n"
     ]
    },
    {
     "data": {
      "image/png": "[encoded data removed]",
      "text/plain": [
       "<matplotlib.figure.Figure at 0x1d6016f6630>"
      ]
     },
     "metadata": {},
     "output_type": "display_data"
    }
   ],
   "source": [
    "for i in range(3): \n",
    "    cs = Cs(x = [protein1,protein2,protein3] ,y = [struct2_1,struct2_2,struct2_3])\n",
    "    cs.cuckoo()\n",
    "    print(cs.history)\n",
    "    plt.plot(range(len(cs.history)), cs.history)"
   ]
  },
  {
   "cell_type": "code",
   "execution_count": null,
   "metadata": {
    "collapsed": true
   },
   "outputs": [],
   "source": []
  },
  {
   "cell_type": "code",
   "execution_count": null,
   "metadata": {
    "collapsed": true
   },
   "outputs": [],
   "source": []
  },
  {
   "cell_type": "code",
   "execution_count": null,
   "metadata": {
    "collapsed": true
   },
   "outputs": [],
   "source": []
  },
  {
   "cell_type": "code",
   "execution_count": null,
   "metadata": {
    "collapsed": true
   },
   "outputs": [],
   "source": []
  },
  {
   "cell_type": "code",
   "execution_count": null,
   "metadata": {
    "collapsed": true
   },
   "outputs": [],
   "source": []
  },
  {
   "cell_type": "code",
   "execution_count": null,
   "metadata": {
    "collapsed": true
   },
   "outputs": [],
   "source": []
  },
  {
   "cell_type": "code",
   "execution_count": null,
   "metadata": {
    "collapsed": true
   },
   "outputs": [],
   "source": []
  },
  {
   "cell_type": "code",
   "execution_count": null,
   "metadata": {
    "collapsed": true
   },
   "outputs": [],
   "source": []
  }
 ],
 "metadata": {
  "kernelspec": {
   "display_name": "Python 3",
   "language": "python",
   "name": "python3"
  },
  "language_info": {
   "codemirror_mode": {
    "name": "ipython",
    "version": 3
   },
   "file_extension": ".py",
   "mimetype": "text/x-python",
   "name": "python",
   "nbconvert_exporter": "python",
   "pygments_lexer": "ipython3",
   "version": "3.6.2"
  }
 },
 "nbformat": 4,
 "nbformat_minor": 2
}
