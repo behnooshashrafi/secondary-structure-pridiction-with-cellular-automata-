{
 "cells": [
  {
   "cell_type": "code",
   "execution_count": 1,
   "metadata": {
    "ExecuteTime": {
     "end_time": "2018-06-26T15:35:58.508856Z",
     "start_time": "2018-06-26T15:35:57.774514Z"
    }
   },
   "outputs": [],
   "source": [
    "import numpy as np\n",
    "from sklearn import svm"
   ]
  },
  {
   "cell_type": "code",
   "execution_count": null,
   "metadata": {
    "collapsed": true
   },
   "outputs": [],
   "source": []
  },
  {
   "cell_type": "code",
   "execution_count": 2,
   "metadata": {
    "ExecuteTime": {
     "end_time": "2018-06-26T15:35:58.524478Z",
     "start_time": "2018-06-26T15:35:58.508856Z"
    },
    "collapsed": true
   },
   "outputs": [],
   "source": [
    "xs = [\n",
    "    'MVLSEGEWQLVLHVWAKVEADVAGHGQDILIRLFKSHPETLEKFDRVKHLKTEAEMKASEDLKKHGVTVLTALGAILKKKGHHEAELKPLAQSHATKHKIPIKYLEFISEAIIHVLHSRHPGNFGADAQGAMNKALELFRKDIAAKYKELGYQG',\n",
    "    'MNIFEMLRIDEGLRLKIYKDTEGYYTIGIGHLLTKSPSLNAAAKSELDKAIGRNTNGVITKDEAEKLFNQDVDAAVRGILRNAKLKPVYDSLDAVRRAALINMVFQMGETGVAGFTNSLRMLQQKRWDEAAVNLAKSRWYNQTPNRAKRVITTFRTGTWDAYK',\n",
    "    'MVLSEGEWQLVLHVWAKVEADVAGHGQDILIRLFKSHPETLEKFDRFKHLKTEAEMKASEDLKKAGVTVLTALGAILKKKGHHEAELKPLAQSHATKHKIPIKYLEFISEAIIHVLHSRHPGNFGADAQGAMNKALELFRKDIAAKYKELGYQG',\n",
    "    'MVLSEGEWQLVLHVWAKVEADVAGHGQDILIRLFKSHPETLEKFDRFKHLKTEAEMKASEDLKKAGVTVLTALGAILKKKGHHEAELKPLAQSHATKHKIPIKYLEFISEAIIHVLHSRHPGNFGADAQGAMNKALELFRKDIAAKYKELGYQG',\n",
    "    'VLSEGEWQLVLHVWAKVEADVAGHGQDILIRLFKSHPETLEKFDRFKHLKTEAEMKASEDLKKHGVTVLTALGAILKKKGHHEAELKPLAQSHATKHKIPIKYLEFISEAIIHVLHSRHPGDFGADAQGAMNKALELFRKDIAAKYKELGYQG',\n",
    "    'VLSEGEWQLVLHVWAKVEADVAGHGQDILIRLFKSHPETLEKFDRFKHLKTEAEMKASEDLKKHGVTVLTALGAILKKKGHHEAELKPLAQSHATKHKIPIKYLEFISEAIIHVLHSRHPGDFGADAQGAMNKALELFRKDIAAKYKELGYQG'\n",
    "]\n",
    "ys = [\n",
    "    'CCCCHHHHHHHHHHHHHHHHHHHHHHHHHHHHHHHHCHHHHHHCCCCCCCCCHHHHHHCHHHHHHHHHHHHHHHHHHCCCCCCHHHHHHHHHHHHHHCCCCHHHHHHHHHHHHHHHHHHCHHHCCHHHHHHHHHHHHHHHHHHHHHHHHCCCCC',\n",
    "    'CCHHHHHHHHHCCBBBBBBCCCCCBBBBCCBBBBCCCCHHHHHHHHHHHHHCCCCCCBCCHHHHHHHHHHHHHHHHHHHHHCCCHHHHHHHCCHHHHHHHHHHHHHHHHHHHHCCHHHHHHHHCCCHHHHHHHHHCCHHHHHCHHHHHHHHHHHHHCCCHHHC',\n",
    "    'CCCCHHHHHHHHHHHHHHHHHHHHHHHHHHHHHHHHCHHHHHHCCCCCCCCCHHHHHHCHHHHHHHHHHHHHHHHHHCCCCCCHHHHHHHHHHHHHHCCCCHHHHHHHHHHHHHHHHHHCCCCCCHHHHHHHHHHHHHHHHHHHHHHHHHCCCC',\n",
    "    'CCCCHHHHHHHHHHHHHHHHHHHHHHHHHHHHHHHHCHHHHHHCCCCCCCCCHHHHHHCHHHHHHHHHHHHHHHHHHHCCCCCHHHHHHHHHHHHHHCCCCHHHHHHHHHHHHHHHHHHCHHHCCHHHHHHHHHHHHHHHHHHHHHHHHCCCCC',\n",
    "    'CCCHHHHHHHHHHHHHHHHHHHHHHHHHHHHHHHHCHHHHHHCCCCCCCCCHHHHHHCHHHHHHHHHHHHHHHHHHCCCCCCHHHHHHHHHHHHHHCCCCHHHHHHHHHHHHHHHHHHCHHHCCHHHHHHHHHHHHHHHHHHHHHHHHHCCCC',\n",
    "    'CCCHHHHHHHHHHHHHHHHCHHHHHHHHHHHHHHHCHHHHCCCCCCCCCCCHHHHHHCHHHHHHHHHHHHHHHHHHCCCCCCHHHHHHHHHHHHHHHCCCHHHHHHHHHHHHHHHHHHCCCCCCHHHHHHHHHHHHHHHHHHHHHHHHHCCCC'\n",
    "]"
   ]
  },
  {
   "cell_type": "code",
   "execution_count": null,
   "metadata": {
    "collapsed": true
   },
   "outputs": [],
   "source": []
  },
  {
   "cell_type": "code",
   "execution_count": 3,
   "metadata": {
    "ExecuteTime": {
     "end_time": "2018-06-26T15:35:58.586970Z",
     "start_time": "2018-06-26T15:35:58.524478Z"
    },
    "collapsed": true
   },
   "outputs": [],
   "source": [
    "def chr2feat(c):\n",
    "    ALPHABET=' ACDEFGHIKLMNPQRSTVWY'\n",
    "    z = 21 * [0]\n",
    "    z[ALPHABET.index(c)] = 1\n",
    "    return z\n",
    "\n",
    "\n",
    "def seq2feat(seq):\n",
    "    feature=[]\n",
    "    for i in range(len(seq)):\n",
    "        c = seq[i]\n",
    "        z = chr2feat(c)\n",
    "        feature.extend(z)\n",
    "    return feature\n",
    "\n",
    "\n",
    "def st2index(st):\n",
    "    index = []\n",
    "    for i in range(len(st)):\n",
    "        if st[i] == 'H':\n",
    "            index.append(0)\n",
    "        if st[i] == 'B':\n",
    "            index.append(1)\n",
    "        if st[i] == 'C':\n",
    "            index.append(2)\n",
    "            \n",
    "    return index"
   ]
  },
  {
   "cell_type": "code",
   "execution_count": 4,
   "metadata": {
    "ExecuteTime": {
     "end_time": "2018-06-26T15:35:58.618195Z",
     "start_time": "2018-06-26T15:35:58.586970Z"
    },
    "collapsed": true
   },
   "outputs": [],
   "source": [
    "def sliding_window(w):\n",
    "    w = 8 * ' ' + w + 8 * ' '\n",
    "    return [\n",
    "        w[i:i+17]\n",
    "        for i in range(len(w) - 16)\n",
    "    ]"
   ]
  },
  {
   "cell_type": "code",
   "execution_count": null,
   "metadata": {
    "collapsed": true
   },
   "outputs": [],
   "source": []
  },
  {
   "cell_type": "code",
   "execution_count": 16,
   "metadata": {
    "ExecuteTime": {
     "end_time": "2018-06-26T15:42:09.698916Z",
     "start_time": "2018-06-26T15:42:09.636480Z"
    },
    "collapsed": true
   },
   "outputs": [],
   "source": [
    "train_x = [s for x in xs for s in sliding_window(x)]\n",
    "train_y = [s for y in ys for s in y]\n",
    "train_x = [\n",
    "    seq2feat(x)\n",
    "    for x in train_x\n",
    "]\n",
    "train_y = st2index(train_y)"
   ]
  },
  {
   "cell_type": "code",
   "execution_count": null,
   "metadata": {
    "collapsed": true
   },
   "outputs": [],
   "source": []
  },
  {
   "cell_type": "code",
   "execution_count": 19,
   "metadata": {
    "ExecuteTime": {
     "end_time": "2018-06-26T15:42:49.595747Z",
     "start_time": "2018-06-26T15:42:49.580119Z"
    },
    "collapsed": true
   },
   "outputs": [],
   "source": [
    "from sklearn.metrics import accuracy_score"
   ]
  },
  {
   "cell_type": "code",
   "execution_count": 36,
   "metadata": {
    "ExecuteTime": {
     "end_time": "2018-06-26T15:44:14.765731Z",
     "start_time": "2018-06-26T15:44:14.734507Z"
    },
    "collapsed": true
   },
   "outputs": [],
   "source": [
    "clf = svm.SVC(kernel='linear')"
   ]
  },
  {
   "cell_type": "code",
   "execution_count": 37,
   "metadata": {
    "ExecuteTime": {
     "end_time": "2018-06-26T15:44:15.388905Z",
     "start_time": "2018-06-26T15:44:15.170178Z"
    }
   },
   "outputs": [
    {
     "data": {
      "text/plain": [
       "SVC(C=1.0, cache_size=200, class_weight=None, coef0=0.0,\n",
       "  decision_function_shape='ovr', degree=3, gamma='auto', kernel='linear',\n",
       "  max_iter=-1, probability=False, random_state=None, shrinking=True,\n",
       "  tol=0.001, verbose=False)"
      ]
     },
     "execution_count": 37,
     "metadata": {},
     "output_type": "execute_result"
    }
   ],
   "source": [
    "clf.fit(train_x, train_y)"
   ]
  },
  {
   "cell_type": "code",
   "execution_count": 38,
   "metadata": {
    "ExecuteTime": {
     "end_time": "2018-06-26T15:44:15.779563Z",
     "start_time": "2018-06-26T15:44:15.592016Z"
    }
   },
   "outputs": [
    {
     "data": {
      "text/plain": [
       "0.9860365198711063"
      ]
     },
     "execution_count": 38,
     "metadata": {},
     "output_type": "execute_result"
    }
   ],
   "source": [
    "accuracy_score(clf.predict(train_x), train_y)"
   ]
  },
  {
   "cell_type": "code",
   "execution_count": null,
   "metadata": {
    "collapsed": true
   },
   "outputs": [],
   "source": []
  },
  {
   "cell_type": "code",
   "execution_count": null,
   "metadata": {
    "collapsed": true
   },
   "outputs": [],
   "source": []
  },
  {
   "cell_type": "code",
   "execution_count": null,
   "metadata": {
    "collapsed": true
   },
   "outputs": [],
   "source": []
  },
  {
   "cell_type": "code",
   "execution_count": null,
   "metadata": {
    "collapsed": true
   },
   "outputs": [],
   "source": []
  }
 ],
 "metadata": {
  "kernelspec": {
   "display_name": "Python 3",
   "language": "python",
   "name": "python3"
  },
  "language_info": {
   "codemirror_mode": {
    "name": "ipython",
    "version": 3
   },
   "file_extension": ".py",
   "mimetype": "text/x-python",
   "name": "python",
   "nbconvert_exporter": "python",
   "pygments_lexer": "ipython3",
   "version": "3.6.2"
  }
 },
 "nbformat": 4,
 "nbformat_minor": 2
}
