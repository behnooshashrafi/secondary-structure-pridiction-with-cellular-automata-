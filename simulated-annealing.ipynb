{
 "cells": [
  {
   "cell_type": "code",
   "execution_count": 1,
   "metadata": {
    "ExecuteTime": {
     "end_time": "2018-06-28T20:16:16.571714Z",
     "start_time": "2018-06-28T20:16:16.556092Z"
    },
    "collapsed": true
   },
   "outputs": [],
   "source": [
    "import random\n",
    "from collections import namedtuple"
   ]
  },
  {
   "cell_type": "code",
   "execution_count": 2,
   "metadata": {
    "ExecuteTime": {
     "end_time": "2018-06-28T20:16:17.071684Z",
     "start_time": "2018-06-28T20:16:17.040496Z"
    },
    "collapsed": true
   },
   "outputs": [],
   "source": [
    "random.seed()"
   ]
  },
  {
   "cell_type": "code",
   "execution_count": 3,
   "metadata": {
    "ExecuteTime": {
     "end_time": "2018-06-28T20:16:17.181050Z",
     "start_time": "2018-06-28T20:16:17.149807Z"
    },
    "collapsed": true
   },
   "outputs": [],
   "source": [
    "def Rand_num():\n",
    "    x=[random.random(),\n",
    "    random.random(),\n",
    "    random.random(),\n",
    "    random.random(),\n",
    "    random.random(),\n",
    "    random.random(),\n",
    "    random.random(),\n",
    "    random.random(),\n",
    "    random.random(),\n",
    "    random.random(),\n",
    "    random.random()]\n",
    "    return x\n",
    "    "
   ]
  },
  {
   "cell_type": "code",
   "execution_count": 4,
   "metadata": {
    "ExecuteTime": {
     "end_time": "2018-06-28T20:16:17.290424Z",
     "start_time": "2018-06-28T20:16:17.259169Z"
    },
    "collapsed": true
   },
   "outputs": [],
   "source": [
    "x= Rand_num()"
   ]
  },
  {
   "cell_type": "code",
   "execution_count": 5,
   "metadata": {
    "ExecuteTime": {
     "end_time": "2018-06-28T20:16:17.384159Z",
     "start_time": "2018-06-28T20:16:17.352916Z"
    }
   },
   "outputs": [
    {
     "data": {
      "text/plain": [
       "[0.4729220330295214,\n",
       " 0.16500771400382364,\n",
       " 0.49890887383878546,\n",
       " 0.952179094939289,\n",
       " 0.15119705806506167,\n",
       " 0.651453529899373,\n",
       " 0.5598673548118694,\n",
       " 0.5116941552930332,\n",
       " 0.7113029813053849,\n",
       " 0.9891321466562837,\n",
       " 0.26492734725246236]"
      ]
     },
     "execution_count": 5,
     "metadata": {},
     "output_type": "execute_result"
    }
   ],
   "source": [
    "x"
   ]
  },
  {
   "cell_type": "code",
   "execution_count": 6,
   "metadata": {
    "ExecuteTime": {
     "end_time": "2018-06-28T20:16:22.494738Z",
     "start_time": "2018-06-28T20:16:17.951415Z"
    },
    "collapsed": true
   },
   "outputs": [],
   "source": [
    "#! /usr/bin/env python\n",
    "\n",
    "# Summary:\n",
    "#   An implementation of the Chou-Fasman algorithm\n",
    "# Authors:\n",
    "#   Samuel A. Rebelsky (layout of the program see:\n",
    "#   http://www.cs.grinnell.edu/~rebelsky/ExBioPy/Projects/project-7.5.html)\n",
    "#   Nicolas Girault\n",
    "\n",
    "\n",
    "import string\n",
    "import sys\n",
    "\n",
    "\n",
    "#protein1 = 'MKIDAIVGRNSAKDIRTEERARVQLGNVVTAAALHGGIRISDQTTNSVETVVGKGESRVLIGNEYGGKGFWDNHHHHHH'\n",
    "#protein2 = 'MRRYEVNIVLNPNLDQSQLALEKEIIQRALENYGARVEKVAILGLRRLAYPIAKDPQGYFLWYQVEMPEDRVNDLARELRIRDNVRRVMVVKSQEPFLANA'\n",
    "#protein3 = 'MVGLTTLFWLGAIGMLVGTLAFAWAGRDAGSGERRYYVTLVGISGIAAVAYVVMALGVGWVPVAERTVFAPRYIDWILTTPLIVYFLGLLAGLDSREFGIVITLNTVVMLAGFAGAMVPGIERYALFGMGAVAFLGLVYYLVGPMTESASQRSSGIKSLYVRLRNLTVILWAIYPFIWLLGPPGVALLTPTVDVALIVYLDLVTKVGFGFIALDAAATLRAEHGESLAGVDTDAPAVAD'\n",
    "\n",
    "# The Chou-Fasman table, with rows of the table indexed by amino acid name.\n",
    "#   Data copied, pasted, and reformatted from \n",
    "#     http://prowl.rockefeller.edu/aainfo/chou.htm\n",
    "# Columns are          SYM,P(a), P(b),P(turn), f(i),   f(i+1), f(i+2), f(i+3)\n",
    "\n",
    "CF = {}\n",
    "CF['Alanine']       = ['A', 142,   83,   66,   0.06,   0.076,  0.035,  0.058]\n",
    "CF['Arginine']      = ['R',  98,   93,   95,   0.070,  0.106,  0.099,  0.085]\n",
    "CF['Aspartic Acid'] = ['N', 101,   54,  146,   0.147,  0.110,  0.179,  0.081]\n",
    "CF['Asparagine']    = ['D',  67,   89,  156,   0.161,  0.083,  0.191,  0.091]\n",
    "CF['Cysteine']      = ['C',  70,  119,  119,   0.149,  0.050,  0.117,  0.128]\n",
    "CF['Glutamic Acid'] = ['E', 151,   37,   74,   0.056,  0.060,  0.077,  0.064]\n",
    "CF['Glutamine']     = ['Q', 111,  110,   98,   0.074,  0.098,  0.037,  0.098]\n",
    "CF['Glycine']       = ['G',  57,   75,  156,   0.102,  0.085,  0.190,  0.152]\n",
    "CF['Histidine']     = ['H', 100,   87,   95,   0.140,  0.047,  0.093,  0.054]\n",
    "CF['Isoleucine']    = ['I', 108,  160,   47,   0.043,  0.034,  0.013,  0.056]\n",
    "CF['Leucine']       = ['L', 121,  130,   59,   0.061,  0.025,  0.036,  0.070]\n",
    "CF['Lysine']        = ['K', 114,   74,  101,   0.055,  0.115,  0.072,  0.095]\n",
    "CF['Methionine']    = ['M', 145,  105,   60,   0.068,  0.082,  0.014,  0.055]\n",
    "CF['Phenylalanine'] = ['F', 113,  138,   60,   0.059,  0.041,  0.065,  0.065]\n",
    "CF['Proline']       = ['P',  57,   55,  152,   0.102,  0.301,  0.034,  0.068]\n",
    "CF['Serine']        = ['S',  77,   75,  143,   0.120,  0.139,  0.125,  0.106]\n",
    "CF['Threonine']     = ['T',  83,  119,   96,   0.086,  0.108,  0.065,  0.079]\n",
    "CF['Tryptophan']    = ['W', 108,  137,   96,   0.077,  0.013,  0.064,  0.167]\n",
    "CF['Tyrosine']      = ['Y',  69,  147,  114,   0.082,  0.065,  0.114,  0.125]\n",
    "CF['Valine']        = ['V', 106,  170,   50,   0.062,  0.048,  0.028,  0.053]\n",
    "CF['-']             = ['-', 0  ,  0  ,  0  ,   0    ,  0    ,  0    ,  0    ]\n",
    "aa_names = ['Alanine', 'Arginine', 'Asparagine', 'Aspartic Acid',\n",
    "            'Cysteine', 'Glutamic Acid', 'Glutamine', 'Glycine',\n",
    "            'Histidine', 'Isoleucine', 'Leucine', 'Lysine',\n",
    "            'Methionine', 'Phenylalanine', 'Proline', 'Serine',\n",
    "            'Threonine', 'Tryptophan', 'Tyrosine', 'Valine','-']\n",
    "\n",
    "Pa = { }\n",
    "Pb = { }\n",
    "Pturn = { }\n",
    "F0 = { }\n",
    "F1 = { }\n",
    "F2 = { }\n",
    "F3 = { }\n",
    "\n",
    "# Convert the Chou-Fasman table above to more convenient formats\n",
    "#    Note that for any amino acid, aa CF[aa][0] gives the abbreviation\n",
    "#    of the amino acid.\n",
    "for aa in aa_names:\n",
    "    Pa[CF[aa][0]] = CF[aa][1]\n",
    "    Pb[CF[aa][0]] = CF[aa][2]\n",
    "    Pturn[CF[aa][0]] = CF[aa][3]\n",
    "    F0[CF[aa][0]] = CF[aa][4]\n",
    "    F1[CF[aa][0]] = CF[aa][5]\n",
    "    F2[CF[aa][0]] = CF[aa][6]\n",
    "    F3[CF[aa][0]] = CF[aa][7]\n",
    "\n",
    "\n",
    "def CF_find_alpha(seq):\n",
    "    \"\"\"Find all likely alpha helices in sequence.  Returns a list\n",
    "       of [start,end] pairs for the alpha helices.\"\"\"\n",
    "    start = 0\n",
    "    results = []\n",
    "    # Try each window\n",
    "    while (start + 6 < len(seq)):\n",
    "        # Count the number of \"good\" amino acids (those likely to be\n",
    "        # in an alpha helix).\n",
    "        numgood = 0\n",
    "        for i in range(start, start+6):\n",
    "            if (Pa[seq[i]] > 100):\n",
    "                numgood = numgood + 1\n",
    "        if (numgood >= 4):\n",
    "            [estart,end] = CF_extend_alpha(seq, start, start+6)\n",
    "            #print \"Exploring potential alpha \" + str(estart) + \":\" + str(end)\n",
    "            #if (CF_good_alpha(seq[estart:end])):\n",
    "            if [estart,end] not in results:\n",
    "                results.append([estart,end])\n",
    "        # Go on to the next frame\n",
    "        start = start + 1\n",
    "    # That's it, we're done\n",
    "    return results\n",
    "\n",
    "def CF_extend_alpha(seq, start, end):\n",
    "    \"\"\"Extend a potential alpha helix sequence.  Return the endpoints\n",
    "       of the extended sequence.\n",
    "    \"\"\"\n",
    "    # We extend the region in both directions until the average propensity for a set of four \n",
    "    # contiguous residues has Pa( ) < 100, which means we assume the helix ends there\n",
    "\n",
    "    # seq[end-3:end+1] is: x | x | x | END\n",
    "    while ( float(sum([Pa[x] for x in seq[end-3:end+1]])) / float(4) ) > 100 and end < len(seq)-1:\n",
    "        end += 1\n",
    "    # seq[start:start+4] is: START | x | x | x\n",
    "    while ( float(sum([Pa[x] for x in seq[start:start+4]])) / float(4) ) > 100 and start > 0:\n",
    "        start -= 1\n",
    "\n",
    "    return [start,end]\n",
    "\n",
    "#def CF_good_alpha(subseq):\n",
    "#    \"\"\"Determine if a subsequence appears to be an alpha helix.\"\"\"\n",
    "#    sum_Pa = 0\n",
    "#    for aa in subseq:\n",
    "#        sum_Pa = sum_Pa + Pa[aa]\n",
    "#    ave_Pa = sum_Pa/len(subseq)\n",
    "#    # Criteria need to be extended\n",
    "#    return (ave_Pa > 100)\n",
    "\n",
    "def CF_find_beta(seq):\n",
    "    \"\"\"Find all likely beta strands in seq.  Returns a list\n",
    "       of [start,end] pairs for the beta strands.\"\"\"\n",
    "    start = 0\n",
    "    results = []\n",
    "    # Try each window\n",
    "    while (start + 5 < len(seq)):\n",
    "        # Count the number of \"good\" amino acids (those likely to be\n",
    "        # in an beta sheet).\n",
    "        numgood = 0\n",
    "        for i in range(start, start+5):\n",
    "            if (Pb[seq[i]] > 100):\n",
    "                numgood = numgood + 1\n",
    "        if (numgood >= 3):\n",
    "            [estart,end] = CF_extend_beta(seq, start, start+5)\n",
    "            #print \"Exploring potential alpha \" + str(estart) + \":\" + str(end)\n",
    "            #if (CF_good_alpha(seq[estart:end])):\n",
    "            if [estart,end] not in results:\n",
    "                results.append([estart,end])\n",
    "        # Go on to the next frame\n",
    "        start = start + 1\n",
    "    # That's it, we're done\n",
    "    return results\n",
    "\n",
    "def CF_extend_beta(seq, start, end):\n",
    "    \"\"\"Extend a potential beta helix sequence.  Return the endpoints\n",
    "       of the extended sequence.\n",
    "    \"\"\"\n",
    "    # We extend the region in both directions until the average propensity for a set of four \n",
    "    # contiguous residues has Pa( ) < 100, which means we assume the helix ends there\n",
    "\n",
    "    # seq[end-3:end+1] is: x | x | x | END\n",
    "    while ( float(sum([Pb[x] for x in seq[end-3:end+1]])) / float(4) ) > 100 and end < len(seq)-1:\n",
    "        end += 1\n",
    "    # seq[start:start+4] is: START | x | x | x\n",
    "    while ( float(sum([Pb[x] for x in seq[start:start+4]])) / float(4) ) > 100 and start > 0:\n",
    "        start -= 1\n",
    "    return [start,end]\n",
    "\n",
    "\n",
    "def CF_find_turns(seq):\n",
    "    \"\"\"Find all likely beta turns in seq.  Returns a list of positions\n",
    "       which are likely to be turns.\"\"\"\n",
    "    result = []\n",
    "    for i in range(len(seq)-3):\n",
    "    # CONDITION 1\n",
    "        c1 = F0[seq[i]]*F1[seq[i+1]]*F2[seq[i+2]]*F3[seq[i+3]] > 0.000075\n",
    "    # CONDITION 2\n",
    "        c2 = ( float(sum([Pturn[x] for x in seq[i:i+4]])) / float(4) ) > 100\n",
    "    # CONDITION 3\n",
    "        c3 = sum([Pturn[x] for x in seq[i:i+4]]) > max(sum([Pa[x] for x in seq[i:i+4]]),sum([Pb[x] for x in seq[i:i+4]]))\n",
    "        if c1 and c2 and c3:\n",
    "            result.append(i)\n",
    "    return result\n",
    "\n",
    "def region_overlap(region_a, region_b):\n",
    "    \"\"\"Given two regions, represented as two-element lists, determine\n",
    "       if the two regions overlap.\n",
    "    \"\"\"\n",
    "    return (region_a[0] <= region_b[0] <= region_a[1]) or \\\n",
    "           (region_b[0] <= region_a[0] <= region_b[1])\n",
    "          \n",
    "def region_merge(region_a, region_b):\n",
    "    \"\"\"Given two regions, represented as two-element lists, return\n",
    "       the minimum region that contains both regions.\n",
    "    \"\"\"\n",
    "    return [min(region_a[0], region_b[0]), max(region_a[1], region_b[1])]\n",
    "\n",
    "def region_intersect(region_a, region_b):\n",
    "    \"\"\"Given two regions, represented as two-element lists, return\n",
    "       the intersection of the two regions.\n",
    "    \"\"\"\n",
    "    return [max(region_a[0], region_b[0]), min(region_a[1], region_b[1])]\n",
    "\n",
    "def region_difference(region_a, region_b):\n",
    "    \"\"\"Given two regions, represented as two-element lists, return\n",
    "       the part of region_a which in not in region_b.\n",
    "        It can be one or two regions depending on the position\n",
    "        of region_b and its size.\n",
    "    \"\"\"\n",
    "    # region_a start before region_b and stop before region_b\n",
    "    if region_a[0] < region_b[0] and region_a[1] <= region_b[1]:\n",
    "        return [[region_a[0], region_b[0]-1]]\n",
    "    # region_a start after region_b and stop after region_b\n",
    "    elif region_a[0] >= region_b[0] and region_a[1] > region_b[1]:\n",
    "        return [[region_b[1]+1,region_a[1]]]\n",
    "    # region_b is included in region_a => return 2 regions\n",
    "    elif region_a[0] < region_b[0] and region_a[1] > region_b[1]:\n",
    "        return [[region_a[0], region_b[0]-1],[region_b[1]+1,region_a[1]]]\n",
    "    # region_a is included in region_b\n",
    "    else:\n",
    "        return []\n",
    "\n",
    "def ChouFasman(seq):\n",
    "    \"\"\"Analyze seq using the Chou-Fasman algorithm and display\n",
    "       the results.  A represents 'alpha helix'.  B represents \n",
    "       'beta strand'.  T represents \"turn\".  Space represents\n",
    "       'coil structure'.  \n",
    "    \"\"\"\n",
    "\n",
    "    # Find probable locations of alpha helices, beta strands,\n",
    "    # and beta turns.\n",
    "    alphas = CF_find_alpha(seq)\n",
    "    #print \"Alphas = \" + str(alphas)\n",
    "    betas = CF_find_beta(seq)\n",
    "    #print \"Betas = \" + str(betas)\n",
    "    turns = CF_find_turns(seq)\n",
    "    #print \"Turns = \" + str(turns)\n",
    "\n",
    "    # Handle overlapping regions between alpha helix and beta strands\n",
    "    # SEE COMMENT IN MY REPORT: WHY I DONT MERGE THE ALPHA AND BETA REGIONS TOGETHER\n",
    "    '''# First we merge the alpha helix regions together\n",
    "    x = 0\n",
    "    while x < len(alphas)-1:\n",
    "        if region_overlap(alphas[x],alphas[x+1]):\n",
    "            alphas[x] = region_merge(alphas[x],alphas[x+1])\n",
    "            alphas.pop(x+1)\n",
    "        else:\n",
    "          x += 1\n",
    "    print \"Potential alphas = \" + str(alphas)\n",
    "\n",
    "    # The same for beta strand regions\n",
    "    x = 0\n",
    "    while x < len(betas)-1:\n",
    "        if region_overlap(betas[x],betas[x+1]):\n",
    "            betas[x] = region_merge(betas[x],betas[x+1])\n",
    "            betas.pop(x+1)\n",
    "        else:\n",
    "          x += 1\n",
    "    print \"Ptential betas = \" + str(betas)'''\n",
    "\n",
    "\n",
    "    # Then it's really messy!\n",
    "    alphas2 = []\n",
    "    alphas_to_test = alphas\n",
    "    betas_to_test = betas\n",
    "    while len(alphas_to_test) > 0:\n",
    "        alpha = alphas_to_test.pop()\n",
    "        # a_shorten record if the alpha helix region has been shorten\n",
    "        a_shorten = False\n",
    "        for beta in betas_to_test:\n",
    "            if region_overlap(alpha,beta):\n",
    "                inter = region_intersect(alpha,beta)\n",
    "#                 print('Now studying overlap: '+str(inter))\n",
    "                sum_Pa = sum([Pa[seq[i]] for i in range(inter[0],inter[1]+1)])\n",
    "                sum_Pb = sum([Pb[seq[i]] for i in range(inter[0],inter[1]+1)])\n",
    "                \n",
    "                if sum_Pa > sum_Pb:\n",
    "                    # No more uncertainty on this overlap region: it will be a alpha helix\n",
    "                    diff = region_difference(beta,alpha)\n",
    "#                     print('\\tAlpha helix WIN - beta sheet region becomes: '+str(diff))\n",
    "                    for d in diff:\n",
    "                        if d[1]-d[0] > 4:\n",
    "                            betas_to_test.append(d)\n",
    "                    betas_to_test.remove(beta)\n",
    "                else:\n",
    "                    # No more uncertainty on this overlap region: it will be a beta strand\n",
    "                    a_shorten = True\n",
    "                    diff = region_difference(alpha,beta)\n",
    "#                     print('\\tBeta sheet WIN - alpha helix region becomes: '+str(diff))\n",
    "                    for d in diff:\n",
    "                        if d[1]-d[0] > 4:\n",
    "                            alphas_to_test.append(d)\n",
    "        if not a_shorten:\n",
    "            alphas2.append(alpha)\n",
    "\n",
    "    alphas = alphas2\n",
    "    betas = betas_to_test\n",
    "                    \n",
    "                  \n",
    "#     print('final alphas: '+str(alphas))\n",
    "#     print('final betas: '+str(betas))\n",
    "    # Build a sequence of spaces of the same length as seq. \n",
    "    analysis = [' ' for i in range(len(seq))]\n",
    "\n",
    "    # Fill in the predicted alpha helices\n",
    "    for alpha in alphas:\n",
    "        for i in range(alpha[0], alpha[1]):\n",
    "            analysis[i] = 'H'\n",
    "    # Fill in the predicted beta strands \n",
    "    for beta in betas:\n",
    "        for i in range(beta[0], beta[1]):\n",
    "            analysis[i] = 'B'\n",
    "    # Fill in the predicted beta turns\n",
    "    for turn in turns:\n",
    "        analysis[turn] = 'T'\n",
    "\n",
    "    # Turn the analysis and the sequence into strings for ease\n",
    "    # of printing\n",
    "    astr = ''.join(analysis)\n",
    "#    sstr = ''.join(seq)\n",
    "\n",
    "#     print(astr)\n",
    "\n",
    "    return astr\n",
    "#, sstr\n",
    "\n",
    "# if len(sys.argv) != 2:\n",
    "#     print 'Usage: %s [protein1, protein2, protein3]' %sys.argv[0]\n",
    "# elif sys.argv[1] == '-h' or sys.argv[1] == '--help':\n",
    "#     print 'Usage: %s [protein1, protein2, protein3]' %sys.argv[0]\n",
    "# elif sys.argv[1] == 'protein1':\n",
    "#     seq = protein1\n",
    "#     ChouFasman(seq)\n",
    "# elif sys.argv[1] == 'protein2':\n",
    "#     seq = protein2\n",
    "#     ChouFasman(seq)\n",
    "# elif sys.argv[1] == 'protein3':\n",
    "#     seq = protein3\n",
    "#     ChouFasman(seq)\n",
    "# else:\n",
    "#     print 'Usage: %s [protein1, protein2, protein3]' %sys.argv[0]\n",
    "\n"
   ]
  },
  {
   "cell_type": "code",
   "execution_count": 7,
   "metadata": {
    "ExecuteTime": {
     "end_time": "2018-06-28T20:16:22.541611Z",
     "start_time": "2018-06-28T20:16:22.494738Z"
    },
    "collapsed": true
   },
   "outputs": [],
   "source": [
    "protein1='MVLSEGEWQLVLHVWAKVEADVAGHGQDILIRLFKSHPETLEKFDRVKHLKTEAEMKASEDLKKHGVTVLTALGAILKKKGHHEAELKPLAQSHATKHKIPIKYLEFISEAIIHVLHSRHPGNFGADAQGAMNKALELFRKDIAAKYKELGYQG'\n",
    "struct2_1='CCCCHHHHHHHHHHHHHHHHHHHHHHHHHHHHHHHHCHHHHHHCCCCCCCCCHHHHHHCHHHHHHHHHHHHHHHHHHCCCCCCHHHHHHHHHHHHHHCCCCHHHHHHHHHHHHHHHHHHCHHHCCHHHHHHHHHHHHHHHHHHHHHHHHCCCCC'\n",
    "protein2='MNIFEMLRIDEGLRLKIYKDTEGYYTIGIGHLLTKSPSLNAAAKSELDKAIGRNTNGVITKDEAEKLFNQDVDAAVRGILRNAKLKPVYDSLDAVRRAALINMVFQMGETGVAGFTNSLRMLQQKRWDEAAVNLAKSRWYNQTPNRAKRVITTFRTGTWDAYK'\n",
    "struct2_2='CCHHHHHHHHHCCBBBBBBCCCCCBBBBCCBBBBCCCCHHHHHHHHHHHHHCCCCCCBCCHHHHHHHHHHHHHHHHHHHHHCCCHHHHHHHCCHHHHHHHHHHHHHHHHHHHHCCHHHHHHHHCCCHHHHHHHHHCCHHHHHCHHHHHHHHHHHHHCCCHHHC'\n",
    "protein3='MVLSEGEWQLVLHVWAKVEADVAGHGQDILIRLFKSHPETLEKFDRFKHLKTEAEMKASEDLKKAGVTVLTALGAILKKKGHHEAELKPLAQSHATKHKIPIKYLEFISEAIIHVLHSRHPGNFGADAQGAMNKALELFRKDIAAKYKELGYQG'\n",
    "struct2_3='CCCCHHHHHHHHHHHHHHHHHHHHHHHHHHHHHHHHCHHHHHHCCCCCCCCCHHHHHHCHHHHHHHHHHHHHHHHHHCCCCCCHHHHHHHHHHHHHHCCCCHHHHHHHHHHHHHHHHHHCCCCCCHHHHHHHHHHHHHHHHHHHHHHHHHCCCC'\n",
    "protein4='MVLSEGEWQLVLHVWAKVEADVAGHGQDILIRLFKSHPETLEKFDRFKHLKTEAEMKASEDLKKAGVTVLTALGAILKKKGHHEAELKPLAQSHATKHKIPIKYLEFISEAIIHVLHSRHPGNFGADAQGAMNKALELFRKDIAAKYKELGYQG'\n",
    "struct2_4='CCCCHHHHHHHHHHHHHHHHHHHHHHHHHHHHHHHHCHHHHHHCCCCCCCCCHHHHHHCHHHHHHHHHHHHHHHHHHHCCCCCHHHHHHHHHHHHHHCCCCHHHHHHHHHHHHHHHHHHCHHHCCHHHHHHHHHHHHHHHHHHHHHHHHCCCCC'\n",
    "protein5='VLSEGEWQLVLHVWAKVEADVAGHGQDILIRLFKSHPETLEKFDRFKHLKTEAEMKASEDLKKHGVTVLTALGAILKKKGHHEAELKPLAQSHATKHKIPIKYLEFISEAIIHVLHSRHPGDFGADAQGAMNKALELFRKDIAAKYKELGYQG'\n",
    "struct2_5='CCCHHHHHHHHHHHHHHHHHHHHHHHHHHHHHHHHCHHHHHHCCCCCCCCCHHHHHHCHHHHHHHHHHHHHHHHHHCCCCCCHHHHHHHHHHHHHHCCCCHHHHHHHHHHHHHHHHHHCHHHCCHHHHHHHHHHHHHHHHHHHHHHHHHCCCC'\n",
    "protein6='VLSEGEWQLVLHVWAKVEADVAGHGQDILIRLFKSHPETLEKFDRFKHLKTEAEMKASEDLKKHGVTVLTALGAILKKKGHHEAELKPLAQSHATKHKIPIKYLEFISEAIIHVLHSRHPGDFGADAQGAMNKALELFRKDIAAKYKELGYQG'\n",
    "struct2_6='CCCHHHHHHHHHHHHHHHHCHHHHHHHHHHHHHHHCHHHHCCCCCCCCCCCHHHHHHCHHHHHHHHHHHHHHHHHHCCCCCCHHHHHHHHHHHHHHHCCCHHHHHHHHHHHHHHHHHHCCCCCCHHHHHHHHHHHHHHHHHHHHHHHHHCCCC'"
   ]
  },
  {
   "cell_type": "code",
   "execution_count": 8,
   "metadata": {
    "ExecuteTime": {
     "end_time": "2018-06-28T20:16:22.557235Z",
     "start_time": "2018-06-28T20:16:22.541611Z"
    },
    "collapsed": true
   },
   "outputs": [],
   "source": [
    "#k=ChouFasman(protein1)"
   ]
  },
  {
   "cell_type": "code",
   "execution_count": 9,
   "metadata": {
    "ExecuteTime": {
     "end_time": "2018-06-28T20:16:22.588482Z",
     "start_time": "2018-06-28T20:16:22.557235Z"
    },
    "collapsed": true
   },
   "outputs": [],
   "source": [
    "#k"
   ]
  },
  {
   "cell_type": "markdown",
   "metadata": {},
   "source": [
    "# INIT"
   ]
  },
  {
   "cell_type": "code",
   "execution_count": 10,
   "metadata": {
    "ExecuteTime": {
     "end_time": "2018-06-28T20:16:22.682226Z",
     "start_time": "2018-06-28T20:16:22.588482Z"
    },
    "collapsed": true
   },
   "outputs": [],
   "source": [
    "#Start\n",
    "def seq_score(seq,x):\n",
    "    h=[]\n",
    "    b=[]\n",
    "    c=[]\n",
    "    H=Pa\n",
    "    B=Pb\n",
    "    C=Pturn\n",
    "    avg=sum(x)\n",
    "    H1=dict(H)\n",
    "    B1=dict(B)\n",
    "    C1=dict(C)\n",
    "    names=['A','C','D','E','F','G','H','I','K','L','M','N','P','Q','R','S','T','V','W','Y']\n",
    "    for i in names:\n",
    "        H1[i]=H[i]/(H[i]+B[i]+C[i])\n",
    "        B1[i]=B[i]/(H[i]+B[i]+C[i])\n",
    "        C1[i]=C[i]/(H[i]+B[i]+C[i])\n",
    "    H=H1\n",
    "    B=B1\n",
    "    C=C1\n",
    "    seq = 5*'-' + seq + 5*'-'\n",
    "    \n",
    "    for i in range(5, len(seq)-5):\n",
    "        h0=0\n",
    "        b0=0\n",
    "        c0=0\n",
    "        \n",
    "        for j in range(-5,6):\n",
    "            h0+=H[seq[i-j]]*x[j+5]/avg\n",
    "            b0+=B[seq[i-j]]*x[j+5]/avg\n",
    "            c0+=C[seq[i-j]]*x[j+5]/avg\n",
    "\n",
    "        h.append(h0)\n",
    "        b.append(b0)\n",
    "        c.append(c0)        \n",
    "\n",
    "    return h, b, c"
   ]
  },
  {
   "cell_type": "code",
   "execution_count": 11,
   "metadata": {
    "ExecuteTime": {
     "end_time": "2018-06-28T20:16:22.713473Z",
     "start_time": "2018-06-28T20:16:22.682226Z"
    },
    "collapsed": true
   },
   "outputs": [],
   "source": [
    "h, b, c = seq_score(protein2,x)"
   ]
  },
  {
   "cell_type": "code",
   "execution_count": 12,
   "metadata": {
    "ExecuteTime": {
     "end_time": "2018-06-28T20:16:22.760346Z",
     "start_time": "2018-06-28T20:16:22.713473Z"
    },
    "collapsed": true
   },
   "outputs": [],
   "source": [
    "def initial_state(Pro_seq,helix,beta,coil):\n",
    "    n=\"\"\n",
    "    k=ChouFasman(Pro_seq)\n",
    "    state=k\n",
    "    newstate=n\n",
    "    for i in range(0,len(state)):\n",
    "        if (state[i]==' '):\n",
    "            n+=\" \"\n",
    "        elif (helix[i]>beta[i]) & (helix[i]>coil[i]):\n",
    "            n+=\"H\"\n",
    "        elif (beta[i]>helix[i]) & (beta[i]>coil[i]):\n",
    "            n+=\"B\"\n",
    "        elif (coil[i]>helix[i]) & (coil[i]>beta[i]):\n",
    "            n+=\"T\"\n",
    "#    print(n)\n",
    "    return n\n"
   ]
  },
  {
   "cell_type": "code",
   "execution_count": 13,
   "metadata": {
    "ExecuteTime": {
     "end_time": "2018-06-28T20:16:22.791592Z",
     "start_time": "2018-06-28T20:16:22.760346Z"
    },
    "collapsed": true
   },
   "outputs": [],
   "source": [
    "n=initial_state(protein1,h,b,c)"
   ]
  },
  {
   "cell_type": "code",
   "execution_count": 14,
   "metadata": {
    "ExecuteTime": {
     "end_time": "2018-06-28T20:16:22.958831Z",
     "start_time": "2018-06-28T20:16:22.796287Z"
    },
    "collapsed": true
   },
   "outputs": [],
   "source": [
    " def Next_Score(state,helix,beta,coil,x):\n",
    "    helix = 5 * [0] + helix + 5 * [0]\n",
    "    beta = 5 * [0] + beta + 5 * [0]\n",
    "    coil = 5 * [0] + coil + 5 * [0]\n",
    "#    print(helix)\n",
    "#    for i in range(0,5):\n",
    "#        helix.insert(0,0)\n",
    "#        beta.insert(0,0)\n",
    "#        coil.insert(0,0)\n",
    "#        helix.append(0)\n",
    "#        beta.append(0)\n",
    "#        coil.append(0)       \n",
    "    \n",
    "    H1=[]\n",
    "    B1=[]\n",
    "    C1=[]\n",
    "    h1=[]\n",
    "    b1=[]\n",
    "    c1=[]\n",
    "    avg=sum(x)\n",
    "    H1 = list(helix)\n",
    "    B1 = list(beta)\n",
    "    C1 = list(coil)\n",
    "    for i in range(5,len(helix)-5):\n",
    "        H1[i]=helix[i]/(helix[i]+beta[i]+coil[i])\n",
    "        B1[i]=beta[i]/(helix[i]+beta[i]+coil[i])\n",
    "        C1[i]=coil[i]/(helix[i]+beta[i]+coil[i])\n",
    "    helix=H1\n",
    "    beta=B1\n",
    "    coil=C1\n",
    "    state = 5*'-' + state + 5*'-'\n",
    " #   print(state)\n",
    "    for i in range(5, len(state)-5):\n",
    " #       print()\n",
    "        h0=0\n",
    "        b0=0\n",
    "        c0=0\n",
    "        for j in range(-5,6):\n",
    "            if (i-j<0) or (i-j>=len(helix)):\n",
    "                break\n",
    " #           print(helix[i-j]*x[j+5]/avg, helix[i-j], x[j+5], avg, i, j, i-j, x[j+5], sep='\\t')\n",
    "            h0+=helix[i-j]*x[j+5]/avg\n",
    "            b0+=beta[i-j]*x[j+5]/avg\n",
    "            c0+=coil[i-j]*x[j+5]/avg\n",
    "        h1.append(h0)\n",
    "        b1.append(b0)    \n",
    "        c1.append(c0)\n",
    "    \n",
    "    h=h1\n",
    "    b=b1\n",
    "    c=c1\n",
    "    return h ,b ,c"
   ]
  },
  {
   "cell_type": "code",
   "execution_count": 15,
   "metadata": {
    "ExecuteTime": {
     "end_time": "2018-06-28T20:16:23.005710Z",
     "start_time": "2018-06-28T20:16:22.958831Z"
    },
    "collapsed": true
   },
   "outputs": [],
   "source": [
    "h, b ,c=Next_Score(n,h,b,c,x)"
   ]
  },
  {
   "cell_type": "code",
   "execution_count": 16,
   "metadata": {
    "ExecuteTime": {
     "end_time": "2018-06-28T20:16:23.036949Z",
     "start_time": "2018-06-28T20:16:23.005710Z"
    },
    "collapsed": true
   },
   "outputs": [],
   "source": [
    "def Next_State(state,helix,beta,coil):\n",
    "    n=\"\"\n",
    "    k=state\n",
    "    newstate=n\n",
    "    for i in range(0,len(k)):\n",
    "        if (k[i]==' '):\n",
    "            n+=\" \"\n",
    "        elif (helix[i]>=beta[i]) and (helix[i]>=coil[i]):\n",
    "            n+=\"H\"\n",
    "        elif (beta[i]>=helix[i]) and (beta[i]>=coil[i]):\n",
    "            n+=\"B\"\n",
    "        elif (coil[i]>=helix[i]) and (coil[i]>=beta[i]):\n",
    "            n+=\"T\"\n",
    "\n",
    "    return n\n"
   ]
  },
  {
   "cell_type": "code",
   "execution_count": 17,
   "metadata": {
    "ExecuteTime": {
     "end_time": "2018-06-28T20:16:23.083823Z",
     "start_time": "2018-06-28T20:16:23.036949Z"
    },
    "collapsed": true
   },
   "outputs": [],
   "source": [
    "n=Next_State(n,h,b,c)"
   ]
  },
  {
   "cell_type": "code",
   "execution_count": 18,
   "metadata": {
    "ExecuteTime": {
     "end_time": "2018-06-28T20:16:23.099447Z",
     "start_time": "2018-06-28T20:16:23.083823Z"
    },
    "collapsed": true
   },
   "outputs": [],
   "source": [
    "def struct_fitness(structure1,structure2):\n",
    "    true=0\n",
    "    for i in range(0,len(structure1)):\n",
    "        if (structure1[i]==structure2[i]):\n",
    "            true=true+1\n",
    "    F=true/len(structure1)\n",
    "    return F"
   ]
  },
  {
   "cell_type": "code",
   "execution_count": 19,
   "metadata": {
    "ExecuteTime": {
     "end_time": "2018-06-28T20:16:23.130693Z",
     "start_time": "2018-06-28T20:16:23.099447Z"
    },
    "collapsed": true
   },
   "outputs": [],
   "source": [
    "def p_fitness(s_fit_arr):\n",
    "    sum = 0\n",
    "    for elem in s_fit_arr:\n",
    "        sum = sum + elem\n",
    "    return sum/len(s_fit_arr)"
   ]
  },
  {
   "cell_type": "code",
   "execution_count": 20,
   "metadata": {
    "ExecuteTime": {
     "end_time": "2018-06-28T20:16:23.240061Z",
     "start_time": "2018-06-28T20:16:23.130693Z"
    },
    "collapsed": true
   },
   "outputs": [],
   "source": [
    "def opt_seq(pro_seq, struct2, x, lim=20):\n",
    "    t=0\n",
    "    k=ChouFasman(pro_seq)\n",
    "    best=struct_fitness(k,struct2)\n",
    "    h, b, c = seq_score(pro_seq,x)\n",
    "    n=initial_state(pro_seq,h,b,c)\n",
    "#    best=struct_fitness(state,struct2_1)\n",
    "            \n",
    "    while(t<lim):\n",
    "#         print(\"curr\", n)\n",
    "        h1, b1 ,c1=Next_Score(n,h,b,c,x)\n",
    "        new=Next_State(n,h1,b1,c1)\n",
    "#         print(\"new \", new)\n",
    "        p=struct_fitness(new,struct2)\n",
    "        if (p>best):\n",
    "            best=p\n",
    "            h=h1\n",
    "            b=b1\n",
    "            c=c1\n",
    "            n=new\n",
    "            temp=new\n",
    "        else:\n",
    "            temp=n\n",
    "            n=new\n",
    "            h=h1\n",
    "            b=b1\n",
    "            c=c1\n",
    "        #p=struct_fitness(new,struct2_1)\n",
    "        #if (p>best):\n",
    "        #    best=p\n",
    "        t=t+1    \n",
    "    return temp,best"
   ]
  },
  {
   "cell_type": "code",
   "execution_count": 21,
   "metadata": {
    "ExecuteTime": {
     "end_time": "2018-06-28T20:16:23.365052Z",
     "start_time": "2018-06-28T20:16:23.255686Z"
    },
    "collapsed": true
   },
   "outputs": [],
   "source": [
    "(new,best) = opt_seq(protein1, struct2_1,x)"
   ]
  },
  {
   "cell_type": "code",
   "execution_count": 22,
   "metadata": {
    "ExecuteTime": {
     "end_time": "2018-06-28T20:16:23.380677Z",
     "start_time": "2018-06-28T20:16:23.365052Z"
    },
    "collapsed": true
   },
   "outputs": [],
   "source": [
    "def fitness(sequences, structures, x):\n",
    "    b=[]\n",
    "    for sequence,structure in zip(sequences,structures):\n",
    "        (new,best)=opt_seq(sequence,structure,x)\n",
    "        b.append(best)\n",
    "    fitness=p_fitness(b)\n",
    "    return fitness"
   ]
  },
  {
   "cell_type": "code",
   "execution_count": 41,
   "metadata": {
    "ExecuteTime": {
     "end_time": "2018-06-28T20:24:15.651567Z",
     "start_time": "2018-06-28T20:24:15.620338Z"
    },
    "collapsed": true
   },
   "outputs": [],
   "source": [
    "def hc(x, lim=150):\n",
    "    t=0\n",
    "    F=[]\n",
    "    while (t<lim):\n",
    "        f_old = fitness([protein1,protein2,protein3], [struct2_1,struct2_2,struct2_3], x)\n",
    "        idx = random.randint(0, len(x) - 1)\n",
    "        diff = random.uniform(-0.1, 0.1)\n",
    "        old_x = x[idx]\n",
    "        x[idx] = min(max(x[idx] + diff, 0), 1)\n",
    "        f_new = fitness([protein1,protein2,protein3], [struct2_1,struct2_2,struct2_3], x)\n",
    "        if (f_new < f_old) and (random.random()>(lim-t)/lim) :\n",
    "            x[idx] = old_x\n",
    "        F.append(f_old)\n",
    "        t+=1\n",
    "    return f_new,x,F"
   ]
  },
  {
   "cell_type": "code",
   "execution_count": 42,
   "metadata": {
    "ExecuteTime": {
     "end_time": "2018-06-28T20:24:54.839935Z",
     "start_time": "2018-06-28T20:24:15.875031Z"
    },
    "collapsed": true
   },
   "outputs": [],
   "source": [
    "x= Rand_num()\n",
    "(f,x,F)=hc(x)"
   ]
  },
  {
   "cell_type": "code",
   "execution_count": 43,
   "metadata": {
    "ExecuteTime": {
     "end_time": "2018-06-28T20:24:54.855493Z",
     "start_time": "2018-06-28T20:24:54.839935Z"
    }
   },
   "outputs": [
    {
     "data": {
      "text/plain": [
       "0.6862135819191034"
      ]
     },
     "execution_count": 43,
     "metadata": {},
     "output_type": "execute_result"
    }
   ],
   "source": [
    "f"
   ]
  },
  {
   "cell_type": "code",
   "execution_count": 44,
   "metadata": {
    "ExecuteTime": {
     "end_time": "2018-06-28T20:24:54.902365Z",
     "start_time": "2018-06-28T20:24:54.855493Z"
    }
   },
   "outputs": [
    {
     "data": {
      "text/plain": [
       "[0.8047150083112853,\n",
       " 0,\n",
       " 0.23290215342614198,\n",
       " 0.6947519945461683,\n",
       " 0,\n",
       " 0.5941713445002159,\n",
       " 0.8999571828719667,\n",
       " 0.29143648210530915,\n",
       " 0.8624747991633016,\n",
       " 0.3374530116970122,\n",
       " 0.23134355548910482]"
      ]
     },
     "execution_count": 44,
     "metadata": {},
     "output_type": "execute_result"
    }
   ],
   "source": [
    "x"
   ]
  },
  {
   "cell_type": "code",
   "execution_count": 45,
   "metadata": {
    "ExecuteTime": {
     "end_time": "2018-06-28T20:24:54.933612Z",
     "start_time": "2018-06-28T20:24:54.902365Z"
    }
   },
   "outputs": [
    {
     "data": {
      "text/plain": [
       "[0.6841685921440522,\n",
       " 0.6862135819191034,\n",
       " 0.6841685921440522,\n",
       " 0.6841685921440522,\n",
       " 0.6841685921440522,\n",
       " 0.6862135819191034,\n",
       " 0.6841685921440522,\n",
       " 0.6841685921440522,\n",
       " 0.6841685921440522,\n",
       " 0.6841685921440522,\n",
       " 0.6841685921440522,\n",
       " 0.6841685921440522,\n",
       " 0.6821236023690012,\n",
       " 0.6841685921440522,\n",
       " 0.6841685921440522,\n",
       " 0.6841685921440522,\n",
       " 0.6821236023690012,\n",
       " 0.6841685921440522,\n",
       " 0.6841685921440522,\n",
       " 0.6841685921440522,\n",
       " 0.6821236023690012,\n",
       " 0.6841685921440522,\n",
       " 0.6841685921440522,\n",
       " 0.6841685921440522,\n",
       " 0.6821236023690012,\n",
       " 0.6821236023690012,\n",
       " 0.6841685921440522,\n",
       " 0.6841685921440522,\n",
       " 0.6821236023690012,\n",
       " 0.6821236023690012,\n",
       " 0.6841685921440522,\n",
       " 0.6821236023690012,\n",
       " 0.6841685921440522,\n",
       " 0.6841685921440522,\n",
       " 0.6841685921440522,\n",
       " 0.6821236023690012,\n",
       " 0.6821236023690012,\n",
       " 0.6821236023690012,\n",
       " 0.6841685921440522,\n",
       " 0.6862135819191034,\n",
       " 0.6841685921440522,\n",
       " 0.6841685921440522,\n",
       " 0.6841685921440522,\n",
       " 0.6862135819191034,\n",
       " 0.6862135819191034,\n",
       " 0.6862135819191034,\n",
       " 0.6841685921440522,\n",
       " 0.6841685921440522,\n",
       " 0.6862135819191034,\n",
       " 0.6862135819191034,\n",
       " 0.6862135819191034,\n",
       " 0.6862135819191034,\n",
       " 0.6862135819191034,\n",
       " 0.6862135819191034,\n",
       " 0.6862135819191034,\n",
       " 0.6862135819191034,\n",
       " 0.6862135819191034,\n",
       " 0.6862135819191034,\n",
       " 0.6862135819191034,\n",
       " 0.6862135819191034,\n",
       " 0.6841685921440522,\n",
       " 0.6862135819191034,\n",
       " 0.6862135819191034,\n",
       " 0.6862135819191034,\n",
       " 0.6862135819191034,\n",
       " 0.6862135819191034,\n",
       " 0.6862135819191034,\n",
       " 0.6862135819191034,\n",
       " 0.6862135819191034,\n",
       " 0.6862135819191034,\n",
       " 0.6862135819191034,\n",
       " 0.6862135819191034,\n",
       " 0.6862135819191034,\n",
       " 0.6862135819191034,\n",
       " 0.6862135819191034,\n",
       " 0.6862135819191034,\n",
       " 0.6862135819191034,\n",
       " 0.6862135819191034,\n",
       " 0.6862135819191034,\n",
       " 0.6862135819191034,\n",
       " 0.6841685921440522,\n",
       " 0.6862135819191034,\n",
       " 0.6862135819191034,\n",
       " 0.6862135819191034,\n",
       " 0.6862135819191034,\n",
       " 0.6862135819191034,\n",
       " 0.6862135819191034,\n",
       " 0.6862135819191034,\n",
       " 0.6862135819191034,\n",
       " 0.6841685921440522,\n",
       " 0.6862135819191034,\n",
       " 0.6862135819191034,\n",
       " 0.6862135819191034,\n",
       " 0.6862135819191034,\n",
       " 0.6841685921440522,\n",
       " 0.6841685921440522,\n",
       " 0.6841685921440522,\n",
       " 0.6862135819191034,\n",
       " 0.6862135819191034,\n",
       " 0.6862135819191034,\n",
       " 0.6862135819191034,\n",
       " 0.6862135819191034,\n",
       " 0.6862135819191034,\n",
       " 0.6862135819191034,\n",
       " 0.6862135819191034,\n",
       " 0.6862135819191034,\n",
       " 0.6862135819191034,\n",
       " 0.6862135819191034,\n",
       " 0.6862135819191034,\n",
       " 0.6862135819191034,\n",
       " 0.6862135819191034,\n",
       " 0.6862135819191034,\n",
       " 0.6862135819191034,\n",
       " 0.6862135819191034,\n",
       " 0.6862135819191034,\n",
       " 0.6862135819191034,\n",
       " 0.6862135819191034,\n",
       " 0.6862135819191034,\n",
       " 0.6862135819191034,\n",
       " 0.6862135819191034,\n",
       " 0.6862135819191034,\n",
       " 0.6862135819191034,\n",
       " 0.6862135819191034,\n",
       " 0.6841685921440522,\n",
       " 0.6841685921440522,\n",
       " 0.6841685921440522,\n",
       " 0.6841685921440522,\n",
       " 0.6841685921440522,\n",
       " 0.6841685921440522,\n",
       " 0.6841685921440522,\n",
       " 0.6841685921440522,\n",
       " 0.6841685921440522,\n",
       " 0.6841685921440522,\n",
       " 0.6841685921440522,\n",
       " 0.6841685921440522,\n",
       " 0.6841685921440522,\n",
       " 0.6841685921440522,\n",
       " 0.6862135819191034,\n",
       " 0.6862135819191034,\n",
       " 0.6862135819191034,\n",
       " 0.6862135819191034,\n",
       " 0.6862135819191034,\n",
       " 0.6862135819191034,\n",
       " 0.6862135819191034,\n",
       " 0.6862135819191034,\n",
       " 0.6862135819191034,\n",
       " 0.6862135819191034,\n",
       " 0.6862135819191034,\n",
       " 0.6862135819191034,\n",
       " 0.6862135819191034]"
      ]
     },
     "execution_count": 45,
     "metadata": {},
     "output_type": "execute_result"
    }
   ],
   "source": [
    "F"
   ]
  },
  {
   "cell_type": "code",
   "execution_count": 46,
   "metadata": {
    "ExecuteTime": {
     "end_time": "2018-06-28T20:24:54.964859Z",
     "start_time": "2018-06-28T20:24:54.933612Z"
    },
    "collapsed": true
   },
   "outputs": [],
   "source": [
    "def test(sequences ,structurs, x):\n",
    "    f= fitness(sequences ,structurs, x)\n",
    "    return f"
   ]
  },
  {
   "cell_type": "code",
   "execution_count": 47,
   "metadata": {
    "ExecuteTime": {
     "end_time": "2018-06-28T20:24:55.230471Z",
     "start_time": "2018-06-28T20:24:54.964859Z"
    },
    "collapsed": true,
    "scrolled": false
   },
   "outputs": [],
   "source": [
    "fit=test([protein4,protein5,protein6], [struct2_4,struct2_5,struct2_6], x)"
   ]
  },
  {
   "cell_type": "code",
   "execution_count": 48,
   "metadata": {
    "ExecuteTime": {
     "end_time": "2018-06-28T20:24:55.261714Z",
     "start_time": "2018-06-28T20:24:55.230471Z"
    }
   },
   "outputs": [
    {
     "data": {
      "text/plain": [
       "0.7565005800299919"
      ]
     },
     "execution_count": 48,
     "metadata": {},
     "output_type": "execute_result"
    }
   ],
   "source": [
    "fit"
   ]
  },
  {
   "cell_type": "code",
   "execution_count": 49,
   "metadata": {
    "ExecuteTime": {
     "end_time": "2018-06-28T20:24:55.308590Z",
     "start_time": "2018-06-28T20:24:55.261714Z"
    },
    "collapsed": true
   },
   "outputs": [],
   "source": [
    "from matplotlib import pyplot as plt"
   ]
  },
  {
   "cell_type": "code",
   "execution_count": 50,
   "metadata": {
    "ExecuteTime": {
     "end_time": "2018-06-28T20:24:55.566925Z",
     "start_time": "2018-06-28T20:24:55.308590Z"
    }
   },
   "outputs": [
    {
     "data": {
      "text/plain": [
       "0.6862135819191034"
      ]
     },
     "execution_count": 50,
     "metadata": {},
     "output_type": "execute_result"
    }
   ],
   "source": [
    "fitness([protein1,protein2,protein3], [struct2_1,struct2_2,struct2_3], Rand_num())"
   ]
  },
  {
   "cell_type": "code",
   "execution_count": 51,
   "metadata": {
    "ExecuteTime": {
     "end_time": "2018-06-28T20:24:55.768833Z",
     "start_time": "2018-06-28T20:24:55.570925Z"
    }
   },
   "outputs": [
    {
     "data": {
      "image/png": "[encoded data removed]",
      "text/plain": [
       "<matplotlib.figure.Figure at 0x1cc10a43588>"
      ]
     },
     "metadata": {},
     "output_type": "display_data"
    }
   ],
   "source": [
    "plt.plot(F)\n",
    "plt.ylim([0, 1])\n",
    "plt.show()"
   ]
  },
  {
   "cell_type": "code",
   "execution_count": 52,
   "metadata": {
    "ExecuteTime": {
     "end_time": "2018-06-28T20:24:55.987202Z",
     "start_time": "2018-06-28T20:24:55.769772Z"
    }
   },
   "outputs": [
    {
     "data": {
      "image/png": "[encoded data removed]",
      "text/plain": [
       "<matplotlib.figure.Figure at 0x1cc10683358>"
      ]
     },
     "metadata": {},
     "output_type": "display_data"
    }
   ],
   "source": [
    "plt.plot(F)\n",
    "plt.plot([x + 0.1 for x in F])\n",
    "plt.legend([\"First\", \"Second\"])\n",
    "plt.show()"
   ]
  },
  {
   "cell_type": "code",
   "execution_count": 53,
   "metadata": {
    "ExecuteTime": {
     "end_time": "2018-06-28T20:24:56.002808Z",
     "start_time": "2018-06-28T20:24:55.987202Z"
    },
    "collapsed": true
   },
   "outputs": [],
   "source": [
    "def test_data(sequences ,structurs, x):\n",
    "    f= fitness(sequences ,structurs, x)\n",
    "    return f"
   ]
  },
  {
   "cell_type": "code",
   "execution_count": 54,
   "metadata": {
    "ExecuteTime": {
     "end_time": "2018-06-28T20:24:56.159085Z",
     "start_time": "2018-06-28T20:24:56.002808Z"
    },
    "collapsed": true
   },
   "outputs": [],
   "source": [
    "fit=test_data([protein4,protein5,protein6], [struct2_4,struct2_5,struct2_6], x)"
   ]
  },
  {
   "cell_type": "code",
   "execution_count": 55,
   "metadata": {
    "ExecuteTime": {
     "end_time": "2018-06-28T20:24:56.174671Z",
     "start_time": "2018-06-28T20:24:56.159085Z"
    }
   },
   "outputs": [
    {
     "data": {
      "text/plain": [
       "0.7565005800299919"
      ]
     },
     "execution_count": 55,
     "metadata": {},
     "output_type": "execute_result"
    }
   ],
   "source": [
    "fit"
   ]
  },
  {
   "cell_type": "code",
   "execution_count": 56,
   "metadata": {
    "ExecuteTime": {
     "end_time": "2018-06-28T20:24:56.221544Z",
     "start_time": "2018-06-28T20:24:56.174671Z"
    }
   },
   "outputs": [
    {
     "data": {
      "text/plain": [
       "[0.6841685921440522,\n",
       " 0.6862135819191034,\n",
       " 0.6841685921440522,\n",
       " 0.6841685921440522,\n",
       " 0.6841685921440522,\n",
       " 0.6862135819191034,\n",
       " 0.6841685921440522,\n",
       " 0.6841685921440522,\n",
       " 0.6841685921440522,\n",
       " 0.6841685921440522,\n",
       " 0.6841685921440522,\n",
       " 0.6841685921440522,\n",
       " 0.6821236023690012,\n",
       " 0.6841685921440522,\n",
       " 0.6841685921440522,\n",
       " 0.6841685921440522,\n",
       " 0.6821236023690012,\n",
       " 0.6841685921440522,\n",
       " 0.6841685921440522,\n",
       " 0.6841685921440522,\n",
       " 0.6821236023690012,\n",
       " 0.6841685921440522,\n",
       " 0.6841685921440522,\n",
       " 0.6841685921440522,\n",
       " 0.6821236023690012,\n",
       " 0.6821236023690012,\n",
       " 0.6841685921440522,\n",
       " 0.6841685921440522,\n",
       " 0.6821236023690012,\n",
       " 0.6821236023690012,\n",
       " 0.6841685921440522,\n",
       " 0.6821236023690012,\n",
       " 0.6841685921440522,\n",
       " 0.6841685921440522,\n",
       " 0.6841685921440522,\n",
       " 0.6821236023690012,\n",
       " 0.6821236023690012,\n",
       " 0.6821236023690012,\n",
       " 0.6841685921440522,\n",
       " 0.6862135819191034,\n",
       " 0.6841685921440522,\n",
       " 0.6841685921440522,\n",
       " 0.6841685921440522,\n",
       " 0.6862135819191034,\n",
       " 0.6862135819191034,\n",
       " 0.6862135819191034,\n",
       " 0.6841685921440522,\n",
       " 0.6841685921440522,\n",
       " 0.6862135819191034,\n",
       " 0.6862135819191034,\n",
       " 0.6862135819191034,\n",
       " 0.6862135819191034,\n",
       " 0.6862135819191034,\n",
       " 0.6862135819191034,\n",
       " 0.6862135819191034,\n",
       " 0.6862135819191034,\n",
       " 0.6862135819191034,\n",
       " 0.6862135819191034,\n",
       " 0.6862135819191034,\n",
       " 0.6862135819191034,\n",
       " 0.6841685921440522,\n",
       " 0.6862135819191034,\n",
       " 0.6862135819191034,\n",
       " 0.6862135819191034,\n",
       " 0.6862135819191034,\n",
       " 0.6862135819191034,\n",
       " 0.6862135819191034,\n",
       " 0.6862135819191034,\n",
       " 0.6862135819191034,\n",
       " 0.6862135819191034,\n",
       " 0.6862135819191034,\n",
       " 0.6862135819191034,\n",
       " 0.6862135819191034,\n",
       " 0.6862135819191034,\n",
       " 0.6862135819191034,\n",
       " 0.6862135819191034,\n",
       " 0.6862135819191034,\n",
       " 0.6862135819191034,\n",
       " 0.6862135819191034,\n",
       " 0.6862135819191034,\n",
       " 0.6841685921440522,\n",
       " 0.6862135819191034,\n",
       " 0.6862135819191034,\n",
       " 0.6862135819191034,\n",
       " 0.6862135819191034,\n",
       " 0.6862135819191034,\n",
       " 0.6862135819191034,\n",
       " 0.6862135819191034,\n",
       " 0.6862135819191034,\n",
       " 0.6841685921440522,\n",
       " 0.6862135819191034,\n",
       " 0.6862135819191034,\n",
       " 0.6862135819191034,\n",
       " 0.6862135819191034,\n",
       " 0.6841685921440522,\n",
       " 0.6841685921440522,\n",
       " 0.6841685921440522,\n",
       " 0.6862135819191034,\n",
       " 0.6862135819191034,\n",
       " 0.6862135819191034,\n",
       " 0.6862135819191034,\n",
       " 0.6862135819191034,\n",
       " 0.6862135819191034,\n",
       " 0.6862135819191034,\n",
       " 0.6862135819191034,\n",
       " 0.6862135819191034,\n",
       " 0.6862135819191034,\n",
       " 0.6862135819191034,\n",
       " 0.6862135819191034,\n",
       " 0.6862135819191034,\n",
       " 0.6862135819191034,\n",
       " 0.6862135819191034,\n",
       " 0.6862135819191034,\n",
       " 0.6862135819191034,\n",
       " 0.6862135819191034,\n",
       " 0.6862135819191034,\n",
       " 0.6862135819191034,\n",
       " 0.6862135819191034,\n",
       " 0.6862135819191034,\n",
       " 0.6862135819191034,\n",
       " 0.6862135819191034,\n",
       " 0.6862135819191034,\n",
       " 0.6862135819191034,\n",
       " 0.6841685921440522,\n",
       " 0.6841685921440522,\n",
       " 0.6841685921440522,\n",
       " 0.6841685921440522,\n",
       " 0.6841685921440522,\n",
       " 0.6841685921440522,\n",
       " 0.6841685921440522,\n",
       " 0.6841685921440522,\n",
       " 0.6841685921440522,\n",
       " 0.6841685921440522,\n",
       " 0.6841685921440522,\n",
       " 0.6841685921440522,\n",
       " 0.6841685921440522,\n",
       " 0.6841685921440522,\n",
       " 0.6862135819191034,\n",
       " 0.6862135819191034,\n",
       " 0.6862135819191034,\n",
       " 0.6862135819191034,\n",
       " 0.6862135819191034,\n",
       " 0.6862135819191034,\n",
       " 0.6862135819191034,\n",
       " 0.6862135819191034,\n",
       " 0.6862135819191034,\n",
       " 0.6862135819191034,\n",
       " 0.6862135819191034,\n",
       " 0.6862135819191034,\n",
       " 0.6862135819191034]"
      ]
     },
     "execution_count": 56,
     "metadata": {},
     "output_type": "execute_result"
    }
   ],
   "source": [
    "F"
   ]
  },
  {
   "cell_type": "code",
   "execution_count": 57,
   "metadata": {
    "ExecuteTime": {
     "end_time": "2018-06-28T20:24:56.252810Z",
     "start_time": "2018-06-28T20:24:56.221544Z"
    },
    "collapsed": true
   },
   "outputs": [],
   "source": [
    "def Test_hc():\n",
    "    for i in range(0,5):\n",
    "        x=Rand_num()\n",
    "        print(x)\n",
    "        print()\n",
    "        (f,x,F)=hc(x)\n",
    "        print('fitness = ',f)\n",
    "        print()\n",
    "        print('randnum = ',x)\n",
    "        print()\n",
    "        print('general = ',F)\n",
    "        print()\n",
    "        plt.plot(F)\n",
    "        #plt.ylim([0, 1])\n",
    "        plt.show()"
   ]
  },
  {
   "cell_type": "code",
   "execution_count": 58,
   "metadata": {
    "ExecuteTime": {
     "end_time": "2018-06-28T20:28:30.788643Z",
     "start_time": "2018-06-28T20:24:56.252810Z"
    },
    "scrolled": false
   },
   "outputs": [
    {
     "name": "stdout",
     "output_type": "stream",
     "text": [
      "[0.4392987264758852, 0.059929022486379435, 0.8086912026192399, 0.27105873895884514, 0.2855272694240636, 0.9280687054638529, 9.340884879394107e-05, 0.5990327235688747, 0.329413722588208, 0.15118597872760642, 0.12362607250824786]\n",
      "\n",
      "fitness =  0.6841685921440522\n",
      "\n",
      "randnum =  [0.6412586160951899, 0.13694983072640304, 0.4662189942780923, 0.559195849531042, 0.36712728479009393, 1, 0.1734536649187765, 0.9730284451739638, 0.5294250417675205, 0.08737118788917489, 0.261219388602842]\n",
      "\n",
      "general =  [0.6694951265503413, 0.6587921281172815, 0.6524181340132261, 0.6503731442381749, 0.6524181340132261, 0.6460441399091706, 0.6417151355801662, 0.6417151355801662, 0.6417151355801662, 0.6353411414761108, 0.6353411414761108, 0.6373861312511618, 0.6373861312511618, 0.6417151355801662, 0.6373861312511618, 0.6353411414761108, 0.6373861312511618, 0.6417151355801662, 0.6417151355801662, 0.6480891296842217, 0.6480891296842217, 0.6417151355801662, 0.6417151355801662, 0.6417151355801662, 0.6417151355801662, 0.6480891296842217, 0.6524181340132261, 0.6524181340132261, 0.6544631237882772, 0.6544631237882772, 0.6524181340132261, 0.6608371178923326, 0.6524181340132261, 0.6524181340132261, 0.6608371178923326, 0.6608371178923326, 0.6608371178923326, 0.6608371178923326, 0.6608371178923326, 0.6608371178923326, 0.6544631237882772, 0.6587921281172815, 0.6587921281172815, 0.6587921281172815, 0.6587921281172815, 0.6587921281172815, 0.6780336228188988, 0.6694951265503413, 0.6694951265503413, 0.6587921281172815, 0.6631211324462859, 0.6631211324462859, 0.6587921281172815, 0.6587921281172815, 0.6738241308793457, 0.6759886330438478, 0.6759886330438478, 0.6780336228188988, 0.6780336228188988, 0.6780336228188988, 0.6587921281172815, 0.6587921281172815, 0.6587921281172815, 0.6800786125939501, 0.6800786125939501, 0.6759886330438478, 0.6800786125939501, 0.6780336228188988, 0.6800786125939501, 0.6800786125939501, 0.6800786125939501, 0.6780336228188988, 0.6780336228188988, 0.6780336228188988, 0.6780336228188988, 0.6780336228188988, 0.6694951265503413, 0.6694951265503413, 0.6694951265503413, 0.665166122221337, 0.6694951265503413, 0.6587921281172815, 0.6544631237882772, 0.6524181340132261, 0.6524181340132261, 0.6524181340132261, 0.6460441399091706, 0.6460441399091706, 0.6544631237882772, 0.6544631237882772, 0.6544631237882772, 0.6480891296842217, 0.6524181340132261, 0.6524181340132261, 0.6544631237882772, 0.6587921281172815, 0.6631211324462859, 0.6631211324462859, 0.6780336228188988, 0.6631211324462859, 0.6631211324462859, 0.6780336228188988, 0.6759886330438478, 0.6759886330438478, 0.6780336228188988, 0.6780336228188988, 0.6780336228188988, 0.6780336228188988, 0.6800786125939501, 0.6800786125939501, 0.6800786125939501, 0.6800786125939501, 0.6800786125939501, 0.6800786125939501, 0.6800786125939501, 0.6800786125939501, 0.6800786125939501, 0.6800786125939501, 0.6800786125939501, 0.6800786125939501, 0.6800786125939501, 0.6800786125939501, 0.6821236023690012, 0.6821236023690012, 0.6821236023690012, 0.6821236023690012, 0.6821236023690012, 0.6821236023690012, 0.6821236023690012, 0.6821236023690012, 0.6821236023690012, 0.6821236023690012, 0.6821236023690012, 0.6821236023690012, 0.6821236023690012, 0.6821236023690012, 0.6821236023690012, 0.6821236023690012, 0.6821236023690012, 0.6821236023690012, 0.6821236023690012, 0.6821236023690012, 0.6821236023690012, 0.6821236023690012, 0.6821236023690012, 0.6821236023690012, 0.6821236023690012, 0.6841685921440522, 0.6841685921440522, 0.6841685921440522]\n",
      "\n"
     ]
    },
    {
     "data": {
      "image/png": "[encoded data removed]",
      "text/plain": [
       "<matplotlib.figure.Figure at 0x1cc109d99b0>"
      ]
     },
     "metadata": {},
     "output_type": "display_data"
    },
    {
     "name": "stdout",
     "output_type": "stream",
     "text": [
      "[0.07254482004898855, 0.045426674422738955, 0.1842430520348758, 0.2533697860288775, 0.13318986554526946, 0.5968496458168683, 0.342545590652897, 0.9739510325274499, 0.682946921421322, 0.9071678592039418, 0.34545811003127513]\n",
      "\n",
      "fitness =  0.6780336228188988\n",
      "\n",
      "randnum =  [0.08457618816855392, 0.3972714256679534, 0.15407373224271567, 0.13373425847035764, 0.34538824817399816, 0.7048124365689988, 0.5929227541370091, 0.8405074164869298, 0.9250357702306592, 1, 0.6000493513103207]\n",
      "\n",
      "general =  [0.6739436432687965, 0.6739436432687965, 0.6759886330438478, 0.6739436432687965, 0.6739436432687965, 0.6759886330438478, 0.6759886330438478, 0.6739436432687965, 0.6759886330438478, 0.6739436432687965, 0.6759886330438478, 0.6739436432687965, 0.6739436432687965, 0.6739436432687965, 0.6759886330438478, 0.6759886330438478, 0.6759886330438478, 0.6739436432687965, 0.6739436432687965, 0.6739436432687965, 0.6739436432687965, 0.6759886330438478, 0.6759886330438478, 0.6759886330438478, 0.6759886330438478, 0.6759886330438478, 0.6739436432687965, 0.6759886330438478, 0.6759886330438478, 0.6759886330438478, 0.6759886330438478, 0.6739436432687965, 0.6739436432687965, 0.6759886330438478, 0.6739436432687965, 0.6739436432687965, 0.6759886330438478, 0.6759886330438478, 0.6759886330438478, 0.6759886330438478, 0.6739436432687965, 0.6739436432687965, 0.6739436432687965, 0.6759886330438478, 0.6739436432687965, 0.6739436432687965, 0.6739436432687965, 0.6739436432687965, 0.6759886330438478, 0.6759886330438478, 0.6759886330438478, 0.6759886330438478, 0.6759886330438478, 0.6739436432687965, 0.6739436432687965, 0.6739436432687965, 0.6759886330438478, 0.6739436432687965, 0.6739436432687965, 0.6759886330438478, 0.6780336228188988, 0.6759886330438478, 0.6759886330438478, 0.6759886330438478, 0.6759886330438478, 0.6759886330438478, 0.6780336228188988, 0.6780336228188988, 0.6780336228188988, 0.6780336228188988, 0.6759886330438478, 0.6759886330438478, 0.6780336228188988, 0.6780336228188988, 0.6780336228188988, 0.6759886330438478, 0.6780336228188988, 0.6780336228188988, 0.6780336228188988, 0.6780336228188988, 0.6780336228188988, 0.6780336228188988, 0.6759886330438478, 0.6759886330438478, 0.6759886330438478, 0.6739436432687965, 0.6759886330438478, 0.6759886330438478, 0.6759886330438478, 0.6759886330438478, 0.6759886330438478, 0.6759886330438478, 0.6759886330438478, 0.6759886330438478, 0.6759886330438478, 0.6759886330438478, 0.6759886330438478, 0.6759886330438478, 0.6739436432687965, 0.6739436432687965, 0.6759886330438478, 0.6739436432687965, 0.6759886330438478, 0.6759886330438478, 0.6739436432687965, 0.6739436432687965, 0.6739436432687965, 0.6759886330438478, 0.6759886330438478, 0.6759886330438478, 0.6759886330438478, 0.6759886330438478, 0.6759886330438478, 0.6759886330438478, 0.6759886330438478, 0.6759886330438478, 0.6759886330438478, 0.6759886330438478, 0.6759886330438478, 0.6759886330438478, 0.6759886330438478, 0.6759886330438478, 0.6759886330438478, 0.6759886330438478, 0.6759886330438478, 0.6759886330438478, 0.6759886330438478, 0.6759886330438478, 0.6759886330438478, 0.6759886330438478, 0.6759886330438478, 0.6759886330438478, 0.6759886330438478, 0.6759886330438478, 0.6759886330438478, 0.6759886330438478, 0.6759886330438478, 0.6759886330438478, 0.6780336228188988, 0.6780336228188988, 0.6780336228188988, 0.6780336228188988, 0.6800786125939501, 0.6800786125939501, 0.6800786125939501, 0.6800786125939501, 0.6800786125939501, 0.6800786125939501, 0.6800786125939501, 0.6800786125939501]\n",
      "\n"
     ]
    },
    {
     "data": {
      "image/png": "[encoded data removed]",
      "text/plain": [
       "<matplotlib.figure.Figure at 0x1cc10582518>"
      ]
     },
     "metadata": {},
     "output_type": "display_data"
    },
    {
     "name": "stdout",
     "output_type": "stream",
     "text": [
      "[0.8351616042880756, 0.7523182929165345, 0.6854955675330218, 0.6082532776375006, 0.19341514193877207, 0.07789857119905608, 0.8828968127595007, 0.8538318493343386, 0.25559293282551576, 0.5948469412088747, 0.23649897312328627]\n",
      "\n",
      "fitness =  0.6862135819191034\n",
      "\n",
      "randnum =  [0.5387420956336141, 0.7103849180151516, 0.83711607799775, 0.6684146884284214, 0.11938526175304752, 0.25468245254550353, 0.882704393307768, 0.721898191593464, 0.22079902417429725, 0.690545588063892, 0.4164639166619232]\n",
      "\n",
      "general =  [0.6821236023690012, 0.6800786125939501, 0.6800786125939501, 0.6800786125939501, 0.6800786125939501, 0.6800786125939501, 0.6800786125939501, 0.6800786125939501, 0.6800786125939501, 0.6800786125939501, 0.6780336228188988, 0.6759886330438478, 0.6780336228188988, 0.6759886330438478, 0.6759886330438478, 0.6759886330438478, 0.6759886330438478, 0.6739436432687965, 0.6759886330438478, 0.6759886330438478, 0.6759886330438478, 0.6759886330438478, 0.6759886330438478, 0.6800786125939501, 0.6780336228188988, 0.6780336228188988, 0.6780336228188988, 0.6759886330438478, 0.6800786125939501, 0.6800786125939501, 0.6800786125939501, 0.6759886330438478, 0.6739436432687965, 0.6759886330438478, 0.6759886330438478, 0.6759886330438478, 0.6759886330438478, 0.6739436432687965, 0.6739436432687965, 0.6739436432687965, 0.6739436432687965, 0.6739436432687965, 0.6739436432687965, 0.6739436432687965, 0.6739436432687965, 0.6739436432687965, 0.6739436432687965, 0.6759886330438478, 0.6759886330438478, 0.6739436432687965, 0.6780336228188988, 0.6759886330438478, 0.6780336228188988, 0.6739436432687965, 0.6759886330438478, 0.6759886330438478, 0.6739436432687965, 0.6739436432687965, 0.6739436432687965, 0.6759886330438478, 0.6759886330438478, 0.6759886330438478, 0.6759886330438478, 0.6759886330438478, 0.6800786125939501, 0.6800786125939501, 0.6800786125939501, 0.6800786125939501, 0.6800786125939501, 0.6800786125939501, 0.6800786125939501, 0.6800786125939501, 0.6800786125939501, 0.6800786125939501, 0.6800786125939501, 0.6821236023690012, 0.6800786125939501, 0.6800786125939501, 0.6800786125939501, 0.6821236023690012, 0.6821236023690012, 0.6821236023690012, 0.6821236023690012, 0.6821236023690012, 0.6821236023690012, 0.6821236023690012, 0.6841685921440522, 0.6841685921440522, 0.6841685921440522, 0.6841685921440522, 0.6862135819191034, 0.6862135819191034, 0.6862135819191034, 0.6862135819191034, 0.6862135819191034, 0.6862135819191034, 0.6862135819191034, 0.6862135819191034, 0.6862135819191034, 0.6862135819191034, 0.6862135819191034, 0.6862135819191034, 0.6862135819191034, 0.6862135819191034, 0.6862135819191034, 0.6862135819191034, 0.6862135819191034, 0.6862135819191034, 0.6862135819191034, 0.6841685921440522, 0.6841685921440522, 0.6841685921440522, 0.6862135819191034, 0.6862135819191034, 0.6862135819191034, 0.6862135819191034, 0.6862135819191034, 0.6862135819191034, 0.6862135819191034, 0.6862135819191034, 0.6862135819191034, 0.6862135819191034, 0.6862135819191034, 0.6862135819191034, 0.6862135819191034, 0.6862135819191034, 0.6862135819191034, 0.6862135819191034, 0.6862135819191034, 0.6862135819191034, 0.6862135819191034, 0.6862135819191034, 0.6862135819191034, 0.6862135819191034, 0.6862135819191034, 0.6862135819191034, 0.6862135819191034, 0.6862135819191034, 0.6862135819191034, 0.6862135819191034, 0.6862135819191034, 0.6862135819191034, 0.6862135819191034, 0.6862135819191034, 0.6862135819191034, 0.6862135819191034, 0.6862135819191034, 0.6862135819191034, 0.6862135819191034, 0.6862135819191034]\n",
      "\n"
     ]
    },
    {
     "data": {
      "image/png": "[encoded data removed]",
      "text/plain": [
       "<matplotlib.figure.Figure at 0x1cc1061f4a8>"
      ]
     },
     "metadata": {},
     "output_type": "display_data"
    },
    {
     "name": "stdout",
     "output_type": "stream",
     "text": [
      "[0.9014560142337075, 0.38040852360114863, 0.38135596185463483, 0.10114158407721241, 0.06877618329545321, 0.22328265111531953, 0.28071043758045644, 0.32162820308879037, 0.5998043861252539, 0.3736650472061349, 0.2963340950529634]\n",
      "\n",
      "fitness =  0.6923485512442568\n",
      "\n",
      "randnum =  [0.9192413627065866, 0, 0.22271105737110114, 0.024947933649647647, 0, 0, 0.08101549984445862, 0.09960773797031003, 0.792671683174172, 0.37598217226179076, 0.48375373437468233]\n",
      "\n",
      "general =  [0.6841685921440522, 0.6841685921440522, 0.6841685921440522, 0.6841685921440522, 0.6841685921440522, 0.6841685921440522, 0.6841685921440522, 0.6841685921440522, 0.6841685921440522, 0.6841685921440522, 0.6841685921440522, 0.6841685921440522, 0.6841685921440522, 0.6841685921440522, 0.6841685921440522, 0.6841685921440522, 0.6841685921440522, 0.6841685921440522, 0.6841685921440522, 0.6841685921440522, 0.6841685921440522, 0.6841685921440522, 0.6841685921440522, 0.6841685921440522, 0.6841685921440522, 0.6841685921440522, 0.6821236023690012, 0.6821236023690012, 0.6841685921440522, 0.6841685921440522, 0.6821236023690012, 0.6821236023690012, 0.6821236023690012, 0.6821236023690012, 0.6821236023690012, 0.6821236023690012, 0.6821236023690012, 0.6841685921440522, 0.6821236023690012, 0.6821236023690012, 0.6821236023690012, 0.6841685921440522, 0.6800786125939501, 0.6800786125939501, 0.6800786125939501, 0.6800786125939501, 0.6800786125939501, 0.6800786125939501, 0.6821236023690012, 0.6821236023690012, 0.6821236023690012, 0.6821236023690012, 0.6821236023690012, 0.6821236023690012, 0.6841685921440522, 0.6841685921440522, 0.6821236023690012, 0.6841685921440522, 0.6841685921440522, 0.6821236023690012, 0.6821236023690012, 0.6821236023690012, 0.6841685921440522, 0.6841685921440522, 0.6841685921440522, 0.6841685921440522, 0.6903035614692056, 0.6943935410193078, 0.6943935410193078, 0.6984835205694102, 0.6984835205694102, 0.6923485512442568, 0.6923485512442568, 0.6923485512442568, 0.6984835205694102, 0.6984835205694102, 0.6984835205694102, 0.6984835205694102, 0.6984835205694102, 0.6984835205694102, 0.6984835205694102, 0.6984835205694102, 0.6984835205694102, 0.6984835205694102, 0.6923485512442568, 0.6984835205694102, 0.6984835205694102, 0.6984835205694102, 0.6984835205694102, 0.6984835205694102, 0.6984835205694102, 0.6984835205694102, 0.6984835205694102, 0.6984835205694102, 0.6984835205694102, 0.6984835205694102, 0.6984835205694102, 0.6923485512442568, 0.6984835205694102, 0.6984835205694102, 0.6984835205694102, 0.6984835205694102, 0.6923485512442568, 0.6923485512442568, 0.6984835205694102, 0.6984835205694102, 0.6984835205694102, 0.6984835205694102, 0.6923485512442568, 0.6984835205694102, 0.6984835205694102, 0.6984835205694102, 0.6984835205694102, 0.6984835205694102, 0.6984835205694102, 0.6984835205694102, 0.6984835205694102, 0.6943935410193078, 0.6943935410193078, 0.6943935410193078, 0.6903035614692056, 0.6903035614692056, 0.6903035614692056, 0.6903035614692056, 0.6923485512442568, 0.6923485512442568, 0.6984835205694102, 0.6984835205694102, 0.6984835205694102, 0.6984835205694102, 0.6984835205694102, 0.6984835205694102, 0.6984835205694102, 0.6984835205694102, 0.6984835205694102, 0.6984835205694102, 0.6984835205694102, 0.6984835205694102, 0.6984835205694102, 0.6984835205694102, 0.6984835205694102, 0.6984835205694102, 0.6984835205694102, 0.6984835205694102, 0.6984835205694102, 0.6984835205694102, 0.6984835205694102, 0.6984835205694102, 0.6984835205694102, 0.6984835205694102]\n",
      "\n"
     ]
    },
    {
     "data": {
      "image/png": "[encoded data removed]",
      "text/plain": [
       "<matplotlib.figure.Figure at 0x1cc1066db38>"
      ]
     },
     "metadata": {},
     "output_type": "display_data"
    },
    {
     "name": "stdout",
     "output_type": "stream",
     "text": [
      "[0.04626041806721737, 0.7850612279672117, 0.7266888094833158, 0.6293399917152096, 0.25208426723790467, 0.25481758026027057, 0.515410484683689, 0.18860904901701525, 0.3613290426396496, 0.7360381384688129, 0.3104871780244689]\n",
      "\n",
      "fitness =  0.6903035614692056\n",
      "\n",
      "randnum =  [0.05117401267776925, 0.8968295142773074, 0.4604850735178685, 0.7566896845959629, 0.13901002530503054, 0.11680728740839591, 0.30161436049964924, 0, 0.695559493969443, 0.9043772625323687, 0.4446387924123194]\n",
      "\n",
      "general =  [0.6841685921440522, 0.6841685921440522, 0.6841685921440522, 0.6841685921440522, 0.6841685921440522, 0.6862135819191034, 0.6862135819191034, 0.6862135819191034, 0.6862135819191034, 0.6841685921440522, 0.6841685921440522, 0.6862135819191034, 0.6862135819191034, 0.6841685921440522, 0.6841685921440522, 0.6841685921440522, 0.6841685921440522, 0.6862135819191034, 0.6841685921440522, 0.6841685921440522, 0.6841685921440522, 0.6841685921440522, 0.6841685921440522, 0.6862135819191034, 0.6841685921440522, 0.6862135819191034, 0.6862135819191034, 0.6862135819191034, 0.6862135819191034, 0.6862135819191034, 0.6862135819191034, 0.6862135819191034, 0.6841685921440522, 0.6841685921440522, 0.6841685921440522, 0.6841685921440522, 0.6841685921440522, 0.6841685921440522, 0.6841685921440522, 0.6841685921440522, 0.6841685921440522, 0.6862135819191034, 0.6841685921440522, 0.6862135819191034, 0.6841685921440522, 0.6841685921440522, 0.6862135819191034, 0.6841685921440522, 0.6841685921440522, 0.6841685921440522, 0.6841685921440522, 0.6841685921440522, 0.6841685921440522, 0.6841685921440522, 0.6862135819191034, 0.6862135819191034, 0.6862135819191034, 0.6841685921440522, 0.6841685921440522, 0.6841685921440522, 0.6841685921440522, 0.6841685921440522, 0.6841685921440522, 0.6862135819191034, 0.6862135819191034, 0.6862135819191034, 0.6862135819191034, 0.6862135819191034, 0.6862135819191034, 0.6862135819191034, 0.6862135819191034, 0.6841685921440522, 0.6862135819191034, 0.6862135819191034, 0.6862135819191034, 0.6862135819191034, 0.6862135819191034, 0.6862135819191034, 0.6862135819191034, 0.6862135819191034, 0.6862135819191034, 0.6862135819191034, 0.6862135819191034, 0.6862135819191034, 0.6862135819191034, 0.6862135819191034, 0.6841685921440522, 0.6862135819191034, 0.6862135819191034, 0.6862135819191034, 0.6862135819191034, 0.6862135819191034, 0.6862135819191034, 0.6862135819191034, 0.6862135819191034, 0.6862135819191034, 0.6862135819191034, 0.6862135819191034, 0.6862135819191034, 0.6862135819191034, 0.6841685921440522, 0.6841685921440522, 0.6841685921440522, 0.6841685921440522, 0.6862135819191034, 0.6862135819191034, 0.6862135819191034, 0.6882585716941545, 0.6882585716941545, 0.6882585716941545, 0.6882585716941545, 0.6882585716941545, 0.6903035614692056, 0.6882585716941545, 0.6903035614692056, 0.6903035614692056, 0.6903035614692056, 0.6903035614692056, 0.6903035614692056, 0.6903035614692056, 0.6903035614692056, 0.6903035614692056, 0.6903035614692056, 0.6903035614692056, 0.6903035614692056, 0.6903035614692056, 0.6903035614692056, 0.6882585716941545, 0.6882585716941545, 0.6923485512442568, 0.6923485512442568, 0.6923485512442568, 0.6923485512442568, 0.6923485512442568, 0.6923485512442568, 0.6923485512442568, 0.6923485512442568, 0.6923485512442568, 0.6923485512442568, 0.6923485512442568, 0.6923485512442568, 0.6923485512442568, 0.6923485512442568, 0.6923485512442568, 0.6923485512442568, 0.6923485512442568, 0.6923485512442568, 0.6923485512442568, 0.6923485512442568, 0.6923485512442568]\n",
      "\n"
     ]
    },
    {
     "data": {
      "image/png": "[encoded data removed]",
      "text/plain": [
       "<matplotlib.figure.Figure at 0x1cc10b5bba8>"
      ]
     },
     "metadata": {},
     "output_type": "display_data"
    }
   ],
   "source": [
    "Test_hc()"
   ]
  },
  {
   "cell_type": "code",
   "execution_count": null,
   "metadata": {
    "collapsed": true
   },
   "outputs": [],
   "source": []
  },
  {
   "cell_type": "code",
   "execution_count": null,
   "metadata": {
    "collapsed": true
   },
   "outputs": [],
   "source": []
  },
  {
   "cell_type": "code",
   "execution_count": null,
   "metadata": {
    "collapsed": true
   },
   "outputs": [],
   "source": []
  },
  {
   "cell_type": "code",
   "execution_count": null,
   "metadata": {
    "collapsed": true
   },
   "outputs": [],
   "source": []
  },
  {
   "cell_type": "code",
   "execution_count": null,
   "metadata": {
    "collapsed": true
   },
   "outputs": [],
   "source": []
  }
 ],
 "metadata": {
  "kernelspec": {
   "display_name": "Python 3",
   "language": "python",
   "name": "python3"
  },
  "language_info": {
   "codemirror_mode": {
    "name": "ipython",
    "version": 3
   },
   "file_extension": ".py",
   "mimetype": "text/x-python",
   "name": "python",
   "nbconvert_exporter": "python",
   "pygments_lexer": "ipython3",
   "version": "3.6.2"
  }
 },
 "nbformat": 4,
 "nbformat_minor": 2
}
